{
 "cells": [
  {
   "cell_type": "code",
   "execution_count": 1,
   "id": "af433ffe",
   "metadata": {},
   "outputs": [],
   "source": [
    "#making a new graphic for my story\n",
    "\n",
    "#importing stuff\n",
    "import numpy as np\n",
    "import pandas as pd\n",
    "import json\n",
    "import os #used to cycle through your files\n",
    "import re\n",
    "\n",
    "#for plotting\n",
    "import matplotlib as mpl\n",
    "import matplotlib.pyplot as plt\n",
    "import seaborn as sns\n",
    "import plotly.express as px"
   ]
  },
  {
   "cell_type": "code",
   "execution_count": 2,
   "id": "af5d1243",
   "metadata": {},
   "outputs": [],
   "source": [
    "#reading in my data\n",
    "pokemon = pd.read_csv('cleanpokemon.csv')"
   ]
  },
  {
   "cell_type": "code",
   "execution_count": 3,
   "id": "a026fbda",
   "metadata": {},
   "outputs": [
    {
     "data": {
      "text/html": [
       "<div>\n",
       "<style scoped>\n",
       "    .dataframe tbody tr th:only-of-type {\n",
       "        vertical-align: middle;\n",
       "    }\n",
       "\n",
       "    .dataframe tbody tr th {\n",
       "        vertical-align: top;\n",
       "    }\n",
       "\n",
       "    .dataframe thead th {\n",
       "        text-align: right;\n",
       "    }\n",
       "</style>\n",
       "<table border=\"1\" class=\"dataframe\">\n",
       "  <thead>\n",
       "    <tr style=\"text-align: right;\">\n",
       "      <th></th>\n",
       "      <th>Name</th>\n",
       "      <th>Stamina</th>\n",
       "      <th>Primary</th>\n",
       "      <th>MaxHP</th>\n",
       "      <th>Weight</th>\n",
       "      <th>Height</th>\n",
       "      <th>percentage_male</th>\n",
       "      <th>HP</th>\n",
       "      <th>Generation</th>\n",
       "      <th>Legendary</th>\n",
       "    </tr>\n",
       "  </thead>\n",
       "  <tbody>\n",
       "    <tr>\n",
       "      <th>0</th>\n",
       "      <td>Bulbasaur</td>\n",
       "      <td>128</td>\n",
       "      <td>Grass</td>\n",
       "      <td>113</td>\n",
       "      <td>6.9</td>\n",
       "      <td>0.7</td>\n",
       "      <td>88.1</td>\n",
       "      <td>45</td>\n",
       "      <td>1</td>\n",
       "      <td>False</td>\n",
       "    </tr>\n",
       "    <tr>\n",
       "      <th>1</th>\n",
       "      <td>Ivysaur</td>\n",
       "      <td>155</td>\n",
       "      <td>Grass</td>\n",
       "      <td>134</td>\n",
       "      <td>13.0</td>\n",
       "      <td>1.0</td>\n",
       "      <td>88.1</td>\n",
       "      <td>60</td>\n",
       "      <td>1</td>\n",
       "      <td>False</td>\n",
       "    </tr>\n",
       "    <tr>\n",
       "      <th>2</th>\n",
       "      <td>Venusaur</td>\n",
       "      <td>190</td>\n",
       "      <td>Grass</td>\n",
       "      <td>162</td>\n",
       "      <td>100.0</td>\n",
       "      <td>2.0</td>\n",
       "      <td>88.1</td>\n",
       "      <td>80</td>\n",
       "      <td>1</td>\n",
       "      <td>False</td>\n",
       "    </tr>\n",
       "    <tr>\n",
       "      <th>3</th>\n",
       "      <td>Charmander</td>\n",
       "      <td>118</td>\n",
       "      <td>Fire</td>\n",
       "      <td>105</td>\n",
       "      <td>8.5</td>\n",
       "      <td>0.6</td>\n",
       "      <td>88.1</td>\n",
       "      <td>39</td>\n",
       "      <td>1</td>\n",
       "      <td>False</td>\n",
       "    </tr>\n",
       "    <tr>\n",
       "      <th>4</th>\n",
       "      <td>Charmeleon</td>\n",
       "      <td>151</td>\n",
       "      <td>Fire</td>\n",
       "      <td>131</td>\n",
       "      <td>19.0</td>\n",
       "      <td>1.1</td>\n",
       "      <td>88.1</td>\n",
       "      <td>58</td>\n",
       "      <td>1</td>\n",
       "      <td>False</td>\n",
       "    </tr>\n",
       "  </tbody>\n",
       "</table>\n",
       "</div>"
      ],
      "text/plain": [
       "         Name  Stamina Primary  MaxHP  Weight  Height  percentage_male  HP  \\\n",
       "0   Bulbasaur      128   Grass    113     6.9     0.7             88.1  45   \n",
       "1     Ivysaur      155   Grass    134    13.0     1.0             88.1  60   \n",
       "2    Venusaur      190   Grass    162   100.0     2.0             88.1  80   \n",
       "3  Charmander      118    Fire    105     8.5     0.6             88.1  39   \n",
       "4  Charmeleon      151    Fire    131    19.0     1.1             88.1  58   \n",
       "\n",
       "   Generation  Legendary  \n",
       "0           1      False  \n",
       "1           1      False  \n",
       "2           1      False  \n",
       "3           1      False  \n",
       "4           1      False  "
      ]
     },
     "execution_count": 3,
     "metadata": {},
     "output_type": "execute_result"
    }
   ],
   "source": [
    "#checking to see if my data looks right\n",
    "pokemon.head()"
   ]
  },
  {
   "cell_type": "code",
   "execution_count": 4,
   "id": "113964c9",
   "metadata": {},
   "outputs": [],
   "source": [
    "#reading in the right colors for type\n",
    "colours = {\n",
    "'Normal': '#A8A77A',\n",
    "'Fire': '#EE8130',\n",
    "'Water': '#6390F0',\n",
    "'Electric': '#F7D02C',\n",
    "'Grass': '#7AC74C',\n",
    "'Ice': '#96D9D6',\n",
    "'Fighting': '#C22E28',\n",
    "'Poison': '#A33EA1',\n",
    "'Ground': '#E2BF65',\n",
    "'Flying': '#A98FF3',\n",
    "'Psychic': '#F95587',\n",
    "'Bug': '#A6B91A',\n",
    "'Rock': '#B6A136',\n",
    "'Ghost': '#735797',\n",
    "'Dragon': '#6F35FC',\n",
    "'Dark': '#705746',\n",
    "'Steel': '#B7B7CE',\n",
    "'Fairy': '#D685AD',\n",
    "}"
   ]
  },
  {
   "cell_type": "markdown",
   "id": "e251d91b",
   "metadata": {},
   "source": [
    "## Making some exploratory plots, specifically looking at percent_male"
   ]
  },
  {
   "cell_type": "code",
   "execution_count": 6,
   "id": "dbe07894",
   "metadata": {},
   "outputs": [
    {
     "data": {
      "application/vnd.plotly.v1+json": {
       "config": {
        "plotlyServerURL": "https://plot.ly"
       },
       "data": [
        {
         "alignmentgroup": "True",
         "hovertemplate": "<b>%{hovertext}</b><br><br>Generation=%{x}<br>percentage_male=%{y}<extra></extra>",
         "hovertext": [
          "Bulbasaur",
          "Ivysaur",
          "Venusaur",
          "Charmander",
          "Charmeleon",
          "Charizard",
          "Squirtle",
          "Wartortle",
          "Blastoise",
          "Caterpie",
          "Metapod",
          "Butterfree",
          "Weedle",
          "Kakuna",
          "Beedrill",
          "Pidgey",
          "Pidgeotto",
          "Pidgeot",
          "Rattata",
          "Raticate",
          "Spearow",
          "Fearow",
          "Ekans",
          "Arbok",
          "Pikachu",
          "Raichu",
          "Sandshrew",
          "Sandslash",
          "Nidoran♀",
          "Nidorina",
          "Nidoqueen",
          "Nidoran♂",
          "Nidorino",
          "Nidoking",
          "Clefairy",
          "Clefable",
          "Vulpix",
          "Ninetales",
          "Jigglypuff",
          "Wigglytuff",
          "Zubat",
          "Golbat",
          "Oddish",
          "Gloom",
          "Vileplume",
          "Paras",
          "Parasect",
          "Venonat",
          "Venomoth",
          "Diglett",
          "Dugtrio",
          "Meowth",
          "Persian",
          "Psyduck",
          "Golduck",
          "Mankey",
          "Primeape",
          "Growlithe",
          "Arcanine",
          "Poliwag",
          "Poliwhirl",
          "Poliwrath",
          "Abra",
          "Kadabra",
          "Alakazam",
          "Machop",
          "Machoke",
          "Machamp",
          "Bellsprout",
          "Weepinbell",
          "Victreebel",
          "Tentacool",
          "Tentacruel",
          "Geodude",
          "Graveler",
          "Golem",
          "Ponyta",
          "Rapidash",
          "Slowpoke",
          "Slowbro",
          "Magnemite",
          "Magneton",
          "Farfetch'd",
          "Doduo",
          "Dodrio",
          "Seel",
          "Dewgong",
          "Grimer",
          "Muk",
          "Shellder",
          "Cloyster",
          "Gastly",
          "Haunter",
          "Gengar",
          "Onix",
          "Drowzee",
          "Hypno",
          "Krabby",
          "Kingler",
          "Voltorb",
          "Electrode",
          "Exeggcute",
          "Exeggutor",
          "Cubone",
          "Marowak",
          "Hitmonlee",
          "Hitmonchan",
          "Lickitung",
          "Koffing",
          "Weezing",
          "Rhyhorn",
          "Rhydon",
          "Chansey",
          "Tangela",
          "Kangaskhan",
          "Horsea",
          "Seadra",
          "Goldeen",
          "Seaking",
          "Staryu",
          "Starmie",
          "Mr.",
          "Scyther",
          "Jynx",
          "Electabuzz",
          "Magmar",
          "Pinsir",
          "Tauros",
          "Magikarp",
          "Gyarados",
          "Lapras",
          "Ditto",
          "Eevee",
          "Vaporeon",
          "Jolteon",
          "Flareon",
          "Porygon",
          "Omanyte",
          "Omastar",
          "Kabuto",
          "Kabutops",
          "Aerodactyl",
          "Snorlax",
          "Articuno",
          "Zapdos",
          "Moltres",
          "Dratini",
          "Dragonair",
          "Dragonite",
          "Mewtwo",
          "Mew"
         ],
         "legendgroup": "1",
         "marker": {
          "color": "#636efa"
         },
         "name": "1",
         "notched": false,
         "offsetgroup": "1",
         "orientation": "v",
         "showlegend": true,
         "type": "box",
         "x": [
          1,
          1,
          1,
          1,
          1,
          1,
          1,
          1,
          1,
          1,
          1,
          1,
          1,
          1,
          1,
          1,
          1,
          1,
          1,
          1,
          1,
          1,
          1,
          1,
          1,
          1,
          1,
          1,
          1,
          1,
          1,
          1,
          1,
          1,
          1,
          1,
          1,
          1,
          1,
          1,
          1,
          1,
          1,
          1,
          1,
          1,
          1,
          1,
          1,
          1,
          1,
          1,
          1,
          1,
          1,
          1,
          1,
          1,
          1,
          1,
          1,
          1,
          1,
          1,
          1,
          1,
          1,
          1,
          1,
          1,
          1,
          1,
          1,
          1,
          1,
          1,
          1,
          1,
          1,
          1,
          1,
          1,
          1,
          1,
          1,
          1,
          1,
          1,
          1,
          1,
          1,
          1,
          1,
          1,
          1,
          1,
          1,
          1,
          1,
          1,
          1,
          1,
          1,
          1,
          1,
          1,
          1,
          1,
          1,
          1,
          1,
          1,
          1,
          1,
          1,
          1,
          1,
          1,
          1,
          1,
          1,
          1,
          1,
          1,
          1,
          1,
          1,
          1,
          1,
          1,
          1,
          1,
          1,
          1,
          1,
          1,
          1,
          1,
          1,
          1,
          1,
          1,
          1,
          1,
          1,
          1,
          1,
          1,
          1,
          1,
          1
         ],
         "x0": " ",
         "xaxis": "x",
         "y": [
          88.1,
          88.1,
          88.1,
          88.1,
          88.1,
          88.1,
          88.1,
          88.1,
          88.1,
          50,
          50,
          50,
          50,
          50,
          50,
          50,
          50,
          50,
          50,
          50,
          50,
          50,
          50,
          50,
          50,
          50,
          50,
          50,
          0,
          0,
          0,
          100,
          100,
          100,
          24.6,
          24.6,
          24.6,
          24.6,
          24.6,
          24.6,
          50,
          50,
          50,
          50,
          50,
          50,
          50,
          50,
          50,
          50,
          50,
          50,
          50,
          50,
          50,
          50,
          50,
          75.4,
          75.4,
          50,
          50,
          50,
          75.4,
          75.4,
          75.4,
          75.4,
          75.4,
          75.4,
          50,
          50,
          50,
          50,
          50,
          50,
          50,
          50,
          50,
          50,
          50,
          50,
          null,
          null,
          50,
          50,
          50,
          50,
          50,
          50,
          50,
          50,
          50,
          50,
          50,
          50,
          50,
          50,
          50,
          50,
          50,
          null,
          null,
          50,
          50,
          50,
          50,
          100,
          100,
          50,
          50,
          50,
          50,
          50,
          0,
          50,
          0,
          50,
          50,
          50,
          50,
          null,
          null,
          50,
          50,
          0,
          75.4,
          75.4,
          50,
          100,
          50,
          50,
          50,
          null,
          88.1,
          88.1,
          88.1,
          88.1,
          null,
          88.1,
          88.1,
          88.1,
          88.1,
          88.1,
          88.1,
          null,
          null,
          null,
          50,
          50,
          50,
          null,
          null
         ],
         "y0": " ",
         "yaxis": "y"
        },
        {
         "alignmentgroup": "True",
         "hovertemplate": "<b>%{hovertext}</b><br><br>Generation=%{x}<br>percentage_male=%{y}<extra></extra>",
         "hovertext": [
          "Chikorita",
          "Bayleef",
          "Meganium",
          "Cyndaquil",
          "Quilava",
          "Typhlosion",
          "Totodile",
          "Croconaw",
          "Feraligatr",
          "Sentret",
          "Furret",
          "Hoothoot",
          "Noctowl",
          "Ledyba",
          "Ledian",
          "Spinarak",
          "Ariados",
          "Crobat",
          "Chinchou",
          "Lanturn",
          "Pichu",
          "Cleffa",
          "Igglybuff",
          "Togepi",
          "Togetic",
          "Natu",
          "Xatu",
          "Mareep",
          "Flaaffy",
          "Ampharos",
          "Bellossom",
          "Marill",
          "Azumarill",
          "Sudowoodo",
          "Politoed",
          "Hoppip",
          "Skiploom",
          "Jumpluff",
          "Aipom",
          "Sunkern",
          "Sunflora",
          "Yanma",
          "Wooper",
          "Quagsire",
          "Espeon",
          "Umbreon",
          "Murkrow",
          "Slowking",
          "Misdreavus",
          "Unown",
          "Wobbuffet",
          "Girafarig",
          "Pineco",
          "Forretress",
          "Dunsparce",
          "Gligar",
          "Steelix",
          "Snubbull",
          "Granbull",
          "Qwilfish",
          "Scizor",
          "Shuckle",
          "Heracross",
          "Sneasel",
          "Teddiursa",
          "Ursaring",
          "Slugma",
          "Magcargo",
          "Swinub",
          "Piloswine",
          "Corsola",
          "Remoraid",
          "Octillery",
          "Delibird",
          "Mantine",
          "Skarmory",
          "Houndour",
          "Houndoom",
          "Kingdra",
          "Phanpy",
          "Donphan",
          "Porygon2",
          "Stantler",
          "Smeargle",
          "Tyrogue",
          "Hitmontop",
          "Smoochum",
          "Elekid",
          "Magby",
          "Miltank",
          "Blissey",
          "Raikou",
          "Entei",
          "Suicune",
          "Larvitar",
          "Pupitar",
          "Tyranitar",
          "Lugia",
          "Ho-Oh",
          "Celebi"
         ],
         "legendgroup": "2",
         "marker": {
          "color": "#EF553B"
         },
         "name": "2",
         "notched": false,
         "offsetgroup": "2",
         "orientation": "v",
         "showlegend": true,
         "type": "box",
         "x": [
          2,
          2,
          2,
          2,
          2,
          2,
          2,
          2,
          2,
          2,
          2,
          2,
          2,
          2,
          2,
          2,
          2,
          2,
          2,
          2,
          2,
          2,
          2,
          2,
          2,
          2,
          2,
          2,
          2,
          2,
          2,
          2,
          2,
          2,
          2,
          2,
          2,
          2,
          2,
          2,
          2,
          2,
          2,
          2,
          2,
          2,
          2,
          2,
          2,
          2,
          2,
          2,
          2,
          2,
          2,
          2,
          2,
          2,
          2,
          2,
          2,
          2,
          2,
          2,
          2,
          2,
          2,
          2,
          2,
          2,
          2,
          2,
          2,
          2,
          2,
          2,
          2,
          2,
          2,
          2,
          2,
          2,
          2,
          2,
          2,
          2,
          2,
          2,
          2,
          2,
          2,
          2,
          2,
          2,
          2,
          2,
          2,
          2,
          2,
          2
         ],
         "x0": " ",
         "xaxis": "x",
         "y": [
          88.1,
          88.1,
          88.1,
          88.1,
          88.1,
          88.1,
          88.1,
          88.1,
          88.1,
          50,
          50,
          50,
          50,
          50,
          50,
          50,
          50,
          50,
          50,
          50,
          50,
          24.6,
          24.6,
          88.1,
          88.1,
          50,
          50,
          50,
          50,
          50,
          50,
          50,
          50,
          50,
          50,
          50,
          50,
          50,
          50,
          50,
          50,
          50,
          50,
          50,
          88.1,
          88.1,
          50,
          50,
          50,
          null,
          50,
          50,
          50,
          50,
          50,
          50,
          50,
          24.6,
          24.6,
          50,
          50,
          50,
          50,
          50,
          50,
          50,
          50,
          50,
          50,
          50,
          24.6,
          50,
          50,
          50,
          50,
          50,
          50,
          50,
          50,
          50,
          50,
          null,
          50,
          50,
          100,
          100,
          0,
          75.4,
          75.4,
          0,
          0,
          null,
          null,
          null,
          50,
          50,
          50,
          null,
          null,
          null
         ],
         "y0": " ",
         "yaxis": "y"
        },
        {
         "alignmentgroup": "True",
         "hovertemplate": "<b>%{hovertext}</b><br><br>Generation=%{x}<br>percentage_male=%{y}<extra></extra>",
         "hovertext": [
          "Treecko",
          "Grovyle",
          "Sceptile",
          "Torchic",
          "Combusken",
          "Blaziken",
          "Mudkip",
          "Marshtomp",
          "Swampert",
          "Poochyena",
          "Mightyena",
          "Zigzagoon",
          "Linoone",
          "Wurmple",
          "Silcoon",
          "Beautifly",
          "Cascoon",
          "Dustox",
          "Lotad",
          "Lombre",
          "Ludicolo",
          "Seedot",
          "Nuzleaf",
          "Shiftry",
          "Taillow",
          "Swellow",
          "Wingull",
          "Pelipper",
          "Ralts",
          "Kirlia",
          "Gardevoir",
          "Surskit",
          "Masquerain",
          "Shroomish",
          "Breloom",
          "Slakoth",
          "Vigoroth",
          "Slaking",
          "Nincada",
          "Ninjask",
          "Shedinja",
          "Whismur",
          "Loudred",
          "Exploud",
          "Makuhita",
          "Hariyama",
          "Azurill",
          "Nosepass",
          "Skitty",
          "Delcatty",
          "Sableye",
          "Mawile",
          "Aron",
          "Lairon",
          "Aggron",
          "Meditite",
          "Medicham",
          "Electrike",
          "Manectric",
          "Plusle",
          "Minun",
          "Volbeat",
          "Illumise",
          "Roselia",
          "Gulpin",
          "Swalot",
          "Carvanha",
          "Sharpedo",
          "Wailmer",
          "Wailord",
          "Numel",
          "Camerupt",
          "Torkoal",
          "Spoink",
          "Grumpig",
          "Spinda",
          "Trapinch",
          "Vibrava",
          "Flygon",
          "Cacnea",
          "Cacturne",
          "Swablu",
          "Altaria",
          "Zangoose",
          "Seviper",
          "Lunatone",
          "Solrock",
          "Barboach",
          "Whiscash",
          "Corphish",
          "Crawdaunt",
          "Baltoy",
          "Claydol",
          "Lileep",
          "Cradily",
          "Anorith",
          "Armaldo",
          "Feebas",
          "Milotic",
          "Castform",
          "Kecleon",
          "Shuppet",
          "Banette",
          "Duskull",
          "Dusclops",
          "Tropius",
          "Chimecho",
          "Absol",
          "Wynaut",
          "Snorunt",
          "Glalie",
          "Spheal",
          "Sealeo",
          "Walrein",
          "Clamperl",
          "Huntail",
          "Gorebyss",
          "Relicanth",
          "Luvdisc",
          "Bagon",
          "Shelgon",
          "Salamence",
          "Beldum",
          "Metang",
          "Metagross",
          "Regirock",
          "Regice",
          "Registeel",
          "Latias",
          "Latios",
          "Kyogre",
          "Groudon",
          "Rayquaza",
          "Jirachi",
          "Deoxys"
         ],
         "legendgroup": "3",
         "marker": {
          "color": "#00cc96"
         },
         "name": "3",
         "notched": false,
         "offsetgroup": "3",
         "orientation": "v",
         "showlegend": true,
         "type": "box",
         "x": [
          3,
          3,
          3,
          3,
          3,
          3,
          3,
          3,
          3,
          3,
          3,
          3,
          3,
          3,
          3,
          3,
          3,
          3,
          3,
          3,
          3,
          3,
          3,
          3,
          3,
          3,
          3,
          3,
          3,
          3,
          3,
          3,
          3,
          3,
          3,
          3,
          3,
          3,
          3,
          3,
          3,
          3,
          3,
          3,
          3,
          3,
          3,
          3,
          3,
          3,
          3,
          3,
          3,
          3,
          3,
          3,
          3,
          3,
          3,
          3,
          3,
          3,
          3,
          3,
          3,
          3,
          3,
          3,
          3,
          3,
          3,
          3,
          3,
          3,
          3,
          3,
          3,
          3,
          3,
          3,
          3,
          3,
          3,
          3,
          3,
          3,
          3,
          3,
          3,
          3,
          3,
          3,
          3,
          3,
          3,
          3,
          3,
          3,
          3,
          3,
          3,
          3,
          3,
          3,
          3,
          3,
          3,
          3,
          3,
          3,
          3,
          3,
          3,
          3,
          3,
          3,
          3,
          3,
          3,
          3,
          3,
          3,
          3,
          3,
          3,
          3,
          3,
          3,
          3,
          3,
          3,
          3,
          3,
          3,
          3
         ],
         "x0": " ",
         "xaxis": "x",
         "y": [
          88.1,
          88.1,
          88.1,
          88.1,
          88.1,
          88.1,
          88.1,
          88.1,
          88.1,
          50,
          50,
          50,
          50,
          50,
          50,
          50,
          50,
          50,
          50,
          50,
          50,
          50,
          50,
          50,
          50,
          50,
          50,
          50,
          50,
          50,
          50,
          50,
          50,
          50,
          50,
          50,
          50,
          50,
          50,
          50,
          null,
          50,
          50,
          50,
          75.4,
          75.4,
          24.6,
          50,
          24.6,
          24.6,
          50,
          50,
          50,
          50,
          50,
          50,
          50,
          50,
          50,
          50,
          50,
          100,
          0,
          50,
          50,
          50,
          50,
          50,
          50,
          50,
          50,
          50,
          50,
          50,
          50,
          50,
          50,
          50,
          50,
          50,
          50,
          50,
          50,
          50,
          50,
          null,
          null,
          50,
          50,
          50,
          50,
          null,
          null,
          88.1,
          88.1,
          88.1,
          88.1,
          50,
          50,
          50,
          50,
          50,
          50,
          50,
          50,
          50,
          50,
          50,
          50,
          50,
          50,
          50,
          50,
          50,
          50,
          50,
          50,
          88.1,
          24.6,
          50,
          50,
          50,
          null,
          null,
          null,
          null,
          null,
          null,
          0,
          100,
          null,
          null,
          null,
          null,
          null
         ],
         "y0": " ",
         "yaxis": "y"
        },
        {
         "alignmentgroup": "True",
         "hovertemplate": "<b>%{hovertext}</b><br><br>Generation=%{x}<br>percentage_male=%{y}<extra></extra>",
         "hovertext": [
          "Turtwig",
          "Grotle",
          "Torterra",
          "Chimchar",
          "Monferno",
          "Infernape",
          "Piplup",
          "Prinplup",
          "Empoleon",
          "Starly",
          "Staravia",
          "Staraptor",
          "Bidoof",
          "Bibarel",
          "Kricketot",
          "Kricketune",
          "Shinx",
          "Luxio",
          "Luxray",
          "Budew",
          "Roserade",
          "Cranidos",
          "Rampardos",
          "Shieldon",
          "Bastiodon",
          "Burmy",
          "Wormadam",
          "Mothim",
          "Combee",
          "Vespiquen",
          "Pachirisu",
          "Buizel",
          "Floatzel",
          "Cherubi",
          "Cherrim",
          "Shellos",
          "Gastrodon",
          "Ambipom",
          "Drifloon",
          "Drifblim",
          "Buneary",
          "Lopunny",
          "Mismagius",
          "Honchkrow",
          "Glameow",
          "Purugly",
          "Chingling",
          "Stunky",
          "Skuntank",
          "Bronzor",
          "Bronzong",
          "Bonsly",
          "Mime",
          "Happiny",
          "Chatot",
          "Spiritomb",
          "Gible",
          "Gabite",
          "Garchomp",
          "Munchlax",
          "Riolu",
          "Lucario",
          "Hippopotas",
          "Hippowdon",
          "Skorupi",
          "Drapion",
          "Croagunk",
          "Toxicroak",
          "Carnivine",
          "Finneon",
          "Lumineon",
          "Mantyke",
          "Snover",
          "Abomasnow",
          "Weavile",
          "Magnezone",
          "Lickilicky",
          "Rhyperior",
          "Tangrowth",
          "Electivire",
          "Magmortar",
          "Togekiss",
          "Yanmega",
          "Leafeon",
          "Glaceon",
          "Gliscor",
          "Mamoswine",
          "Porygon-Z",
          "Gallade",
          "Probopass",
          "Dusknoir",
          "Froslass",
          "Rotom",
          "Uxie",
          "Mesprit",
          "Azelf",
          "Dialga",
          "Palkia",
          "Heatran",
          "Regigigas",
          "Giratina",
          "Cresselia",
          "Phione",
          "Manaphy",
          "Darkrai",
          "Shaymin",
          "Arceus"
         ],
         "legendgroup": "4",
         "marker": {
          "color": "#ab63fa"
         },
         "name": "4",
         "notched": false,
         "offsetgroup": "4",
         "orientation": "v",
         "showlegend": true,
         "type": "box",
         "x": [
          4,
          4,
          4,
          4,
          4,
          4,
          4,
          4,
          4,
          4,
          4,
          4,
          4,
          4,
          4,
          4,
          4,
          4,
          4,
          4,
          4,
          4,
          4,
          4,
          4,
          4,
          4,
          4,
          4,
          4,
          4,
          4,
          4,
          4,
          4,
          4,
          4,
          4,
          4,
          4,
          4,
          4,
          4,
          4,
          4,
          4,
          4,
          4,
          4,
          4,
          4,
          4,
          4,
          4,
          4,
          4,
          4,
          4,
          4,
          4,
          4,
          4,
          4,
          4,
          4,
          4,
          4,
          4,
          4,
          4,
          4,
          4,
          4,
          4,
          4,
          4,
          4,
          4,
          4,
          4,
          4,
          4,
          4,
          4,
          4,
          4,
          4,
          4,
          4,
          4,
          4,
          4,
          4,
          4,
          4,
          4,
          4,
          4,
          4,
          4,
          4,
          4,
          4,
          4,
          4,
          4,
          4
         ],
         "x0": " ",
         "xaxis": "x",
         "y": [
          88.1,
          88.1,
          88.1,
          88.1,
          88.1,
          88.1,
          88.1,
          88.1,
          88.1,
          50,
          50,
          50,
          50,
          50,
          50,
          50,
          50,
          50,
          50,
          50,
          50,
          88.1,
          88.1,
          88.1,
          88.1,
          50,
          0,
          100,
          88.1,
          0,
          50,
          50,
          50,
          50,
          50,
          50,
          50,
          50,
          50,
          50,
          50,
          50,
          50,
          50,
          24.6,
          24.6,
          50,
          50,
          50,
          null,
          null,
          50,
          50,
          0,
          50,
          50,
          50,
          50,
          50,
          88.1,
          88.1,
          88.1,
          50,
          50,
          50,
          50,
          50,
          50,
          50,
          50,
          50,
          50,
          50,
          50,
          50,
          null,
          50,
          50,
          50,
          75.4,
          75.4,
          88.1,
          50,
          88.1,
          88.1,
          50,
          50,
          null,
          100,
          50,
          50,
          0,
          null,
          null,
          null,
          null,
          null,
          null,
          50,
          null,
          null,
          0,
          null,
          null,
          null,
          null,
          null
         ],
         "y0": " ",
         "yaxis": "y"
        },
        {
         "alignmentgroup": "True",
         "hovertemplate": "<b>%{hovertext}</b><br><br>Generation=%{x}<br>percentage_male=%{y}<extra></extra>",
         "hovertext": [
          "Victini",
          "Snivy",
          "Servine",
          "Serperior",
          "Tepig",
          "Pignite",
          "Emboar",
          "Oshawott",
          "Dewott",
          "Samurott",
          "Patrat",
          "Watchog",
          "Lillipup",
          "Herdier",
          "Stoutland",
          "Purrloin",
          "Liepard",
          "Pansage",
          "Simisage",
          "Pansear",
          "Simisear",
          "Panpour",
          "Simipour",
          "Munna",
          "Musharna",
          "Pidove",
          "Tranquill",
          "Unfezant",
          "Blitzle",
          "Zebstrika",
          "Roggenrola",
          "Boldore",
          "Gigalith",
          "Woobat",
          "Swoobat",
          "Drilbur",
          "Excadrill",
          "Audino",
          "Timburr",
          "Gurdurr",
          "Conkeldurr",
          "Tympole",
          "Palpitoad",
          "Seismitoad",
          "Throh",
          "Sawk",
          "Sewaddle",
          "Swadloon",
          "Leavanny",
          "Venipede",
          "Whirlipede",
          "Scolipede",
          "Cottonee",
          "Whimsicott",
          "Petilil",
          "Lilligant",
          "Basculin",
          "Sandile",
          "Krokorok",
          "Krookodile",
          "Darumaka",
          "Darmanitan",
          "Maractus",
          "Dwebble",
          "Crustle",
          "Scraggy",
          "Scrafty",
          "Sigilyph",
          "Yamask",
          "Cofagrigus",
          "Tirtouga",
          "Carracosta",
          "Archen",
          "Archeops",
          "Trubbish",
          "Garbodor",
          "Zorua",
          "Zoroark",
          "Minccino",
          "Cinccino",
          "Gothita",
          "Gothorita",
          "Gothitelle",
          "Solosis",
          "Duosion",
          "Reuniclus",
          "Ducklett",
          "Swanna",
          "Vanillite",
          "Vanillish",
          "Vanilluxe",
          "Deerling",
          "Sawsbuck",
          "Emolga",
          "Karrablast",
          "Escavalier",
          "Foongus",
          "Amoonguss",
          "Frillish",
          "Jellicent",
          "Alomomola",
          "Joltik",
          "Galvantula",
          "Ferroseed",
          "Ferrothorn",
          "Klink",
          "Klang",
          "Klinklang",
          "Tynamo",
          "Eelektrik",
          "Eelektross",
          "Elgyem",
          "Beheeyem",
          "Litwick",
          "Lampent",
          "Chandelure",
          "Axew",
          "Fraxure",
          "Haxorus",
          "Cubchoo",
          "Beartic",
          "Cryogonal",
          "Shelmet",
          "Accelgor",
          "Stunfisk",
          "Mienfoo",
          "Mienshao",
          "Druddigon",
          "Golett",
          "Golurk",
          "Pawniard",
          "Bisharp",
          "Bouffalant",
          "Rufflet",
          "Braviary",
          "Vullaby",
          "Mandibuzz",
          "Heatmor",
          "Durant",
          "Deino",
          "Zweilous",
          "Hydreigon",
          "Larvesta",
          "Volcarona",
          "Cobalion",
          "Terrakion",
          "Virizion",
          "Tornadus",
          "Thundurus",
          "Reshiram",
          "Zekrom",
          "Landorus",
          "Kyurem",
          "Keldeo",
          "Meloetta",
          "Genesect"
         ],
         "legendgroup": "5",
         "marker": {
          "color": "#FFA15A"
         },
         "name": "5",
         "notched": false,
         "offsetgroup": "5",
         "orientation": "v",
         "showlegend": true,
         "type": "box",
         "x": [
          5,
          5,
          5,
          5,
          5,
          5,
          5,
          5,
          5,
          5,
          5,
          5,
          5,
          5,
          5,
          5,
          5,
          5,
          5,
          5,
          5,
          5,
          5,
          5,
          5,
          5,
          5,
          5,
          5,
          5,
          5,
          5,
          5,
          5,
          5,
          5,
          5,
          5,
          5,
          5,
          5,
          5,
          5,
          5,
          5,
          5,
          5,
          5,
          5,
          5,
          5,
          5,
          5,
          5,
          5,
          5,
          5,
          5,
          5,
          5,
          5,
          5,
          5,
          5,
          5,
          5,
          5,
          5,
          5,
          5,
          5,
          5,
          5,
          5,
          5,
          5,
          5,
          5,
          5,
          5,
          5,
          5,
          5,
          5,
          5,
          5,
          5,
          5,
          5,
          5,
          5,
          5,
          5,
          5,
          5,
          5,
          5,
          5,
          5,
          5,
          5,
          5,
          5,
          5,
          5,
          5,
          5,
          5,
          5,
          5,
          5,
          5,
          5,
          5,
          5,
          5,
          5,
          5,
          5,
          5,
          5,
          5,
          5,
          5,
          5,
          5,
          5,
          5,
          5,
          5,
          5,
          5,
          5,
          5,
          5,
          5,
          5,
          5,
          5,
          5,
          5,
          5,
          5,
          5,
          5,
          5,
          5,
          5,
          5,
          5,
          5,
          5,
          5,
          5,
          5,
          5
         ],
         "x0": " ",
         "xaxis": "x",
         "y": [
          null,
          88.1,
          88.1,
          88.1,
          88.1,
          88.1,
          88.1,
          88.1,
          88.1,
          88.1,
          50,
          50,
          50,
          50,
          50,
          50,
          50,
          88.1,
          88.1,
          88.1,
          88.1,
          88.1,
          88.1,
          50,
          50,
          50,
          50,
          50,
          50,
          50,
          50,
          50,
          50,
          50,
          50,
          50,
          50,
          50,
          75.4,
          75.4,
          75.4,
          50,
          50,
          50,
          100,
          100,
          50,
          50,
          50,
          50,
          50,
          50,
          50,
          50,
          0,
          0,
          50,
          50,
          50,
          50,
          50,
          50,
          50,
          50,
          50,
          50,
          50,
          50,
          50,
          50,
          88.1,
          88.1,
          88.1,
          88.1,
          50,
          50,
          88.1,
          88.1,
          24.6,
          24.6,
          24.6,
          24.6,
          24.6,
          50,
          50,
          50,
          50,
          50,
          50,
          50,
          50,
          50,
          50,
          50,
          50,
          50,
          50,
          50,
          50,
          50,
          50,
          50,
          50,
          50,
          50,
          null,
          null,
          null,
          50,
          50,
          50,
          50,
          50,
          50,
          50,
          50,
          50,
          50,
          50,
          50,
          50,
          null,
          50,
          50,
          50,
          50,
          50,
          50,
          null,
          null,
          50,
          50,
          50,
          100,
          100,
          0,
          0,
          50,
          50,
          50,
          50,
          50,
          50,
          50,
          null,
          null,
          null,
          100,
          100,
          null,
          null,
          100,
          null,
          null,
          null,
          null
         ],
         "y0": " ",
         "yaxis": "y"
        }
       ],
       "layout": {
        "boxmode": "overlay",
        "legend": {
         "title": {
          "text": "Generation"
         },
         "tracegroupgap": 0
        },
        "margin": {
         "t": 60
        },
        "template": {
         "data": {
          "bar": [
           {
            "error_x": {
             "color": "#2a3f5f"
            },
            "error_y": {
             "color": "#2a3f5f"
            },
            "marker": {
             "line": {
              "color": "#E5ECF6",
              "width": 0.5
             },
             "pattern": {
              "fillmode": "overlay",
              "size": 10,
              "solidity": 0.2
             }
            },
            "type": "bar"
           }
          ],
          "barpolar": [
           {
            "marker": {
             "line": {
              "color": "#E5ECF6",
              "width": 0.5
             },
             "pattern": {
              "fillmode": "overlay",
              "size": 10,
              "solidity": 0.2
             }
            },
            "type": "barpolar"
           }
          ],
          "carpet": [
           {
            "aaxis": {
             "endlinecolor": "#2a3f5f",
             "gridcolor": "white",
             "linecolor": "white",
             "minorgridcolor": "white",
             "startlinecolor": "#2a3f5f"
            },
            "baxis": {
             "endlinecolor": "#2a3f5f",
             "gridcolor": "white",
             "linecolor": "white",
             "minorgridcolor": "white",
             "startlinecolor": "#2a3f5f"
            },
            "type": "carpet"
           }
          ],
          "choropleth": [
           {
            "colorbar": {
             "outlinewidth": 0,
             "ticks": ""
            },
            "type": "choropleth"
           }
          ],
          "contour": [
           {
            "colorbar": {
             "outlinewidth": 0,
             "ticks": ""
            },
            "colorscale": [
             [
              0,
              "#0d0887"
             ],
             [
              0.1111111111111111,
              "#46039f"
             ],
             [
              0.2222222222222222,
              "#7201a8"
             ],
             [
              0.3333333333333333,
              "#9c179e"
             ],
             [
              0.4444444444444444,
              "#bd3786"
             ],
             [
              0.5555555555555556,
              "#d8576b"
             ],
             [
              0.6666666666666666,
              "#ed7953"
             ],
             [
              0.7777777777777778,
              "#fb9f3a"
             ],
             [
              0.8888888888888888,
              "#fdca26"
             ],
             [
              1,
              "#f0f921"
             ]
            ],
            "type": "contour"
           }
          ],
          "contourcarpet": [
           {
            "colorbar": {
             "outlinewidth": 0,
             "ticks": ""
            },
            "type": "contourcarpet"
           }
          ],
          "heatmap": [
           {
            "colorbar": {
             "outlinewidth": 0,
             "ticks": ""
            },
            "colorscale": [
             [
              0,
              "#0d0887"
             ],
             [
              0.1111111111111111,
              "#46039f"
             ],
             [
              0.2222222222222222,
              "#7201a8"
             ],
             [
              0.3333333333333333,
              "#9c179e"
             ],
             [
              0.4444444444444444,
              "#bd3786"
             ],
             [
              0.5555555555555556,
              "#d8576b"
             ],
             [
              0.6666666666666666,
              "#ed7953"
             ],
             [
              0.7777777777777778,
              "#fb9f3a"
             ],
             [
              0.8888888888888888,
              "#fdca26"
             ],
             [
              1,
              "#f0f921"
             ]
            ],
            "type": "heatmap"
           }
          ],
          "heatmapgl": [
           {
            "colorbar": {
             "outlinewidth": 0,
             "ticks": ""
            },
            "colorscale": [
             [
              0,
              "#0d0887"
             ],
             [
              0.1111111111111111,
              "#46039f"
             ],
             [
              0.2222222222222222,
              "#7201a8"
             ],
             [
              0.3333333333333333,
              "#9c179e"
             ],
             [
              0.4444444444444444,
              "#bd3786"
             ],
             [
              0.5555555555555556,
              "#d8576b"
             ],
             [
              0.6666666666666666,
              "#ed7953"
             ],
             [
              0.7777777777777778,
              "#fb9f3a"
             ],
             [
              0.8888888888888888,
              "#fdca26"
             ],
             [
              1,
              "#f0f921"
             ]
            ],
            "type": "heatmapgl"
           }
          ],
          "histogram": [
           {
            "marker": {
             "pattern": {
              "fillmode": "overlay",
              "size": 10,
              "solidity": 0.2
             }
            },
            "type": "histogram"
           }
          ],
          "histogram2d": [
           {
            "colorbar": {
             "outlinewidth": 0,
             "ticks": ""
            },
            "colorscale": [
             [
              0,
              "#0d0887"
             ],
             [
              0.1111111111111111,
              "#46039f"
             ],
             [
              0.2222222222222222,
              "#7201a8"
             ],
             [
              0.3333333333333333,
              "#9c179e"
             ],
             [
              0.4444444444444444,
              "#bd3786"
             ],
             [
              0.5555555555555556,
              "#d8576b"
             ],
             [
              0.6666666666666666,
              "#ed7953"
             ],
             [
              0.7777777777777778,
              "#fb9f3a"
             ],
             [
              0.8888888888888888,
              "#fdca26"
             ],
             [
              1,
              "#f0f921"
             ]
            ],
            "type": "histogram2d"
           }
          ],
          "histogram2dcontour": [
           {
            "colorbar": {
             "outlinewidth": 0,
             "ticks": ""
            },
            "colorscale": [
             [
              0,
              "#0d0887"
             ],
             [
              0.1111111111111111,
              "#46039f"
             ],
             [
              0.2222222222222222,
              "#7201a8"
             ],
             [
              0.3333333333333333,
              "#9c179e"
             ],
             [
              0.4444444444444444,
              "#bd3786"
             ],
             [
              0.5555555555555556,
              "#d8576b"
             ],
             [
              0.6666666666666666,
              "#ed7953"
             ],
             [
              0.7777777777777778,
              "#fb9f3a"
             ],
             [
              0.8888888888888888,
              "#fdca26"
             ],
             [
              1,
              "#f0f921"
             ]
            ],
            "type": "histogram2dcontour"
           }
          ],
          "mesh3d": [
           {
            "colorbar": {
             "outlinewidth": 0,
             "ticks": ""
            },
            "type": "mesh3d"
           }
          ],
          "parcoords": [
           {
            "line": {
             "colorbar": {
              "outlinewidth": 0,
              "ticks": ""
             }
            },
            "type": "parcoords"
           }
          ],
          "pie": [
           {
            "automargin": true,
            "type": "pie"
           }
          ],
          "scatter": [
           {
            "marker": {
             "colorbar": {
              "outlinewidth": 0,
              "ticks": ""
             }
            },
            "type": "scatter"
           }
          ],
          "scatter3d": [
           {
            "line": {
             "colorbar": {
              "outlinewidth": 0,
              "ticks": ""
             }
            },
            "marker": {
             "colorbar": {
              "outlinewidth": 0,
              "ticks": ""
             }
            },
            "type": "scatter3d"
           }
          ],
          "scattercarpet": [
           {
            "marker": {
             "colorbar": {
              "outlinewidth": 0,
              "ticks": ""
             }
            },
            "type": "scattercarpet"
           }
          ],
          "scattergeo": [
           {
            "marker": {
             "colorbar": {
              "outlinewidth": 0,
              "ticks": ""
             }
            },
            "type": "scattergeo"
           }
          ],
          "scattergl": [
           {
            "marker": {
             "colorbar": {
              "outlinewidth": 0,
              "ticks": ""
             }
            },
            "type": "scattergl"
           }
          ],
          "scattermapbox": [
           {
            "marker": {
             "colorbar": {
              "outlinewidth": 0,
              "ticks": ""
             }
            },
            "type": "scattermapbox"
           }
          ],
          "scatterpolar": [
           {
            "marker": {
             "colorbar": {
              "outlinewidth": 0,
              "ticks": ""
             }
            },
            "type": "scatterpolar"
           }
          ],
          "scatterpolargl": [
           {
            "marker": {
             "colorbar": {
              "outlinewidth": 0,
              "ticks": ""
             }
            },
            "type": "scatterpolargl"
           }
          ],
          "scatterternary": [
           {
            "marker": {
             "colorbar": {
              "outlinewidth": 0,
              "ticks": ""
             }
            },
            "type": "scatterternary"
           }
          ],
          "surface": [
           {
            "colorbar": {
             "outlinewidth": 0,
             "ticks": ""
            },
            "colorscale": [
             [
              0,
              "#0d0887"
             ],
             [
              0.1111111111111111,
              "#46039f"
             ],
             [
              0.2222222222222222,
              "#7201a8"
             ],
             [
              0.3333333333333333,
              "#9c179e"
             ],
             [
              0.4444444444444444,
              "#bd3786"
             ],
             [
              0.5555555555555556,
              "#d8576b"
             ],
             [
              0.6666666666666666,
              "#ed7953"
             ],
             [
              0.7777777777777778,
              "#fb9f3a"
             ],
             [
              0.8888888888888888,
              "#fdca26"
             ],
             [
              1,
              "#f0f921"
             ]
            ],
            "type": "surface"
           }
          ],
          "table": [
           {
            "cells": {
             "fill": {
              "color": "#EBF0F8"
             },
             "line": {
              "color": "white"
             }
            },
            "header": {
             "fill": {
              "color": "#C8D4E3"
             },
             "line": {
              "color": "white"
             }
            },
            "type": "table"
           }
          ]
         },
         "layout": {
          "annotationdefaults": {
           "arrowcolor": "#2a3f5f",
           "arrowhead": 0,
           "arrowwidth": 1
          },
          "autotypenumbers": "strict",
          "coloraxis": {
           "colorbar": {
            "outlinewidth": 0,
            "ticks": ""
           }
          },
          "colorscale": {
           "diverging": [
            [
             0,
             "#8e0152"
            ],
            [
             0.1,
             "#c51b7d"
            ],
            [
             0.2,
             "#de77ae"
            ],
            [
             0.3,
             "#f1b6da"
            ],
            [
             0.4,
             "#fde0ef"
            ],
            [
             0.5,
             "#f7f7f7"
            ],
            [
             0.6,
             "#e6f5d0"
            ],
            [
             0.7,
             "#b8e186"
            ],
            [
             0.8,
             "#7fbc41"
            ],
            [
             0.9,
             "#4d9221"
            ],
            [
             1,
             "#276419"
            ]
           ],
           "sequential": [
            [
             0,
             "#0d0887"
            ],
            [
             0.1111111111111111,
             "#46039f"
            ],
            [
             0.2222222222222222,
             "#7201a8"
            ],
            [
             0.3333333333333333,
             "#9c179e"
            ],
            [
             0.4444444444444444,
             "#bd3786"
            ],
            [
             0.5555555555555556,
             "#d8576b"
            ],
            [
             0.6666666666666666,
             "#ed7953"
            ],
            [
             0.7777777777777778,
             "#fb9f3a"
            ],
            [
             0.8888888888888888,
             "#fdca26"
            ],
            [
             1,
             "#f0f921"
            ]
           ],
           "sequentialminus": [
            [
             0,
             "#0d0887"
            ],
            [
             0.1111111111111111,
             "#46039f"
            ],
            [
             0.2222222222222222,
             "#7201a8"
            ],
            [
             0.3333333333333333,
             "#9c179e"
            ],
            [
             0.4444444444444444,
             "#bd3786"
            ],
            [
             0.5555555555555556,
             "#d8576b"
            ],
            [
             0.6666666666666666,
             "#ed7953"
            ],
            [
             0.7777777777777778,
             "#fb9f3a"
            ],
            [
             0.8888888888888888,
             "#fdca26"
            ],
            [
             1,
             "#f0f921"
            ]
           ]
          },
          "colorway": [
           "#636efa",
           "#EF553B",
           "#00cc96",
           "#ab63fa",
           "#FFA15A",
           "#19d3f3",
           "#FF6692",
           "#B6E880",
           "#FF97FF",
           "#FECB52"
          ],
          "font": {
           "color": "#2a3f5f"
          },
          "geo": {
           "bgcolor": "white",
           "lakecolor": "white",
           "landcolor": "#E5ECF6",
           "showlakes": true,
           "showland": true,
           "subunitcolor": "white"
          },
          "hoverlabel": {
           "align": "left"
          },
          "hovermode": "closest",
          "mapbox": {
           "style": "light"
          },
          "paper_bgcolor": "white",
          "plot_bgcolor": "#E5ECF6",
          "polar": {
           "angularaxis": {
            "gridcolor": "white",
            "linecolor": "white",
            "ticks": ""
           },
           "bgcolor": "#E5ECF6",
           "radialaxis": {
            "gridcolor": "white",
            "linecolor": "white",
            "ticks": ""
           }
          },
          "scene": {
           "xaxis": {
            "backgroundcolor": "#E5ECF6",
            "gridcolor": "white",
            "gridwidth": 2,
            "linecolor": "white",
            "showbackground": true,
            "ticks": "",
            "zerolinecolor": "white"
           },
           "yaxis": {
            "backgroundcolor": "#E5ECF6",
            "gridcolor": "white",
            "gridwidth": 2,
            "linecolor": "white",
            "showbackground": true,
            "ticks": "",
            "zerolinecolor": "white"
           },
           "zaxis": {
            "backgroundcolor": "#E5ECF6",
            "gridcolor": "white",
            "gridwidth": 2,
            "linecolor": "white",
            "showbackground": true,
            "ticks": "",
            "zerolinecolor": "white"
           }
          },
          "shapedefaults": {
           "line": {
            "color": "#2a3f5f"
           }
          },
          "ternary": {
           "aaxis": {
            "gridcolor": "white",
            "linecolor": "white",
            "ticks": ""
           },
           "baxis": {
            "gridcolor": "white",
            "linecolor": "white",
            "ticks": ""
           },
           "bgcolor": "#E5ECF6",
           "caxis": {
            "gridcolor": "white",
            "linecolor": "white",
            "ticks": ""
           }
          },
          "title": {
           "x": 0.05
          },
          "xaxis": {
           "automargin": true,
           "gridcolor": "white",
           "linecolor": "white",
           "ticks": "",
           "title": {
            "standoff": 15
           },
           "zerolinecolor": "white",
           "zerolinewidth": 2
          },
          "yaxis": {
           "automargin": true,
           "gridcolor": "white",
           "linecolor": "white",
           "ticks": "",
           "title": {
            "standoff": 15
           },
           "zerolinecolor": "white",
           "zerolinewidth": 2
          }
         }
        },
        "xaxis": {
         "anchor": "y",
         "categoryarray": [
          1,
          2,
          3,
          4,
          5
         ],
         "categoryorder": "array",
         "domain": [
          0,
          1
         ],
         "title": {
          "text": "Generation"
         }
        },
        "yaxis": {
         "anchor": "x",
         "domain": [
          0,
          1
         ],
         "title": {
          "text": "percentage_male"
         }
        }
       }
      },
      "text/html": [
       "<div>                            <div id=\"11e382d5-da9a-487c-9e64-76a32f470326\" class=\"plotly-graph-div\" style=\"height:525px; width:100%;\"></div>            <script type=\"text/javascript\">                require([\"plotly\"], function(Plotly) {                    window.PLOTLYENV=window.PLOTLYENV || {};                                    if (document.getElementById(\"11e382d5-da9a-487c-9e64-76a32f470326\")) {                    Plotly.newPlot(                        \"11e382d5-da9a-487c-9e64-76a32f470326\",                        [{\"alignmentgroup\":\"True\",\"hovertemplate\":\"<b>%{hovertext}</b><br><br>Generation=%{x}<br>percentage_male=%{y}<extra></extra>\",\"hovertext\":[\"Bulbasaur\",\"Ivysaur\",\"Venusaur\",\"Charmander\",\"Charmeleon\",\"Charizard\",\"Squirtle\",\"Wartortle\",\"Blastoise\",\"Caterpie\",\"Metapod\",\"Butterfree\",\"Weedle\",\"Kakuna\",\"Beedrill\",\"Pidgey\",\"Pidgeotto\",\"Pidgeot\",\"Rattata\",\"Raticate\",\"Spearow\",\"Fearow\",\"Ekans\",\"Arbok\",\"Pikachu\",\"Raichu\",\"Sandshrew\",\"Sandslash\",\"Nidoran\\u2640\",\"Nidorina\",\"Nidoqueen\",\"Nidoran\\u2642\",\"Nidorino\",\"Nidoking\",\"Clefairy\",\"Clefable\",\"Vulpix\",\"Ninetales\",\"Jigglypuff\",\"Wigglytuff\",\"Zubat\",\"Golbat\",\"Oddish\",\"Gloom\",\"Vileplume\",\"Paras\",\"Parasect\",\"Venonat\",\"Venomoth\",\"Diglett\",\"Dugtrio\",\"Meowth\",\"Persian\",\"Psyduck\",\"Golduck\",\"Mankey\",\"Primeape\",\"Growlithe\",\"Arcanine\",\"Poliwag\",\"Poliwhirl\",\"Poliwrath\",\"Abra\",\"Kadabra\",\"Alakazam\",\"Machop\",\"Machoke\",\"Machamp\",\"Bellsprout\",\"Weepinbell\",\"Victreebel\",\"Tentacool\",\"Tentacruel\",\"Geodude\",\"Graveler\",\"Golem\",\"Ponyta\",\"Rapidash\",\"Slowpoke\",\"Slowbro\",\"Magnemite\",\"Magneton\",\"Farfetch'd\",\"Doduo\",\"Dodrio\",\"Seel\",\"Dewgong\",\"Grimer\",\"Muk\",\"Shellder\",\"Cloyster\",\"Gastly\",\"Haunter\",\"Gengar\",\"Onix\",\"Drowzee\",\"Hypno\",\"Krabby\",\"Kingler\",\"Voltorb\",\"Electrode\",\"Exeggcute\",\"Exeggutor\",\"Cubone\",\"Marowak\",\"Hitmonlee\",\"Hitmonchan\",\"Lickitung\",\"Koffing\",\"Weezing\",\"Rhyhorn\",\"Rhydon\",\"Chansey\",\"Tangela\",\"Kangaskhan\",\"Horsea\",\"Seadra\",\"Goldeen\",\"Seaking\",\"Staryu\",\"Starmie\",\"Mr.\",\"Scyther\",\"Jynx\",\"Electabuzz\",\"Magmar\",\"Pinsir\",\"Tauros\",\"Magikarp\",\"Gyarados\",\"Lapras\",\"Ditto\",\"Eevee\",\"Vaporeon\",\"Jolteon\",\"Flareon\",\"Porygon\",\"Omanyte\",\"Omastar\",\"Kabuto\",\"Kabutops\",\"Aerodactyl\",\"Snorlax\",\"Articuno\",\"Zapdos\",\"Moltres\",\"Dratini\",\"Dragonair\",\"Dragonite\",\"Mewtwo\",\"Mew\"],\"legendgroup\":\"1\",\"marker\":{\"color\":\"#636efa\"},\"name\":\"1\",\"notched\":false,\"offsetgroup\":\"1\",\"orientation\":\"v\",\"showlegend\":true,\"x\":[1,1,1,1,1,1,1,1,1,1,1,1,1,1,1,1,1,1,1,1,1,1,1,1,1,1,1,1,1,1,1,1,1,1,1,1,1,1,1,1,1,1,1,1,1,1,1,1,1,1,1,1,1,1,1,1,1,1,1,1,1,1,1,1,1,1,1,1,1,1,1,1,1,1,1,1,1,1,1,1,1,1,1,1,1,1,1,1,1,1,1,1,1,1,1,1,1,1,1,1,1,1,1,1,1,1,1,1,1,1,1,1,1,1,1,1,1,1,1,1,1,1,1,1,1,1,1,1,1,1,1,1,1,1,1,1,1,1,1,1,1,1,1,1,1,1,1,1,1,1,1],\"x0\":\" \",\"xaxis\":\"x\",\"y\":[88.1,88.1,88.1,88.1,88.1,88.1,88.1,88.1,88.1,50.0,50.0,50.0,50.0,50.0,50.0,50.0,50.0,50.0,50.0,50.0,50.0,50.0,50.0,50.0,50.0,50.0,50.0,50.0,0.0,0.0,0.0,100.0,100.0,100.0,24.6,24.6,24.6,24.6,24.6,24.6,50.0,50.0,50.0,50.0,50.0,50.0,50.0,50.0,50.0,50.0,50.0,50.0,50.0,50.0,50.0,50.0,50.0,75.4,75.4,50.0,50.0,50.0,75.4,75.4,75.4,75.4,75.4,75.4,50.0,50.0,50.0,50.0,50.0,50.0,50.0,50.0,50.0,50.0,50.0,50.0,null,null,50.0,50.0,50.0,50.0,50.0,50.0,50.0,50.0,50.0,50.0,50.0,50.0,50.0,50.0,50.0,50.0,50.0,null,null,50.0,50.0,50.0,50.0,100.0,100.0,50.0,50.0,50.0,50.0,50.0,0.0,50.0,0.0,50.0,50.0,50.0,50.0,null,null,50.0,50.0,0.0,75.4,75.4,50.0,100.0,50.0,50.0,50.0,null,88.1,88.1,88.1,88.1,null,88.1,88.1,88.1,88.1,88.1,88.1,null,null,null,50.0,50.0,50.0,null,null],\"y0\":\" \",\"yaxis\":\"y\",\"type\":\"box\"},{\"alignmentgroup\":\"True\",\"hovertemplate\":\"<b>%{hovertext}</b><br><br>Generation=%{x}<br>percentage_male=%{y}<extra></extra>\",\"hovertext\":[\"Chikorita\",\"Bayleef\",\"Meganium\",\"Cyndaquil\",\"Quilava\",\"Typhlosion\",\"Totodile\",\"Croconaw\",\"Feraligatr\",\"Sentret\",\"Furret\",\"Hoothoot\",\"Noctowl\",\"Ledyba\",\"Ledian\",\"Spinarak\",\"Ariados\",\"Crobat\",\"Chinchou\",\"Lanturn\",\"Pichu\",\"Cleffa\",\"Igglybuff\",\"Togepi\",\"Togetic\",\"Natu\",\"Xatu\",\"Mareep\",\"Flaaffy\",\"Ampharos\",\"Bellossom\",\"Marill\",\"Azumarill\",\"Sudowoodo\",\"Politoed\",\"Hoppip\",\"Skiploom\",\"Jumpluff\",\"Aipom\",\"Sunkern\",\"Sunflora\",\"Yanma\",\"Wooper\",\"Quagsire\",\"Espeon\",\"Umbreon\",\"Murkrow\",\"Slowking\",\"Misdreavus\",\"Unown\",\"Wobbuffet\",\"Girafarig\",\"Pineco\",\"Forretress\",\"Dunsparce\",\"Gligar\",\"Steelix\",\"Snubbull\",\"Granbull\",\"Qwilfish\",\"Scizor\",\"Shuckle\",\"Heracross\",\"Sneasel\",\"Teddiursa\",\"Ursaring\",\"Slugma\",\"Magcargo\",\"Swinub\",\"Piloswine\",\"Corsola\",\"Remoraid\",\"Octillery\",\"Delibird\",\"Mantine\",\"Skarmory\",\"Houndour\",\"Houndoom\",\"Kingdra\",\"Phanpy\",\"Donphan\",\"Porygon2\",\"Stantler\",\"Smeargle\",\"Tyrogue\",\"Hitmontop\",\"Smoochum\",\"Elekid\",\"Magby\",\"Miltank\",\"Blissey\",\"Raikou\",\"Entei\",\"Suicune\",\"Larvitar\",\"Pupitar\",\"Tyranitar\",\"Lugia\",\"Ho-Oh\",\"Celebi\"],\"legendgroup\":\"2\",\"marker\":{\"color\":\"#EF553B\"},\"name\":\"2\",\"notched\":false,\"offsetgroup\":\"2\",\"orientation\":\"v\",\"showlegend\":true,\"x\":[2,2,2,2,2,2,2,2,2,2,2,2,2,2,2,2,2,2,2,2,2,2,2,2,2,2,2,2,2,2,2,2,2,2,2,2,2,2,2,2,2,2,2,2,2,2,2,2,2,2,2,2,2,2,2,2,2,2,2,2,2,2,2,2,2,2,2,2,2,2,2,2,2,2,2,2,2,2,2,2,2,2,2,2,2,2,2,2,2,2,2,2,2,2,2,2,2,2,2,2],\"x0\":\" \",\"xaxis\":\"x\",\"y\":[88.1,88.1,88.1,88.1,88.1,88.1,88.1,88.1,88.1,50.0,50.0,50.0,50.0,50.0,50.0,50.0,50.0,50.0,50.0,50.0,50.0,24.6,24.6,88.1,88.1,50.0,50.0,50.0,50.0,50.0,50.0,50.0,50.0,50.0,50.0,50.0,50.0,50.0,50.0,50.0,50.0,50.0,50.0,50.0,88.1,88.1,50.0,50.0,50.0,null,50.0,50.0,50.0,50.0,50.0,50.0,50.0,24.6,24.6,50.0,50.0,50.0,50.0,50.0,50.0,50.0,50.0,50.0,50.0,50.0,24.6,50.0,50.0,50.0,50.0,50.0,50.0,50.0,50.0,50.0,50.0,null,50.0,50.0,100.0,100.0,0.0,75.4,75.4,0.0,0.0,null,null,null,50.0,50.0,50.0,null,null,null],\"y0\":\" \",\"yaxis\":\"y\",\"type\":\"box\"},{\"alignmentgroup\":\"True\",\"hovertemplate\":\"<b>%{hovertext}</b><br><br>Generation=%{x}<br>percentage_male=%{y}<extra></extra>\",\"hovertext\":[\"Treecko\",\"Grovyle\",\"Sceptile\",\"Torchic\",\"Combusken\",\"Blaziken\",\"Mudkip\",\"Marshtomp\",\"Swampert\",\"Poochyena\",\"Mightyena\",\"Zigzagoon\",\"Linoone\",\"Wurmple\",\"Silcoon\",\"Beautifly\",\"Cascoon\",\"Dustox\",\"Lotad\",\"Lombre\",\"Ludicolo\",\"Seedot\",\"Nuzleaf\",\"Shiftry\",\"Taillow\",\"Swellow\",\"Wingull\",\"Pelipper\",\"Ralts\",\"Kirlia\",\"Gardevoir\",\"Surskit\",\"Masquerain\",\"Shroomish\",\"Breloom\",\"Slakoth\",\"Vigoroth\",\"Slaking\",\"Nincada\",\"Ninjask\",\"Shedinja\",\"Whismur\",\"Loudred\",\"Exploud\",\"Makuhita\",\"Hariyama\",\"Azurill\",\"Nosepass\",\"Skitty\",\"Delcatty\",\"Sableye\",\"Mawile\",\"Aron\",\"Lairon\",\"Aggron\",\"Meditite\",\"Medicham\",\"Electrike\",\"Manectric\",\"Plusle\",\"Minun\",\"Volbeat\",\"Illumise\",\"Roselia\",\"Gulpin\",\"Swalot\",\"Carvanha\",\"Sharpedo\",\"Wailmer\",\"Wailord\",\"Numel\",\"Camerupt\",\"Torkoal\",\"Spoink\",\"Grumpig\",\"Spinda\",\"Trapinch\",\"Vibrava\",\"Flygon\",\"Cacnea\",\"Cacturne\",\"Swablu\",\"Altaria\",\"Zangoose\",\"Seviper\",\"Lunatone\",\"Solrock\",\"Barboach\",\"Whiscash\",\"Corphish\",\"Crawdaunt\",\"Baltoy\",\"Claydol\",\"Lileep\",\"Cradily\",\"Anorith\",\"Armaldo\",\"Feebas\",\"Milotic\",\"Castform\",\"Kecleon\",\"Shuppet\",\"Banette\",\"Duskull\",\"Dusclops\",\"Tropius\",\"Chimecho\",\"Absol\",\"Wynaut\",\"Snorunt\",\"Glalie\",\"Spheal\",\"Sealeo\",\"Walrein\",\"Clamperl\",\"Huntail\",\"Gorebyss\",\"Relicanth\",\"Luvdisc\",\"Bagon\",\"Shelgon\",\"Salamence\",\"Beldum\",\"Metang\",\"Metagross\",\"Regirock\",\"Regice\",\"Registeel\",\"Latias\",\"Latios\",\"Kyogre\",\"Groudon\",\"Rayquaza\",\"Jirachi\",\"Deoxys\"],\"legendgroup\":\"3\",\"marker\":{\"color\":\"#00cc96\"},\"name\":\"3\",\"notched\":false,\"offsetgroup\":\"3\",\"orientation\":\"v\",\"showlegend\":true,\"x\":[3,3,3,3,3,3,3,3,3,3,3,3,3,3,3,3,3,3,3,3,3,3,3,3,3,3,3,3,3,3,3,3,3,3,3,3,3,3,3,3,3,3,3,3,3,3,3,3,3,3,3,3,3,3,3,3,3,3,3,3,3,3,3,3,3,3,3,3,3,3,3,3,3,3,3,3,3,3,3,3,3,3,3,3,3,3,3,3,3,3,3,3,3,3,3,3,3,3,3,3,3,3,3,3,3,3,3,3,3,3,3,3,3,3,3,3,3,3,3,3,3,3,3,3,3,3,3,3,3,3,3,3,3,3,3],\"x0\":\" \",\"xaxis\":\"x\",\"y\":[88.1,88.1,88.1,88.1,88.1,88.1,88.1,88.1,88.1,50.0,50.0,50.0,50.0,50.0,50.0,50.0,50.0,50.0,50.0,50.0,50.0,50.0,50.0,50.0,50.0,50.0,50.0,50.0,50.0,50.0,50.0,50.0,50.0,50.0,50.0,50.0,50.0,50.0,50.0,50.0,null,50.0,50.0,50.0,75.4,75.4,24.6,50.0,24.6,24.6,50.0,50.0,50.0,50.0,50.0,50.0,50.0,50.0,50.0,50.0,50.0,100.0,0.0,50.0,50.0,50.0,50.0,50.0,50.0,50.0,50.0,50.0,50.0,50.0,50.0,50.0,50.0,50.0,50.0,50.0,50.0,50.0,50.0,50.0,50.0,null,null,50.0,50.0,50.0,50.0,null,null,88.1,88.1,88.1,88.1,50.0,50.0,50.0,50.0,50.0,50.0,50.0,50.0,50.0,50.0,50.0,50.0,50.0,50.0,50.0,50.0,50.0,50.0,50.0,50.0,88.1,24.6,50.0,50.0,50.0,null,null,null,null,null,null,0.0,100.0,null,null,null,null,null],\"y0\":\" \",\"yaxis\":\"y\",\"type\":\"box\"},{\"alignmentgroup\":\"True\",\"hovertemplate\":\"<b>%{hovertext}</b><br><br>Generation=%{x}<br>percentage_male=%{y}<extra></extra>\",\"hovertext\":[\"Turtwig\",\"Grotle\",\"Torterra\",\"Chimchar\",\"Monferno\",\"Infernape\",\"Piplup\",\"Prinplup\",\"Empoleon\",\"Starly\",\"Staravia\",\"Staraptor\",\"Bidoof\",\"Bibarel\",\"Kricketot\",\"Kricketune\",\"Shinx\",\"Luxio\",\"Luxray\",\"Budew\",\"Roserade\",\"Cranidos\",\"Rampardos\",\"Shieldon\",\"Bastiodon\",\"Burmy\",\"Wormadam\",\"Mothim\",\"Combee\",\"Vespiquen\",\"Pachirisu\",\"Buizel\",\"Floatzel\",\"Cherubi\",\"Cherrim\",\"Shellos\",\"Gastrodon\",\"Ambipom\",\"Drifloon\",\"Drifblim\",\"Buneary\",\"Lopunny\",\"Mismagius\",\"Honchkrow\",\"Glameow\",\"Purugly\",\"Chingling\",\"Stunky\",\"Skuntank\",\"Bronzor\",\"Bronzong\",\"Bonsly\",\"Mime\",\"Happiny\",\"Chatot\",\"Spiritomb\",\"Gible\",\"Gabite\",\"Garchomp\",\"Munchlax\",\"Riolu\",\"Lucario\",\"Hippopotas\",\"Hippowdon\",\"Skorupi\",\"Drapion\",\"Croagunk\",\"Toxicroak\",\"Carnivine\",\"Finneon\",\"Lumineon\",\"Mantyke\",\"Snover\",\"Abomasnow\",\"Weavile\",\"Magnezone\",\"Lickilicky\",\"Rhyperior\",\"Tangrowth\",\"Electivire\",\"Magmortar\",\"Togekiss\",\"Yanmega\",\"Leafeon\",\"Glaceon\",\"Gliscor\",\"Mamoswine\",\"Porygon-Z\",\"Gallade\",\"Probopass\",\"Dusknoir\",\"Froslass\",\"Rotom\",\"Uxie\",\"Mesprit\",\"Azelf\",\"Dialga\",\"Palkia\",\"Heatran\",\"Regigigas\",\"Giratina\",\"Cresselia\",\"Phione\",\"Manaphy\",\"Darkrai\",\"Shaymin\",\"Arceus\"],\"legendgroup\":\"4\",\"marker\":{\"color\":\"#ab63fa\"},\"name\":\"4\",\"notched\":false,\"offsetgroup\":\"4\",\"orientation\":\"v\",\"showlegend\":true,\"x\":[4,4,4,4,4,4,4,4,4,4,4,4,4,4,4,4,4,4,4,4,4,4,4,4,4,4,4,4,4,4,4,4,4,4,4,4,4,4,4,4,4,4,4,4,4,4,4,4,4,4,4,4,4,4,4,4,4,4,4,4,4,4,4,4,4,4,4,4,4,4,4,4,4,4,4,4,4,4,4,4,4,4,4,4,4,4,4,4,4,4,4,4,4,4,4,4,4,4,4,4,4,4,4,4,4,4,4],\"x0\":\" \",\"xaxis\":\"x\",\"y\":[88.1,88.1,88.1,88.1,88.1,88.1,88.1,88.1,88.1,50.0,50.0,50.0,50.0,50.0,50.0,50.0,50.0,50.0,50.0,50.0,50.0,88.1,88.1,88.1,88.1,50.0,0.0,100.0,88.1,0.0,50.0,50.0,50.0,50.0,50.0,50.0,50.0,50.0,50.0,50.0,50.0,50.0,50.0,50.0,24.6,24.6,50.0,50.0,50.0,null,null,50.0,50.0,0.0,50.0,50.0,50.0,50.0,50.0,88.1,88.1,88.1,50.0,50.0,50.0,50.0,50.0,50.0,50.0,50.0,50.0,50.0,50.0,50.0,50.0,null,50.0,50.0,50.0,75.4,75.4,88.1,50.0,88.1,88.1,50.0,50.0,null,100.0,50.0,50.0,0.0,null,null,null,null,null,null,50.0,null,null,0.0,null,null,null,null,null],\"y0\":\" \",\"yaxis\":\"y\",\"type\":\"box\"},{\"alignmentgroup\":\"True\",\"hovertemplate\":\"<b>%{hovertext}</b><br><br>Generation=%{x}<br>percentage_male=%{y}<extra></extra>\",\"hovertext\":[\"Victini\",\"Snivy\",\"Servine\",\"Serperior\",\"Tepig\",\"Pignite\",\"Emboar\",\"Oshawott\",\"Dewott\",\"Samurott\",\"Patrat\",\"Watchog\",\"Lillipup\",\"Herdier\",\"Stoutland\",\"Purrloin\",\"Liepard\",\"Pansage\",\"Simisage\",\"Pansear\",\"Simisear\",\"Panpour\",\"Simipour\",\"Munna\",\"Musharna\",\"Pidove\",\"Tranquill\",\"Unfezant\",\"Blitzle\",\"Zebstrika\",\"Roggenrola\",\"Boldore\",\"Gigalith\",\"Woobat\",\"Swoobat\",\"Drilbur\",\"Excadrill\",\"Audino\",\"Timburr\",\"Gurdurr\",\"Conkeldurr\",\"Tympole\",\"Palpitoad\",\"Seismitoad\",\"Throh\",\"Sawk\",\"Sewaddle\",\"Swadloon\",\"Leavanny\",\"Venipede\",\"Whirlipede\",\"Scolipede\",\"Cottonee\",\"Whimsicott\",\"Petilil\",\"Lilligant\",\"Basculin\",\"Sandile\",\"Krokorok\",\"Krookodile\",\"Darumaka\",\"Darmanitan\",\"Maractus\",\"Dwebble\",\"Crustle\",\"Scraggy\",\"Scrafty\",\"Sigilyph\",\"Yamask\",\"Cofagrigus\",\"Tirtouga\",\"Carracosta\",\"Archen\",\"Archeops\",\"Trubbish\",\"Garbodor\",\"Zorua\",\"Zoroark\",\"Minccino\",\"Cinccino\",\"Gothita\",\"Gothorita\",\"Gothitelle\",\"Solosis\",\"Duosion\",\"Reuniclus\",\"Ducklett\",\"Swanna\",\"Vanillite\",\"Vanillish\",\"Vanilluxe\",\"Deerling\",\"Sawsbuck\",\"Emolga\",\"Karrablast\",\"Escavalier\",\"Foongus\",\"Amoonguss\",\"Frillish\",\"Jellicent\",\"Alomomola\",\"Joltik\",\"Galvantula\",\"Ferroseed\",\"Ferrothorn\",\"Klink\",\"Klang\",\"Klinklang\",\"Tynamo\",\"Eelektrik\",\"Eelektross\",\"Elgyem\",\"Beheeyem\",\"Litwick\",\"Lampent\",\"Chandelure\",\"Axew\",\"Fraxure\",\"Haxorus\",\"Cubchoo\",\"Beartic\",\"Cryogonal\",\"Shelmet\",\"Accelgor\",\"Stunfisk\",\"Mienfoo\",\"Mienshao\",\"Druddigon\",\"Golett\",\"Golurk\",\"Pawniard\",\"Bisharp\",\"Bouffalant\",\"Rufflet\",\"Braviary\",\"Vullaby\",\"Mandibuzz\",\"Heatmor\",\"Durant\",\"Deino\",\"Zweilous\",\"Hydreigon\",\"Larvesta\",\"Volcarona\",\"Cobalion\",\"Terrakion\",\"Virizion\",\"Tornadus\",\"Thundurus\",\"Reshiram\",\"Zekrom\",\"Landorus\",\"Kyurem\",\"Keldeo\",\"Meloetta\",\"Genesect\"],\"legendgroup\":\"5\",\"marker\":{\"color\":\"#FFA15A\"},\"name\":\"5\",\"notched\":false,\"offsetgroup\":\"5\",\"orientation\":\"v\",\"showlegend\":true,\"x\":[5,5,5,5,5,5,5,5,5,5,5,5,5,5,5,5,5,5,5,5,5,5,5,5,5,5,5,5,5,5,5,5,5,5,5,5,5,5,5,5,5,5,5,5,5,5,5,5,5,5,5,5,5,5,5,5,5,5,5,5,5,5,5,5,5,5,5,5,5,5,5,5,5,5,5,5,5,5,5,5,5,5,5,5,5,5,5,5,5,5,5,5,5,5,5,5,5,5,5,5,5,5,5,5,5,5,5,5,5,5,5,5,5,5,5,5,5,5,5,5,5,5,5,5,5,5,5,5,5,5,5,5,5,5,5,5,5,5,5,5,5,5,5,5,5,5,5,5,5,5,5,5,5,5,5,5],\"x0\":\" \",\"xaxis\":\"x\",\"y\":[null,88.1,88.1,88.1,88.1,88.1,88.1,88.1,88.1,88.1,50.0,50.0,50.0,50.0,50.0,50.0,50.0,88.1,88.1,88.1,88.1,88.1,88.1,50.0,50.0,50.0,50.0,50.0,50.0,50.0,50.0,50.0,50.0,50.0,50.0,50.0,50.0,50.0,75.4,75.4,75.4,50.0,50.0,50.0,100.0,100.0,50.0,50.0,50.0,50.0,50.0,50.0,50.0,50.0,0.0,0.0,50.0,50.0,50.0,50.0,50.0,50.0,50.0,50.0,50.0,50.0,50.0,50.0,50.0,50.0,88.1,88.1,88.1,88.1,50.0,50.0,88.1,88.1,24.6,24.6,24.6,24.6,24.6,50.0,50.0,50.0,50.0,50.0,50.0,50.0,50.0,50.0,50.0,50.0,50.0,50.0,50.0,50.0,50.0,50.0,50.0,50.0,50.0,50.0,50.0,null,null,null,50.0,50.0,50.0,50.0,50.0,50.0,50.0,50.0,50.0,50.0,50.0,50.0,50.0,null,50.0,50.0,50.0,50.0,50.0,50.0,null,null,50.0,50.0,50.0,100.0,100.0,0.0,0.0,50.0,50.0,50.0,50.0,50.0,50.0,50.0,null,null,null,100.0,100.0,null,null,100.0,null,null,null,null],\"y0\":\" \",\"yaxis\":\"y\",\"type\":\"box\"}],                        {\"template\":{\"data\":{\"bar\":[{\"error_x\":{\"color\":\"#2a3f5f\"},\"error_y\":{\"color\":\"#2a3f5f\"},\"marker\":{\"line\":{\"color\":\"#E5ECF6\",\"width\":0.5},\"pattern\":{\"fillmode\":\"overlay\",\"size\":10,\"solidity\":0.2}},\"type\":\"bar\"}],\"barpolar\":[{\"marker\":{\"line\":{\"color\":\"#E5ECF6\",\"width\":0.5},\"pattern\":{\"fillmode\":\"overlay\",\"size\":10,\"solidity\":0.2}},\"type\":\"barpolar\"}],\"carpet\":[{\"aaxis\":{\"endlinecolor\":\"#2a3f5f\",\"gridcolor\":\"white\",\"linecolor\":\"white\",\"minorgridcolor\":\"white\",\"startlinecolor\":\"#2a3f5f\"},\"baxis\":{\"endlinecolor\":\"#2a3f5f\",\"gridcolor\":\"white\",\"linecolor\":\"white\",\"minorgridcolor\":\"white\",\"startlinecolor\":\"#2a3f5f\"},\"type\":\"carpet\"}],\"choropleth\":[{\"colorbar\":{\"outlinewidth\":0,\"ticks\":\"\"},\"type\":\"choropleth\"}],\"contour\":[{\"colorbar\":{\"outlinewidth\":0,\"ticks\":\"\"},\"colorscale\":[[0.0,\"#0d0887\"],[0.1111111111111111,\"#46039f\"],[0.2222222222222222,\"#7201a8\"],[0.3333333333333333,\"#9c179e\"],[0.4444444444444444,\"#bd3786\"],[0.5555555555555556,\"#d8576b\"],[0.6666666666666666,\"#ed7953\"],[0.7777777777777778,\"#fb9f3a\"],[0.8888888888888888,\"#fdca26\"],[1.0,\"#f0f921\"]],\"type\":\"contour\"}],\"contourcarpet\":[{\"colorbar\":{\"outlinewidth\":0,\"ticks\":\"\"},\"type\":\"contourcarpet\"}],\"heatmap\":[{\"colorbar\":{\"outlinewidth\":0,\"ticks\":\"\"},\"colorscale\":[[0.0,\"#0d0887\"],[0.1111111111111111,\"#46039f\"],[0.2222222222222222,\"#7201a8\"],[0.3333333333333333,\"#9c179e\"],[0.4444444444444444,\"#bd3786\"],[0.5555555555555556,\"#d8576b\"],[0.6666666666666666,\"#ed7953\"],[0.7777777777777778,\"#fb9f3a\"],[0.8888888888888888,\"#fdca26\"],[1.0,\"#f0f921\"]],\"type\":\"heatmap\"}],\"heatmapgl\":[{\"colorbar\":{\"outlinewidth\":0,\"ticks\":\"\"},\"colorscale\":[[0.0,\"#0d0887\"],[0.1111111111111111,\"#46039f\"],[0.2222222222222222,\"#7201a8\"],[0.3333333333333333,\"#9c179e\"],[0.4444444444444444,\"#bd3786\"],[0.5555555555555556,\"#d8576b\"],[0.6666666666666666,\"#ed7953\"],[0.7777777777777778,\"#fb9f3a\"],[0.8888888888888888,\"#fdca26\"],[1.0,\"#f0f921\"]],\"type\":\"heatmapgl\"}],\"histogram\":[{\"marker\":{\"pattern\":{\"fillmode\":\"overlay\",\"size\":10,\"solidity\":0.2}},\"type\":\"histogram\"}],\"histogram2d\":[{\"colorbar\":{\"outlinewidth\":0,\"ticks\":\"\"},\"colorscale\":[[0.0,\"#0d0887\"],[0.1111111111111111,\"#46039f\"],[0.2222222222222222,\"#7201a8\"],[0.3333333333333333,\"#9c179e\"],[0.4444444444444444,\"#bd3786\"],[0.5555555555555556,\"#d8576b\"],[0.6666666666666666,\"#ed7953\"],[0.7777777777777778,\"#fb9f3a\"],[0.8888888888888888,\"#fdca26\"],[1.0,\"#f0f921\"]],\"type\":\"histogram2d\"}],\"histogram2dcontour\":[{\"colorbar\":{\"outlinewidth\":0,\"ticks\":\"\"},\"colorscale\":[[0.0,\"#0d0887\"],[0.1111111111111111,\"#46039f\"],[0.2222222222222222,\"#7201a8\"],[0.3333333333333333,\"#9c179e\"],[0.4444444444444444,\"#bd3786\"],[0.5555555555555556,\"#d8576b\"],[0.6666666666666666,\"#ed7953\"],[0.7777777777777778,\"#fb9f3a\"],[0.8888888888888888,\"#fdca26\"],[1.0,\"#f0f921\"]],\"type\":\"histogram2dcontour\"}],\"mesh3d\":[{\"colorbar\":{\"outlinewidth\":0,\"ticks\":\"\"},\"type\":\"mesh3d\"}],\"parcoords\":[{\"line\":{\"colorbar\":{\"outlinewidth\":0,\"ticks\":\"\"}},\"type\":\"parcoords\"}],\"pie\":[{\"automargin\":true,\"type\":\"pie\"}],\"scatter\":[{\"marker\":{\"colorbar\":{\"outlinewidth\":0,\"ticks\":\"\"}},\"type\":\"scatter\"}],\"scatter3d\":[{\"line\":{\"colorbar\":{\"outlinewidth\":0,\"ticks\":\"\"}},\"marker\":{\"colorbar\":{\"outlinewidth\":0,\"ticks\":\"\"}},\"type\":\"scatter3d\"}],\"scattercarpet\":[{\"marker\":{\"colorbar\":{\"outlinewidth\":0,\"ticks\":\"\"}},\"type\":\"scattercarpet\"}],\"scattergeo\":[{\"marker\":{\"colorbar\":{\"outlinewidth\":0,\"ticks\":\"\"}},\"type\":\"scattergeo\"}],\"scattergl\":[{\"marker\":{\"colorbar\":{\"outlinewidth\":0,\"ticks\":\"\"}},\"type\":\"scattergl\"}],\"scattermapbox\":[{\"marker\":{\"colorbar\":{\"outlinewidth\":0,\"ticks\":\"\"}},\"type\":\"scattermapbox\"}],\"scatterpolar\":[{\"marker\":{\"colorbar\":{\"outlinewidth\":0,\"ticks\":\"\"}},\"type\":\"scatterpolar\"}],\"scatterpolargl\":[{\"marker\":{\"colorbar\":{\"outlinewidth\":0,\"ticks\":\"\"}},\"type\":\"scatterpolargl\"}],\"scatterternary\":[{\"marker\":{\"colorbar\":{\"outlinewidth\":0,\"ticks\":\"\"}},\"type\":\"scatterternary\"}],\"surface\":[{\"colorbar\":{\"outlinewidth\":0,\"ticks\":\"\"},\"colorscale\":[[0.0,\"#0d0887\"],[0.1111111111111111,\"#46039f\"],[0.2222222222222222,\"#7201a8\"],[0.3333333333333333,\"#9c179e\"],[0.4444444444444444,\"#bd3786\"],[0.5555555555555556,\"#d8576b\"],[0.6666666666666666,\"#ed7953\"],[0.7777777777777778,\"#fb9f3a\"],[0.8888888888888888,\"#fdca26\"],[1.0,\"#f0f921\"]],\"type\":\"surface\"}],\"table\":[{\"cells\":{\"fill\":{\"color\":\"#EBF0F8\"},\"line\":{\"color\":\"white\"}},\"header\":{\"fill\":{\"color\":\"#C8D4E3\"},\"line\":{\"color\":\"white\"}},\"type\":\"table\"}]},\"layout\":{\"annotationdefaults\":{\"arrowcolor\":\"#2a3f5f\",\"arrowhead\":0,\"arrowwidth\":1},\"autotypenumbers\":\"strict\",\"coloraxis\":{\"colorbar\":{\"outlinewidth\":0,\"ticks\":\"\"}},\"colorscale\":{\"diverging\":[[0,\"#8e0152\"],[0.1,\"#c51b7d\"],[0.2,\"#de77ae\"],[0.3,\"#f1b6da\"],[0.4,\"#fde0ef\"],[0.5,\"#f7f7f7\"],[0.6,\"#e6f5d0\"],[0.7,\"#b8e186\"],[0.8,\"#7fbc41\"],[0.9,\"#4d9221\"],[1,\"#276419\"]],\"sequential\":[[0.0,\"#0d0887\"],[0.1111111111111111,\"#46039f\"],[0.2222222222222222,\"#7201a8\"],[0.3333333333333333,\"#9c179e\"],[0.4444444444444444,\"#bd3786\"],[0.5555555555555556,\"#d8576b\"],[0.6666666666666666,\"#ed7953\"],[0.7777777777777778,\"#fb9f3a\"],[0.8888888888888888,\"#fdca26\"],[1.0,\"#f0f921\"]],\"sequentialminus\":[[0.0,\"#0d0887\"],[0.1111111111111111,\"#46039f\"],[0.2222222222222222,\"#7201a8\"],[0.3333333333333333,\"#9c179e\"],[0.4444444444444444,\"#bd3786\"],[0.5555555555555556,\"#d8576b\"],[0.6666666666666666,\"#ed7953\"],[0.7777777777777778,\"#fb9f3a\"],[0.8888888888888888,\"#fdca26\"],[1.0,\"#f0f921\"]]},\"colorway\":[\"#636efa\",\"#EF553B\",\"#00cc96\",\"#ab63fa\",\"#FFA15A\",\"#19d3f3\",\"#FF6692\",\"#B6E880\",\"#FF97FF\",\"#FECB52\"],\"font\":{\"color\":\"#2a3f5f\"},\"geo\":{\"bgcolor\":\"white\",\"lakecolor\":\"white\",\"landcolor\":\"#E5ECF6\",\"showlakes\":true,\"showland\":true,\"subunitcolor\":\"white\"},\"hoverlabel\":{\"align\":\"left\"},\"hovermode\":\"closest\",\"mapbox\":{\"style\":\"light\"},\"paper_bgcolor\":\"white\",\"plot_bgcolor\":\"#E5ECF6\",\"polar\":{\"angularaxis\":{\"gridcolor\":\"white\",\"linecolor\":\"white\",\"ticks\":\"\"},\"bgcolor\":\"#E5ECF6\",\"radialaxis\":{\"gridcolor\":\"white\",\"linecolor\":\"white\",\"ticks\":\"\"}},\"scene\":{\"xaxis\":{\"backgroundcolor\":\"#E5ECF6\",\"gridcolor\":\"white\",\"gridwidth\":2,\"linecolor\":\"white\",\"showbackground\":true,\"ticks\":\"\",\"zerolinecolor\":\"white\"},\"yaxis\":{\"backgroundcolor\":\"#E5ECF6\",\"gridcolor\":\"white\",\"gridwidth\":2,\"linecolor\":\"white\",\"showbackground\":true,\"ticks\":\"\",\"zerolinecolor\":\"white\"},\"zaxis\":{\"backgroundcolor\":\"#E5ECF6\",\"gridcolor\":\"white\",\"gridwidth\":2,\"linecolor\":\"white\",\"showbackground\":true,\"ticks\":\"\",\"zerolinecolor\":\"white\"}},\"shapedefaults\":{\"line\":{\"color\":\"#2a3f5f\"}},\"ternary\":{\"aaxis\":{\"gridcolor\":\"white\",\"linecolor\":\"white\",\"ticks\":\"\"},\"baxis\":{\"gridcolor\":\"white\",\"linecolor\":\"white\",\"ticks\":\"\"},\"bgcolor\":\"#E5ECF6\",\"caxis\":{\"gridcolor\":\"white\",\"linecolor\":\"white\",\"ticks\":\"\"}},\"title\":{\"x\":0.05},\"xaxis\":{\"automargin\":true,\"gridcolor\":\"white\",\"linecolor\":\"white\",\"ticks\":\"\",\"title\":{\"standoff\":15},\"zerolinecolor\":\"white\",\"zerolinewidth\":2},\"yaxis\":{\"automargin\":true,\"gridcolor\":\"white\",\"linecolor\":\"white\",\"ticks\":\"\",\"title\":{\"standoff\":15},\"zerolinecolor\":\"white\",\"zerolinewidth\":2}}},\"xaxis\":{\"anchor\":\"y\",\"domain\":[0.0,1.0],\"title\":{\"text\":\"Generation\"},\"categoryorder\":\"array\",\"categoryarray\":[1,2,3,4,5]},\"yaxis\":{\"anchor\":\"x\",\"domain\":[0.0,1.0],\"title\":{\"text\":\"percentage_male\"}},\"legend\":{\"title\":{\"text\":\"Generation\"},\"tracegroupgap\":0},\"margin\":{\"t\":60},\"boxmode\":\"overlay\"},                        {\"responsive\": true}                    ).then(function(){\n",
       "                            \n",
       "var gd = document.getElementById('11e382d5-da9a-487c-9e64-76a32f470326');\n",
       "var x = new MutationObserver(function (mutations, observer) {{\n",
       "        var display = window.getComputedStyle(gd).display;\n",
       "        if (!display || display === 'none') {{\n",
       "            console.log([gd, 'removed!']);\n",
       "            Plotly.purge(gd);\n",
       "            observer.disconnect();\n",
       "        }}\n",
       "}});\n",
       "\n",
       "// Listen for the removal of the full notebook cells\n",
       "var notebookContainer = gd.closest('#notebook-container');\n",
       "if (notebookContainer) {{\n",
       "    x.observe(notebookContainer, {childList: true});\n",
       "}}\n",
       "\n",
       "// Listen for the clearing of the current output cell\n",
       "var outputEl = gd.closest('.output');\n",
       "if (outputEl) {{\n",
       "    x.observe(outputEl, {childList: true});\n",
       "}}\n",
       "\n",
       "                        })                };                });            </script>        </div>"
      ]
     },
     "metadata": {},
     "output_type": "display_data"
    }
   ],
   "source": [
    "fig=px.box(pokemon, x=\"Generation\", y=\"percentage_male\",\n",
    "           hover_name=\"Name\", color=\"Generation\")\n",
    "\n",
    "fig.show()"
   ]
  },
  {
   "cell_type": "code",
   "execution_count": 10,
   "id": "fa1cca91",
   "metadata": {},
   "outputs": [
    {
     "data": {
      "application/vnd.plotly.v1+json": {
       "config": {
        "plotlyServerURL": "https://plot.ly"
       },
       "data": [
        {
         "alignmentgroup": "True",
         "hovertemplate": "<b>%{hovertext}</b><br><br>Primary=Grass<br>Generation=%{x}<br>percentage_male=%{y}<extra></extra>",
         "hovertext": [
          "Bulbasaur",
          "Ivysaur",
          "Venusaur",
          "Oddish",
          "Gloom",
          "Vileplume",
          "Bellsprout",
          "Weepinbell",
          "Victreebel",
          "Exeggcute",
          "Exeggutor",
          "Tangela",
          "Chikorita",
          "Bayleef",
          "Meganium",
          "Bellossom",
          "Hoppip",
          "Skiploom",
          "Jumpluff",
          "Sunkern",
          "Sunflora",
          "Treecko",
          "Grovyle",
          "Sceptile",
          "Seedot",
          "Nuzleaf",
          "Shiftry",
          "Shroomish",
          "Breloom",
          "Roselia",
          "Cacnea",
          "Cacturne",
          "Tropius",
          "Turtwig",
          "Grotle",
          "Torterra",
          "Budew",
          "Roserade",
          "Cherubi",
          "Cherrim",
          "Carnivine",
          "Snover",
          "Abomasnow",
          "Tangrowth",
          "Leafeon",
          "Shaymin",
          "Snivy",
          "Servine",
          "Serperior",
          "Pansage",
          "Simisage",
          "Cottonee",
          "Whimsicott",
          "Petilil",
          "Lilligant",
          "Maractus",
          "Foongus",
          "Amoonguss",
          "Ferroseed",
          "Ferrothorn",
          "Virizion"
         ],
         "legendgroup": "Grass",
         "marker": {
          "color": "#7AC74C",
          "pattern": {
           "shape": ""
          }
         },
         "name": "Grass",
         "offsetgroup": "Grass",
         "orientation": "v",
         "showlegend": true,
         "textposition": "auto",
         "type": "bar",
         "x": [
          1,
          1,
          1,
          1,
          1,
          1,
          1,
          1,
          1,
          1,
          1,
          1,
          2,
          2,
          2,
          2,
          2,
          2,
          2,
          2,
          2,
          3,
          3,
          3,
          3,
          3,
          3,
          3,
          3,
          3,
          3,
          3,
          3,
          4,
          4,
          4,
          4,
          4,
          4,
          4,
          4,
          4,
          4,
          4,
          4,
          4,
          5,
          5,
          5,
          5,
          5,
          5,
          5,
          5,
          5,
          5,
          5,
          5,
          5,
          5,
          5
         ],
         "xaxis": "x",
         "y": [
          88.1,
          88.1,
          88.1,
          50,
          50,
          50,
          50,
          50,
          50,
          50,
          50,
          50,
          88.1,
          88.1,
          88.1,
          50,
          50,
          50,
          50,
          50,
          50,
          88.1,
          88.1,
          88.1,
          50,
          50,
          50,
          50,
          50,
          50,
          50,
          50,
          50,
          88.1,
          88.1,
          88.1,
          50,
          50,
          50,
          50,
          50,
          50,
          50,
          50,
          88.1,
          null,
          88.1,
          88.1,
          88.1,
          88.1,
          88.1,
          50,
          50,
          0,
          0,
          50,
          50,
          50,
          50,
          50,
          null
         ],
         "yaxis": "y"
        },
        {
         "alignmentgroup": "True",
         "hovertemplate": "<b>%{hovertext}</b><br><br>Primary=Fire<br>Generation=%{x}<br>percentage_male=%{y}<extra></extra>",
         "hovertext": [
          "Charmander",
          "Charmeleon",
          "Charizard",
          "Vulpix",
          "Ninetales",
          "Growlithe",
          "Arcanine",
          "Ponyta",
          "Rapidash",
          "Magmar",
          "Flareon",
          "Moltres",
          "Cyndaquil",
          "Quilava",
          "Typhlosion",
          "Slugma",
          "Magcargo",
          "Magby",
          "Entei",
          "Ho-Oh",
          "Torchic",
          "Combusken",
          "Blaziken",
          "Numel",
          "Camerupt",
          "Torkoal",
          "Chimchar",
          "Monferno",
          "Infernape",
          "Magmortar",
          "Heatran",
          "Tepig",
          "Pignite",
          "Emboar",
          "Pansear",
          "Simisear",
          "Darumaka",
          "Darmanitan",
          "Heatmor"
         ],
         "legendgroup": "Fire",
         "marker": {
          "color": "#EE8130",
          "pattern": {
           "shape": ""
          }
         },
         "name": "Fire",
         "offsetgroup": "Fire",
         "orientation": "v",
         "showlegend": true,
         "textposition": "auto",
         "type": "bar",
         "x": [
          1,
          1,
          1,
          1,
          1,
          1,
          1,
          1,
          1,
          1,
          1,
          1,
          2,
          2,
          2,
          2,
          2,
          2,
          2,
          2,
          3,
          3,
          3,
          3,
          3,
          3,
          4,
          4,
          4,
          4,
          4,
          5,
          5,
          5,
          5,
          5,
          5,
          5,
          5
         ],
         "xaxis": "x",
         "y": [
          88.1,
          88.1,
          88.1,
          24.6,
          24.6,
          75.4,
          75.4,
          50,
          50,
          75.4,
          88.1,
          null,
          88.1,
          88.1,
          88.1,
          50,
          50,
          75.4,
          null,
          null,
          88.1,
          88.1,
          88.1,
          50,
          50,
          50,
          88.1,
          88.1,
          88.1,
          75.4,
          50,
          88.1,
          88.1,
          88.1,
          88.1,
          88.1,
          50,
          50,
          50
         ],
         "yaxis": "y"
        },
        {
         "alignmentgroup": "True",
         "hovertemplate": "<b>%{hovertext}</b><br><br>Primary=Water<br>Generation=%{x}<br>percentage_male=%{y}<extra></extra>",
         "hovertext": [
          "Squirtle",
          "Wartortle",
          "Blastoise",
          "Psyduck",
          "Golduck",
          "Poliwag",
          "Poliwhirl",
          "Poliwrath",
          "Tentacool",
          "Tentacruel",
          "Slowpoke",
          "Slowbro",
          "Seel",
          "Dewgong",
          "Shellder",
          "Cloyster",
          "Krabby",
          "Kingler",
          "Horsea",
          "Seadra",
          "Goldeen",
          "Seaking",
          "Staryu",
          "Starmie",
          "Magikarp",
          "Gyarados",
          "Lapras",
          "Vaporeon",
          "Totodile",
          "Croconaw",
          "Feraligatr",
          "Chinchou",
          "Lanturn",
          "Marill",
          "Azumarill",
          "Politoed",
          "Wooper",
          "Quagsire",
          "Slowking",
          "Qwilfish",
          "Corsola",
          "Remoraid",
          "Octillery",
          "Mantine",
          "Kingdra",
          "Suicune",
          "Mudkip",
          "Marshtomp",
          "Swampert",
          "Lotad",
          "Lombre",
          "Ludicolo",
          "Wingull",
          "Pelipper",
          "Carvanha",
          "Sharpedo",
          "Wailmer",
          "Wailord",
          "Barboach",
          "Whiscash",
          "Corphish",
          "Crawdaunt",
          "Feebas",
          "Milotic",
          "Clamperl",
          "Huntail",
          "Gorebyss",
          "Relicanth",
          "Luvdisc",
          "Kyogre",
          "Piplup",
          "Prinplup",
          "Empoleon",
          "Buizel",
          "Floatzel",
          "Shellos",
          "Gastrodon",
          "Finneon",
          "Lumineon",
          "Mantyke",
          "Palkia",
          "Phione",
          "Manaphy",
          "Oshawott",
          "Dewott",
          "Samurott",
          "Panpour",
          "Simipour",
          "Tympole",
          "Palpitoad",
          "Seismitoad",
          "Basculin",
          "Tirtouga",
          "Carracosta",
          "Ducklett",
          "Swanna",
          "Frillish",
          "Jellicent",
          "Alomomola",
          "Keldeo"
         ],
         "legendgroup": "Water",
         "marker": {
          "color": "#6390F0",
          "pattern": {
           "shape": ""
          }
         },
         "name": "Water",
         "offsetgroup": "Water",
         "orientation": "v",
         "showlegend": true,
         "textposition": "auto",
         "type": "bar",
         "x": [
          1,
          1,
          1,
          1,
          1,
          1,
          1,
          1,
          1,
          1,
          1,
          1,
          1,
          1,
          1,
          1,
          1,
          1,
          1,
          1,
          1,
          1,
          1,
          1,
          1,
          1,
          1,
          1,
          2,
          2,
          2,
          2,
          2,
          2,
          2,
          2,
          2,
          2,
          2,
          2,
          2,
          2,
          2,
          2,
          2,
          2,
          3,
          3,
          3,
          3,
          3,
          3,
          3,
          3,
          3,
          3,
          3,
          3,
          3,
          3,
          3,
          3,
          3,
          3,
          3,
          3,
          3,
          3,
          3,
          3,
          4,
          4,
          4,
          4,
          4,
          4,
          4,
          4,
          4,
          4,
          4,
          4,
          4,
          5,
          5,
          5,
          5,
          5,
          5,
          5,
          5,
          5,
          5,
          5,
          5,
          5,
          5,
          5,
          5,
          5
         ],
         "xaxis": "x",
         "y": [
          88.1,
          88.1,
          88.1,
          50,
          50,
          50,
          50,
          50,
          50,
          50,
          50,
          50,
          50,
          50,
          50,
          50,
          50,
          50,
          50,
          50,
          50,
          50,
          null,
          null,
          50,
          50,
          50,
          88.1,
          88.1,
          88.1,
          88.1,
          50,
          50,
          50,
          50,
          50,
          50,
          50,
          50,
          50,
          24.6,
          50,
          50,
          50,
          50,
          null,
          88.1,
          88.1,
          88.1,
          50,
          50,
          50,
          50,
          50,
          50,
          50,
          50,
          50,
          50,
          50,
          50,
          50,
          50,
          50,
          50,
          50,
          50,
          88.1,
          24.6,
          null,
          88.1,
          88.1,
          88.1,
          50,
          50,
          50,
          50,
          50,
          50,
          50,
          null,
          null,
          null,
          88.1,
          88.1,
          88.1,
          88.1,
          88.1,
          50,
          50,
          50,
          50,
          88.1,
          88.1,
          50,
          50,
          50,
          50,
          50,
          null
         ],
         "yaxis": "y"
        },
        {
         "alignmentgroup": "True",
         "hovertemplate": "<b>%{hovertext}</b><br><br>Primary=Bug<br>Generation=%{x}<br>percentage_male=%{y}<extra></extra>",
         "hovertext": [
          "Caterpie",
          "Metapod",
          "Butterfree",
          "Weedle",
          "Kakuna",
          "Beedrill",
          "Paras",
          "Parasect",
          "Venonat",
          "Venomoth",
          "Scyther",
          "Pinsir",
          "Ledyba",
          "Ledian",
          "Spinarak",
          "Ariados",
          "Yanma",
          "Pineco",
          "Forretress",
          "Scizor",
          "Shuckle",
          "Heracross",
          "Wurmple",
          "Silcoon",
          "Beautifly",
          "Cascoon",
          "Dustox",
          "Surskit",
          "Masquerain",
          "Nincada",
          "Ninjask",
          "Shedinja",
          "Volbeat",
          "Illumise",
          "Kricketot",
          "Kricketune",
          "Burmy",
          "Wormadam",
          "Mothim",
          "Combee",
          "Vespiquen",
          "Yanmega",
          "Sewaddle",
          "Swadloon",
          "Leavanny",
          "Venipede",
          "Whirlipede",
          "Scolipede",
          "Dwebble",
          "Crustle",
          "Karrablast",
          "Escavalier",
          "Joltik",
          "Galvantula",
          "Shelmet",
          "Accelgor",
          "Durant",
          "Larvesta",
          "Volcarona",
          "Genesect"
         ],
         "legendgroup": "Bug",
         "marker": {
          "color": "#A6B91A",
          "pattern": {
           "shape": ""
          }
         },
         "name": "Bug",
         "offsetgroup": "Bug",
         "orientation": "v",
         "showlegend": true,
         "textposition": "auto",
         "type": "bar",
         "x": [
          1,
          1,
          1,
          1,
          1,
          1,
          1,
          1,
          1,
          1,
          1,
          1,
          2,
          2,
          2,
          2,
          2,
          2,
          2,
          2,
          2,
          2,
          3,
          3,
          3,
          3,
          3,
          3,
          3,
          3,
          3,
          3,
          3,
          3,
          4,
          4,
          4,
          4,
          4,
          4,
          4,
          4,
          5,
          5,
          5,
          5,
          5,
          5,
          5,
          5,
          5,
          5,
          5,
          5,
          5,
          5,
          5,
          5,
          5,
          5
         ],
         "xaxis": "x",
         "y": [
          50,
          50,
          50,
          50,
          50,
          50,
          50,
          50,
          50,
          50,
          50,
          50,
          50,
          50,
          50,
          50,
          50,
          50,
          50,
          50,
          50,
          50,
          50,
          50,
          50,
          50,
          50,
          50,
          50,
          50,
          50,
          null,
          100,
          0,
          50,
          50,
          50,
          0,
          100,
          88.1,
          0,
          50,
          50,
          50,
          50,
          50,
          50,
          50,
          50,
          50,
          50,
          50,
          50,
          50,
          50,
          50,
          50,
          50,
          50,
          null
         ],
         "yaxis": "y"
        },
        {
         "alignmentgroup": "True",
         "hovertemplate": "<b>%{hovertext}</b><br><br>Primary=Normal<br>Generation=%{x}<br>percentage_male=%{y}<extra></extra>",
         "hovertext": [
          "Pidgey",
          "Pidgeotto",
          "Pidgeot",
          "Rattata",
          "Raticate",
          "Spearow",
          "Fearow",
          "Jigglypuff",
          "Wigglytuff",
          "Meowth",
          "Persian",
          "Farfetch'd",
          "Doduo",
          "Dodrio",
          "Lickitung",
          "Chansey",
          "Kangaskhan",
          "Tauros",
          "Ditto",
          "Eevee",
          "Porygon",
          "Snorlax",
          "Sentret",
          "Furret",
          "Hoothoot",
          "Noctowl",
          "Igglybuff",
          "Aipom",
          "Girafarig",
          "Dunsparce",
          "Teddiursa",
          "Ursaring",
          "Porygon2",
          "Stantler",
          "Smeargle",
          "Miltank",
          "Blissey",
          "Zigzagoon",
          "Linoone",
          "Taillow",
          "Swellow",
          "Slakoth",
          "Vigoroth",
          "Slaking",
          "Whismur",
          "Loudred",
          "Exploud",
          "Azurill",
          "Skitty",
          "Delcatty",
          "Spinda",
          "Swablu",
          "Zangoose",
          "Castform",
          "Kecleon",
          "Starly",
          "Staravia",
          "Staraptor",
          "Bidoof",
          "Bibarel",
          "Ambipom",
          "Buneary",
          "Lopunny",
          "Glameow",
          "Purugly",
          "Happiny",
          "Chatot",
          "Munchlax",
          "Lickilicky",
          "Porygon-Z",
          "Regigigas",
          "Arceus",
          "Patrat",
          "Watchog",
          "Lillipup",
          "Herdier",
          "Stoutland",
          "Pidove",
          "Tranquill",
          "Unfezant",
          "Audino",
          "Minccino",
          "Cinccino",
          "Deerling",
          "Sawsbuck",
          "Bouffalant",
          "Rufflet",
          "Braviary",
          "Meloetta"
         ],
         "legendgroup": "Normal",
         "marker": {
          "color": "#A8A77A",
          "pattern": {
           "shape": ""
          }
         },
         "name": "Normal",
         "offsetgroup": "Normal",
         "orientation": "v",
         "showlegend": true,
         "textposition": "auto",
         "type": "bar",
         "x": [
          1,
          1,
          1,
          1,
          1,
          1,
          1,
          1,
          1,
          1,
          1,
          1,
          1,
          1,
          1,
          1,
          1,
          1,
          1,
          1,
          1,
          1,
          2,
          2,
          2,
          2,
          2,
          2,
          2,
          2,
          2,
          2,
          2,
          2,
          2,
          2,
          2,
          3,
          3,
          3,
          3,
          3,
          3,
          3,
          3,
          3,
          3,
          3,
          3,
          3,
          3,
          3,
          3,
          3,
          3,
          4,
          4,
          4,
          4,
          4,
          4,
          4,
          4,
          4,
          4,
          4,
          4,
          4,
          4,
          4,
          4,
          4,
          5,
          5,
          5,
          5,
          5,
          5,
          5,
          5,
          5,
          5,
          5,
          5,
          5,
          5,
          5,
          5,
          5
         ],
         "xaxis": "x",
         "y": [
          50,
          50,
          50,
          50,
          50,
          50,
          50,
          24.6,
          24.6,
          50,
          50,
          50,
          50,
          50,
          50,
          0,
          0,
          100,
          null,
          88.1,
          null,
          88.1,
          50,
          50,
          50,
          50,
          24.6,
          50,
          50,
          50,
          50,
          50,
          null,
          50,
          50,
          0,
          0,
          50,
          50,
          50,
          50,
          50,
          50,
          50,
          50,
          50,
          50,
          24.6,
          24.6,
          24.6,
          50,
          50,
          50,
          50,
          50,
          50,
          50,
          50,
          50,
          50,
          50,
          50,
          50,
          24.6,
          24.6,
          0,
          50,
          88.1,
          50,
          null,
          null,
          null,
          50,
          50,
          50,
          50,
          50,
          50,
          50,
          50,
          50,
          24.6,
          24.6,
          50,
          50,
          50,
          100,
          100,
          null
         ],
         "yaxis": "y"
        },
        {
         "alignmentgroup": "True",
         "hovertemplate": "<b>%{hovertext}</b><br><br>Primary=Poison<br>Generation=%{x}<br>percentage_male=%{y}<extra></extra>",
         "hovertext": [
          "Ekans",
          "Arbok",
          "Nidoran♀",
          "Nidorina",
          "Nidoqueen",
          "Nidoran♂",
          "Nidorino",
          "Nidoking",
          "Zubat",
          "Golbat",
          "Grimer",
          "Muk",
          "Koffing",
          "Weezing",
          "Crobat",
          "Gulpin",
          "Swalot",
          "Seviper",
          "Stunky",
          "Skuntank",
          "Skorupi",
          "Drapion",
          "Croagunk",
          "Toxicroak",
          "Trubbish",
          "Garbodor"
         ],
         "legendgroup": "Poison",
         "marker": {
          "color": "#A33EA1",
          "pattern": {
           "shape": ""
          }
         },
         "name": "Poison",
         "offsetgroup": "Poison",
         "orientation": "v",
         "showlegend": true,
         "textposition": "auto",
         "type": "bar",
         "x": [
          1,
          1,
          1,
          1,
          1,
          1,
          1,
          1,
          1,
          1,
          1,
          1,
          1,
          1,
          2,
          3,
          3,
          3,
          4,
          4,
          4,
          4,
          4,
          4,
          5,
          5
         ],
         "xaxis": "x",
         "y": [
          50,
          50,
          0,
          0,
          0,
          100,
          100,
          100,
          50,
          50,
          50,
          50,
          50,
          50,
          50,
          50,
          50,
          50,
          50,
          50,
          50,
          50,
          50,
          50,
          50,
          50
         ],
         "yaxis": "y"
        },
        {
         "alignmentgroup": "True",
         "hovertemplate": "<b>%{hovertext}</b><br><br>Primary=Electric<br>Generation=%{x}<br>percentage_male=%{y}<extra></extra>",
         "hovertext": [
          "Pikachu",
          "Raichu",
          "Magnemite",
          "Magneton",
          "Voltorb",
          "Electrode",
          "Electabuzz",
          "Jolteon",
          "Zapdos",
          "Pichu",
          "Mareep",
          "Flaaffy",
          "Ampharos",
          "Elekid",
          "Raikou",
          "Electrike",
          "Manectric",
          "Plusle",
          "Minun",
          "Shinx",
          "Luxio",
          "Luxray",
          "Pachirisu",
          "Magnezone",
          "Electivire",
          "Rotom",
          "Blitzle",
          "Zebstrika",
          "Emolga",
          "Tynamo",
          "Eelektrik",
          "Eelektross",
          "Thundurus"
         ],
         "legendgroup": "Electric",
         "marker": {
          "color": "#F7D02C",
          "pattern": {
           "shape": ""
          }
         },
         "name": "Electric",
         "offsetgroup": "Electric",
         "orientation": "v",
         "showlegend": true,
         "textposition": "auto",
         "type": "bar",
         "x": [
          1,
          1,
          1,
          1,
          1,
          1,
          1,
          1,
          1,
          2,
          2,
          2,
          2,
          2,
          2,
          3,
          3,
          3,
          3,
          4,
          4,
          4,
          4,
          4,
          4,
          4,
          5,
          5,
          5,
          5,
          5,
          5,
          5
         ],
         "xaxis": "x",
         "y": [
          50,
          50,
          null,
          null,
          null,
          null,
          75.4,
          88.1,
          null,
          50,
          50,
          50,
          50,
          75.4,
          null,
          50,
          50,
          50,
          50,
          50,
          50,
          50,
          50,
          null,
          75.4,
          null,
          50,
          50,
          50,
          50,
          50,
          50,
          100
         ],
         "yaxis": "y"
        },
        {
         "alignmentgroup": "True",
         "hovertemplate": "<b>%{hovertext}</b><br><br>Primary=Ground<br>Generation=%{x}<br>percentage_male=%{y}<extra></extra>",
         "hovertext": [
          "Sandshrew",
          "Sandslash",
          "Diglett",
          "Dugtrio",
          "Cubone",
          "Marowak",
          "Rhyhorn",
          "Rhydon",
          "Gligar",
          "Phanpy",
          "Donphan",
          "Trapinch",
          "Vibrava",
          "Flygon",
          "Baltoy",
          "Claydol",
          "Groudon",
          "Hippopotas",
          "Hippowdon",
          "Rhyperior",
          "Gliscor",
          "Drilbur",
          "Excadrill",
          "Sandile",
          "Krokorok",
          "Krookodile",
          "Stunfisk",
          "Golett",
          "Golurk",
          "Landorus"
         ],
         "legendgroup": "Ground",
         "marker": {
          "color": "#E2BF65",
          "pattern": {
           "shape": ""
          }
         },
         "name": "Ground",
         "offsetgroup": "Ground",
         "orientation": "v",
         "showlegend": true,
         "textposition": "auto",
         "type": "bar",
         "x": [
          1,
          1,
          1,
          1,
          1,
          1,
          1,
          1,
          2,
          2,
          2,
          3,
          3,
          3,
          3,
          3,
          3,
          4,
          4,
          4,
          4,
          5,
          5,
          5,
          5,
          5,
          5,
          5,
          5,
          5
         ],
         "xaxis": "x",
         "y": [
          50,
          50,
          50,
          50,
          50,
          50,
          50,
          50,
          50,
          50,
          50,
          50,
          50,
          50,
          null,
          null,
          null,
          50,
          50,
          50,
          50,
          50,
          50,
          50,
          50,
          50,
          50,
          null,
          null,
          100
         ],
         "yaxis": "y"
        },
        {
         "alignmentgroup": "True",
         "hovertemplate": "<b>%{hovertext}</b><br><br>Primary=Fairy<br>Generation=%{x}<br>percentage_male=%{y}<extra></extra>",
         "hovertext": [
          "Clefairy",
          "Clefable",
          "Cleffa",
          "Togepi",
          "Togetic",
          "Snubbull",
          "Granbull",
          "Togekiss"
         ],
         "legendgroup": "Fairy",
         "marker": {
          "color": "#D685AD",
          "pattern": {
           "shape": ""
          }
         },
         "name": "Fairy",
         "offsetgroup": "Fairy",
         "orientation": "v",
         "showlegend": true,
         "textposition": "auto",
         "type": "bar",
         "x": [
          1,
          1,
          2,
          2,
          2,
          2,
          2,
          4
         ],
         "xaxis": "x",
         "y": [
          24.6,
          24.6,
          24.6,
          88.1,
          88.1,
          24.6,
          24.6,
          88.1
         ],
         "yaxis": "y"
        },
        {
         "alignmentgroup": "True",
         "hovertemplate": "<b>%{hovertext}</b><br><br>Primary=Fighting<br>Generation=%{x}<br>percentage_male=%{y}<extra></extra>",
         "hovertext": [
          "Mankey",
          "Primeape",
          "Machop",
          "Machoke",
          "Machamp",
          "Hitmonlee",
          "Hitmonchan",
          "Tyrogue",
          "Hitmontop",
          "Makuhita",
          "Hariyama",
          "Meditite",
          "Medicham",
          "Riolu",
          "Lucario",
          "Timburr",
          "Gurdurr",
          "Conkeldurr",
          "Throh",
          "Sawk",
          "Mienfoo",
          "Mienshao"
         ],
         "legendgroup": "Fighting",
         "marker": {
          "color": "#C22E28",
          "pattern": {
           "shape": ""
          }
         },
         "name": "Fighting",
         "offsetgroup": "Fighting",
         "orientation": "v",
         "showlegend": true,
         "textposition": "auto",
         "type": "bar",
         "x": [
          1,
          1,
          1,
          1,
          1,
          1,
          1,
          2,
          2,
          3,
          3,
          3,
          3,
          4,
          4,
          5,
          5,
          5,
          5,
          5,
          5,
          5
         ],
         "xaxis": "x",
         "y": [
          50,
          50,
          75.4,
          75.4,
          75.4,
          100,
          100,
          100,
          100,
          75.4,
          75.4,
          50,
          50,
          88.1,
          88.1,
          75.4,
          75.4,
          75.4,
          100,
          100,
          50,
          50
         ],
         "yaxis": "y"
        },
        {
         "alignmentgroup": "True",
         "hovertemplate": "<b>%{hovertext}</b><br><br>Primary=Psychic<br>Generation=%{x}<br>percentage_male=%{y}<extra></extra>",
         "hovertext": [
          "Abra",
          "Kadabra",
          "Alakazam",
          "Drowzee",
          "Hypno",
          "Mr.",
          "Mewtwo",
          "Mew",
          "Natu",
          "Xatu",
          "Espeon",
          "Unown",
          "Wobbuffet",
          "Lugia",
          "Celebi",
          "Ralts",
          "Kirlia",
          "Gardevoir",
          "Spoink",
          "Grumpig",
          "Chimecho",
          "Wynaut",
          "Deoxys",
          "Chingling",
          "Mime",
          "Gallade",
          "Uxie",
          "Mesprit",
          "Azelf",
          "Cresselia",
          "Victini",
          "Munna",
          "Musharna",
          "Woobat",
          "Swoobat",
          "Sigilyph",
          "Gothita",
          "Gothorita",
          "Gothitelle",
          "Solosis",
          "Duosion",
          "Reuniclus",
          "Elgyem",
          "Beheeyem"
         ],
         "legendgroup": "Psychic",
         "marker": {
          "color": "#F95587",
          "pattern": {
           "shape": ""
          }
         },
         "name": "Psychic",
         "offsetgroup": "Psychic",
         "orientation": "v",
         "showlegend": true,
         "textposition": "auto",
         "type": "bar",
         "x": [
          1,
          1,
          1,
          1,
          1,
          1,
          1,
          1,
          2,
          2,
          2,
          2,
          2,
          2,
          2,
          3,
          3,
          3,
          3,
          3,
          3,
          3,
          3,
          4,
          4,
          4,
          4,
          4,
          4,
          4,
          5,
          5,
          5,
          5,
          5,
          5,
          5,
          5,
          5,
          5,
          5,
          5,
          5,
          5
         ],
         "xaxis": "x",
         "y": [
          75.4,
          75.4,
          75.4,
          50,
          50,
          50,
          null,
          null,
          50,
          50,
          88.1,
          null,
          50,
          null,
          null,
          50,
          50,
          50,
          50,
          50,
          50,
          50,
          null,
          50,
          50,
          100,
          null,
          null,
          null,
          0,
          null,
          50,
          50,
          50,
          50,
          50,
          24.6,
          24.6,
          24.6,
          50,
          50,
          50,
          50,
          50
         ],
         "yaxis": "y"
        },
        {
         "alignmentgroup": "True",
         "hovertemplate": "<b>%{hovertext}</b><br><br>Primary=Rock<br>Generation=%{x}<br>percentage_male=%{y}<extra></extra>",
         "hovertext": [
          "Geodude",
          "Graveler",
          "Golem",
          "Onix",
          "Omanyte",
          "Omastar",
          "Kabuto",
          "Kabutops",
          "Aerodactyl",
          "Sudowoodo",
          "Larvitar",
          "Pupitar",
          "Tyranitar",
          "Nosepass",
          "Lunatone",
          "Solrock",
          "Lileep",
          "Cradily",
          "Anorith",
          "Armaldo",
          "Regirock",
          "Cranidos",
          "Rampardos",
          "Shieldon",
          "Bastiodon",
          "Bonsly",
          "Probopass",
          "Roggenrola",
          "Boldore",
          "Gigalith",
          "Archen",
          "Archeops",
          "Terrakion"
         ],
         "legendgroup": "Rock",
         "marker": {
          "color": "#B6A136",
          "pattern": {
           "shape": ""
          }
         },
         "name": "Rock",
         "offsetgroup": "Rock",
         "orientation": "v",
         "showlegend": true,
         "textposition": "auto",
         "type": "bar",
         "x": [
          1,
          1,
          1,
          1,
          1,
          1,
          1,
          1,
          1,
          2,
          2,
          2,
          2,
          3,
          3,
          3,
          3,
          3,
          3,
          3,
          3,
          4,
          4,
          4,
          4,
          4,
          4,
          5,
          5,
          5,
          5,
          5,
          5
         ],
         "xaxis": "x",
         "y": [
          50,
          50,
          50,
          50,
          88.1,
          88.1,
          88.1,
          88.1,
          88.1,
          50,
          50,
          50,
          50,
          50,
          null,
          null,
          88.1,
          88.1,
          88.1,
          88.1,
          null,
          88.1,
          88.1,
          88.1,
          88.1,
          50,
          50,
          50,
          50,
          50,
          88.1,
          88.1,
          null
         ],
         "yaxis": "y"
        },
        {
         "alignmentgroup": "True",
         "hovertemplate": "<b>%{hovertext}</b><br><br>Primary=Ghost<br>Generation=%{x}<br>percentage_male=%{y}<extra></extra>",
         "hovertext": [
          "Gastly",
          "Haunter",
          "Gengar",
          "Misdreavus",
          "Shuppet",
          "Banette",
          "Duskull",
          "Dusclops",
          "Drifloon",
          "Drifblim",
          "Mismagius",
          "Spiritomb",
          "Dusknoir",
          "Giratina",
          "Yamask",
          "Cofagrigus",
          "Litwick",
          "Lampent",
          "Chandelure"
         ],
         "legendgroup": "Ghost",
         "marker": {
          "color": "#735797",
          "pattern": {
           "shape": ""
          }
         },
         "name": "Ghost",
         "offsetgroup": "Ghost",
         "orientation": "v",
         "showlegend": true,
         "textposition": "auto",
         "type": "bar",
         "x": [
          1,
          1,
          1,
          2,
          3,
          3,
          3,
          3,
          4,
          4,
          4,
          4,
          4,
          4,
          5,
          5,
          5,
          5,
          5
         ],
         "xaxis": "x",
         "y": [
          50,
          50,
          50,
          50,
          50,
          50,
          50,
          50,
          50,
          50,
          50,
          50,
          50,
          null,
          50,
          50,
          50,
          50,
          50
         ],
         "yaxis": "y"
        },
        {
         "alignmentgroup": "True",
         "hovertemplate": "<b>%{hovertext}</b><br><br>Primary=Ice<br>Generation=%{x}<br>percentage_male=%{y}<extra></extra>",
         "hovertext": [
          "Jynx",
          "Articuno",
          "Swinub",
          "Piloswine",
          "Delibird",
          "Smoochum",
          "Snorunt",
          "Glalie",
          "Spheal",
          "Sealeo",
          "Walrein",
          "Regice",
          "Glaceon",
          "Mamoswine",
          "Froslass",
          "Vanillite",
          "Vanillish",
          "Vanilluxe",
          "Cubchoo",
          "Beartic",
          "Cryogonal"
         ],
         "legendgroup": "Ice",
         "marker": {
          "color": "#96D9D6",
          "pattern": {
           "shape": ""
          }
         },
         "name": "Ice",
         "offsetgroup": "Ice",
         "orientation": "v",
         "showlegend": true,
         "textposition": "auto",
         "type": "bar",
         "x": [
          1,
          1,
          2,
          2,
          2,
          2,
          3,
          3,
          3,
          3,
          3,
          3,
          4,
          4,
          4,
          5,
          5,
          5,
          5,
          5,
          5
         ],
         "xaxis": "x",
         "y": [
          0,
          null,
          50,
          50,
          50,
          0,
          50,
          50,
          50,
          50,
          50,
          null,
          88.1,
          50,
          0,
          50,
          50,
          50,
          50,
          50,
          null
         ],
         "yaxis": "y"
        },
        {
         "alignmentgroup": "True",
         "hovertemplate": "<b>%{hovertext}</b><br><br>Primary=Dragon<br>Generation=%{x}<br>percentage_male=%{y}<extra></extra>",
         "hovertext": [
          "Dratini",
          "Dragonair",
          "Dragonite",
          "Altaria",
          "Bagon",
          "Shelgon",
          "Salamence",
          "Latias",
          "Latios",
          "Rayquaza",
          "Gible",
          "Gabite",
          "Garchomp",
          "Axew",
          "Fraxure",
          "Haxorus",
          "Druddigon",
          "Reshiram",
          "Zekrom",
          "Kyurem"
         ],
         "legendgroup": "Dragon",
         "marker": {
          "color": "#6F35FC",
          "pattern": {
           "shape": ""
          }
         },
         "name": "Dragon",
         "offsetgroup": "Dragon",
         "orientation": "v",
         "showlegend": true,
         "textposition": "auto",
         "type": "bar",
         "x": [
          1,
          1,
          1,
          3,
          3,
          3,
          3,
          3,
          3,
          3,
          4,
          4,
          4,
          5,
          5,
          5,
          5,
          5,
          5,
          5
         ],
         "xaxis": "x",
         "y": [
          50,
          50,
          50,
          50,
          50,
          50,
          50,
          0,
          100,
          null,
          50,
          50,
          50,
          50,
          50,
          50,
          50,
          null,
          null,
          null
         ],
         "yaxis": "y"
        },
        {
         "alignmentgroup": "True",
         "hovertemplate": "<b>%{hovertext}</b><br><br>Primary=Dark<br>Generation=%{x}<br>percentage_male=%{y}<extra></extra>",
         "hovertext": [
          "Umbreon",
          "Murkrow",
          "Sneasel",
          "Houndour",
          "Houndoom",
          "Poochyena",
          "Mightyena",
          "Sableye",
          "Absol",
          "Honchkrow",
          "Weavile",
          "Darkrai",
          "Purrloin",
          "Liepard",
          "Scraggy",
          "Scrafty",
          "Zorua",
          "Zoroark",
          "Pawniard",
          "Bisharp",
          "Vullaby",
          "Mandibuzz",
          "Deino",
          "Zweilous",
          "Hydreigon"
         ],
         "legendgroup": "Dark",
         "marker": {
          "color": "#705746",
          "pattern": {
           "shape": ""
          }
         },
         "name": "Dark",
         "offsetgroup": "Dark",
         "orientation": "v",
         "showlegend": true,
         "textposition": "auto",
         "type": "bar",
         "x": [
          2,
          2,
          2,
          2,
          2,
          3,
          3,
          3,
          3,
          4,
          4,
          4,
          5,
          5,
          5,
          5,
          5,
          5,
          5,
          5,
          5,
          5,
          5,
          5,
          5
         ],
         "xaxis": "x",
         "y": [
          88.1,
          50,
          50,
          50,
          50,
          50,
          50,
          50,
          50,
          50,
          50,
          null,
          50,
          50,
          50,
          50,
          88.1,
          88.1,
          50,
          50,
          0,
          0,
          50,
          50,
          50
         ],
         "yaxis": "y"
        },
        {
         "alignmentgroup": "True",
         "hovertemplate": "<b>%{hovertext}</b><br><br>Primary=Steel<br>Generation=%{x}<br>percentage_male=%{y}<extra></extra>",
         "hovertext": [
          "Steelix",
          "Skarmory",
          "Mawile",
          "Aron",
          "Lairon",
          "Aggron",
          "Beldum",
          "Metang",
          "Metagross",
          "Registeel",
          "Jirachi",
          "Bronzor",
          "Bronzong",
          "Dialga",
          "Klink",
          "Klang",
          "Klinklang",
          "Cobalion"
         ],
         "legendgroup": "Steel",
         "marker": {
          "color": "#B7B7CE",
          "pattern": {
           "shape": ""
          }
         },
         "name": "Steel",
         "offsetgroup": "Steel",
         "orientation": "v",
         "showlegend": true,
         "textposition": "auto",
         "type": "bar",
         "x": [
          2,
          2,
          3,
          3,
          3,
          3,
          3,
          3,
          3,
          3,
          3,
          4,
          4,
          4,
          5,
          5,
          5,
          5
         ],
         "xaxis": "x",
         "y": [
          50,
          50,
          50,
          50,
          50,
          50,
          null,
          null,
          null,
          null,
          null,
          null,
          null,
          null,
          null,
          null,
          null,
          null
         ],
         "yaxis": "y"
        },
        {
         "alignmentgroup": "True",
         "hovertemplate": "<b>%{hovertext}</b><br><br>Primary=Flying<br>Generation=%{x}<br>percentage_male=%{y}<extra></extra>",
         "hovertext": [
          "Tornadus"
         ],
         "legendgroup": "Flying",
         "marker": {
          "color": "#A98FF3",
          "pattern": {
           "shape": ""
          }
         },
         "name": "Flying",
         "offsetgroup": "Flying",
         "orientation": "v",
         "showlegend": true,
         "textposition": "auto",
         "type": "bar",
         "x": [
          5
         ],
         "xaxis": "x",
         "y": [
          100
         ],
         "yaxis": "y"
        }
       ],
       "layout": {
        "barmode": "relative",
        "legend": {
         "title": {
          "text": "Primary"
         },
         "tracegroupgap": 0
        },
        "margin": {
         "t": 60
        },
        "template": {
         "data": {
          "bar": [
           {
            "error_x": {
             "color": "#2a3f5f"
            },
            "error_y": {
             "color": "#2a3f5f"
            },
            "marker": {
             "line": {
              "color": "#E5ECF6",
              "width": 0.5
             },
             "pattern": {
              "fillmode": "overlay",
              "size": 10,
              "solidity": 0.2
             }
            },
            "type": "bar"
           }
          ],
          "barpolar": [
           {
            "marker": {
             "line": {
              "color": "#E5ECF6",
              "width": 0.5
             },
             "pattern": {
              "fillmode": "overlay",
              "size": 10,
              "solidity": 0.2
             }
            },
            "type": "barpolar"
           }
          ],
          "carpet": [
           {
            "aaxis": {
             "endlinecolor": "#2a3f5f",
             "gridcolor": "white",
             "linecolor": "white",
             "minorgridcolor": "white",
             "startlinecolor": "#2a3f5f"
            },
            "baxis": {
             "endlinecolor": "#2a3f5f",
             "gridcolor": "white",
             "linecolor": "white",
             "minorgridcolor": "white",
             "startlinecolor": "#2a3f5f"
            },
            "type": "carpet"
           }
          ],
          "choropleth": [
           {
            "colorbar": {
             "outlinewidth": 0,
             "ticks": ""
            },
            "type": "choropleth"
           }
          ],
          "contour": [
           {
            "colorbar": {
             "outlinewidth": 0,
             "ticks": ""
            },
            "colorscale": [
             [
              0,
              "#0d0887"
             ],
             [
              0.1111111111111111,
              "#46039f"
             ],
             [
              0.2222222222222222,
              "#7201a8"
             ],
             [
              0.3333333333333333,
              "#9c179e"
             ],
             [
              0.4444444444444444,
              "#bd3786"
             ],
             [
              0.5555555555555556,
              "#d8576b"
             ],
             [
              0.6666666666666666,
              "#ed7953"
             ],
             [
              0.7777777777777778,
              "#fb9f3a"
             ],
             [
              0.8888888888888888,
              "#fdca26"
             ],
             [
              1,
              "#f0f921"
             ]
            ],
            "type": "contour"
           }
          ],
          "contourcarpet": [
           {
            "colorbar": {
             "outlinewidth": 0,
             "ticks": ""
            },
            "type": "contourcarpet"
           }
          ],
          "heatmap": [
           {
            "colorbar": {
             "outlinewidth": 0,
             "ticks": ""
            },
            "colorscale": [
             [
              0,
              "#0d0887"
             ],
             [
              0.1111111111111111,
              "#46039f"
             ],
             [
              0.2222222222222222,
              "#7201a8"
             ],
             [
              0.3333333333333333,
              "#9c179e"
             ],
             [
              0.4444444444444444,
              "#bd3786"
             ],
             [
              0.5555555555555556,
              "#d8576b"
             ],
             [
              0.6666666666666666,
              "#ed7953"
             ],
             [
              0.7777777777777778,
              "#fb9f3a"
             ],
             [
              0.8888888888888888,
              "#fdca26"
             ],
             [
              1,
              "#f0f921"
             ]
            ],
            "type": "heatmap"
           }
          ],
          "heatmapgl": [
           {
            "colorbar": {
             "outlinewidth": 0,
             "ticks": ""
            },
            "colorscale": [
             [
              0,
              "#0d0887"
             ],
             [
              0.1111111111111111,
              "#46039f"
             ],
             [
              0.2222222222222222,
              "#7201a8"
             ],
             [
              0.3333333333333333,
              "#9c179e"
             ],
             [
              0.4444444444444444,
              "#bd3786"
             ],
             [
              0.5555555555555556,
              "#d8576b"
             ],
             [
              0.6666666666666666,
              "#ed7953"
             ],
             [
              0.7777777777777778,
              "#fb9f3a"
             ],
             [
              0.8888888888888888,
              "#fdca26"
             ],
             [
              1,
              "#f0f921"
             ]
            ],
            "type": "heatmapgl"
           }
          ],
          "histogram": [
           {
            "marker": {
             "pattern": {
              "fillmode": "overlay",
              "size": 10,
              "solidity": 0.2
             }
            },
            "type": "histogram"
           }
          ],
          "histogram2d": [
           {
            "colorbar": {
             "outlinewidth": 0,
             "ticks": ""
            },
            "colorscale": [
             [
              0,
              "#0d0887"
             ],
             [
              0.1111111111111111,
              "#46039f"
             ],
             [
              0.2222222222222222,
              "#7201a8"
             ],
             [
              0.3333333333333333,
              "#9c179e"
             ],
             [
              0.4444444444444444,
              "#bd3786"
             ],
             [
              0.5555555555555556,
              "#d8576b"
             ],
             [
              0.6666666666666666,
              "#ed7953"
             ],
             [
              0.7777777777777778,
              "#fb9f3a"
             ],
             [
              0.8888888888888888,
              "#fdca26"
             ],
             [
              1,
              "#f0f921"
             ]
            ],
            "type": "histogram2d"
           }
          ],
          "histogram2dcontour": [
           {
            "colorbar": {
             "outlinewidth": 0,
             "ticks": ""
            },
            "colorscale": [
             [
              0,
              "#0d0887"
             ],
             [
              0.1111111111111111,
              "#46039f"
             ],
             [
              0.2222222222222222,
              "#7201a8"
             ],
             [
              0.3333333333333333,
              "#9c179e"
             ],
             [
              0.4444444444444444,
              "#bd3786"
             ],
             [
              0.5555555555555556,
              "#d8576b"
             ],
             [
              0.6666666666666666,
              "#ed7953"
             ],
             [
              0.7777777777777778,
              "#fb9f3a"
             ],
             [
              0.8888888888888888,
              "#fdca26"
             ],
             [
              1,
              "#f0f921"
             ]
            ],
            "type": "histogram2dcontour"
           }
          ],
          "mesh3d": [
           {
            "colorbar": {
             "outlinewidth": 0,
             "ticks": ""
            },
            "type": "mesh3d"
           }
          ],
          "parcoords": [
           {
            "line": {
             "colorbar": {
              "outlinewidth": 0,
              "ticks": ""
             }
            },
            "type": "parcoords"
           }
          ],
          "pie": [
           {
            "automargin": true,
            "type": "pie"
           }
          ],
          "scatter": [
           {
            "marker": {
             "colorbar": {
              "outlinewidth": 0,
              "ticks": ""
             }
            },
            "type": "scatter"
           }
          ],
          "scatter3d": [
           {
            "line": {
             "colorbar": {
              "outlinewidth": 0,
              "ticks": ""
             }
            },
            "marker": {
             "colorbar": {
              "outlinewidth": 0,
              "ticks": ""
             }
            },
            "type": "scatter3d"
           }
          ],
          "scattercarpet": [
           {
            "marker": {
             "colorbar": {
              "outlinewidth": 0,
              "ticks": ""
             }
            },
            "type": "scattercarpet"
           }
          ],
          "scattergeo": [
           {
            "marker": {
             "colorbar": {
              "outlinewidth": 0,
              "ticks": ""
             }
            },
            "type": "scattergeo"
           }
          ],
          "scattergl": [
           {
            "marker": {
             "colorbar": {
              "outlinewidth": 0,
              "ticks": ""
             }
            },
            "type": "scattergl"
           }
          ],
          "scattermapbox": [
           {
            "marker": {
             "colorbar": {
              "outlinewidth": 0,
              "ticks": ""
             }
            },
            "type": "scattermapbox"
           }
          ],
          "scatterpolar": [
           {
            "marker": {
             "colorbar": {
              "outlinewidth": 0,
              "ticks": ""
             }
            },
            "type": "scatterpolar"
           }
          ],
          "scatterpolargl": [
           {
            "marker": {
             "colorbar": {
              "outlinewidth": 0,
              "ticks": ""
             }
            },
            "type": "scatterpolargl"
           }
          ],
          "scatterternary": [
           {
            "marker": {
             "colorbar": {
              "outlinewidth": 0,
              "ticks": ""
             }
            },
            "type": "scatterternary"
           }
          ],
          "surface": [
           {
            "colorbar": {
             "outlinewidth": 0,
             "ticks": ""
            },
            "colorscale": [
             [
              0,
              "#0d0887"
             ],
             [
              0.1111111111111111,
              "#46039f"
             ],
             [
              0.2222222222222222,
              "#7201a8"
             ],
             [
              0.3333333333333333,
              "#9c179e"
             ],
             [
              0.4444444444444444,
              "#bd3786"
             ],
             [
              0.5555555555555556,
              "#d8576b"
             ],
             [
              0.6666666666666666,
              "#ed7953"
             ],
             [
              0.7777777777777778,
              "#fb9f3a"
             ],
             [
              0.8888888888888888,
              "#fdca26"
             ],
             [
              1,
              "#f0f921"
             ]
            ],
            "type": "surface"
           }
          ],
          "table": [
           {
            "cells": {
             "fill": {
              "color": "#EBF0F8"
             },
             "line": {
              "color": "white"
             }
            },
            "header": {
             "fill": {
              "color": "#C8D4E3"
             },
             "line": {
              "color": "white"
             }
            },
            "type": "table"
           }
          ]
         },
         "layout": {
          "annotationdefaults": {
           "arrowcolor": "#2a3f5f",
           "arrowhead": 0,
           "arrowwidth": 1
          },
          "autotypenumbers": "strict",
          "coloraxis": {
           "colorbar": {
            "outlinewidth": 0,
            "ticks": ""
           }
          },
          "colorscale": {
           "diverging": [
            [
             0,
             "#8e0152"
            ],
            [
             0.1,
             "#c51b7d"
            ],
            [
             0.2,
             "#de77ae"
            ],
            [
             0.3,
             "#f1b6da"
            ],
            [
             0.4,
             "#fde0ef"
            ],
            [
             0.5,
             "#f7f7f7"
            ],
            [
             0.6,
             "#e6f5d0"
            ],
            [
             0.7,
             "#b8e186"
            ],
            [
             0.8,
             "#7fbc41"
            ],
            [
             0.9,
             "#4d9221"
            ],
            [
             1,
             "#276419"
            ]
           ],
           "sequential": [
            [
             0,
             "#0d0887"
            ],
            [
             0.1111111111111111,
             "#46039f"
            ],
            [
             0.2222222222222222,
             "#7201a8"
            ],
            [
             0.3333333333333333,
             "#9c179e"
            ],
            [
             0.4444444444444444,
             "#bd3786"
            ],
            [
             0.5555555555555556,
             "#d8576b"
            ],
            [
             0.6666666666666666,
             "#ed7953"
            ],
            [
             0.7777777777777778,
             "#fb9f3a"
            ],
            [
             0.8888888888888888,
             "#fdca26"
            ],
            [
             1,
             "#f0f921"
            ]
           ],
           "sequentialminus": [
            [
             0,
             "#0d0887"
            ],
            [
             0.1111111111111111,
             "#46039f"
            ],
            [
             0.2222222222222222,
             "#7201a8"
            ],
            [
             0.3333333333333333,
             "#9c179e"
            ],
            [
             0.4444444444444444,
             "#bd3786"
            ],
            [
             0.5555555555555556,
             "#d8576b"
            ],
            [
             0.6666666666666666,
             "#ed7953"
            ],
            [
             0.7777777777777778,
             "#fb9f3a"
            ],
            [
             0.8888888888888888,
             "#fdca26"
            ],
            [
             1,
             "#f0f921"
            ]
           ]
          },
          "colorway": [
           "#636efa",
           "#EF553B",
           "#00cc96",
           "#ab63fa",
           "#FFA15A",
           "#19d3f3",
           "#FF6692",
           "#B6E880",
           "#FF97FF",
           "#FECB52"
          ],
          "font": {
           "color": "#2a3f5f"
          },
          "geo": {
           "bgcolor": "white",
           "lakecolor": "white",
           "landcolor": "#E5ECF6",
           "showlakes": true,
           "showland": true,
           "subunitcolor": "white"
          },
          "hoverlabel": {
           "align": "left"
          },
          "hovermode": "closest",
          "mapbox": {
           "style": "light"
          },
          "paper_bgcolor": "white",
          "plot_bgcolor": "#E5ECF6",
          "polar": {
           "angularaxis": {
            "gridcolor": "white",
            "linecolor": "white",
            "ticks": ""
           },
           "bgcolor": "#E5ECF6",
           "radialaxis": {
            "gridcolor": "white",
            "linecolor": "white",
            "ticks": ""
           }
          },
          "scene": {
           "xaxis": {
            "backgroundcolor": "#E5ECF6",
            "gridcolor": "white",
            "gridwidth": 2,
            "linecolor": "white",
            "showbackground": true,
            "ticks": "",
            "zerolinecolor": "white"
           },
           "yaxis": {
            "backgroundcolor": "#E5ECF6",
            "gridcolor": "white",
            "gridwidth": 2,
            "linecolor": "white",
            "showbackground": true,
            "ticks": "",
            "zerolinecolor": "white"
           },
           "zaxis": {
            "backgroundcolor": "#E5ECF6",
            "gridcolor": "white",
            "gridwidth": 2,
            "linecolor": "white",
            "showbackground": true,
            "ticks": "",
            "zerolinecolor": "white"
           }
          },
          "shapedefaults": {
           "line": {
            "color": "#2a3f5f"
           }
          },
          "ternary": {
           "aaxis": {
            "gridcolor": "white",
            "linecolor": "white",
            "ticks": ""
           },
           "baxis": {
            "gridcolor": "white",
            "linecolor": "white",
            "ticks": ""
           },
           "bgcolor": "#E5ECF6",
           "caxis": {
            "gridcolor": "white",
            "linecolor": "white",
            "ticks": ""
           }
          },
          "title": {
           "x": 0.05
          },
          "xaxis": {
           "automargin": true,
           "gridcolor": "white",
           "linecolor": "white",
           "ticks": "",
           "title": {
            "standoff": 15
           },
           "zerolinecolor": "white",
           "zerolinewidth": 2
          },
          "yaxis": {
           "automargin": true,
           "gridcolor": "white",
           "linecolor": "white",
           "ticks": "",
           "title": {
            "standoff": 15
           },
           "zerolinecolor": "white",
           "zerolinewidth": 2
          }
         }
        },
        "xaxis": {
         "anchor": "y",
         "domain": [
          0,
          1
         ],
         "title": {
          "text": "Generation"
         }
        },
        "yaxis": {
         "anchor": "x",
         "domain": [
          0,
          1
         ],
         "title": {
          "text": "percentage_male"
         }
        }
       }
      },
      "text/html": [
       "<div>                            <div id=\"596819e1-9e10-460a-b760-b2a2c848d2e5\" class=\"plotly-graph-div\" style=\"height:525px; width:100%;\"></div>            <script type=\"text/javascript\">                require([\"plotly\"], function(Plotly) {                    window.PLOTLYENV=window.PLOTLYENV || {};                                    if (document.getElementById(\"596819e1-9e10-460a-b760-b2a2c848d2e5\")) {                    Plotly.newPlot(                        \"596819e1-9e10-460a-b760-b2a2c848d2e5\",                        [{\"alignmentgroup\":\"True\",\"hovertemplate\":\"<b>%{hovertext}</b><br><br>Primary=Grass<br>Generation=%{x}<br>percentage_male=%{y}<extra></extra>\",\"hovertext\":[\"Bulbasaur\",\"Ivysaur\",\"Venusaur\",\"Oddish\",\"Gloom\",\"Vileplume\",\"Bellsprout\",\"Weepinbell\",\"Victreebel\",\"Exeggcute\",\"Exeggutor\",\"Tangela\",\"Chikorita\",\"Bayleef\",\"Meganium\",\"Bellossom\",\"Hoppip\",\"Skiploom\",\"Jumpluff\",\"Sunkern\",\"Sunflora\",\"Treecko\",\"Grovyle\",\"Sceptile\",\"Seedot\",\"Nuzleaf\",\"Shiftry\",\"Shroomish\",\"Breloom\",\"Roselia\",\"Cacnea\",\"Cacturne\",\"Tropius\",\"Turtwig\",\"Grotle\",\"Torterra\",\"Budew\",\"Roserade\",\"Cherubi\",\"Cherrim\",\"Carnivine\",\"Snover\",\"Abomasnow\",\"Tangrowth\",\"Leafeon\",\"Shaymin\",\"Snivy\",\"Servine\",\"Serperior\",\"Pansage\",\"Simisage\",\"Cottonee\",\"Whimsicott\",\"Petilil\",\"Lilligant\",\"Maractus\",\"Foongus\",\"Amoonguss\",\"Ferroseed\",\"Ferrothorn\",\"Virizion\"],\"legendgroup\":\"Grass\",\"marker\":{\"color\":\"#7AC74C\",\"pattern\":{\"shape\":\"\"}},\"name\":\"Grass\",\"offsetgroup\":\"Grass\",\"orientation\":\"v\",\"showlegend\":true,\"textposition\":\"auto\",\"x\":[1,1,1,1,1,1,1,1,1,1,1,1,2,2,2,2,2,2,2,2,2,3,3,3,3,3,3,3,3,3,3,3,3,4,4,4,4,4,4,4,4,4,4,4,4,4,5,5,5,5,5,5,5,5,5,5,5,5,5,5,5],\"xaxis\":\"x\",\"y\":[88.1,88.1,88.1,50.0,50.0,50.0,50.0,50.0,50.0,50.0,50.0,50.0,88.1,88.1,88.1,50.0,50.0,50.0,50.0,50.0,50.0,88.1,88.1,88.1,50.0,50.0,50.0,50.0,50.0,50.0,50.0,50.0,50.0,88.1,88.1,88.1,50.0,50.0,50.0,50.0,50.0,50.0,50.0,50.0,88.1,null,88.1,88.1,88.1,88.1,88.1,50.0,50.0,0.0,0.0,50.0,50.0,50.0,50.0,50.0,null],\"yaxis\":\"y\",\"type\":\"bar\"},{\"alignmentgroup\":\"True\",\"hovertemplate\":\"<b>%{hovertext}</b><br><br>Primary=Fire<br>Generation=%{x}<br>percentage_male=%{y}<extra></extra>\",\"hovertext\":[\"Charmander\",\"Charmeleon\",\"Charizard\",\"Vulpix\",\"Ninetales\",\"Growlithe\",\"Arcanine\",\"Ponyta\",\"Rapidash\",\"Magmar\",\"Flareon\",\"Moltres\",\"Cyndaquil\",\"Quilava\",\"Typhlosion\",\"Slugma\",\"Magcargo\",\"Magby\",\"Entei\",\"Ho-Oh\",\"Torchic\",\"Combusken\",\"Blaziken\",\"Numel\",\"Camerupt\",\"Torkoal\",\"Chimchar\",\"Monferno\",\"Infernape\",\"Magmortar\",\"Heatran\",\"Tepig\",\"Pignite\",\"Emboar\",\"Pansear\",\"Simisear\",\"Darumaka\",\"Darmanitan\",\"Heatmor\"],\"legendgroup\":\"Fire\",\"marker\":{\"color\":\"#EE8130\",\"pattern\":{\"shape\":\"\"}},\"name\":\"Fire\",\"offsetgroup\":\"Fire\",\"orientation\":\"v\",\"showlegend\":true,\"textposition\":\"auto\",\"x\":[1,1,1,1,1,1,1,1,1,1,1,1,2,2,2,2,2,2,2,2,3,3,3,3,3,3,4,4,4,4,4,5,5,5,5,5,5,5,5],\"xaxis\":\"x\",\"y\":[88.1,88.1,88.1,24.6,24.6,75.4,75.4,50.0,50.0,75.4,88.1,null,88.1,88.1,88.1,50.0,50.0,75.4,null,null,88.1,88.1,88.1,50.0,50.0,50.0,88.1,88.1,88.1,75.4,50.0,88.1,88.1,88.1,88.1,88.1,50.0,50.0,50.0],\"yaxis\":\"y\",\"type\":\"bar\"},{\"alignmentgroup\":\"True\",\"hovertemplate\":\"<b>%{hovertext}</b><br><br>Primary=Water<br>Generation=%{x}<br>percentage_male=%{y}<extra></extra>\",\"hovertext\":[\"Squirtle\",\"Wartortle\",\"Blastoise\",\"Psyduck\",\"Golduck\",\"Poliwag\",\"Poliwhirl\",\"Poliwrath\",\"Tentacool\",\"Tentacruel\",\"Slowpoke\",\"Slowbro\",\"Seel\",\"Dewgong\",\"Shellder\",\"Cloyster\",\"Krabby\",\"Kingler\",\"Horsea\",\"Seadra\",\"Goldeen\",\"Seaking\",\"Staryu\",\"Starmie\",\"Magikarp\",\"Gyarados\",\"Lapras\",\"Vaporeon\",\"Totodile\",\"Croconaw\",\"Feraligatr\",\"Chinchou\",\"Lanturn\",\"Marill\",\"Azumarill\",\"Politoed\",\"Wooper\",\"Quagsire\",\"Slowking\",\"Qwilfish\",\"Corsola\",\"Remoraid\",\"Octillery\",\"Mantine\",\"Kingdra\",\"Suicune\",\"Mudkip\",\"Marshtomp\",\"Swampert\",\"Lotad\",\"Lombre\",\"Ludicolo\",\"Wingull\",\"Pelipper\",\"Carvanha\",\"Sharpedo\",\"Wailmer\",\"Wailord\",\"Barboach\",\"Whiscash\",\"Corphish\",\"Crawdaunt\",\"Feebas\",\"Milotic\",\"Clamperl\",\"Huntail\",\"Gorebyss\",\"Relicanth\",\"Luvdisc\",\"Kyogre\",\"Piplup\",\"Prinplup\",\"Empoleon\",\"Buizel\",\"Floatzel\",\"Shellos\",\"Gastrodon\",\"Finneon\",\"Lumineon\",\"Mantyke\",\"Palkia\",\"Phione\",\"Manaphy\",\"Oshawott\",\"Dewott\",\"Samurott\",\"Panpour\",\"Simipour\",\"Tympole\",\"Palpitoad\",\"Seismitoad\",\"Basculin\",\"Tirtouga\",\"Carracosta\",\"Ducklett\",\"Swanna\",\"Frillish\",\"Jellicent\",\"Alomomola\",\"Keldeo\"],\"legendgroup\":\"Water\",\"marker\":{\"color\":\"#6390F0\",\"pattern\":{\"shape\":\"\"}},\"name\":\"Water\",\"offsetgroup\":\"Water\",\"orientation\":\"v\",\"showlegend\":true,\"textposition\":\"auto\",\"x\":[1,1,1,1,1,1,1,1,1,1,1,1,1,1,1,1,1,1,1,1,1,1,1,1,1,1,1,1,2,2,2,2,2,2,2,2,2,2,2,2,2,2,2,2,2,2,3,3,3,3,3,3,3,3,3,3,3,3,3,3,3,3,3,3,3,3,3,3,3,3,4,4,4,4,4,4,4,4,4,4,4,4,4,5,5,5,5,5,5,5,5,5,5,5,5,5,5,5,5,5],\"xaxis\":\"x\",\"y\":[88.1,88.1,88.1,50.0,50.0,50.0,50.0,50.0,50.0,50.0,50.0,50.0,50.0,50.0,50.0,50.0,50.0,50.0,50.0,50.0,50.0,50.0,null,null,50.0,50.0,50.0,88.1,88.1,88.1,88.1,50.0,50.0,50.0,50.0,50.0,50.0,50.0,50.0,50.0,24.6,50.0,50.0,50.0,50.0,null,88.1,88.1,88.1,50.0,50.0,50.0,50.0,50.0,50.0,50.0,50.0,50.0,50.0,50.0,50.0,50.0,50.0,50.0,50.0,50.0,50.0,88.1,24.6,null,88.1,88.1,88.1,50.0,50.0,50.0,50.0,50.0,50.0,50.0,null,null,null,88.1,88.1,88.1,88.1,88.1,50.0,50.0,50.0,50.0,88.1,88.1,50.0,50.0,50.0,50.0,50.0,null],\"yaxis\":\"y\",\"type\":\"bar\"},{\"alignmentgroup\":\"True\",\"hovertemplate\":\"<b>%{hovertext}</b><br><br>Primary=Bug<br>Generation=%{x}<br>percentage_male=%{y}<extra></extra>\",\"hovertext\":[\"Caterpie\",\"Metapod\",\"Butterfree\",\"Weedle\",\"Kakuna\",\"Beedrill\",\"Paras\",\"Parasect\",\"Venonat\",\"Venomoth\",\"Scyther\",\"Pinsir\",\"Ledyba\",\"Ledian\",\"Spinarak\",\"Ariados\",\"Yanma\",\"Pineco\",\"Forretress\",\"Scizor\",\"Shuckle\",\"Heracross\",\"Wurmple\",\"Silcoon\",\"Beautifly\",\"Cascoon\",\"Dustox\",\"Surskit\",\"Masquerain\",\"Nincada\",\"Ninjask\",\"Shedinja\",\"Volbeat\",\"Illumise\",\"Kricketot\",\"Kricketune\",\"Burmy\",\"Wormadam\",\"Mothim\",\"Combee\",\"Vespiquen\",\"Yanmega\",\"Sewaddle\",\"Swadloon\",\"Leavanny\",\"Venipede\",\"Whirlipede\",\"Scolipede\",\"Dwebble\",\"Crustle\",\"Karrablast\",\"Escavalier\",\"Joltik\",\"Galvantula\",\"Shelmet\",\"Accelgor\",\"Durant\",\"Larvesta\",\"Volcarona\",\"Genesect\"],\"legendgroup\":\"Bug\",\"marker\":{\"color\":\"#A6B91A\",\"pattern\":{\"shape\":\"\"}},\"name\":\"Bug\",\"offsetgroup\":\"Bug\",\"orientation\":\"v\",\"showlegend\":true,\"textposition\":\"auto\",\"x\":[1,1,1,1,1,1,1,1,1,1,1,1,2,2,2,2,2,2,2,2,2,2,3,3,3,3,3,3,3,3,3,3,3,3,4,4,4,4,4,4,4,4,5,5,5,5,5,5,5,5,5,5,5,5,5,5,5,5,5,5],\"xaxis\":\"x\",\"y\":[50.0,50.0,50.0,50.0,50.0,50.0,50.0,50.0,50.0,50.0,50.0,50.0,50.0,50.0,50.0,50.0,50.0,50.0,50.0,50.0,50.0,50.0,50.0,50.0,50.0,50.0,50.0,50.0,50.0,50.0,50.0,null,100.0,0.0,50.0,50.0,50.0,0.0,100.0,88.1,0.0,50.0,50.0,50.0,50.0,50.0,50.0,50.0,50.0,50.0,50.0,50.0,50.0,50.0,50.0,50.0,50.0,50.0,50.0,null],\"yaxis\":\"y\",\"type\":\"bar\"},{\"alignmentgroup\":\"True\",\"hovertemplate\":\"<b>%{hovertext}</b><br><br>Primary=Normal<br>Generation=%{x}<br>percentage_male=%{y}<extra></extra>\",\"hovertext\":[\"Pidgey\",\"Pidgeotto\",\"Pidgeot\",\"Rattata\",\"Raticate\",\"Spearow\",\"Fearow\",\"Jigglypuff\",\"Wigglytuff\",\"Meowth\",\"Persian\",\"Farfetch'd\",\"Doduo\",\"Dodrio\",\"Lickitung\",\"Chansey\",\"Kangaskhan\",\"Tauros\",\"Ditto\",\"Eevee\",\"Porygon\",\"Snorlax\",\"Sentret\",\"Furret\",\"Hoothoot\",\"Noctowl\",\"Igglybuff\",\"Aipom\",\"Girafarig\",\"Dunsparce\",\"Teddiursa\",\"Ursaring\",\"Porygon2\",\"Stantler\",\"Smeargle\",\"Miltank\",\"Blissey\",\"Zigzagoon\",\"Linoone\",\"Taillow\",\"Swellow\",\"Slakoth\",\"Vigoroth\",\"Slaking\",\"Whismur\",\"Loudred\",\"Exploud\",\"Azurill\",\"Skitty\",\"Delcatty\",\"Spinda\",\"Swablu\",\"Zangoose\",\"Castform\",\"Kecleon\",\"Starly\",\"Staravia\",\"Staraptor\",\"Bidoof\",\"Bibarel\",\"Ambipom\",\"Buneary\",\"Lopunny\",\"Glameow\",\"Purugly\",\"Happiny\",\"Chatot\",\"Munchlax\",\"Lickilicky\",\"Porygon-Z\",\"Regigigas\",\"Arceus\",\"Patrat\",\"Watchog\",\"Lillipup\",\"Herdier\",\"Stoutland\",\"Pidove\",\"Tranquill\",\"Unfezant\",\"Audino\",\"Minccino\",\"Cinccino\",\"Deerling\",\"Sawsbuck\",\"Bouffalant\",\"Rufflet\",\"Braviary\",\"Meloetta\"],\"legendgroup\":\"Normal\",\"marker\":{\"color\":\"#A8A77A\",\"pattern\":{\"shape\":\"\"}},\"name\":\"Normal\",\"offsetgroup\":\"Normal\",\"orientation\":\"v\",\"showlegend\":true,\"textposition\":\"auto\",\"x\":[1,1,1,1,1,1,1,1,1,1,1,1,1,1,1,1,1,1,1,1,1,1,2,2,2,2,2,2,2,2,2,2,2,2,2,2,2,3,3,3,3,3,3,3,3,3,3,3,3,3,3,3,3,3,3,4,4,4,4,4,4,4,4,4,4,4,4,4,4,4,4,4,5,5,5,5,5,5,5,5,5,5,5,5,5,5,5,5,5],\"xaxis\":\"x\",\"y\":[50.0,50.0,50.0,50.0,50.0,50.0,50.0,24.6,24.6,50.0,50.0,50.0,50.0,50.0,50.0,0.0,0.0,100.0,null,88.1,null,88.1,50.0,50.0,50.0,50.0,24.6,50.0,50.0,50.0,50.0,50.0,null,50.0,50.0,0.0,0.0,50.0,50.0,50.0,50.0,50.0,50.0,50.0,50.0,50.0,50.0,24.6,24.6,24.6,50.0,50.0,50.0,50.0,50.0,50.0,50.0,50.0,50.0,50.0,50.0,50.0,50.0,24.6,24.6,0.0,50.0,88.1,50.0,null,null,null,50.0,50.0,50.0,50.0,50.0,50.0,50.0,50.0,50.0,24.6,24.6,50.0,50.0,50.0,100.0,100.0,null],\"yaxis\":\"y\",\"type\":\"bar\"},{\"alignmentgroup\":\"True\",\"hovertemplate\":\"<b>%{hovertext}</b><br><br>Primary=Poison<br>Generation=%{x}<br>percentage_male=%{y}<extra></extra>\",\"hovertext\":[\"Ekans\",\"Arbok\",\"Nidoran\\u2640\",\"Nidorina\",\"Nidoqueen\",\"Nidoran\\u2642\",\"Nidorino\",\"Nidoking\",\"Zubat\",\"Golbat\",\"Grimer\",\"Muk\",\"Koffing\",\"Weezing\",\"Crobat\",\"Gulpin\",\"Swalot\",\"Seviper\",\"Stunky\",\"Skuntank\",\"Skorupi\",\"Drapion\",\"Croagunk\",\"Toxicroak\",\"Trubbish\",\"Garbodor\"],\"legendgroup\":\"Poison\",\"marker\":{\"color\":\"#A33EA1\",\"pattern\":{\"shape\":\"\"}},\"name\":\"Poison\",\"offsetgroup\":\"Poison\",\"orientation\":\"v\",\"showlegend\":true,\"textposition\":\"auto\",\"x\":[1,1,1,1,1,1,1,1,1,1,1,1,1,1,2,3,3,3,4,4,4,4,4,4,5,5],\"xaxis\":\"x\",\"y\":[50.0,50.0,0.0,0.0,0.0,100.0,100.0,100.0,50.0,50.0,50.0,50.0,50.0,50.0,50.0,50.0,50.0,50.0,50.0,50.0,50.0,50.0,50.0,50.0,50.0,50.0],\"yaxis\":\"y\",\"type\":\"bar\"},{\"alignmentgroup\":\"True\",\"hovertemplate\":\"<b>%{hovertext}</b><br><br>Primary=Electric<br>Generation=%{x}<br>percentage_male=%{y}<extra></extra>\",\"hovertext\":[\"Pikachu\",\"Raichu\",\"Magnemite\",\"Magneton\",\"Voltorb\",\"Electrode\",\"Electabuzz\",\"Jolteon\",\"Zapdos\",\"Pichu\",\"Mareep\",\"Flaaffy\",\"Ampharos\",\"Elekid\",\"Raikou\",\"Electrike\",\"Manectric\",\"Plusle\",\"Minun\",\"Shinx\",\"Luxio\",\"Luxray\",\"Pachirisu\",\"Magnezone\",\"Electivire\",\"Rotom\",\"Blitzle\",\"Zebstrika\",\"Emolga\",\"Tynamo\",\"Eelektrik\",\"Eelektross\",\"Thundurus\"],\"legendgroup\":\"Electric\",\"marker\":{\"color\":\"#F7D02C\",\"pattern\":{\"shape\":\"\"}},\"name\":\"Electric\",\"offsetgroup\":\"Electric\",\"orientation\":\"v\",\"showlegend\":true,\"textposition\":\"auto\",\"x\":[1,1,1,1,1,1,1,1,1,2,2,2,2,2,2,3,3,3,3,4,4,4,4,4,4,4,5,5,5,5,5,5,5],\"xaxis\":\"x\",\"y\":[50.0,50.0,null,null,null,null,75.4,88.1,null,50.0,50.0,50.0,50.0,75.4,null,50.0,50.0,50.0,50.0,50.0,50.0,50.0,50.0,null,75.4,null,50.0,50.0,50.0,50.0,50.0,50.0,100.0],\"yaxis\":\"y\",\"type\":\"bar\"},{\"alignmentgroup\":\"True\",\"hovertemplate\":\"<b>%{hovertext}</b><br><br>Primary=Ground<br>Generation=%{x}<br>percentage_male=%{y}<extra></extra>\",\"hovertext\":[\"Sandshrew\",\"Sandslash\",\"Diglett\",\"Dugtrio\",\"Cubone\",\"Marowak\",\"Rhyhorn\",\"Rhydon\",\"Gligar\",\"Phanpy\",\"Donphan\",\"Trapinch\",\"Vibrava\",\"Flygon\",\"Baltoy\",\"Claydol\",\"Groudon\",\"Hippopotas\",\"Hippowdon\",\"Rhyperior\",\"Gliscor\",\"Drilbur\",\"Excadrill\",\"Sandile\",\"Krokorok\",\"Krookodile\",\"Stunfisk\",\"Golett\",\"Golurk\",\"Landorus\"],\"legendgroup\":\"Ground\",\"marker\":{\"color\":\"#E2BF65\",\"pattern\":{\"shape\":\"\"}},\"name\":\"Ground\",\"offsetgroup\":\"Ground\",\"orientation\":\"v\",\"showlegend\":true,\"textposition\":\"auto\",\"x\":[1,1,1,1,1,1,1,1,2,2,2,3,3,3,3,3,3,4,4,4,4,5,5,5,5,5,5,5,5,5],\"xaxis\":\"x\",\"y\":[50.0,50.0,50.0,50.0,50.0,50.0,50.0,50.0,50.0,50.0,50.0,50.0,50.0,50.0,null,null,null,50.0,50.0,50.0,50.0,50.0,50.0,50.0,50.0,50.0,50.0,null,null,100.0],\"yaxis\":\"y\",\"type\":\"bar\"},{\"alignmentgroup\":\"True\",\"hovertemplate\":\"<b>%{hovertext}</b><br><br>Primary=Fairy<br>Generation=%{x}<br>percentage_male=%{y}<extra></extra>\",\"hovertext\":[\"Clefairy\",\"Clefable\",\"Cleffa\",\"Togepi\",\"Togetic\",\"Snubbull\",\"Granbull\",\"Togekiss\"],\"legendgroup\":\"Fairy\",\"marker\":{\"color\":\"#D685AD\",\"pattern\":{\"shape\":\"\"}},\"name\":\"Fairy\",\"offsetgroup\":\"Fairy\",\"orientation\":\"v\",\"showlegend\":true,\"textposition\":\"auto\",\"x\":[1,1,2,2,2,2,2,4],\"xaxis\":\"x\",\"y\":[24.6,24.6,24.6,88.1,88.1,24.6,24.6,88.1],\"yaxis\":\"y\",\"type\":\"bar\"},{\"alignmentgroup\":\"True\",\"hovertemplate\":\"<b>%{hovertext}</b><br><br>Primary=Fighting<br>Generation=%{x}<br>percentage_male=%{y}<extra></extra>\",\"hovertext\":[\"Mankey\",\"Primeape\",\"Machop\",\"Machoke\",\"Machamp\",\"Hitmonlee\",\"Hitmonchan\",\"Tyrogue\",\"Hitmontop\",\"Makuhita\",\"Hariyama\",\"Meditite\",\"Medicham\",\"Riolu\",\"Lucario\",\"Timburr\",\"Gurdurr\",\"Conkeldurr\",\"Throh\",\"Sawk\",\"Mienfoo\",\"Mienshao\"],\"legendgroup\":\"Fighting\",\"marker\":{\"color\":\"#C22E28\",\"pattern\":{\"shape\":\"\"}},\"name\":\"Fighting\",\"offsetgroup\":\"Fighting\",\"orientation\":\"v\",\"showlegend\":true,\"textposition\":\"auto\",\"x\":[1,1,1,1,1,1,1,2,2,3,3,3,3,4,4,5,5,5,5,5,5,5],\"xaxis\":\"x\",\"y\":[50.0,50.0,75.4,75.4,75.4,100.0,100.0,100.0,100.0,75.4,75.4,50.0,50.0,88.1,88.1,75.4,75.4,75.4,100.0,100.0,50.0,50.0],\"yaxis\":\"y\",\"type\":\"bar\"},{\"alignmentgroup\":\"True\",\"hovertemplate\":\"<b>%{hovertext}</b><br><br>Primary=Psychic<br>Generation=%{x}<br>percentage_male=%{y}<extra></extra>\",\"hovertext\":[\"Abra\",\"Kadabra\",\"Alakazam\",\"Drowzee\",\"Hypno\",\"Mr.\",\"Mewtwo\",\"Mew\",\"Natu\",\"Xatu\",\"Espeon\",\"Unown\",\"Wobbuffet\",\"Lugia\",\"Celebi\",\"Ralts\",\"Kirlia\",\"Gardevoir\",\"Spoink\",\"Grumpig\",\"Chimecho\",\"Wynaut\",\"Deoxys\",\"Chingling\",\"Mime\",\"Gallade\",\"Uxie\",\"Mesprit\",\"Azelf\",\"Cresselia\",\"Victini\",\"Munna\",\"Musharna\",\"Woobat\",\"Swoobat\",\"Sigilyph\",\"Gothita\",\"Gothorita\",\"Gothitelle\",\"Solosis\",\"Duosion\",\"Reuniclus\",\"Elgyem\",\"Beheeyem\"],\"legendgroup\":\"Psychic\",\"marker\":{\"color\":\"#F95587\",\"pattern\":{\"shape\":\"\"}},\"name\":\"Psychic\",\"offsetgroup\":\"Psychic\",\"orientation\":\"v\",\"showlegend\":true,\"textposition\":\"auto\",\"x\":[1,1,1,1,1,1,1,1,2,2,2,2,2,2,2,3,3,3,3,3,3,3,3,4,4,4,4,4,4,4,5,5,5,5,5,5,5,5,5,5,5,5,5,5],\"xaxis\":\"x\",\"y\":[75.4,75.4,75.4,50.0,50.0,50.0,null,null,50.0,50.0,88.1,null,50.0,null,null,50.0,50.0,50.0,50.0,50.0,50.0,50.0,null,50.0,50.0,100.0,null,null,null,0.0,null,50.0,50.0,50.0,50.0,50.0,24.6,24.6,24.6,50.0,50.0,50.0,50.0,50.0],\"yaxis\":\"y\",\"type\":\"bar\"},{\"alignmentgroup\":\"True\",\"hovertemplate\":\"<b>%{hovertext}</b><br><br>Primary=Rock<br>Generation=%{x}<br>percentage_male=%{y}<extra></extra>\",\"hovertext\":[\"Geodude\",\"Graveler\",\"Golem\",\"Onix\",\"Omanyte\",\"Omastar\",\"Kabuto\",\"Kabutops\",\"Aerodactyl\",\"Sudowoodo\",\"Larvitar\",\"Pupitar\",\"Tyranitar\",\"Nosepass\",\"Lunatone\",\"Solrock\",\"Lileep\",\"Cradily\",\"Anorith\",\"Armaldo\",\"Regirock\",\"Cranidos\",\"Rampardos\",\"Shieldon\",\"Bastiodon\",\"Bonsly\",\"Probopass\",\"Roggenrola\",\"Boldore\",\"Gigalith\",\"Archen\",\"Archeops\",\"Terrakion\"],\"legendgroup\":\"Rock\",\"marker\":{\"color\":\"#B6A136\",\"pattern\":{\"shape\":\"\"}},\"name\":\"Rock\",\"offsetgroup\":\"Rock\",\"orientation\":\"v\",\"showlegend\":true,\"textposition\":\"auto\",\"x\":[1,1,1,1,1,1,1,1,1,2,2,2,2,3,3,3,3,3,3,3,3,4,4,4,4,4,4,5,5,5,5,5,5],\"xaxis\":\"x\",\"y\":[50.0,50.0,50.0,50.0,88.1,88.1,88.1,88.1,88.1,50.0,50.0,50.0,50.0,50.0,null,null,88.1,88.1,88.1,88.1,null,88.1,88.1,88.1,88.1,50.0,50.0,50.0,50.0,50.0,88.1,88.1,null],\"yaxis\":\"y\",\"type\":\"bar\"},{\"alignmentgroup\":\"True\",\"hovertemplate\":\"<b>%{hovertext}</b><br><br>Primary=Ghost<br>Generation=%{x}<br>percentage_male=%{y}<extra></extra>\",\"hovertext\":[\"Gastly\",\"Haunter\",\"Gengar\",\"Misdreavus\",\"Shuppet\",\"Banette\",\"Duskull\",\"Dusclops\",\"Drifloon\",\"Drifblim\",\"Mismagius\",\"Spiritomb\",\"Dusknoir\",\"Giratina\",\"Yamask\",\"Cofagrigus\",\"Litwick\",\"Lampent\",\"Chandelure\"],\"legendgroup\":\"Ghost\",\"marker\":{\"color\":\"#735797\",\"pattern\":{\"shape\":\"\"}},\"name\":\"Ghost\",\"offsetgroup\":\"Ghost\",\"orientation\":\"v\",\"showlegend\":true,\"textposition\":\"auto\",\"x\":[1,1,1,2,3,3,3,3,4,4,4,4,4,4,5,5,5,5,5],\"xaxis\":\"x\",\"y\":[50.0,50.0,50.0,50.0,50.0,50.0,50.0,50.0,50.0,50.0,50.0,50.0,50.0,null,50.0,50.0,50.0,50.0,50.0],\"yaxis\":\"y\",\"type\":\"bar\"},{\"alignmentgroup\":\"True\",\"hovertemplate\":\"<b>%{hovertext}</b><br><br>Primary=Ice<br>Generation=%{x}<br>percentage_male=%{y}<extra></extra>\",\"hovertext\":[\"Jynx\",\"Articuno\",\"Swinub\",\"Piloswine\",\"Delibird\",\"Smoochum\",\"Snorunt\",\"Glalie\",\"Spheal\",\"Sealeo\",\"Walrein\",\"Regice\",\"Glaceon\",\"Mamoswine\",\"Froslass\",\"Vanillite\",\"Vanillish\",\"Vanilluxe\",\"Cubchoo\",\"Beartic\",\"Cryogonal\"],\"legendgroup\":\"Ice\",\"marker\":{\"color\":\"#96D9D6\",\"pattern\":{\"shape\":\"\"}},\"name\":\"Ice\",\"offsetgroup\":\"Ice\",\"orientation\":\"v\",\"showlegend\":true,\"textposition\":\"auto\",\"x\":[1,1,2,2,2,2,3,3,3,3,3,3,4,4,4,5,5,5,5,5,5],\"xaxis\":\"x\",\"y\":[0.0,null,50.0,50.0,50.0,0.0,50.0,50.0,50.0,50.0,50.0,null,88.1,50.0,0.0,50.0,50.0,50.0,50.0,50.0,null],\"yaxis\":\"y\",\"type\":\"bar\"},{\"alignmentgroup\":\"True\",\"hovertemplate\":\"<b>%{hovertext}</b><br><br>Primary=Dragon<br>Generation=%{x}<br>percentage_male=%{y}<extra></extra>\",\"hovertext\":[\"Dratini\",\"Dragonair\",\"Dragonite\",\"Altaria\",\"Bagon\",\"Shelgon\",\"Salamence\",\"Latias\",\"Latios\",\"Rayquaza\",\"Gible\",\"Gabite\",\"Garchomp\",\"Axew\",\"Fraxure\",\"Haxorus\",\"Druddigon\",\"Reshiram\",\"Zekrom\",\"Kyurem\"],\"legendgroup\":\"Dragon\",\"marker\":{\"color\":\"#6F35FC\",\"pattern\":{\"shape\":\"\"}},\"name\":\"Dragon\",\"offsetgroup\":\"Dragon\",\"orientation\":\"v\",\"showlegend\":true,\"textposition\":\"auto\",\"x\":[1,1,1,3,3,3,3,3,3,3,4,4,4,5,5,5,5,5,5,5],\"xaxis\":\"x\",\"y\":[50.0,50.0,50.0,50.0,50.0,50.0,50.0,0.0,100.0,null,50.0,50.0,50.0,50.0,50.0,50.0,50.0,null,null,null],\"yaxis\":\"y\",\"type\":\"bar\"},{\"alignmentgroup\":\"True\",\"hovertemplate\":\"<b>%{hovertext}</b><br><br>Primary=Dark<br>Generation=%{x}<br>percentage_male=%{y}<extra></extra>\",\"hovertext\":[\"Umbreon\",\"Murkrow\",\"Sneasel\",\"Houndour\",\"Houndoom\",\"Poochyena\",\"Mightyena\",\"Sableye\",\"Absol\",\"Honchkrow\",\"Weavile\",\"Darkrai\",\"Purrloin\",\"Liepard\",\"Scraggy\",\"Scrafty\",\"Zorua\",\"Zoroark\",\"Pawniard\",\"Bisharp\",\"Vullaby\",\"Mandibuzz\",\"Deino\",\"Zweilous\",\"Hydreigon\"],\"legendgroup\":\"Dark\",\"marker\":{\"color\":\"#705746\",\"pattern\":{\"shape\":\"\"}},\"name\":\"Dark\",\"offsetgroup\":\"Dark\",\"orientation\":\"v\",\"showlegend\":true,\"textposition\":\"auto\",\"x\":[2,2,2,2,2,3,3,3,3,4,4,4,5,5,5,5,5,5,5,5,5,5,5,5,5],\"xaxis\":\"x\",\"y\":[88.1,50.0,50.0,50.0,50.0,50.0,50.0,50.0,50.0,50.0,50.0,null,50.0,50.0,50.0,50.0,88.1,88.1,50.0,50.0,0.0,0.0,50.0,50.0,50.0],\"yaxis\":\"y\",\"type\":\"bar\"},{\"alignmentgroup\":\"True\",\"hovertemplate\":\"<b>%{hovertext}</b><br><br>Primary=Steel<br>Generation=%{x}<br>percentage_male=%{y}<extra></extra>\",\"hovertext\":[\"Steelix\",\"Skarmory\",\"Mawile\",\"Aron\",\"Lairon\",\"Aggron\",\"Beldum\",\"Metang\",\"Metagross\",\"Registeel\",\"Jirachi\",\"Bronzor\",\"Bronzong\",\"Dialga\",\"Klink\",\"Klang\",\"Klinklang\",\"Cobalion\"],\"legendgroup\":\"Steel\",\"marker\":{\"color\":\"#B7B7CE\",\"pattern\":{\"shape\":\"\"}},\"name\":\"Steel\",\"offsetgroup\":\"Steel\",\"orientation\":\"v\",\"showlegend\":true,\"textposition\":\"auto\",\"x\":[2,2,3,3,3,3,3,3,3,3,3,4,4,4,5,5,5,5],\"xaxis\":\"x\",\"y\":[50.0,50.0,50.0,50.0,50.0,50.0,null,null,null,null,null,null,null,null,null,null,null,null],\"yaxis\":\"y\",\"type\":\"bar\"},{\"alignmentgroup\":\"True\",\"hovertemplate\":\"<b>%{hovertext}</b><br><br>Primary=Flying<br>Generation=%{x}<br>percentage_male=%{y}<extra></extra>\",\"hovertext\":[\"Tornadus\"],\"legendgroup\":\"Flying\",\"marker\":{\"color\":\"#A98FF3\",\"pattern\":{\"shape\":\"\"}},\"name\":\"Flying\",\"offsetgroup\":\"Flying\",\"orientation\":\"v\",\"showlegend\":true,\"textposition\":\"auto\",\"x\":[5],\"xaxis\":\"x\",\"y\":[100.0],\"yaxis\":\"y\",\"type\":\"bar\"}],                        {\"template\":{\"data\":{\"bar\":[{\"error_x\":{\"color\":\"#2a3f5f\"},\"error_y\":{\"color\":\"#2a3f5f\"},\"marker\":{\"line\":{\"color\":\"#E5ECF6\",\"width\":0.5},\"pattern\":{\"fillmode\":\"overlay\",\"size\":10,\"solidity\":0.2}},\"type\":\"bar\"}],\"barpolar\":[{\"marker\":{\"line\":{\"color\":\"#E5ECF6\",\"width\":0.5},\"pattern\":{\"fillmode\":\"overlay\",\"size\":10,\"solidity\":0.2}},\"type\":\"barpolar\"}],\"carpet\":[{\"aaxis\":{\"endlinecolor\":\"#2a3f5f\",\"gridcolor\":\"white\",\"linecolor\":\"white\",\"minorgridcolor\":\"white\",\"startlinecolor\":\"#2a3f5f\"},\"baxis\":{\"endlinecolor\":\"#2a3f5f\",\"gridcolor\":\"white\",\"linecolor\":\"white\",\"minorgridcolor\":\"white\",\"startlinecolor\":\"#2a3f5f\"},\"type\":\"carpet\"}],\"choropleth\":[{\"colorbar\":{\"outlinewidth\":0,\"ticks\":\"\"},\"type\":\"choropleth\"}],\"contour\":[{\"colorbar\":{\"outlinewidth\":0,\"ticks\":\"\"},\"colorscale\":[[0.0,\"#0d0887\"],[0.1111111111111111,\"#46039f\"],[0.2222222222222222,\"#7201a8\"],[0.3333333333333333,\"#9c179e\"],[0.4444444444444444,\"#bd3786\"],[0.5555555555555556,\"#d8576b\"],[0.6666666666666666,\"#ed7953\"],[0.7777777777777778,\"#fb9f3a\"],[0.8888888888888888,\"#fdca26\"],[1.0,\"#f0f921\"]],\"type\":\"contour\"}],\"contourcarpet\":[{\"colorbar\":{\"outlinewidth\":0,\"ticks\":\"\"},\"type\":\"contourcarpet\"}],\"heatmap\":[{\"colorbar\":{\"outlinewidth\":0,\"ticks\":\"\"},\"colorscale\":[[0.0,\"#0d0887\"],[0.1111111111111111,\"#46039f\"],[0.2222222222222222,\"#7201a8\"],[0.3333333333333333,\"#9c179e\"],[0.4444444444444444,\"#bd3786\"],[0.5555555555555556,\"#d8576b\"],[0.6666666666666666,\"#ed7953\"],[0.7777777777777778,\"#fb9f3a\"],[0.8888888888888888,\"#fdca26\"],[1.0,\"#f0f921\"]],\"type\":\"heatmap\"}],\"heatmapgl\":[{\"colorbar\":{\"outlinewidth\":0,\"ticks\":\"\"},\"colorscale\":[[0.0,\"#0d0887\"],[0.1111111111111111,\"#46039f\"],[0.2222222222222222,\"#7201a8\"],[0.3333333333333333,\"#9c179e\"],[0.4444444444444444,\"#bd3786\"],[0.5555555555555556,\"#d8576b\"],[0.6666666666666666,\"#ed7953\"],[0.7777777777777778,\"#fb9f3a\"],[0.8888888888888888,\"#fdca26\"],[1.0,\"#f0f921\"]],\"type\":\"heatmapgl\"}],\"histogram\":[{\"marker\":{\"pattern\":{\"fillmode\":\"overlay\",\"size\":10,\"solidity\":0.2}},\"type\":\"histogram\"}],\"histogram2d\":[{\"colorbar\":{\"outlinewidth\":0,\"ticks\":\"\"},\"colorscale\":[[0.0,\"#0d0887\"],[0.1111111111111111,\"#46039f\"],[0.2222222222222222,\"#7201a8\"],[0.3333333333333333,\"#9c179e\"],[0.4444444444444444,\"#bd3786\"],[0.5555555555555556,\"#d8576b\"],[0.6666666666666666,\"#ed7953\"],[0.7777777777777778,\"#fb9f3a\"],[0.8888888888888888,\"#fdca26\"],[1.0,\"#f0f921\"]],\"type\":\"histogram2d\"}],\"histogram2dcontour\":[{\"colorbar\":{\"outlinewidth\":0,\"ticks\":\"\"},\"colorscale\":[[0.0,\"#0d0887\"],[0.1111111111111111,\"#46039f\"],[0.2222222222222222,\"#7201a8\"],[0.3333333333333333,\"#9c179e\"],[0.4444444444444444,\"#bd3786\"],[0.5555555555555556,\"#d8576b\"],[0.6666666666666666,\"#ed7953\"],[0.7777777777777778,\"#fb9f3a\"],[0.8888888888888888,\"#fdca26\"],[1.0,\"#f0f921\"]],\"type\":\"histogram2dcontour\"}],\"mesh3d\":[{\"colorbar\":{\"outlinewidth\":0,\"ticks\":\"\"},\"type\":\"mesh3d\"}],\"parcoords\":[{\"line\":{\"colorbar\":{\"outlinewidth\":0,\"ticks\":\"\"}},\"type\":\"parcoords\"}],\"pie\":[{\"automargin\":true,\"type\":\"pie\"}],\"scatter\":[{\"marker\":{\"colorbar\":{\"outlinewidth\":0,\"ticks\":\"\"}},\"type\":\"scatter\"}],\"scatter3d\":[{\"line\":{\"colorbar\":{\"outlinewidth\":0,\"ticks\":\"\"}},\"marker\":{\"colorbar\":{\"outlinewidth\":0,\"ticks\":\"\"}},\"type\":\"scatter3d\"}],\"scattercarpet\":[{\"marker\":{\"colorbar\":{\"outlinewidth\":0,\"ticks\":\"\"}},\"type\":\"scattercarpet\"}],\"scattergeo\":[{\"marker\":{\"colorbar\":{\"outlinewidth\":0,\"ticks\":\"\"}},\"type\":\"scattergeo\"}],\"scattergl\":[{\"marker\":{\"colorbar\":{\"outlinewidth\":0,\"ticks\":\"\"}},\"type\":\"scattergl\"}],\"scattermapbox\":[{\"marker\":{\"colorbar\":{\"outlinewidth\":0,\"ticks\":\"\"}},\"type\":\"scattermapbox\"}],\"scatterpolar\":[{\"marker\":{\"colorbar\":{\"outlinewidth\":0,\"ticks\":\"\"}},\"type\":\"scatterpolar\"}],\"scatterpolargl\":[{\"marker\":{\"colorbar\":{\"outlinewidth\":0,\"ticks\":\"\"}},\"type\":\"scatterpolargl\"}],\"scatterternary\":[{\"marker\":{\"colorbar\":{\"outlinewidth\":0,\"ticks\":\"\"}},\"type\":\"scatterternary\"}],\"surface\":[{\"colorbar\":{\"outlinewidth\":0,\"ticks\":\"\"},\"colorscale\":[[0.0,\"#0d0887\"],[0.1111111111111111,\"#46039f\"],[0.2222222222222222,\"#7201a8\"],[0.3333333333333333,\"#9c179e\"],[0.4444444444444444,\"#bd3786\"],[0.5555555555555556,\"#d8576b\"],[0.6666666666666666,\"#ed7953\"],[0.7777777777777778,\"#fb9f3a\"],[0.8888888888888888,\"#fdca26\"],[1.0,\"#f0f921\"]],\"type\":\"surface\"}],\"table\":[{\"cells\":{\"fill\":{\"color\":\"#EBF0F8\"},\"line\":{\"color\":\"white\"}},\"header\":{\"fill\":{\"color\":\"#C8D4E3\"},\"line\":{\"color\":\"white\"}},\"type\":\"table\"}]},\"layout\":{\"annotationdefaults\":{\"arrowcolor\":\"#2a3f5f\",\"arrowhead\":0,\"arrowwidth\":1},\"autotypenumbers\":\"strict\",\"coloraxis\":{\"colorbar\":{\"outlinewidth\":0,\"ticks\":\"\"}},\"colorscale\":{\"diverging\":[[0,\"#8e0152\"],[0.1,\"#c51b7d\"],[0.2,\"#de77ae\"],[0.3,\"#f1b6da\"],[0.4,\"#fde0ef\"],[0.5,\"#f7f7f7\"],[0.6,\"#e6f5d0\"],[0.7,\"#b8e186\"],[0.8,\"#7fbc41\"],[0.9,\"#4d9221\"],[1,\"#276419\"]],\"sequential\":[[0.0,\"#0d0887\"],[0.1111111111111111,\"#46039f\"],[0.2222222222222222,\"#7201a8\"],[0.3333333333333333,\"#9c179e\"],[0.4444444444444444,\"#bd3786\"],[0.5555555555555556,\"#d8576b\"],[0.6666666666666666,\"#ed7953\"],[0.7777777777777778,\"#fb9f3a\"],[0.8888888888888888,\"#fdca26\"],[1.0,\"#f0f921\"]],\"sequentialminus\":[[0.0,\"#0d0887\"],[0.1111111111111111,\"#46039f\"],[0.2222222222222222,\"#7201a8\"],[0.3333333333333333,\"#9c179e\"],[0.4444444444444444,\"#bd3786\"],[0.5555555555555556,\"#d8576b\"],[0.6666666666666666,\"#ed7953\"],[0.7777777777777778,\"#fb9f3a\"],[0.8888888888888888,\"#fdca26\"],[1.0,\"#f0f921\"]]},\"colorway\":[\"#636efa\",\"#EF553B\",\"#00cc96\",\"#ab63fa\",\"#FFA15A\",\"#19d3f3\",\"#FF6692\",\"#B6E880\",\"#FF97FF\",\"#FECB52\"],\"font\":{\"color\":\"#2a3f5f\"},\"geo\":{\"bgcolor\":\"white\",\"lakecolor\":\"white\",\"landcolor\":\"#E5ECF6\",\"showlakes\":true,\"showland\":true,\"subunitcolor\":\"white\"},\"hoverlabel\":{\"align\":\"left\"},\"hovermode\":\"closest\",\"mapbox\":{\"style\":\"light\"},\"paper_bgcolor\":\"white\",\"plot_bgcolor\":\"#E5ECF6\",\"polar\":{\"angularaxis\":{\"gridcolor\":\"white\",\"linecolor\":\"white\",\"ticks\":\"\"},\"bgcolor\":\"#E5ECF6\",\"radialaxis\":{\"gridcolor\":\"white\",\"linecolor\":\"white\",\"ticks\":\"\"}},\"scene\":{\"xaxis\":{\"backgroundcolor\":\"#E5ECF6\",\"gridcolor\":\"white\",\"gridwidth\":2,\"linecolor\":\"white\",\"showbackground\":true,\"ticks\":\"\",\"zerolinecolor\":\"white\"},\"yaxis\":{\"backgroundcolor\":\"#E5ECF6\",\"gridcolor\":\"white\",\"gridwidth\":2,\"linecolor\":\"white\",\"showbackground\":true,\"ticks\":\"\",\"zerolinecolor\":\"white\"},\"zaxis\":{\"backgroundcolor\":\"#E5ECF6\",\"gridcolor\":\"white\",\"gridwidth\":2,\"linecolor\":\"white\",\"showbackground\":true,\"ticks\":\"\",\"zerolinecolor\":\"white\"}},\"shapedefaults\":{\"line\":{\"color\":\"#2a3f5f\"}},\"ternary\":{\"aaxis\":{\"gridcolor\":\"white\",\"linecolor\":\"white\",\"ticks\":\"\"},\"baxis\":{\"gridcolor\":\"white\",\"linecolor\":\"white\",\"ticks\":\"\"},\"bgcolor\":\"#E5ECF6\",\"caxis\":{\"gridcolor\":\"white\",\"linecolor\":\"white\",\"ticks\":\"\"}},\"title\":{\"x\":0.05},\"xaxis\":{\"automargin\":true,\"gridcolor\":\"white\",\"linecolor\":\"white\",\"ticks\":\"\",\"title\":{\"standoff\":15},\"zerolinecolor\":\"white\",\"zerolinewidth\":2},\"yaxis\":{\"automargin\":true,\"gridcolor\":\"white\",\"linecolor\":\"white\",\"ticks\":\"\",\"title\":{\"standoff\":15},\"zerolinecolor\":\"white\",\"zerolinewidth\":2}}},\"xaxis\":{\"anchor\":\"y\",\"domain\":[0.0,1.0],\"title\":{\"text\":\"Generation\"}},\"yaxis\":{\"anchor\":\"x\",\"domain\":[0.0,1.0],\"title\":{\"text\":\"percentage_male\"}},\"legend\":{\"title\":{\"text\":\"Primary\"},\"tracegroupgap\":0},\"margin\":{\"t\":60},\"barmode\":\"relative\"},                        {\"responsive\": true}                    ).then(function(){\n",
       "                            \n",
       "var gd = document.getElementById('596819e1-9e10-460a-b760-b2a2c848d2e5');\n",
       "var x = new MutationObserver(function (mutations, observer) {{\n",
       "        var display = window.getComputedStyle(gd).display;\n",
       "        if (!display || display === 'none') {{\n",
       "            console.log([gd, 'removed!']);\n",
       "            Plotly.purge(gd);\n",
       "            observer.disconnect();\n",
       "        }}\n",
       "}});\n",
       "\n",
       "// Listen for the removal of the full notebook cells\n",
       "var notebookContainer = gd.closest('#notebook-container');\n",
       "if (notebookContainer) {{\n",
       "    x.observe(notebookContainer, {childList: true});\n",
       "}}\n",
       "\n",
       "// Listen for the clearing of the current output cell\n",
       "var outputEl = gd.closest('.output');\n",
       "if (outputEl) {{\n",
       "    x.observe(outputEl, {childList: true});\n",
       "}}\n",
       "\n",
       "                        })                };                });            </script>        </div>"
      ]
     },
     "metadata": {},
     "output_type": "display_data"
    }
   ],
   "source": [
    "fig=px.bar(pokemon, x=\"Generation\", y=\"percentage_male\",\n",
    "           color=\"Primary\", color_discrete_map=colours, hover_name='Name')\n",
    "\n",
    "fig.show()"
   ]
  },
  {
   "cell_type": "code",
   "execution_count": 11,
   "id": "87a7a174",
   "metadata": {},
   "outputs": [
    {
     "data": {
      "text/html": [
       "<div>\n",
       "<style scoped>\n",
       "    .dataframe tbody tr th:only-of-type {\n",
       "        vertical-align: middle;\n",
       "    }\n",
       "\n",
       "    .dataframe tbody tr th {\n",
       "        vertical-align: top;\n",
       "    }\n",
       "\n",
       "    .dataframe thead th {\n",
       "        text-align: right;\n",
       "    }\n",
       "</style>\n",
       "<table border=\"1\" class=\"dataframe\">\n",
       "  <thead>\n",
       "    <tr style=\"text-align: right;\">\n",
       "      <th></th>\n",
       "      <th>Name</th>\n",
       "      <th>Stamina</th>\n",
       "      <th>Primary</th>\n",
       "      <th>MaxHP</th>\n",
       "      <th>Weight</th>\n",
       "      <th>Height</th>\n",
       "      <th>percentage_male</th>\n",
       "      <th>HP</th>\n",
       "      <th>Generation</th>\n",
       "      <th>Legendary</th>\n",
       "      <th>Percent_Male</th>\n",
       "    </tr>\n",
       "  </thead>\n",
       "  <tbody>\n",
       "    <tr>\n",
       "      <th>0</th>\n",
       "      <td>Bulbasaur</td>\n",
       "      <td>128</td>\n",
       "      <td>Grass</td>\n",
       "      <td>113</td>\n",
       "      <td>6.9</td>\n",
       "      <td>0.7</td>\n",
       "      <td>88.1</td>\n",
       "      <td>45</td>\n",
       "      <td>1</td>\n",
       "      <td>False</td>\n",
       "      <td>88.1</td>\n",
       "    </tr>\n",
       "    <tr>\n",
       "      <th>1</th>\n",
       "      <td>Ivysaur</td>\n",
       "      <td>155</td>\n",
       "      <td>Grass</td>\n",
       "      <td>134</td>\n",
       "      <td>13.0</td>\n",
       "      <td>1.0</td>\n",
       "      <td>88.1</td>\n",
       "      <td>60</td>\n",
       "      <td>1</td>\n",
       "      <td>False</td>\n",
       "      <td>88.1</td>\n",
       "    </tr>\n",
       "    <tr>\n",
       "      <th>2</th>\n",
       "      <td>Venusaur</td>\n",
       "      <td>190</td>\n",
       "      <td>Grass</td>\n",
       "      <td>162</td>\n",
       "      <td>100.0</td>\n",
       "      <td>2.0</td>\n",
       "      <td>88.1</td>\n",
       "      <td>80</td>\n",
       "      <td>1</td>\n",
       "      <td>False</td>\n",
       "      <td>88.1</td>\n",
       "    </tr>\n",
       "    <tr>\n",
       "      <th>3</th>\n",
       "      <td>Charmander</td>\n",
       "      <td>118</td>\n",
       "      <td>Fire</td>\n",
       "      <td>105</td>\n",
       "      <td>8.5</td>\n",
       "      <td>0.6</td>\n",
       "      <td>88.1</td>\n",
       "      <td>39</td>\n",
       "      <td>1</td>\n",
       "      <td>False</td>\n",
       "      <td>88.1</td>\n",
       "    </tr>\n",
       "    <tr>\n",
       "      <th>4</th>\n",
       "      <td>Charmeleon</td>\n",
       "      <td>151</td>\n",
       "      <td>Fire</td>\n",
       "      <td>131</td>\n",
       "      <td>19.0</td>\n",
       "      <td>1.1</td>\n",
       "      <td>88.1</td>\n",
       "      <td>58</td>\n",
       "      <td>1</td>\n",
       "      <td>False</td>\n",
       "      <td>88.1</td>\n",
       "    </tr>\n",
       "    <tr>\n",
       "      <th>...</th>\n",
       "      <td>...</td>\n",
       "      <td>...</td>\n",
       "      <td>...</td>\n",
       "      <td>...</td>\n",
       "      <td>...</td>\n",
       "      <td>...</td>\n",
       "      <td>...</td>\n",
       "      <td>...</td>\n",
       "      <td>...</td>\n",
       "      <td>...</td>\n",
       "      <td>...</td>\n",
       "    </tr>\n",
       "    <tr>\n",
       "      <th>644</th>\n",
       "      <td>Landorus</td>\n",
       "      <td>205</td>\n",
       "      <td>Ground</td>\n",
       "      <td>173</td>\n",
       "      <td>68.0</td>\n",
       "      <td>1.5</td>\n",
       "      <td>100.0</td>\n",
       "      <td>89</td>\n",
       "      <td>5</td>\n",
       "      <td>True</td>\n",
       "      <td>100.0</td>\n",
       "    </tr>\n",
       "    <tr>\n",
       "      <th>645</th>\n",
       "      <td>Kyurem</td>\n",
       "      <td>245</td>\n",
       "      <td>Dragon</td>\n",
       "      <td>205</td>\n",
       "      <td>325.0</td>\n",
       "      <td>3.0</td>\n",
       "      <td>NaN</td>\n",
       "      <td>125</td>\n",
       "      <td>5</td>\n",
       "      <td>True</td>\n",
       "      <td>NaN</td>\n",
       "    </tr>\n",
       "    <tr>\n",
       "      <th>646</th>\n",
       "      <td>Keldeo</td>\n",
       "      <td>209</td>\n",
       "      <td>Water</td>\n",
       "      <td>177</td>\n",
       "      <td>48.5</td>\n",
       "      <td>1.4</td>\n",
       "      <td>NaN</td>\n",
       "      <td>91</td>\n",
       "      <td>5</td>\n",
       "      <td>False</td>\n",
       "      <td>NaN</td>\n",
       "    </tr>\n",
       "    <tr>\n",
       "      <th>647</th>\n",
       "      <td>Meloetta</td>\n",
       "      <td>225</td>\n",
       "      <td>Normal</td>\n",
       "      <td>189</td>\n",
       "      <td>6.5</td>\n",
       "      <td>0.6</td>\n",
       "      <td>NaN</td>\n",
       "      <td>100</td>\n",
       "      <td>5</td>\n",
       "      <td>False</td>\n",
       "      <td>NaN</td>\n",
       "    </tr>\n",
       "    <tr>\n",
       "      <th>648</th>\n",
       "      <td>Genesect</td>\n",
       "      <td>174</td>\n",
       "      <td>Bug</td>\n",
       "      <td>149</td>\n",
       "      <td>82.5</td>\n",
       "      <td>1.5</td>\n",
       "      <td>NaN</td>\n",
       "      <td>71</td>\n",
       "      <td>5</td>\n",
       "      <td>False</td>\n",
       "      <td>NaN</td>\n",
       "    </tr>\n",
       "  </tbody>\n",
       "</table>\n",
       "<p>649 rows × 11 columns</p>\n",
       "</div>"
      ],
      "text/plain": [
       "           Name  Stamina Primary  MaxHP  Weight  Height  percentage_male   HP  \\\n",
       "0     Bulbasaur      128   Grass    113     6.9     0.7             88.1   45   \n",
       "1       Ivysaur      155   Grass    134    13.0     1.0             88.1   60   \n",
       "2      Venusaur      190   Grass    162   100.0     2.0             88.1   80   \n",
       "3    Charmander      118    Fire    105     8.5     0.6             88.1   39   \n",
       "4    Charmeleon      151    Fire    131    19.0     1.1             88.1   58   \n",
       "..          ...      ...     ...    ...     ...     ...              ...  ...   \n",
       "644    Landorus      205  Ground    173    68.0     1.5            100.0   89   \n",
       "645      Kyurem      245  Dragon    205   325.0     3.0              NaN  125   \n",
       "646      Keldeo      209   Water    177    48.5     1.4              NaN   91   \n",
       "647    Meloetta      225  Normal    189     6.5     0.6              NaN  100   \n",
       "648    Genesect      174     Bug    149    82.5     1.5              NaN   71   \n",
       "\n",
       "     Generation  Legendary Percent_Male  \n",
       "0             1      False         88.1  \n",
       "1             1      False         88.1  \n",
       "2             1      False         88.1  \n",
       "3             1      False         88.1  \n",
       "4             1      False         88.1  \n",
       "..          ...        ...          ...  \n",
       "644           5       True        100.0  \n",
       "645           5       True          NaN  \n",
       "646           5      False          NaN  \n",
       "647           5      False          NaN  \n",
       "648           5      False          NaN  \n",
       "\n",
       "[649 rows x 11 columns]"
      ]
     },
     "execution_count": 11,
     "metadata": {},
     "output_type": "execute_result"
    }
   ],
   "source": [
    "#making new column with percent male as a categorical variable\n",
    "pokemon[\"Percent_Male\"] = pokemon[\"percentage_male\"].astype(\"category\")\n",
    "#type(pokemon['percentage_male'])\n",
    "pokemon"
   ]
  },
  {
   "cell_type": "code",
   "execution_count": 14,
   "id": "ab8f07fa",
   "metadata": {},
   "outputs": [
    {
     "data": {
      "application/vnd.plotly.v1+json": {
       "config": {
        "plotlyServerURL": "https://plot.ly"
       },
       "data": [
        {
         "alignmentgroup": "True",
         "customdata": [
          [
           1
          ],
          [
           1
          ],
          [
           1
          ],
          [
           1
          ],
          [
           1
          ],
          [
           1
          ],
          [
           1
          ],
          [
           1
          ],
          [
           1
          ],
          [
           1
          ],
          [
           1
          ],
          [
           1
          ],
          [
           1
          ],
          [
           1
          ],
          [
           1
          ],
          [
           1
          ],
          [
           1
          ],
          [
           1
          ],
          [
           1
          ],
          [
           1
          ],
          [
           1
          ],
          [
           1
          ],
          [
           1
          ],
          [
           1
          ],
          [
           1
          ],
          [
           1
          ],
          [
           1
          ],
          [
           1
          ],
          [
           1
          ],
          [
           1
          ],
          [
           1
          ],
          [
           1
          ],
          [
           1
          ],
          [
           1
          ],
          [
           1
          ],
          [
           1
          ],
          [
           1
          ],
          [
           1
          ],
          [
           1
          ],
          [
           1
          ],
          [
           1
          ],
          [
           1
          ],
          [
           1
          ],
          [
           1
          ],
          [
           1
          ],
          [
           1
          ],
          [
           1
          ],
          [
           1
          ],
          [
           1
          ],
          [
           1
          ],
          [
           1
          ],
          [
           1
          ],
          [
           1
          ],
          [
           1
          ],
          [
           1
          ],
          [
           1
          ],
          [
           1
          ],
          [
           1
          ],
          [
           1
          ],
          [
           1
          ],
          [
           1
          ],
          [
           1
          ],
          [
           1
          ],
          [
           1
          ],
          [
           1
          ],
          [
           1
          ],
          [
           1
          ],
          [
           1
          ],
          [
           1
          ],
          [
           1
          ],
          [
           1
          ],
          [
           1
          ],
          [
           1
          ],
          [
           1
          ],
          [
           1
          ],
          [
           1
          ],
          [
           1
          ],
          [
           1
          ],
          [
           1
          ],
          [
           1
          ],
          [
           1
          ],
          [
           1
          ],
          [
           1
          ],
          [
           1
          ],
          [
           1
          ],
          [
           1
          ],
          [
           1
          ],
          [
           1
          ],
          [
           1
          ],
          [
           1
          ],
          [
           1
          ],
          [
           1
          ],
          [
           1
          ],
          [
           1
          ],
          [
           1
          ],
          [
           1
          ],
          [
           1
          ],
          [
           1
          ],
          [
           1
          ],
          [
           1
          ],
          [
           1
          ],
          [
           1
          ],
          [
           1
          ],
          [
           1
          ],
          [
           1
          ],
          [
           1
          ],
          [
           1
          ],
          [
           1
          ],
          [
           1
          ],
          [
           1
          ],
          [
           1
          ],
          [
           1
          ],
          [
           1
          ],
          [
           1
          ],
          [
           1
          ],
          [
           1
          ],
          [
           1
          ],
          [
           1
          ],
          [
           1
          ],
          [
           1
          ],
          [
           1
          ],
          [
           1
          ],
          [
           1
          ],
          [
           1
          ],
          [
           1
          ],
          [
           1
          ],
          [
           1
          ],
          [
           1
          ],
          [
           1
          ],
          [
           1
          ],
          [
           1
          ],
          [
           1
          ],
          [
           1
          ],
          [
           1
          ],
          [
           1
          ],
          [
           1
          ],
          [
           1
          ],
          [
           1
          ],
          [
           1
          ],
          [
           1
          ],
          [
           1
          ],
          [
           1
          ],
          [
           1
          ],
          [
           1
          ],
          [
           1
          ],
          [
           1
          ],
          [
           1
          ],
          [
           1
          ],
          [
           1
          ],
          [
           1
          ],
          [
           1
          ],
          [
           2
          ],
          [
           2
          ],
          [
           2
          ],
          [
           2
          ],
          [
           2
          ],
          [
           2
          ],
          [
           2
          ],
          [
           2
          ],
          [
           2
          ],
          [
           2
          ],
          [
           2
          ],
          [
           2
          ],
          [
           2
          ],
          [
           2
          ],
          [
           2
          ],
          [
           2
          ],
          [
           2
          ],
          [
           2
          ],
          [
           2
          ],
          [
           2
          ],
          [
           2
          ],
          [
           2
          ],
          [
           2
          ],
          [
           2
          ],
          [
           2
          ],
          [
           2
          ],
          [
           2
          ],
          [
           2
          ],
          [
           2
          ],
          [
           2
          ],
          [
           2
          ],
          [
           2
          ],
          [
           2
          ],
          [
           2
          ],
          [
           2
          ],
          [
           2
          ],
          [
           2
          ],
          [
           2
          ],
          [
           2
          ],
          [
           2
          ],
          [
           2
          ],
          [
           2
          ],
          [
           2
          ],
          [
           2
          ],
          [
           2
          ],
          [
           2
          ],
          [
           2
          ],
          [
           2
          ],
          [
           2
          ],
          [
           2
          ],
          [
           2
          ],
          [
           2
          ],
          [
           2
          ],
          [
           2
          ],
          [
           2
          ],
          [
           2
          ],
          [
           2
          ],
          [
           2
          ],
          [
           2
          ],
          [
           2
          ],
          [
           2
          ],
          [
           2
          ],
          [
           2
          ],
          [
           2
          ],
          [
           2
          ],
          [
           2
          ],
          [
           2
          ],
          [
           2
          ],
          [
           2
          ],
          [
           2
          ],
          [
           2
          ],
          [
           2
          ],
          [
           2
          ],
          [
           2
          ],
          [
           2
          ],
          [
           2
          ],
          [
           2
          ],
          [
           2
          ],
          [
           2
          ],
          [
           2
          ],
          [
           2
          ],
          [
           2
          ],
          [
           2
          ],
          [
           2
          ],
          [
           2
          ],
          [
           2
          ],
          [
           2
          ],
          [
           2
          ],
          [
           2
          ],
          [
           2
          ],
          [
           2
          ],
          [
           2
          ],
          [
           2
          ],
          [
           2
          ],
          [
           2
          ],
          [
           2
          ],
          [
           2
          ],
          [
           2
          ],
          [
           2
          ],
          [
           2
          ],
          [
           3
          ],
          [
           3
          ],
          [
           3
          ],
          [
           3
          ],
          [
           3
          ],
          [
           3
          ],
          [
           3
          ],
          [
           3
          ],
          [
           3
          ],
          [
           3
          ],
          [
           3
          ],
          [
           3
          ],
          [
           3
          ],
          [
           3
          ],
          [
           3
          ],
          [
           3
          ],
          [
           3
          ],
          [
           3
          ],
          [
           3
          ],
          [
           3
          ],
          [
           3
          ],
          [
           3
          ],
          [
           3
          ],
          [
           3
          ],
          [
           3
          ],
          [
           3
          ],
          [
           3
          ],
          [
           3
          ],
          [
           3
          ],
          [
           3
          ],
          [
           3
          ],
          [
           3
          ],
          [
           3
          ],
          [
           3
          ],
          [
           3
          ],
          [
           3
          ],
          [
           3
          ],
          [
           3
          ],
          [
           3
          ],
          [
           3
          ],
          [
           3
          ],
          [
           3
          ],
          [
           3
          ],
          [
           3
          ],
          [
           3
          ],
          [
           3
          ],
          [
           3
          ],
          [
           3
          ],
          [
           3
          ],
          [
           3
          ],
          [
           3
          ],
          [
           3
          ],
          [
           3
          ],
          [
           3
          ],
          [
           3
          ],
          [
           3
          ],
          [
           3
          ],
          [
           3
          ],
          [
           3
          ],
          [
           3
          ],
          [
           3
          ],
          [
           3
          ],
          [
           3
          ],
          [
           3
          ],
          [
           3
          ],
          [
           3
          ],
          [
           3
          ],
          [
           3
          ],
          [
           3
          ],
          [
           3
          ],
          [
           3
          ],
          [
           3
          ],
          [
           3
          ],
          [
           3
          ],
          [
           3
          ],
          [
           3
          ],
          [
           3
          ],
          [
           3
          ],
          [
           3
          ],
          [
           3
          ],
          [
           3
          ],
          [
           3
          ],
          [
           3
          ],
          [
           3
          ],
          [
           3
          ],
          [
           3
          ],
          [
           3
          ],
          [
           3
          ],
          [
           3
          ],
          [
           3
          ],
          [
           3
          ],
          [
           3
          ],
          [
           3
          ],
          [
           3
          ],
          [
           3
          ],
          [
           3
          ],
          [
           3
          ],
          [
           3
          ],
          [
           3
          ],
          [
           3
          ],
          [
           3
          ],
          [
           3
          ],
          [
           3
          ],
          [
           3
          ],
          [
           3
          ],
          [
           3
          ],
          [
           3
          ],
          [
           3
          ],
          [
           3
          ],
          [
           3
          ],
          [
           3
          ],
          [
           3
          ],
          [
           3
          ],
          [
           3
          ],
          [
           3
          ],
          [
           3
          ],
          [
           3
          ],
          [
           3
          ],
          [
           3
          ],
          [
           3
          ],
          [
           3
          ],
          [
           3
          ],
          [
           3
          ],
          [
           3
          ],
          [
           3
          ],
          [
           3
          ],
          [
           3
          ],
          [
           3
          ],
          [
           3
          ],
          [
           3
          ],
          [
           3
          ],
          [
           3
          ],
          [
           3
          ],
          [
           3
          ],
          [
           3
          ],
          [
           4
          ],
          [
           4
          ],
          [
           4
          ],
          [
           4
          ],
          [
           4
          ],
          [
           4
          ],
          [
           4
          ],
          [
           4
          ],
          [
           4
          ],
          [
           4
          ],
          [
           4
          ],
          [
           4
          ],
          [
           4
          ],
          [
           4
          ],
          [
           4
          ],
          [
           4
          ],
          [
           4
          ],
          [
           4
          ],
          [
           4
          ],
          [
           4
          ],
          [
           4
          ],
          [
           4
          ],
          [
           4
          ],
          [
           4
          ],
          [
           4
          ],
          [
           4
          ],
          [
           4
          ],
          [
           4
          ],
          [
           4
          ],
          [
           4
          ],
          [
           4
          ],
          [
           4
          ],
          [
           4
          ],
          [
           4
          ],
          [
           4
          ],
          [
           4
          ],
          [
           4
          ],
          [
           4
          ],
          [
           4
          ],
          [
           4
          ],
          [
           4
          ],
          [
           4
          ],
          [
           4
          ],
          [
           4
          ],
          [
           4
          ],
          [
           4
          ],
          [
           4
          ],
          [
           4
          ],
          [
           4
          ],
          [
           4
          ],
          [
           4
          ],
          [
           4
          ],
          [
           4
          ],
          [
           4
          ],
          [
           4
          ],
          [
           4
          ],
          [
           4
          ],
          [
           4
          ],
          [
           4
          ],
          [
           4
          ],
          [
           4
          ],
          [
           4
          ],
          [
           4
          ],
          [
           4
          ],
          [
           4
          ],
          [
           4
          ],
          [
           4
          ],
          [
           4
          ],
          [
           4
          ],
          [
           4
          ],
          [
           4
          ],
          [
           4
          ],
          [
           4
          ],
          [
           4
          ],
          [
           4
          ],
          [
           4
          ],
          [
           4
          ],
          [
           4
          ],
          [
           4
          ],
          [
           4
          ],
          [
           4
          ],
          [
           4
          ],
          [
           4
          ],
          [
           4
          ],
          [
           4
          ],
          [
           4
          ],
          [
           4
          ],
          [
           4
          ],
          [
           4
          ],
          [
           4
          ],
          [
           4
          ],
          [
           4
          ],
          [
           4
          ],
          [
           4
          ],
          [
           4
          ],
          [
           4
          ],
          [
           4
          ],
          [
           4
          ],
          [
           4
          ],
          [
           4
          ],
          [
           4
          ],
          [
           4
          ],
          [
           4
          ],
          [
           4
          ],
          [
           4
          ],
          [
           4
          ],
          [
           4
          ],
          [
           5
          ],
          [
           5
          ],
          [
           5
          ],
          [
           5
          ],
          [
           5
          ],
          [
           5
          ],
          [
           5
          ],
          [
           5
          ],
          [
           5
          ],
          [
           5
          ],
          [
           5
          ],
          [
           5
          ],
          [
           5
          ],
          [
           5
          ],
          [
           5
          ],
          [
           5
          ],
          [
           5
          ],
          [
           5
          ],
          [
           5
          ],
          [
           5
          ],
          [
           5
          ],
          [
           5
          ],
          [
           5
          ],
          [
           5
          ],
          [
           5
          ],
          [
           5
          ],
          [
           5
          ],
          [
           5
          ],
          [
           5
          ],
          [
           5
          ],
          [
           5
          ],
          [
           5
          ],
          [
           5
          ],
          [
           5
          ],
          [
           5
          ],
          [
           5
          ],
          [
           5
          ],
          [
           5
          ],
          [
           5
          ],
          [
           5
          ],
          [
           5
          ],
          [
           5
          ],
          [
           5
          ],
          [
           5
          ],
          [
           5
          ],
          [
           5
          ],
          [
           5
          ],
          [
           5
          ],
          [
           5
          ],
          [
           5
          ],
          [
           5
          ],
          [
           5
          ],
          [
           5
          ],
          [
           5
          ],
          [
           5
          ],
          [
           5
          ],
          [
           5
          ],
          [
           5
          ],
          [
           5
          ],
          [
           5
          ],
          [
           5
          ],
          [
           5
          ],
          [
           5
          ],
          [
           5
          ],
          [
           5
          ],
          [
           5
          ],
          [
           5
          ],
          [
           5
          ],
          [
           5
          ],
          [
           5
          ],
          [
           5
          ],
          [
           5
          ],
          [
           5
          ],
          [
           5
          ],
          [
           5
          ],
          [
           5
          ],
          [
           5
          ],
          [
           5
          ],
          [
           5
          ],
          [
           5
          ],
          [
           5
          ],
          [
           5
          ],
          [
           5
          ],
          [
           5
          ],
          [
           5
          ],
          [
           5
          ],
          [
           5
          ],
          [
           5
          ],
          [
           5
          ],
          [
           5
          ],
          [
           5
          ],
          [
           5
          ],
          [
           5
          ],
          [
           5
          ],
          [
           5
          ],
          [
           5
          ],
          [
           5
          ],
          [
           5
          ],
          [
           5
          ],
          [
           5
          ],
          [
           5
          ],
          [
           5
          ],
          [
           5
          ],
          [
           5
          ],
          [
           5
          ],
          [
           5
          ],
          [
           5
          ],
          [
           5
          ],
          [
           5
          ],
          [
           5
          ],
          [
           5
          ],
          [
           5
          ],
          [
           5
          ],
          [
           5
          ],
          [
           5
          ],
          [
           5
          ],
          [
           5
          ],
          [
           5
          ],
          [
           5
          ],
          [
           5
          ],
          [
           5
          ],
          [
           5
          ],
          [
           5
          ],
          [
           5
          ],
          [
           5
          ],
          [
           5
          ],
          [
           5
          ],
          [
           5
          ],
          [
           5
          ],
          [
           5
          ],
          [
           5
          ],
          [
           5
          ],
          [
           5
          ],
          [
           5
          ],
          [
           5
          ],
          [
           5
          ],
          [
           5
          ],
          [
           5
          ],
          [
           5
          ],
          [
           5
          ],
          [
           5
          ],
          [
           5
          ],
          [
           5
          ],
          [
           5
          ],
          [
           5
          ],
          [
           5
          ],
          [
           5
          ],
          [
           5
          ],
          [
           5
          ],
          [
           5
          ],
          [
           5
          ],
          [
           5
          ],
          [
           5
          ],
          [
           5
          ],
          [
           5
          ],
          [
           5
          ]
         ],
         "hovertemplate": "<b>%{hovertext}</b><br><br>Percent_Male=%{x}<br>count=%{y}<br>Generation=%{marker.color}<extra></extra>",
         "hovertext": [
          "Bulbasaur",
          "Ivysaur",
          "Venusaur",
          "Charmander",
          "Charmeleon",
          "Charizard",
          "Squirtle",
          "Wartortle",
          "Blastoise",
          "Caterpie",
          "Metapod",
          "Butterfree",
          "Weedle",
          "Kakuna",
          "Beedrill",
          "Pidgey",
          "Pidgeotto",
          "Pidgeot",
          "Rattata",
          "Raticate",
          "Spearow",
          "Fearow",
          "Ekans",
          "Arbok",
          "Pikachu",
          "Raichu",
          "Sandshrew",
          "Sandslash",
          "Nidoran♀",
          "Nidorina",
          "Nidoqueen",
          "Nidoran♂",
          "Nidorino",
          "Nidoking",
          "Clefairy",
          "Clefable",
          "Vulpix",
          "Ninetales",
          "Jigglypuff",
          "Wigglytuff",
          "Zubat",
          "Golbat",
          "Oddish",
          "Gloom",
          "Vileplume",
          "Paras",
          "Parasect",
          "Venonat",
          "Venomoth",
          "Diglett",
          "Dugtrio",
          "Meowth",
          "Persian",
          "Psyduck",
          "Golduck",
          "Mankey",
          "Primeape",
          "Growlithe",
          "Arcanine",
          "Poliwag",
          "Poliwhirl",
          "Poliwrath",
          "Abra",
          "Kadabra",
          "Alakazam",
          "Machop",
          "Machoke",
          "Machamp",
          "Bellsprout",
          "Weepinbell",
          "Victreebel",
          "Tentacool",
          "Tentacruel",
          "Geodude",
          "Graveler",
          "Golem",
          "Ponyta",
          "Rapidash",
          "Slowpoke",
          "Slowbro",
          "Magnemite",
          "Magneton",
          "Farfetch'd",
          "Doduo",
          "Dodrio",
          "Seel",
          "Dewgong",
          "Grimer",
          "Muk",
          "Shellder",
          "Cloyster",
          "Gastly",
          "Haunter",
          "Gengar",
          "Onix",
          "Drowzee",
          "Hypno",
          "Krabby",
          "Kingler",
          "Voltorb",
          "Electrode",
          "Exeggcute",
          "Exeggutor",
          "Cubone",
          "Marowak",
          "Hitmonlee",
          "Hitmonchan",
          "Lickitung",
          "Koffing",
          "Weezing",
          "Rhyhorn",
          "Rhydon",
          "Chansey",
          "Tangela",
          "Kangaskhan",
          "Horsea",
          "Seadra",
          "Goldeen",
          "Seaking",
          "Staryu",
          "Starmie",
          "Mr.",
          "Scyther",
          "Jynx",
          "Electabuzz",
          "Magmar",
          "Pinsir",
          "Tauros",
          "Magikarp",
          "Gyarados",
          "Lapras",
          "Ditto",
          "Eevee",
          "Vaporeon",
          "Jolteon",
          "Flareon",
          "Porygon",
          "Omanyte",
          "Omastar",
          "Kabuto",
          "Kabutops",
          "Aerodactyl",
          "Snorlax",
          "Articuno",
          "Zapdos",
          "Moltres",
          "Dratini",
          "Dragonair",
          "Dragonite",
          "Mewtwo",
          "Mew",
          "Chikorita",
          "Bayleef",
          "Meganium",
          "Cyndaquil",
          "Quilava",
          "Typhlosion",
          "Totodile",
          "Croconaw",
          "Feraligatr",
          "Sentret",
          "Furret",
          "Hoothoot",
          "Noctowl",
          "Ledyba",
          "Ledian",
          "Spinarak",
          "Ariados",
          "Crobat",
          "Chinchou",
          "Lanturn",
          "Pichu",
          "Cleffa",
          "Igglybuff",
          "Togepi",
          "Togetic",
          "Natu",
          "Xatu",
          "Mareep",
          "Flaaffy",
          "Ampharos",
          "Bellossom",
          "Marill",
          "Azumarill",
          "Sudowoodo",
          "Politoed",
          "Hoppip",
          "Skiploom",
          "Jumpluff",
          "Aipom",
          "Sunkern",
          "Sunflora",
          "Yanma",
          "Wooper",
          "Quagsire",
          "Espeon",
          "Umbreon",
          "Murkrow",
          "Slowking",
          "Misdreavus",
          "Unown",
          "Wobbuffet",
          "Girafarig",
          "Pineco",
          "Forretress",
          "Dunsparce",
          "Gligar",
          "Steelix",
          "Snubbull",
          "Granbull",
          "Qwilfish",
          "Scizor",
          "Shuckle",
          "Heracross",
          "Sneasel",
          "Teddiursa",
          "Ursaring",
          "Slugma",
          "Magcargo",
          "Swinub",
          "Piloswine",
          "Corsola",
          "Remoraid",
          "Octillery",
          "Delibird",
          "Mantine",
          "Skarmory",
          "Houndour",
          "Houndoom",
          "Kingdra",
          "Phanpy",
          "Donphan",
          "Porygon2",
          "Stantler",
          "Smeargle",
          "Tyrogue",
          "Hitmontop",
          "Smoochum",
          "Elekid",
          "Magby",
          "Miltank",
          "Blissey",
          "Raikou",
          "Entei",
          "Suicune",
          "Larvitar",
          "Pupitar",
          "Tyranitar",
          "Lugia",
          "Ho-Oh",
          "Celebi",
          "Treecko",
          "Grovyle",
          "Sceptile",
          "Torchic",
          "Combusken",
          "Blaziken",
          "Mudkip",
          "Marshtomp",
          "Swampert",
          "Poochyena",
          "Mightyena",
          "Zigzagoon",
          "Linoone",
          "Wurmple",
          "Silcoon",
          "Beautifly",
          "Cascoon",
          "Dustox",
          "Lotad",
          "Lombre",
          "Ludicolo",
          "Seedot",
          "Nuzleaf",
          "Shiftry",
          "Taillow",
          "Swellow",
          "Wingull",
          "Pelipper",
          "Ralts",
          "Kirlia",
          "Gardevoir",
          "Surskit",
          "Masquerain",
          "Shroomish",
          "Breloom",
          "Slakoth",
          "Vigoroth",
          "Slaking",
          "Nincada",
          "Ninjask",
          "Shedinja",
          "Whismur",
          "Loudred",
          "Exploud",
          "Makuhita",
          "Hariyama",
          "Azurill",
          "Nosepass",
          "Skitty",
          "Delcatty",
          "Sableye",
          "Mawile",
          "Aron",
          "Lairon",
          "Aggron",
          "Meditite",
          "Medicham",
          "Electrike",
          "Manectric",
          "Plusle",
          "Minun",
          "Volbeat",
          "Illumise",
          "Roselia",
          "Gulpin",
          "Swalot",
          "Carvanha",
          "Sharpedo",
          "Wailmer",
          "Wailord",
          "Numel",
          "Camerupt",
          "Torkoal",
          "Spoink",
          "Grumpig",
          "Spinda",
          "Trapinch",
          "Vibrava",
          "Flygon",
          "Cacnea",
          "Cacturne",
          "Swablu",
          "Altaria",
          "Zangoose",
          "Seviper",
          "Lunatone",
          "Solrock",
          "Barboach",
          "Whiscash",
          "Corphish",
          "Crawdaunt",
          "Baltoy",
          "Claydol",
          "Lileep",
          "Cradily",
          "Anorith",
          "Armaldo",
          "Feebas",
          "Milotic",
          "Castform",
          "Kecleon",
          "Shuppet",
          "Banette",
          "Duskull",
          "Dusclops",
          "Tropius",
          "Chimecho",
          "Absol",
          "Wynaut",
          "Snorunt",
          "Glalie",
          "Spheal",
          "Sealeo",
          "Walrein",
          "Clamperl",
          "Huntail",
          "Gorebyss",
          "Relicanth",
          "Luvdisc",
          "Bagon",
          "Shelgon",
          "Salamence",
          "Beldum",
          "Metang",
          "Metagross",
          "Regirock",
          "Regice",
          "Registeel",
          "Latias",
          "Latios",
          "Kyogre",
          "Groudon",
          "Rayquaza",
          "Jirachi",
          "Deoxys",
          "Turtwig",
          "Grotle",
          "Torterra",
          "Chimchar",
          "Monferno",
          "Infernape",
          "Piplup",
          "Prinplup",
          "Empoleon",
          "Starly",
          "Staravia",
          "Staraptor",
          "Bidoof",
          "Bibarel",
          "Kricketot",
          "Kricketune",
          "Shinx",
          "Luxio",
          "Luxray",
          "Budew",
          "Roserade",
          "Cranidos",
          "Rampardos",
          "Shieldon",
          "Bastiodon",
          "Burmy",
          "Wormadam",
          "Mothim",
          "Combee",
          "Vespiquen",
          "Pachirisu",
          "Buizel",
          "Floatzel",
          "Cherubi",
          "Cherrim",
          "Shellos",
          "Gastrodon",
          "Ambipom",
          "Drifloon",
          "Drifblim",
          "Buneary",
          "Lopunny",
          "Mismagius",
          "Honchkrow",
          "Glameow",
          "Purugly",
          "Chingling",
          "Stunky",
          "Skuntank",
          "Bronzor",
          "Bronzong",
          "Bonsly",
          "Mime",
          "Happiny",
          "Chatot",
          "Spiritomb",
          "Gible",
          "Gabite",
          "Garchomp",
          "Munchlax",
          "Riolu",
          "Lucario",
          "Hippopotas",
          "Hippowdon",
          "Skorupi",
          "Drapion",
          "Croagunk",
          "Toxicroak",
          "Carnivine",
          "Finneon",
          "Lumineon",
          "Mantyke",
          "Snover",
          "Abomasnow",
          "Weavile",
          "Magnezone",
          "Lickilicky",
          "Rhyperior",
          "Tangrowth",
          "Electivire",
          "Magmortar",
          "Togekiss",
          "Yanmega",
          "Leafeon",
          "Glaceon",
          "Gliscor",
          "Mamoswine",
          "Porygon-Z",
          "Gallade",
          "Probopass",
          "Dusknoir",
          "Froslass",
          "Rotom",
          "Uxie",
          "Mesprit",
          "Azelf",
          "Dialga",
          "Palkia",
          "Heatran",
          "Regigigas",
          "Giratina",
          "Cresselia",
          "Phione",
          "Manaphy",
          "Darkrai",
          "Shaymin",
          "Arceus",
          "Victini",
          "Snivy",
          "Servine",
          "Serperior",
          "Tepig",
          "Pignite",
          "Emboar",
          "Oshawott",
          "Dewott",
          "Samurott",
          "Patrat",
          "Watchog",
          "Lillipup",
          "Herdier",
          "Stoutland",
          "Purrloin",
          "Liepard",
          "Pansage",
          "Simisage",
          "Pansear",
          "Simisear",
          "Panpour",
          "Simipour",
          "Munna",
          "Musharna",
          "Pidove",
          "Tranquill",
          "Unfezant",
          "Blitzle",
          "Zebstrika",
          "Roggenrola",
          "Boldore",
          "Gigalith",
          "Woobat",
          "Swoobat",
          "Drilbur",
          "Excadrill",
          "Audino",
          "Timburr",
          "Gurdurr",
          "Conkeldurr",
          "Tympole",
          "Palpitoad",
          "Seismitoad",
          "Throh",
          "Sawk",
          "Sewaddle",
          "Swadloon",
          "Leavanny",
          "Venipede",
          "Whirlipede",
          "Scolipede",
          "Cottonee",
          "Whimsicott",
          "Petilil",
          "Lilligant",
          "Basculin",
          "Sandile",
          "Krokorok",
          "Krookodile",
          "Darumaka",
          "Darmanitan",
          "Maractus",
          "Dwebble",
          "Crustle",
          "Scraggy",
          "Scrafty",
          "Sigilyph",
          "Yamask",
          "Cofagrigus",
          "Tirtouga",
          "Carracosta",
          "Archen",
          "Archeops",
          "Trubbish",
          "Garbodor",
          "Zorua",
          "Zoroark",
          "Minccino",
          "Cinccino",
          "Gothita",
          "Gothorita",
          "Gothitelle",
          "Solosis",
          "Duosion",
          "Reuniclus",
          "Ducklett",
          "Swanna",
          "Vanillite",
          "Vanillish",
          "Vanilluxe",
          "Deerling",
          "Sawsbuck",
          "Emolga",
          "Karrablast",
          "Escavalier",
          "Foongus",
          "Amoonguss",
          "Frillish",
          "Jellicent",
          "Alomomola",
          "Joltik",
          "Galvantula",
          "Ferroseed",
          "Ferrothorn",
          "Klink",
          "Klang",
          "Klinklang",
          "Tynamo",
          "Eelektrik",
          "Eelektross",
          "Elgyem",
          "Beheeyem",
          "Litwick",
          "Lampent",
          "Chandelure",
          "Axew",
          "Fraxure",
          "Haxorus",
          "Cubchoo",
          "Beartic",
          "Cryogonal",
          "Shelmet",
          "Accelgor",
          "Stunfisk",
          "Mienfoo",
          "Mienshao",
          "Druddigon",
          "Golett",
          "Golurk",
          "Pawniard",
          "Bisharp",
          "Bouffalant",
          "Rufflet",
          "Braviary",
          "Vullaby",
          "Mandibuzz",
          "Heatmor",
          "Durant",
          "Deino",
          "Zweilous",
          "Hydreigon",
          "Larvesta",
          "Volcarona",
          "Cobalion",
          "Terrakion",
          "Virizion",
          "Tornadus",
          "Thundurus",
          "Reshiram",
          "Zekrom",
          "Landorus",
          "Kyurem",
          "Keldeo",
          "Meloetta",
          "Genesect"
         ],
         "legendgroup": "",
         "marker": {
          "color": [
           1,
           1,
           1,
           1,
           1,
           1,
           1,
           1,
           1,
           1,
           1,
           1,
           1,
           1,
           1,
           1,
           1,
           1,
           1,
           1,
           1,
           1,
           1,
           1,
           1,
           1,
           1,
           1,
           1,
           1,
           1,
           1,
           1,
           1,
           1,
           1,
           1,
           1,
           1,
           1,
           1,
           1,
           1,
           1,
           1,
           1,
           1,
           1,
           1,
           1,
           1,
           1,
           1,
           1,
           1,
           1,
           1,
           1,
           1,
           1,
           1,
           1,
           1,
           1,
           1,
           1,
           1,
           1,
           1,
           1,
           1,
           1,
           1,
           1,
           1,
           1,
           1,
           1,
           1,
           1,
           1,
           1,
           1,
           1,
           1,
           1,
           1,
           1,
           1,
           1,
           1,
           1,
           1,
           1,
           1,
           1,
           1,
           1,
           1,
           1,
           1,
           1,
           1,
           1,
           1,
           1,
           1,
           1,
           1,
           1,
           1,
           1,
           1,
           1,
           1,
           1,
           1,
           1,
           1,
           1,
           1,
           1,
           1,
           1,
           1,
           1,
           1,
           1,
           1,
           1,
           1,
           1,
           1,
           1,
           1,
           1,
           1,
           1,
           1,
           1,
           1,
           1,
           1,
           1,
           1,
           1,
           1,
           1,
           1,
           1,
           1,
           2,
           2,
           2,
           2,
           2,
           2,
           2,
           2,
           2,
           2,
           2,
           2,
           2,
           2,
           2,
           2,
           2,
           2,
           2,
           2,
           2,
           2,
           2,
           2,
           2,
           2,
           2,
           2,
           2,
           2,
           2,
           2,
           2,
           2,
           2,
           2,
           2,
           2,
           2,
           2,
           2,
           2,
           2,
           2,
           2,
           2,
           2,
           2,
           2,
           2,
           2,
           2,
           2,
           2,
           2,
           2,
           2,
           2,
           2,
           2,
           2,
           2,
           2,
           2,
           2,
           2,
           2,
           2,
           2,
           2,
           2,
           2,
           2,
           2,
           2,
           2,
           2,
           2,
           2,
           2,
           2,
           2,
           2,
           2,
           2,
           2,
           2,
           2,
           2,
           2,
           2,
           2,
           2,
           2,
           2,
           2,
           2,
           2,
           2,
           2,
           3,
           3,
           3,
           3,
           3,
           3,
           3,
           3,
           3,
           3,
           3,
           3,
           3,
           3,
           3,
           3,
           3,
           3,
           3,
           3,
           3,
           3,
           3,
           3,
           3,
           3,
           3,
           3,
           3,
           3,
           3,
           3,
           3,
           3,
           3,
           3,
           3,
           3,
           3,
           3,
           3,
           3,
           3,
           3,
           3,
           3,
           3,
           3,
           3,
           3,
           3,
           3,
           3,
           3,
           3,
           3,
           3,
           3,
           3,
           3,
           3,
           3,
           3,
           3,
           3,
           3,
           3,
           3,
           3,
           3,
           3,
           3,
           3,
           3,
           3,
           3,
           3,
           3,
           3,
           3,
           3,
           3,
           3,
           3,
           3,
           3,
           3,
           3,
           3,
           3,
           3,
           3,
           3,
           3,
           3,
           3,
           3,
           3,
           3,
           3,
           3,
           3,
           3,
           3,
           3,
           3,
           3,
           3,
           3,
           3,
           3,
           3,
           3,
           3,
           3,
           3,
           3,
           3,
           3,
           3,
           3,
           3,
           3,
           3,
           3,
           3,
           3,
           3,
           3,
           3,
           3,
           3,
           3,
           3,
           3,
           4,
           4,
           4,
           4,
           4,
           4,
           4,
           4,
           4,
           4,
           4,
           4,
           4,
           4,
           4,
           4,
           4,
           4,
           4,
           4,
           4,
           4,
           4,
           4,
           4,
           4,
           4,
           4,
           4,
           4,
           4,
           4,
           4,
           4,
           4,
           4,
           4,
           4,
           4,
           4,
           4,
           4,
           4,
           4,
           4,
           4,
           4,
           4,
           4,
           4,
           4,
           4,
           4,
           4,
           4,
           4,
           4,
           4,
           4,
           4,
           4,
           4,
           4,
           4,
           4,
           4,
           4,
           4,
           4,
           4,
           4,
           4,
           4,
           4,
           4,
           4,
           4,
           4,
           4,
           4,
           4,
           4,
           4,
           4,
           4,
           4,
           4,
           4,
           4,
           4,
           4,
           4,
           4,
           4,
           4,
           4,
           4,
           4,
           4,
           4,
           4,
           4,
           4,
           4,
           4,
           4,
           4,
           5,
           5,
           5,
           5,
           5,
           5,
           5,
           5,
           5,
           5,
           5,
           5,
           5,
           5,
           5,
           5,
           5,
           5,
           5,
           5,
           5,
           5,
           5,
           5,
           5,
           5,
           5,
           5,
           5,
           5,
           5,
           5,
           5,
           5,
           5,
           5,
           5,
           5,
           5,
           5,
           5,
           5,
           5,
           5,
           5,
           5,
           5,
           5,
           5,
           5,
           5,
           5,
           5,
           5,
           5,
           5,
           5,
           5,
           5,
           5,
           5,
           5,
           5,
           5,
           5,
           5,
           5,
           5,
           5,
           5,
           5,
           5,
           5,
           5,
           5,
           5,
           5,
           5,
           5,
           5,
           5,
           5,
           5,
           5,
           5,
           5,
           5,
           5,
           5,
           5,
           5,
           5,
           5,
           5,
           5,
           5,
           5,
           5,
           5,
           5,
           5,
           5,
           5,
           5,
           5,
           5,
           5,
           5,
           5,
           5,
           5,
           5,
           5,
           5,
           5,
           5,
           5,
           5,
           5,
           5,
           5,
           5,
           5,
           5,
           5,
           5,
           5,
           5,
           5,
           5,
           5,
           5,
           5,
           5,
           5,
           5,
           5,
           5,
           5,
           5,
           5,
           5,
           5,
           5,
           5,
           5,
           5,
           5,
           5,
           5,
           5,
           5,
           5,
           5,
           5,
           5
          ],
          "coloraxis": "coloraxis",
          "pattern": {
           "shape": ""
          }
         },
         "name": "",
         "offsetgroup": "",
         "orientation": "v",
         "showlegend": false,
         "textposition": "auto",
         "type": "bar",
         "x": [
          88.1,
          88.1,
          88.1,
          88.1,
          88.1,
          88.1,
          88.1,
          88.1,
          88.1,
          50,
          50,
          50,
          50,
          50,
          50,
          50,
          50,
          50,
          50,
          50,
          50,
          50,
          50,
          50,
          50,
          50,
          50,
          50,
          0,
          0,
          0,
          100,
          100,
          100,
          24.6,
          24.6,
          24.6,
          24.6,
          24.6,
          24.6,
          50,
          50,
          50,
          50,
          50,
          50,
          50,
          50,
          50,
          50,
          50,
          50,
          50,
          50,
          50,
          50,
          50,
          75.4,
          75.4,
          50,
          50,
          50,
          75.4,
          75.4,
          75.4,
          75.4,
          75.4,
          75.4,
          50,
          50,
          50,
          50,
          50,
          50,
          50,
          50,
          50,
          50,
          50,
          50,
          null,
          null,
          50,
          50,
          50,
          50,
          50,
          50,
          50,
          50,
          50,
          50,
          50,
          50,
          50,
          50,
          50,
          50,
          50,
          null,
          null,
          50,
          50,
          50,
          50,
          100,
          100,
          50,
          50,
          50,
          50,
          50,
          0,
          50,
          0,
          50,
          50,
          50,
          50,
          null,
          null,
          50,
          50,
          0,
          75.4,
          75.4,
          50,
          100,
          50,
          50,
          50,
          null,
          88.1,
          88.1,
          88.1,
          88.1,
          null,
          88.1,
          88.1,
          88.1,
          88.1,
          88.1,
          88.1,
          null,
          null,
          null,
          50,
          50,
          50,
          null,
          null,
          88.1,
          88.1,
          88.1,
          88.1,
          88.1,
          88.1,
          88.1,
          88.1,
          88.1,
          50,
          50,
          50,
          50,
          50,
          50,
          50,
          50,
          50,
          50,
          50,
          50,
          24.6,
          24.6,
          88.1,
          88.1,
          50,
          50,
          50,
          50,
          50,
          50,
          50,
          50,
          50,
          50,
          50,
          50,
          50,
          50,
          50,
          50,
          50,
          50,
          50,
          88.1,
          88.1,
          50,
          50,
          50,
          null,
          50,
          50,
          50,
          50,
          50,
          50,
          50,
          24.6,
          24.6,
          50,
          50,
          50,
          50,
          50,
          50,
          50,
          50,
          50,
          50,
          50,
          24.6,
          50,
          50,
          50,
          50,
          50,
          50,
          50,
          50,
          50,
          50,
          null,
          50,
          50,
          100,
          100,
          0,
          75.4,
          75.4,
          0,
          0,
          null,
          null,
          null,
          50,
          50,
          50,
          null,
          null,
          null,
          88.1,
          88.1,
          88.1,
          88.1,
          88.1,
          88.1,
          88.1,
          88.1,
          88.1,
          50,
          50,
          50,
          50,
          50,
          50,
          50,
          50,
          50,
          50,
          50,
          50,
          50,
          50,
          50,
          50,
          50,
          50,
          50,
          50,
          50,
          50,
          50,
          50,
          50,
          50,
          50,
          50,
          50,
          50,
          50,
          null,
          50,
          50,
          50,
          75.4,
          75.4,
          24.6,
          50,
          24.6,
          24.6,
          50,
          50,
          50,
          50,
          50,
          50,
          50,
          50,
          50,
          50,
          50,
          100,
          0,
          50,
          50,
          50,
          50,
          50,
          50,
          50,
          50,
          50,
          50,
          50,
          50,
          50,
          50,
          50,
          50,
          50,
          50,
          50,
          50,
          50,
          50,
          null,
          null,
          50,
          50,
          50,
          50,
          null,
          null,
          88.1,
          88.1,
          88.1,
          88.1,
          50,
          50,
          50,
          50,
          50,
          50,
          50,
          50,
          50,
          50,
          50,
          50,
          50,
          50,
          50,
          50,
          50,
          50,
          50,
          50,
          88.1,
          24.6,
          50,
          50,
          50,
          null,
          null,
          null,
          null,
          null,
          null,
          0,
          100,
          null,
          null,
          null,
          null,
          null,
          88.1,
          88.1,
          88.1,
          88.1,
          88.1,
          88.1,
          88.1,
          88.1,
          88.1,
          50,
          50,
          50,
          50,
          50,
          50,
          50,
          50,
          50,
          50,
          50,
          50,
          88.1,
          88.1,
          88.1,
          88.1,
          50,
          0,
          100,
          88.1,
          0,
          50,
          50,
          50,
          50,
          50,
          50,
          50,
          50,
          50,
          50,
          50,
          50,
          50,
          50,
          24.6,
          24.6,
          50,
          50,
          50,
          null,
          null,
          50,
          50,
          0,
          50,
          50,
          50,
          50,
          50,
          88.1,
          88.1,
          88.1,
          50,
          50,
          50,
          50,
          50,
          50,
          50,
          50,
          50,
          50,
          50,
          50,
          50,
          null,
          50,
          50,
          50,
          75.4,
          75.4,
          88.1,
          50,
          88.1,
          88.1,
          50,
          50,
          null,
          100,
          50,
          50,
          0,
          null,
          null,
          null,
          null,
          null,
          null,
          50,
          null,
          null,
          0,
          null,
          null,
          null,
          null,
          null,
          null,
          88.1,
          88.1,
          88.1,
          88.1,
          88.1,
          88.1,
          88.1,
          88.1,
          88.1,
          50,
          50,
          50,
          50,
          50,
          50,
          50,
          88.1,
          88.1,
          88.1,
          88.1,
          88.1,
          88.1,
          50,
          50,
          50,
          50,
          50,
          50,
          50,
          50,
          50,
          50,
          50,
          50,
          50,
          50,
          50,
          75.4,
          75.4,
          75.4,
          50,
          50,
          50,
          100,
          100,
          50,
          50,
          50,
          50,
          50,
          50,
          50,
          50,
          0,
          0,
          50,
          50,
          50,
          50,
          50,
          50,
          50,
          50,
          50,
          50,
          50,
          50,
          50,
          50,
          88.1,
          88.1,
          88.1,
          88.1,
          50,
          50,
          88.1,
          88.1,
          24.6,
          24.6,
          24.6,
          24.6,
          24.6,
          50,
          50,
          50,
          50,
          50,
          50,
          50,
          50,
          50,
          50,
          50,
          50,
          50,
          50,
          50,
          50,
          50,
          50,
          50,
          50,
          50,
          50,
          null,
          null,
          null,
          50,
          50,
          50,
          50,
          50,
          50,
          50,
          50,
          50,
          50,
          50,
          50,
          50,
          null,
          50,
          50,
          50,
          50,
          50,
          50,
          null,
          null,
          50,
          50,
          50,
          100,
          100,
          0,
          0,
          50,
          50,
          50,
          50,
          50,
          50,
          50,
          null,
          null,
          null,
          100,
          100,
          null,
          null,
          100,
          null,
          null,
          null,
          null
         ],
         "xaxis": "x",
         "y": [
          1,
          1,
          1,
          1,
          1,
          1,
          1,
          1,
          1,
          1,
          1,
          1,
          1,
          1,
          1,
          1,
          1,
          1,
          1,
          1,
          1,
          1,
          1,
          1,
          1,
          1,
          1,
          1,
          1,
          1,
          1,
          1,
          1,
          1,
          1,
          1,
          1,
          1,
          1,
          1,
          1,
          1,
          1,
          1,
          1,
          1,
          1,
          1,
          1,
          1,
          1,
          1,
          1,
          1,
          1,
          1,
          1,
          1,
          1,
          1,
          1,
          1,
          1,
          1,
          1,
          1,
          1,
          1,
          1,
          1,
          1,
          1,
          1,
          1,
          1,
          1,
          1,
          1,
          1,
          1,
          1,
          1,
          1,
          1,
          1,
          1,
          1,
          1,
          1,
          1,
          1,
          1,
          1,
          1,
          1,
          1,
          1,
          1,
          1,
          1,
          1,
          1,
          1,
          1,
          1,
          1,
          1,
          1,
          1,
          1,
          1,
          1,
          1,
          1,
          1,
          1,
          1,
          1,
          1,
          1,
          1,
          1,
          1,
          1,
          1,
          1,
          1,
          1,
          1,
          1,
          1,
          1,
          1,
          1,
          1,
          1,
          1,
          1,
          1,
          1,
          1,
          1,
          1,
          1,
          1,
          1,
          1,
          1,
          1,
          1,
          1,
          1,
          1,
          1,
          1,
          1,
          1,
          1,
          1,
          1,
          1,
          1,
          1,
          1,
          1,
          1,
          1,
          1,
          1,
          1,
          1,
          1,
          1,
          1,
          1,
          1,
          1,
          1,
          1,
          1,
          1,
          1,
          1,
          1,
          1,
          1,
          1,
          1,
          1,
          1,
          1,
          1,
          1,
          1,
          1,
          1,
          1,
          1,
          1,
          1,
          1,
          1,
          1,
          1,
          1,
          1,
          1,
          1,
          1,
          1,
          1,
          1,
          1,
          1,
          1,
          1,
          1,
          1,
          1,
          1,
          1,
          1,
          1,
          1,
          1,
          1,
          1,
          1,
          1,
          1,
          1,
          1,
          1,
          1,
          1,
          1,
          1,
          1,
          1,
          1,
          1,
          1,
          1,
          1,
          1,
          1,
          1,
          1,
          1,
          1,
          1,
          1,
          1,
          1,
          1,
          1,
          1,
          1,
          1,
          1,
          1,
          1,
          1,
          1,
          1,
          1,
          1,
          1,
          1,
          1,
          1,
          1,
          1,
          1,
          1,
          1,
          1,
          1,
          1,
          1,
          1,
          1,
          1,
          1,
          1,
          1,
          1,
          1,
          1,
          1,
          1,
          1,
          1,
          1,
          1,
          1,
          1,
          1,
          1,
          1,
          1,
          1,
          1,
          1,
          1,
          1,
          1,
          1,
          1,
          1,
          1,
          1,
          1,
          1,
          1,
          1,
          1,
          1,
          1,
          1,
          1,
          1,
          1,
          1,
          1,
          1,
          1,
          1,
          1,
          1,
          1,
          1,
          1,
          1,
          1,
          1,
          1,
          1,
          1,
          1,
          1,
          1,
          1,
          1,
          1,
          1,
          1,
          1,
          1,
          1,
          1,
          1,
          1,
          1,
          1,
          1,
          1,
          1,
          1,
          1,
          1,
          1,
          1,
          1,
          1,
          1,
          1,
          1,
          1,
          1,
          1,
          1,
          1,
          1,
          1,
          1,
          1,
          1,
          1,
          1,
          1,
          1,
          1,
          1,
          1,
          1,
          1,
          1,
          1,
          1,
          1,
          1,
          1,
          1,
          1,
          1,
          1,
          1,
          1,
          1,
          1,
          1,
          1,
          1,
          1,
          1,
          1,
          1,
          1,
          1,
          1,
          1,
          1,
          1,
          1,
          1,
          1,
          1,
          1,
          1,
          1,
          1,
          1,
          1,
          1,
          1,
          1,
          1,
          1,
          1,
          1,
          1,
          1,
          1,
          1,
          1,
          1,
          1,
          1,
          1,
          1,
          1,
          1,
          1,
          1,
          1,
          1,
          1,
          1,
          1,
          1,
          1,
          1,
          1,
          1,
          1,
          1,
          1,
          1,
          1,
          1,
          1,
          1,
          1,
          1,
          1,
          1,
          1,
          1,
          1,
          1,
          1,
          1,
          1,
          1,
          1,
          1,
          1,
          1,
          1,
          1,
          1,
          1,
          1,
          1,
          1,
          1,
          1,
          1,
          1,
          1,
          1,
          1,
          1,
          1,
          1,
          1,
          1,
          1,
          1,
          1,
          1,
          1,
          1,
          1,
          1,
          1,
          1,
          1,
          1,
          1,
          1,
          1,
          1,
          1,
          1,
          1,
          1,
          1,
          1,
          1,
          1,
          1,
          1,
          1,
          1,
          1,
          1,
          1,
          1,
          1,
          1,
          1,
          1,
          1,
          1,
          1,
          1,
          1,
          1,
          1,
          1,
          1,
          1,
          1,
          1,
          1,
          1,
          1,
          1,
          1,
          1,
          1,
          1,
          1,
          1,
          1,
          1,
          1,
          1,
          1,
          1,
          1,
          1,
          1,
          1,
          1,
          1,
          1,
          1,
          1,
          1,
          1,
          1,
          1,
          1,
          1,
          1,
          1,
          1,
          1,
          1,
          1,
          1,
          1,
          1,
          1,
          1,
          1,
          1,
          1,
          1,
          1,
          1,
          1,
          1,
          1,
          1,
          1,
          1,
          1,
          1,
          1,
          1,
          1,
          1,
          1,
          1,
          1,
          1,
          1,
          1,
          1,
          1,
          1,
          1,
          1,
          1,
          1,
          1,
          1,
          1,
          1,
          1,
          1,
          1,
          1,
          1,
          1,
          1,
          1,
          1,
          1,
          1,
          1,
          1,
          1,
          1,
          1,
          1,
          1,
          1,
          1,
          1,
          1,
          1,
          1,
          1,
          1
         ],
         "yaxis": "y"
        }
       ],
       "layout": {
        "barmode": "relative",
        "coloraxis": {
         "colorbar": {
          "title": {
           "text": "Generation"
          }
         },
         "colorscale": [
          [
           0,
           "#0d0887"
          ],
          [
           0.1111111111111111,
           "#46039f"
          ],
          [
           0.2222222222222222,
           "#7201a8"
          ],
          [
           0.3333333333333333,
           "#9c179e"
          ],
          [
           0.4444444444444444,
           "#bd3786"
          ],
          [
           0.5555555555555556,
           "#d8576b"
          ],
          [
           0.6666666666666666,
           "#ed7953"
          ],
          [
           0.7777777777777778,
           "#fb9f3a"
          ],
          [
           0.8888888888888888,
           "#fdca26"
          ],
          [
           1,
           "#f0f921"
          ]
         ]
        },
        "legend": {
         "tracegroupgap": 0
        },
        "margin": {
         "t": 60
        },
        "template": {
         "data": {
          "bar": [
           {
            "error_x": {
             "color": "#2a3f5f"
            },
            "error_y": {
             "color": "#2a3f5f"
            },
            "marker": {
             "line": {
              "color": "#E5ECF6",
              "width": 0.5
             },
             "pattern": {
              "fillmode": "overlay",
              "size": 10,
              "solidity": 0.2
             }
            },
            "type": "bar"
           }
          ],
          "barpolar": [
           {
            "marker": {
             "line": {
              "color": "#E5ECF6",
              "width": 0.5
             },
             "pattern": {
              "fillmode": "overlay",
              "size": 10,
              "solidity": 0.2
             }
            },
            "type": "barpolar"
           }
          ],
          "carpet": [
           {
            "aaxis": {
             "endlinecolor": "#2a3f5f",
             "gridcolor": "white",
             "linecolor": "white",
             "minorgridcolor": "white",
             "startlinecolor": "#2a3f5f"
            },
            "baxis": {
             "endlinecolor": "#2a3f5f",
             "gridcolor": "white",
             "linecolor": "white",
             "minorgridcolor": "white",
             "startlinecolor": "#2a3f5f"
            },
            "type": "carpet"
           }
          ],
          "choropleth": [
           {
            "colorbar": {
             "outlinewidth": 0,
             "ticks": ""
            },
            "type": "choropleth"
           }
          ],
          "contour": [
           {
            "colorbar": {
             "outlinewidth": 0,
             "ticks": ""
            },
            "colorscale": [
             [
              0,
              "#0d0887"
             ],
             [
              0.1111111111111111,
              "#46039f"
             ],
             [
              0.2222222222222222,
              "#7201a8"
             ],
             [
              0.3333333333333333,
              "#9c179e"
             ],
             [
              0.4444444444444444,
              "#bd3786"
             ],
             [
              0.5555555555555556,
              "#d8576b"
             ],
             [
              0.6666666666666666,
              "#ed7953"
             ],
             [
              0.7777777777777778,
              "#fb9f3a"
             ],
             [
              0.8888888888888888,
              "#fdca26"
             ],
             [
              1,
              "#f0f921"
             ]
            ],
            "type": "contour"
           }
          ],
          "contourcarpet": [
           {
            "colorbar": {
             "outlinewidth": 0,
             "ticks": ""
            },
            "type": "contourcarpet"
           }
          ],
          "heatmap": [
           {
            "colorbar": {
             "outlinewidth": 0,
             "ticks": ""
            },
            "colorscale": [
             [
              0,
              "#0d0887"
             ],
             [
              0.1111111111111111,
              "#46039f"
             ],
             [
              0.2222222222222222,
              "#7201a8"
             ],
             [
              0.3333333333333333,
              "#9c179e"
             ],
             [
              0.4444444444444444,
              "#bd3786"
             ],
             [
              0.5555555555555556,
              "#d8576b"
             ],
             [
              0.6666666666666666,
              "#ed7953"
             ],
             [
              0.7777777777777778,
              "#fb9f3a"
             ],
             [
              0.8888888888888888,
              "#fdca26"
             ],
             [
              1,
              "#f0f921"
             ]
            ],
            "type": "heatmap"
           }
          ],
          "heatmapgl": [
           {
            "colorbar": {
             "outlinewidth": 0,
             "ticks": ""
            },
            "colorscale": [
             [
              0,
              "#0d0887"
             ],
             [
              0.1111111111111111,
              "#46039f"
             ],
             [
              0.2222222222222222,
              "#7201a8"
             ],
             [
              0.3333333333333333,
              "#9c179e"
             ],
             [
              0.4444444444444444,
              "#bd3786"
             ],
             [
              0.5555555555555556,
              "#d8576b"
             ],
             [
              0.6666666666666666,
              "#ed7953"
             ],
             [
              0.7777777777777778,
              "#fb9f3a"
             ],
             [
              0.8888888888888888,
              "#fdca26"
             ],
             [
              1,
              "#f0f921"
             ]
            ],
            "type": "heatmapgl"
           }
          ],
          "histogram": [
           {
            "marker": {
             "pattern": {
              "fillmode": "overlay",
              "size": 10,
              "solidity": 0.2
             }
            },
            "type": "histogram"
           }
          ],
          "histogram2d": [
           {
            "colorbar": {
             "outlinewidth": 0,
             "ticks": ""
            },
            "colorscale": [
             [
              0,
              "#0d0887"
             ],
             [
              0.1111111111111111,
              "#46039f"
             ],
             [
              0.2222222222222222,
              "#7201a8"
             ],
             [
              0.3333333333333333,
              "#9c179e"
             ],
             [
              0.4444444444444444,
              "#bd3786"
             ],
             [
              0.5555555555555556,
              "#d8576b"
             ],
             [
              0.6666666666666666,
              "#ed7953"
             ],
             [
              0.7777777777777778,
              "#fb9f3a"
             ],
             [
              0.8888888888888888,
              "#fdca26"
             ],
             [
              1,
              "#f0f921"
             ]
            ],
            "type": "histogram2d"
           }
          ],
          "histogram2dcontour": [
           {
            "colorbar": {
             "outlinewidth": 0,
             "ticks": ""
            },
            "colorscale": [
             [
              0,
              "#0d0887"
             ],
             [
              0.1111111111111111,
              "#46039f"
             ],
             [
              0.2222222222222222,
              "#7201a8"
             ],
             [
              0.3333333333333333,
              "#9c179e"
             ],
             [
              0.4444444444444444,
              "#bd3786"
             ],
             [
              0.5555555555555556,
              "#d8576b"
             ],
             [
              0.6666666666666666,
              "#ed7953"
             ],
             [
              0.7777777777777778,
              "#fb9f3a"
             ],
             [
              0.8888888888888888,
              "#fdca26"
             ],
             [
              1,
              "#f0f921"
             ]
            ],
            "type": "histogram2dcontour"
           }
          ],
          "mesh3d": [
           {
            "colorbar": {
             "outlinewidth": 0,
             "ticks": ""
            },
            "type": "mesh3d"
           }
          ],
          "parcoords": [
           {
            "line": {
             "colorbar": {
              "outlinewidth": 0,
              "ticks": ""
             }
            },
            "type": "parcoords"
           }
          ],
          "pie": [
           {
            "automargin": true,
            "type": "pie"
           }
          ],
          "scatter": [
           {
            "marker": {
             "colorbar": {
              "outlinewidth": 0,
              "ticks": ""
             }
            },
            "type": "scatter"
           }
          ],
          "scatter3d": [
           {
            "line": {
             "colorbar": {
              "outlinewidth": 0,
              "ticks": ""
             }
            },
            "marker": {
             "colorbar": {
              "outlinewidth": 0,
              "ticks": ""
             }
            },
            "type": "scatter3d"
           }
          ],
          "scattercarpet": [
           {
            "marker": {
             "colorbar": {
              "outlinewidth": 0,
              "ticks": ""
             }
            },
            "type": "scattercarpet"
           }
          ],
          "scattergeo": [
           {
            "marker": {
             "colorbar": {
              "outlinewidth": 0,
              "ticks": ""
             }
            },
            "type": "scattergeo"
           }
          ],
          "scattergl": [
           {
            "marker": {
             "colorbar": {
              "outlinewidth": 0,
              "ticks": ""
             }
            },
            "type": "scattergl"
           }
          ],
          "scattermapbox": [
           {
            "marker": {
             "colorbar": {
              "outlinewidth": 0,
              "ticks": ""
             }
            },
            "type": "scattermapbox"
           }
          ],
          "scatterpolar": [
           {
            "marker": {
             "colorbar": {
              "outlinewidth": 0,
              "ticks": ""
             }
            },
            "type": "scatterpolar"
           }
          ],
          "scatterpolargl": [
           {
            "marker": {
             "colorbar": {
              "outlinewidth": 0,
              "ticks": ""
             }
            },
            "type": "scatterpolargl"
           }
          ],
          "scatterternary": [
           {
            "marker": {
             "colorbar": {
              "outlinewidth": 0,
              "ticks": ""
             }
            },
            "type": "scatterternary"
           }
          ],
          "surface": [
           {
            "colorbar": {
             "outlinewidth": 0,
             "ticks": ""
            },
            "colorscale": [
             [
              0,
              "#0d0887"
             ],
             [
              0.1111111111111111,
              "#46039f"
             ],
             [
              0.2222222222222222,
              "#7201a8"
             ],
             [
              0.3333333333333333,
              "#9c179e"
             ],
             [
              0.4444444444444444,
              "#bd3786"
             ],
             [
              0.5555555555555556,
              "#d8576b"
             ],
             [
              0.6666666666666666,
              "#ed7953"
             ],
             [
              0.7777777777777778,
              "#fb9f3a"
             ],
             [
              0.8888888888888888,
              "#fdca26"
             ],
             [
              1,
              "#f0f921"
             ]
            ],
            "type": "surface"
           }
          ],
          "table": [
           {
            "cells": {
             "fill": {
              "color": "#EBF0F8"
             },
             "line": {
              "color": "white"
             }
            },
            "header": {
             "fill": {
              "color": "#C8D4E3"
             },
             "line": {
              "color": "white"
             }
            },
            "type": "table"
           }
          ]
         },
         "layout": {
          "annotationdefaults": {
           "arrowcolor": "#2a3f5f",
           "arrowhead": 0,
           "arrowwidth": 1
          },
          "autotypenumbers": "strict",
          "coloraxis": {
           "colorbar": {
            "outlinewidth": 0,
            "ticks": ""
           }
          },
          "colorscale": {
           "diverging": [
            [
             0,
             "#8e0152"
            ],
            [
             0.1,
             "#c51b7d"
            ],
            [
             0.2,
             "#de77ae"
            ],
            [
             0.3,
             "#f1b6da"
            ],
            [
             0.4,
             "#fde0ef"
            ],
            [
             0.5,
             "#f7f7f7"
            ],
            [
             0.6,
             "#e6f5d0"
            ],
            [
             0.7,
             "#b8e186"
            ],
            [
             0.8,
             "#7fbc41"
            ],
            [
             0.9,
             "#4d9221"
            ],
            [
             1,
             "#276419"
            ]
           ],
           "sequential": [
            [
             0,
             "#0d0887"
            ],
            [
             0.1111111111111111,
             "#46039f"
            ],
            [
             0.2222222222222222,
             "#7201a8"
            ],
            [
             0.3333333333333333,
             "#9c179e"
            ],
            [
             0.4444444444444444,
             "#bd3786"
            ],
            [
             0.5555555555555556,
             "#d8576b"
            ],
            [
             0.6666666666666666,
             "#ed7953"
            ],
            [
             0.7777777777777778,
             "#fb9f3a"
            ],
            [
             0.8888888888888888,
             "#fdca26"
            ],
            [
             1,
             "#f0f921"
            ]
           ],
           "sequentialminus": [
            [
             0,
             "#0d0887"
            ],
            [
             0.1111111111111111,
             "#46039f"
            ],
            [
             0.2222222222222222,
             "#7201a8"
            ],
            [
             0.3333333333333333,
             "#9c179e"
            ],
            [
             0.4444444444444444,
             "#bd3786"
            ],
            [
             0.5555555555555556,
             "#d8576b"
            ],
            [
             0.6666666666666666,
             "#ed7953"
            ],
            [
             0.7777777777777778,
             "#fb9f3a"
            ],
            [
             0.8888888888888888,
             "#fdca26"
            ],
            [
             1,
             "#f0f921"
            ]
           ]
          },
          "colorway": [
           "#636efa",
           "#EF553B",
           "#00cc96",
           "#ab63fa",
           "#FFA15A",
           "#19d3f3",
           "#FF6692",
           "#B6E880",
           "#FF97FF",
           "#FECB52"
          ],
          "font": {
           "color": "#2a3f5f"
          },
          "geo": {
           "bgcolor": "white",
           "lakecolor": "white",
           "landcolor": "#E5ECF6",
           "showlakes": true,
           "showland": true,
           "subunitcolor": "white"
          },
          "hoverlabel": {
           "align": "left"
          },
          "hovermode": "closest",
          "mapbox": {
           "style": "light"
          },
          "paper_bgcolor": "white",
          "plot_bgcolor": "#E5ECF6",
          "polar": {
           "angularaxis": {
            "gridcolor": "white",
            "linecolor": "white",
            "ticks": ""
           },
           "bgcolor": "#E5ECF6",
           "radialaxis": {
            "gridcolor": "white",
            "linecolor": "white",
            "ticks": ""
           }
          },
          "scene": {
           "xaxis": {
            "backgroundcolor": "#E5ECF6",
            "gridcolor": "white",
            "gridwidth": 2,
            "linecolor": "white",
            "showbackground": true,
            "ticks": "",
            "zerolinecolor": "white"
           },
           "yaxis": {
            "backgroundcolor": "#E5ECF6",
            "gridcolor": "white",
            "gridwidth": 2,
            "linecolor": "white",
            "showbackground": true,
            "ticks": "",
            "zerolinecolor": "white"
           },
           "zaxis": {
            "backgroundcolor": "#E5ECF6",
            "gridcolor": "white",
            "gridwidth": 2,
            "linecolor": "white",
            "showbackground": true,
            "ticks": "",
            "zerolinecolor": "white"
           }
          },
          "shapedefaults": {
           "line": {
            "color": "#2a3f5f"
           }
          },
          "ternary": {
           "aaxis": {
            "gridcolor": "white",
            "linecolor": "white",
            "ticks": ""
           },
           "baxis": {
            "gridcolor": "white",
            "linecolor": "white",
            "ticks": ""
           },
           "bgcolor": "#E5ECF6",
           "caxis": {
            "gridcolor": "white",
            "linecolor": "white",
            "ticks": ""
           }
          },
          "title": {
           "x": 0.05
          },
          "xaxis": {
           "automargin": true,
           "gridcolor": "white",
           "linecolor": "white",
           "ticks": "",
           "title": {
            "standoff": 15
           },
           "zerolinecolor": "white",
           "zerolinewidth": 2
          },
          "yaxis": {
           "automargin": true,
           "gridcolor": "white",
           "linecolor": "white",
           "ticks": "",
           "title": {
            "standoff": 15
           },
           "zerolinecolor": "white",
           "zerolinewidth": 2
          }
         }
        },
        "xaxis": {
         "anchor": "y",
         "domain": [
          0,
          1
         ],
         "title": {
          "text": "Percent_Male"
         }
        },
        "yaxis": {
         "anchor": "x",
         "domain": [
          0,
          1
         ],
         "title": {
          "text": "count"
         }
        }
       }
      },
      "text/html": [
       "<div>                            <div id=\"8d3e55c2-c707-478c-b454-292ffc83225b\" class=\"plotly-graph-div\" style=\"height:525px; width:100%;\"></div>            <script type=\"text/javascript\">                require([\"plotly\"], function(Plotly) {                    window.PLOTLYENV=window.PLOTLYENV || {};                                    if (document.getElementById(\"8d3e55c2-c707-478c-b454-292ffc83225b\")) {                    Plotly.newPlot(                        \"8d3e55c2-c707-478c-b454-292ffc83225b\",                        [{\"alignmentgroup\":\"True\",\"customdata\":[[1],[1],[1],[1],[1],[1],[1],[1],[1],[1],[1],[1],[1],[1],[1],[1],[1],[1],[1],[1],[1],[1],[1],[1],[1],[1],[1],[1],[1],[1],[1],[1],[1],[1],[1],[1],[1],[1],[1],[1],[1],[1],[1],[1],[1],[1],[1],[1],[1],[1],[1],[1],[1],[1],[1],[1],[1],[1],[1],[1],[1],[1],[1],[1],[1],[1],[1],[1],[1],[1],[1],[1],[1],[1],[1],[1],[1],[1],[1],[1],[1],[1],[1],[1],[1],[1],[1],[1],[1],[1],[1],[1],[1],[1],[1],[1],[1],[1],[1],[1],[1],[1],[1],[1],[1],[1],[1],[1],[1],[1],[1],[1],[1],[1],[1],[1],[1],[1],[1],[1],[1],[1],[1],[1],[1],[1],[1],[1],[1],[1],[1],[1],[1],[1],[1],[1],[1],[1],[1],[1],[1],[1],[1],[1],[1],[1],[1],[1],[1],[1],[1],[2],[2],[2],[2],[2],[2],[2],[2],[2],[2],[2],[2],[2],[2],[2],[2],[2],[2],[2],[2],[2],[2],[2],[2],[2],[2],[2],[2],[2],[2],[2],[2],[2],[2],[2],[2],[2],[2],[2],[2],[2],[2],[2],[2],[2],[2],[2],[2],[2],[2],[2],[2],[2],[2],[2],[2],[2],[2],[2],[2],[2],[2],[2],[2],[2],[2],[2],[2],[2],[2],[2],[2],[2],[2],[2],[2],[2],[2],[2],[2],[2],[2],[2],[2],[2],[2],[2],[2],[2],[2],[2],[2],[2],[2],[2],[2],[2],[2],[2],[2],[3],[3],[3],[3],[3],[3],[3],[3],[3],[3],[3],[3],[3],[3],[3],[3],[3],[3],[3],[3],[3],[3],[3],[3],[3],[3],[3],[3],[3],[3],[3],[3],[3],[3],[3],[3],[3],[3],[3],[3],[3],[3],[3],[3],[3],[3],[3],[3],[3],[3],[3],[3],[3],[3],[3],[3],[3],[3],[3],[3],[3],[3],[3],[3],[3],[3],[3],[3],[3],[3],[3],[3],[3],[3],[3],[3],[3],[3],[3],[3],[3],[3],[3],[3],[3],[3],[3],[3],[3],[3],[3],[3],[3],[3],[3],[3],[3],[3],[3],[3],[3],[3],[3],[3],[3],[3],[3],[3],[3],[3],[3],[3],[3],[3],[3],[3],[3],[3],[3],[3],[3],[3],[3],[3],[3],[3],[3],[3],[3],[3],[3],[3],[3],[3],[3],[4],[4],[4],[4],[4],[4],[4],[4],[4],[4],[4],[4],[4],[4],[4],[4],[4],[4],[4],[4],[4],[4],[4],[4],[4],[4],[4],[4],[4],[4],[4],[4],[4],[4],[4],[4],[4],[4],[4],[4],[4],[4],[4],[4],[4],[4],[4],[4],[4],[4],[4],[4],[4],[4],[4],[4],[4],[4],[4],[4],[4],[4],[4],[4],[4],[4],[4],[4],[4],[4],[4],[4],[4],[4],[4],[4],[4],[4],[4],[4],[4],[4],[4],[4],[4],[4],[4],[4],[4],[4],[4],[4],[4],[4],[4],[4],[4],[4],[4],[4],[4],[4],[4],[4],[4],[4],[4],[5],[5],[5],[5],[5],[5],[5],[5],[5],[5],[5],[5],[5],[5],[5],[5],[5],[5],[5],[5],[5],[5],[5],[5],[5],[5],[5],[5],[5],[5],[5],[5],[5],[5],[5],[5],[5],[5],[5],[5],[5],[5],[5],[5],[5],[5],[5],[5],[5],[5],[5],[5],[5],[5],[5],[5],[5],[5],[5],[5],[5],[5],[5],[5],[5],[5],[5],[5],[5],[5],[5],[5],[5],[5],[5],[5],[5],[5],[5],[5],[5],[5],[5],[5],[5],[5],[5],[5],[5],[5],[5],[5],[5],[5],[5],[5],[5],[5],[5],[5],[5],[5],[5],[5],[5],[5],[5],[5],[5],[5],[5],[5],[5],[5],[5],[5],[5],[5],[5],[5],[5],[5],[5],[5],[5],[5],[5],[5],[5],[5],[5],[5],[5],[5],[5],[5],[5],[5],[5],[5],[5],[5],[5],[5],[5],[5],[5],[5],[5],[5],[5],[5],[5],[5],[5],[5]],\"hovertemplate\":\"<b>%{hovertext}</b><br><br>Percent_Male=%{x}<br>count=%{y}<br>Generation=%{marker.color}<extra></extra>\",\"hovertext\":[\"Bulbasaur\",\"Ivysaur\",\"Venusaur\",\"Charmander\",\"Charmeleon\",\"Charizard\",\"Squirtle\",\"Wartortle\",\"Blastoise\",\"Caterpie\",\"Metapod\",\"Butterfree\",\"Weedle\",\"Kakuna\",\"Beedrill\",\"Pidgey\",\"Pidgeotto\",\"Pidgeot\",\"Rattata\",\"Raticate\",\"Spearow\",\"Fearow\",\"Ekans\",\"Arbok\",\"Pikachu\",\"Raichu\",\"Sandshrew\",\"Sandslash\",\"Nidoran\\u2640\",\"Nidorina\",\"Nidoqueen\",\"Nidoran\\u2642\",\"Nidorino\",\"Nidoking\",\"Clefairy\",\"Clefable\",\"Vulpix\",\"Ninetales\",\"Jigglypuff\",\"Wigglytuff\",\"Zubat\",\"Golbat\",\"Oddish\",\"Gloom\",\"Vileplume\",\"Paras\",\"Parasect\",\"Venonat\",\"Venomoth\",\"Diglett\",\"Dugtrio\",\"Meowth\",\"Persian\",\"Psyduck\",\"Golduck\",\"Mankey\",\"Primeape\",\"Growlithe\",\"Arcanine\",\"Poliwag\",\"Poliwhirl\",\"Poliwrath\",\"Abra\",\"Kadabra\",\"Alakazam\",\"Machop\",\"Machoke\",\"Machamp\",\"Bellsprout\",\"Weepinbell\",\"Victreebel\",\"Tentacool\",\"Tentacruel\",\"Geodude\",\"Graveler\",\"Golem\",\"Ponyta\",\"Rapidash\",\"Slowpoke\",\"Slowbro\",\"Magnemite\",\"Magneton\",\"Farfetch'd\",\"Doduo\",\"Dodrio\",\"Seel\",\"Dewgong\",\"Grimer\",\"Muk\",\"Shellder\",\"Cloyster\",\"Gastly\",\"Haunter\",\"Gengar\",\"Onix\",\"Drowzee\",\"Hypno\",\"Krabby\",\"Kingler\",\"Voltorb\",\"Electrode\",\"Exeggcute\",\"Exeggutor\",\"Cubone\",\"Marowak\",\"Hitmonlee\",\"Hitmonchan\",\"Lickitung\",\"Koffing\",\"Weezing\",\"Rhyhorn\",\"Rhydon\",\"Chansey\",\"Tangela\",\"Kangaskhan\",\"Horsea\",\"Seadra\",\"Goldeen\",\"Seaking\",\"Staryu\",\"Starmie\",\"Mr.\",\"Scyther\",\"Jynx\",\"Electabuzz\",\"Magmar\",\"Pinsir\",\"Tauros\",\"Magikarp\",\"Gyarados\",\"Lapras\",\"Ditto\",\"Eevee\",\"Vaporeon\",\"Jolteon\",\"Flareon\",\"Porygon\",\"Omanyte\",\"Omastar\",\"Kabuto\",\"Kabutops\",\"Aerodactyl\",\"Snorlax\",\"Articuno\",\"Zapdos\",\"Moltres\",\"Dratini\",\"Dragonair\",\"Dragonite\",\"Mewtwo\",\"Mew\",\"Chikorita\",\"Bayleef\",\"Meganium\",\"Cyndaquil\",\"Quilava\",\"Typhlosion\",\"Totodile\",\"Croconaw\",\"Feraligatr\",\"Sentret\",\"Furret\",\"Hoothoot\",\"Noctowl\",\"Ledyba\",\"Ledian\",\"Spinarak\",\"Ariados\",\"Crobat\",\"Chinchou\",\"Lanturn\",\"Pichu\",\"Cleffa\",\"Igglybuff\",\"Togepi\",\"Togetic\",\"Natu\",\"Xatu\",\"Mareep\",\"Flaaffy\",\"Ampharos\",\"Bellossom\",\"Marill\",\"Azumarill\",\"Sudowoodo\",\"Politoed\",\"Hoppip\",\"Skiploom\",\"Jumpluff\",\"Aipom\",\"Sunkern\",\"Sunflora\",\"Yanma\",\"Wooper\",\"Quagsire\",\"Espeon\",\"Umbreon\",\"Murkrow\",\"Slowking\",\"Misdreavus\",\"Unown\",\"Wobbuffet\",\"Girafarig\",\"Pineco\",\"Forretress\",\"Dunsparce\",\"Gligar\",\"Steelix\",\"Snubbull\",\"Granbull\",\"Qwilfish\",\"Scizor\",\"Shuckle\",\"Heracross\",\"Sneasel\",\"Teddiursa\",\"Ursaring\",\"Slugma\",\"Magcargo\",\"Swinub\",\"Piloswine\",\"Corsola\",\"Remoraid\",\"Octillery\",\"Delibird\",\"Mantine\",\"Skarmory\",\"Houndour\",\"Houndoom\",\"Kingdra\",\"Phanpy\",\"Donphan\",\"Porygon2\",\"Stantler\",\"Smeargle\",\"Tyrogue\",\"Hitmontop\",\"Smoochum\",\"Elekid\",\"Magby\",\"Miltank\",\"Blissey\",\"Raikou\",\"Entei\",\"Suicune\",\"Larvitar\",\"Pupitar\",\"Tyranitar\",\"Lugia\",\"Ho-Oh\",\"Celebi\",\"Treecko\",\"Grovyle\",\"Sceptile\",\"Torchic\",\"Combusken\",\"Blaziken\",\"Mudkip\",\"Marshtomp\",\"Swampert\",\"Poochyena\",\"Mightyena\",\"Zigzagoon\",\"Linoone\",\"Wurmple\",\"Silcoon\",\"Beautifly\",\"Cascoon\",\"Dustox\",\"Lotad\",\"Lombre\",\"Ludicolo\",\"Seedot\",\"Nuzleaf\",\"Shiftry\",\"Taillow\",\"Swellow\",\"Wingull\",\"Pelipper\",\"Ralts\",\"Kirlia\",\"Gardevoir\",\"Surskit\",\"Masquerain\",\"Shroomish\",\"Breloom\",\"Slakoth\",\"Vigoroth\",\"Slaking\",\"Nincada\",\"Ninjask\",\"Shedinja\",\"Whismur\",\"Loudred\",\"Exploud\",\"Makuhita\",\"Hariyama\",\"Azurill\",\"Nosepass\",\"Skitty\",\"Delcatty\",\"Sableye\",\"Mawile\",\"Aron\",\"Lairon\",\"Aggron\",\"Meditite\",\"Medicham\",\"Electrike\",\"Manectric\",\"Plusle\",\"Minun\",\"Volbeat\",\"Illumise\",\"Roselia\",\"Gulpin\",\"Swalot\",\"Carvanha\",\"Sharpedo\",\"Wailmer\",\"Wailord\",\"Numel\",\"Camerupt\",\"Torkoal\",\"Spoink\",\"Grumpig\",\"Spinda\",\"Trapinch\",\"Vibrava\",\"Flygon\",\"Cacnea\",\"Cacturne\",\"Swablu\",\"Altaria\",\"Zangoose\",\"Seviper\",\"Lunatone\",\"Solrock\",\"Barboach\",\"Whiscash\",\"Corphish\",\"Crawdaunt\",\"Baltoy\",\"Claydol\",\"Lileep\",\"Cradily\",\"Anorith\",\"Armaldo\",\"Feebas\",\"Milotic\",\"Castform\",\"Kecleon\",\"Shuppet\",\"Banette\",\"Duskull\",\"Dusclops\",\"Tropius\",\"Chimecho\",\"Absol\",\"Wynaut\",\"Snorunt\",\"Glalie\",\"Spheal\",\"Sealeo\",\"Walrein\",\"Clamperl\",\"Huntail\",\"Gorebyss\",\"Relicanth\",\"Luvdisc\",\"Bagon\",\"Shelgon\",\"Salamence\",\"Beldum\",\"Metang\",\"Metagross\",\"Regirock\",\"Regice\",\"Registeel\",\"Latias\",\"Latios\",\"Kyogre\",\"Groudon\",\"Rayquaza\",\"Jirachi\",\"Deoxys\",\"Turtwig\",\"Grotle\",\"Torterra\",\"Chimchar\",\"Monferno\",\"Infernape\",\"Piplup\",\"Prinplup\",\"Empoleon\",\"Starly\",\"Staravia\",\"Staraptor\",\"Bidoof\",\"Bibarel\",\"Kricketot\",\"Kricketune\",\"Shinx\",\"Luxio\",\"Luxray\",\"Budew\",\"Roserade\",\"Cranidos\",\"Rampardos\",\"Shieldon\",\"Bastiodon\",\"Burmy\",\"Wormadam\",\"Mothim\",\"Combee\",\"Vespiquen\",\"Pachirisu\",\"Buizel\",\"Floatzel\",\"Cherubi\",\"Cherrim\",\"Shellos\",\"Gastrodon\",\"Ambipom\",\"Drifloon\",\"Drifblim\",\"Buneary\",\"Lopunny\",\"Mismagius\",\"Honchkrow\",\"Glameow\",\"Purugly\",\"Chingling\",\"Stunky\",\"Skuntank\",\"Bronzor\",\"Bronzong\",\"Bonsly\",\"Mime\",\"Happiny\",\"Chatot\",\"Spiritomb\",\"Gible\",\"Gabite\",\"Garchomp\",\"Munchlax\",\"Riolu\",\"Lucario\",\"Hippopotas\",\"Hippowdon\",\"Skorupi\",\"Drapion\",\"Croagunk\",\"Toxicroak\",\"Carnivine\",\"Finneon\",\"Lumineon\",\"Mantyke\",\"Snover\",\"Abomasnow\",\"Weavile\",\"Magnezone\",\"Lickilicky\",\"Rhyperior\",\"Tangrowth\",\"Electivire\",\"Magmortar\",\"Togekiss\",\"Yanmega\",\"Leafeon\",\"Glaceon\",\"Gliscor\",\"Mamoswine\",\"Porygon-Z\",\"Gallade\",\"Probopass\",\"Dusknoir\",\"Froslass\",\"Rotom\",\"Uxie\",\"Mesprit\",\"Azelf\",\"Dialga\",\"Palkia\",\"Heatran\",\"Regigigas\",\"Giratina\",\"Cresselia\",\"Phione\",\"Manaphy\",\"Darkrai\",\"Shaymin\",\"Arceus\",\"Victini\",\"Snivy\",\"Servine\",\"Serperior\",\"Tepig\",\"Pignite\",\"Emboar\",\"Oshawott\",\"Dewott\",\"Samurott\",\"Patrat\",\"Watchog\",\"Lillipup\",\"Herdier\",\"Stoutland\",\"Purrloin\",\"Liepard\",\"Pansage\",\"Simisage\",\"Pansear\",\"Simisear\",\"Panpour\",\"Simipour\",\"Munna\",\"Musharna\",\"Pidove\",\"Tranquill\",\"Unfezant\",\"Blitzle\",\"Zebstrika\",\"Roggenrola\",\"Boldore\",\"Gigalith\",\"Woobat\",\"Swoobat\",\"Drilbur\",\"Excadrill\",\"Audino\",\"Timburr\",\"Gurdurr\",\"Conkeldurr\",\"Tympole\",\"Palpitoad\",\"Seismitoad\",\"Throh\",\"Sawk\",\"Sewaddle\",\"Swadloon\",\"Leavanny\",\"Venipede\",\"Whirlipede\",\"Scolipede\",\"Cottonee\",\"Whimsicott\",\"Petilil\",\"Lilligant\",\"Basculin\",\"Sandile\",\"Krokorok\",\"Krookodile\",\"Darumaka\",\"Darmanitan\",\"Maractus\",\"Dwebble\",\"Crustle\",\"Scraggy\",\"Scrafty\",\"Sigilyph\",\"Yamask\",\"Cofagrigus\",\"Tirtouga\",\"Carracosta\",\"Archen\",\"Archeops\",\"Trubbish\",\"Garbodor\",\"Zorua\",\"Zoroark\",\"Minccino\",\"Cinccino\",\"Gothita\",\"Gothorita\",\"Gothitelle\",\"Solosis\",\"Duosion\",\"Reuniclus\",\"Ducklett\",\"Swanna\",\"Vanillite\",\"Vanillish\",\"Vanilluxe\",\"Deerling\",\"Sawsbuck\",\"Emolga\",\"Karrablast\",\"Escavalier\",\"Foongus\",\"Amoonguss\",\"Frillish\",\"Jellicent\",\"Alomomola\",\"Joltik\",\"Galvantula\",\"Ferroseed\",\"Ferrothorn\",\"Klink\",\"Klang\",\"Klinklang\",\"Tynamo\",\"Eelektrik\",\"Eelektross\",\"Elgyem\",\"Beheeyem\",\"Litwick\",\"Lampent\",\"Chandelure\",\"Axew\",\"Fraxure\",\"Haxorus\",\"Cubchoo\",\"Beartic\",\"Cryogonal\",\"Shelmet\",\"Accelgor\",\"Stunfisk\",\"Mienfoo\",\"Mienshao\",\"Druddigon\",\"Golett\",\"Golurk\",\"Pawniard\",\"Bisharp\",\"Bouffalant\",\"Rufflet\",\"Braviary\",\"Vullaby\",\"Mandibuzz\",\"Heatmor\",\"Durant\",\"Deino\",\"Zweilous\",\"Hydreigon\",\"Larvesta\",\"Volcarona\",\"Cobalion\",\"Terrakion\",\"Virizion\",\"Tornadus\",\"Thundurus\",\"Reshiram\",\"Zekrom\",\"Landorus\",\"Kyurem\",\"Keldeo\",\"Meloetta\",\"Genesect\"],\"legendgroup\":\"\",\"marker\":{\"color\":[1,1,1,1,1,1,1,1,1,1,1,1,1,1,1,1,1,1,1,1,1,1,1,1,1,1,1,1,1,1,1,1,1,1,1,1,1,1,1,1,1,1,1,1,1,1,1,1,1,1,1,1,1,1,1,1,1,1,1,1,1,1,1,1,1,1,1,1,1,1,1,1,1,1,1,1,1,1,1,1,1,1,1,1,1,1,1,1,1,1,1,1,1,1,1,1,1,1,1,1,1,1,1,1,1,1,1,1,1,1,1,1,1,1,1,1,1,1,1,1,1,1,1,1,1,1,1,1,1,1,1,1,1,1,1,1,1,1,1,1,1,1,1,1,1,1,1,1,1,1,1,2,2,2,2,2,2,2,2,2,2,2,2,2,2,2,2,2,2,2,2,2,2,2,2,2,2,2,2,2,2,2,2,2,2,2,2,2,2,2,2,2,2,2,2,2,2,2,2,2,2,2,2,2,2,2,2,2,2,2,2,2,2,2,2,2,2,2,2,2,2,2,2,2,2,2,2,2,2,2,2,2,2,2,2,2,2,2,2,2,2,2,2,2,2,2,2,2,2,2,2,3,3,3,3,3,3,3,3,3,3,3,3,3,3,3,3,3,3,3,3,3,3,3,3,3,3,3,3,3,3,3,3,3,3,3,3,3,3,3,3,3,3,3,3,3,3,3,3,3,3,3,3,3,3,3,3,3,3,3,3,3,3,3,3,3,3,3,3,3,3,3,3,3,3,3,3,3,3,3,3,3,3,3,3,3,3,3,3,3,3,3,3,3,3,3,3,3,3,3,3,3,3,3,3,3,3,3,3,3,3,3,3,3,3,3,3,3,3,3,3,3,3,3,3,3,3,3,3,3,3,3,3,3,3,3,4,4,4,4,4,4,4,4,4,4,4,4,4,4,4,4,4,4,4,4,4,4,4,4,4,4,4,4,4,4,4,4,4,4,4,4,4,4,4,4,4,4,4,4,4,4,4,4,4,4,4,4,4,4,4,4,4,4,4,4,4,4,4,4,4,4,4,4,4,4,4,4,4,4,4,4,4,4,4,4,4,4,4,4,4,4,4,4,4,4,4,4,4,4,4,4,4,4,4,4,4,4,4,4,4,4,4,5,5,5,5,5,5,5,5,5,5,5,5,5,5,5,5,5,5,5,5,5,5,5,5,5,5,5,5,5,5,5,5,5,5,5,5,5,5,5,5,5,5,5,5,5,5,5,5,5,5,5,5,5,5,5,5,5,5,5,5,5,5,5,5,5,5,5,5,5,5,5,5,5,5,5,5,5,5,5,5,5,5,5,5,5,5,5,5,5,5,5,5,5,5,5,5,5,5,5,5,5,5,5,5,5,5,5,5,5,5,5,5,5,5,5,5,5,5,5,5,5,5,5,5,5,5,5,5,5,5,5,5,5,5,5,5,5,5,5,5,5,5,5,5,5,5,5,5,5,5,5,5,5,5,5,5],\"coloraxis\":\"coloraxis\",\"pattern\":{\"shape\":\"\"}},\"name\":\"\",\"offsetgroup\":\"\",\"orientation\":\"v\",\"showlegend\":false,\"textposition\":\"auto\",\"x\":[88.1,88.1,88.1,88.1,88.1,88.1,88.1,88.1,88.1,50.0,50.0,50.0,50.0,50.0,50.0,50.0,50.0,50.0,50.0,50.0,50.0,50.0,50.0,50.0,50.0,50.0,50.0,50.0,0.0,0.0,0.0,100.0,100.0,100.0,24.6,24.6,24.6,24.6,24.6,24.6,50.0,50.0,50.0,50.0,50.0,50.0,50.0,50.0,50.0,50.0,50.0,50.0,50.0,50.0,50.0,50.0,50.0,75.4,75.4,50.0,50.0,50.0,75.4,75.4,75.4,75.4,75.4,75.4,50.0,50.0,50.0,50.0,50.0,50.0,50.0,50.0,50.0,50.0,50.0,50.0,null,null,50.0,50.0,50.0,50.0,50.0,50.0,50.0,50.0,50.0,50.0,50.0,50.0,50.0,50.0,50.0,50.0,50.0,null,null,50.0,50.0,50.0,50.0,100.0,100.0,50.0,50.0,50.0,50.0,50.0,0.0,50.0,0.0,50.0,50.0,50.0,50.0,null,null,50.0,50.0,0.0,75.4,75.4,50.0,100.0,50.0,50.0,50.0,null,88.1,88.1,88.1,88.1,null,88.1,88.1,88.1,88.1,88.1,88.1,null,null,null,50.0,50.0,50.0,null,null,88.1,88.1,88.1,88.1,88.1,88.1,88.1,88.1,88.1,50.0,50.0,50.0,50.0,50.0,50.0,50.0,50.0,50.0,50.0,50.0,50.0,24.6,24.6,88.1,88.1,50.0,50.0,50.0,50.0,50.0,50.0,50.0,50.0,50.0,50.0,50.0,50.0,50.0,50.0,50.0,50.0,50.0,50.0,50.0,88.1,88.1,50.0,50.0,50.0,null,50.0,50.0,50.0,50.0,50.0,50.0,50.0,24.6,24.6,50.0,50.0,50.0,50.0,50.0,50.0,50.0,50.0,50.0,50.0,50.0,24.6,50.0,50.0,50.0,50.0,50.0,50.0,50.0,50.0,50.0,50.0,null,50.0,50.0,100.0,100.0,0.0,75.4,75.4,0.0,0.0,null,null,null,50.0,50.0,50.0,null,null,null,88.1,88.1,88.1,88.1,88.1,88.1,88.1,88.1,88.1,50.0,50.0,50.0,50.0,50.0,50.0,50.0,50.0,50.0,50.0,50.0,50.0,50.0,50.0,50.0,50.0,50.0,50.0,50.0,50.0,50.0,50.0,50.0,50.0,50.0,50.0,50.0,50.0,50.0,50.0,50.0,null,50.0,50.0,50.0,75.4,75.4,24.6,50.0,24.6,24.6,50.0,50.0,50.0,50.0,50.0,50.0,50.0,50.0,50.0,50.0,50.0,100.0,0.0,50.0,50.0,50.0,50.0,50.0,50.0,50.0,50.0,50.0,50.0,50.0,50.0,50.0,50.0,50.0,50.0,50.0,50.0,50.0,50.0,50.0,50.0,null,null,50.0,50.0,50.0,50.0,null,null,88.1,88.1,88.1,88.1,50.0,50.0,50.0,50.0,50.0,50.0,50.0,50.0,50.0,50.0,50.0,50.0,50.0,50.0,50.0,50.0,50.0,50.0,50.0,50.0,88.1,24.6,50.0,50.0,50.0,null,null,null,null,null,null,0.0,100.0,null,null,null,null,null,88.1,88.1,88.1,88.1,88.1,88.1,88.1,88.1,88.1,50.0,50.0,50.0,50.0,50.0,50.0,50.0,50.0,50.0,50.0,50.0,50.0,88.1,88.1,88.1,88.1,50.0,0.0,100.0,88.1,0.0,50.0,50.0,50.0,50.0,50.0,50.0,50.0,50.0,50.0,50.0,50.0,50.0,50.0,50.0,24.6,24.6,50.0,50.0,50.0,null,null,50.0,50.0,0.0,50.0,50.0,50.0,50.0,50.0,88.1,88.1,88.1,50.0,50.0,50.0,50.0,50.0,50.0,50.0,50.0,50.0,50.0,50.0,50.0,50.0,null,50.0,50.0,50.0,75.4,75.4,88.1,50.0,88.1,88.1,50.0,50.0,null,100.0,50.0,50.0,0.0,null,null,null,null,null,null,50.0,null,null,0.0,null,null,null,null,null,null,88.1,88.1,88.1,88.1,88.1,88.1,88.1,88.1,88.1,50.0,50.0,50.0,50.0,50.0,50.0,50.0,88.1,88.1,88.1,88.1,88.1,88.1,50.0,50.0,50.0,50.0,50.0,50.0,50.0,50.0,50.0,50.0,50.0,50.0,50.0,50.0,50.0,75.4,75.4,75.4,50.0,50.0,50.0,100.0,100.0,50.0,50.0,50.0,50.0,50.0,50.0,50.0,50.0,0.0,0.0,50.0,50.0,50.0,50.0,50.0,50.0,50.0,50.0,50.0,50.0,50.0,50.0,50.0,50.0,88.1,88.1,88.1,88.1,50.0,50.0,88.1,88.1,24.6,24.6,24.6,24.6,24.6,50.0,50.0,50.0,50.0,50.0,50.0,50.0,50.0,50.0,50.0,50.0,50.0,50.0,50.0,50.0,50.0,50.0,50.0,50.0,50.0,50.0,50.0,null,null,null,50.0,50.0,50.0,50.0,50.0,50.0,50.0,50.0,50.0,50.0,50.0,50.0,50.0,null,50.0,50.0,50.0,50.0,50.0,50.0,null,null,50.0,50.0,50.0,100.0,100.0,0.0,0.0,50.0,50.0,50.0,50.0,50.0,50.0,50.0,null,null,null,100.0,100.0,null,null,100.0,null,null,null,null],\"xaxis\":\"x\",\"y\":[1,1,1,1,1,1,1,1,1,1,1,1,1,1,1,1,1,1,1,1,1,1,1,1,1,1,1,1,1,1,1,1,1,1,1,1,1,1,1,1,1,1,1,1,1,1,1,1,1,1,1,1,1,1,1,1,1,1,1,1,1,1,1,1,1,1,1,1,1,1,1,1,1,1,1,1,1,1,1,1,1,1,1,1,1,1,1,1,1,1,1,1,1,1,1,1,1,1,1,1,1,1,1,1,1,1,1,1,1,1,1,1,1,1,1,1,1,1,1,1,1,1,1,1,1,1,1,1,1,1,1,1,1,1,1,1,1,1,1,1,1,1,1,1,1,1,1,1,1,1,1,1,1,1,1,1,1,1,1,1,1,1,1,1,1,1,1,1,1,1,1,1,1,1,1,1,1,1,1,1,1,1,1,1,1,1,1,1,1,1,1,1,1,1,1,1,1,1,1,1,1,1,1,1,1,1,1,1,1,1,1,1,1,1,1,1,1,1,1,1,1,1,1,1,1,1,1,1,1,1,1,1,1,1,1,1,1,1,1,1,1,1,1,1,1,1,1,1,1,1,1,1,1,1,1,1,1,1,1,1,1,1,1,1,1,1,1,1,1,1,1,1,1,1,1,1,1,1,1,1,1,1,1,1,1,1,1,1,1,1,1,1,1,1,1,1,1,1,1,1,1,1,1,1,1,1,1,1,1,1,1,1,1,1,1,1,1,1,1,1,1,1,1,1,1,1,1,1,1,1,1,1,1,1,1,1,1,1,1,1,1,1,1,1,1,1,1,1,1,1,1,1,1,1,1,1,1,1,1,1,1,1,1,1,1,1,1,1,1,1,1,1,1,1,1,1,1,1,1,1,1,1,1,1,1,1,1,1,1,1,1,1,1,1,1,1,1,1,1,1,1,1,1,1,1,1,1,1,1,1,1,1,1,1,1,1,1,1,1,1,1,1,1,1,1,1,1,1,1,1,1,1,1,1,1,1,1,1,1,1,1,1,1,1,1,1,1,1,1,1,1,1,1,1,1,1,1,1,1,1,1,1,1,1,1,1,1,1,1,1,1,1,1,1,1,1,1,1,1,1,1,1,1,1,1,1,1,1,1,1,1,1,1,1,1,1,1,1,1,1,1,1,1,1,1,1,1,1,1,1,1,1,1,1,1,1,1,1,1,1,1,1,1,1,1,1,1,1,1,1,1,1,1,1,1,1,1,1,1,1,1,1,1,1,1,1,1,1,1,1,1,1,1,1,1,1,1,1,1,1,1,1,1,1,1,1,1,1,1,1,1,1,1,1,1,1,1,1,1,1,1,1,1,1,1,1,1,1,1,1,1,1,1,1,1,1,1,1,1,1,1,1,1,1,1,1,1,1,1,1,1,1,1,1,1,1,1,1,1,1,1,1,1,1,1,1,1,1,1,1,1,1,1,1,1,1,1,1,1,1,1,1,1,1,1,1,1,1,1],\"yaxis\":\"y\",\"type\":\"bar\"}],                        {\"template\":{\"data\":{\"bar\":[{\"error_x\":{\"color\":\"#2a3f5f\"},\"error_y\":{\"color\":\"#2a3f5f\"},\"marker\":{\"line\":{\"color\":\"#E5ECF6\",\"width\":0.5},\"pattern\":{\"fillmode\":\"overlay\",\"size\":10,\"solidity\":0.2}},\"type\":\"bar\"}],\"barpolar\":[{\"marker\":{\"line\":{\"color\":\"#E5ECF6\",\"width\":0.5},\"pattern\":{\"fillmode\":\"overlay\",\"size\":10,\"solidity\":0.2}},\"type\":\"barpolar\"}],\"carpet\":[{\"aaxis\":{\"endlinecolor\":\"#2a3f5f\",\"gridcolor\":\"white\",\"linecolor\":\"white\",\"minorgridcolor\":\"white\",\"startlinecolor\":\"#2a3f5f\"},\"baxis\":{\"endlinecolor\":\"#2a3f5f\",\"gridcolor\":\"white\",\"linecolor\":\"white\",\"minorgridcolor\":\"white\",\"startlinecolor\":\"#2a3f5f\"},\"type\":\"carpet\"}],\"choropleth\":[{\"colorbar\":{\"outlinewidth\":0,\"ticks\":\"\"},\"type\":\"choropleth\"}],\"contour\":[{\"colorbar\":{\"outlinewidth\":0,\"ticks\":\"\"},\"colorscale\":[[0.0,\"#0d0887\"],[0.1111111111111111,\"#46039f\"],[0.2222222222222222,\"#7201a8\"],[0.3333333333333333,\"#9c179e\"],[0.4444444444444444,\"#bd3786\"],[0.5555555555555556,\"#d8576b\"],[0.6666666666666666,\"#ed7953\"],[0.7777777777777778,\"#fb9f3a\"],[0.8888888888888888,\"#fdca26\"],[1.0,\"#f0f921\"]],\"type\":\"contour\"}],\"contourcarpet\":[{\"colorbar\":{\"outlinewidth\":0,\"ticks\":\"\"},\"type\":\"contourcarpet\"}],\"heatmap\":[{\"colorbar\":{\"outlinewidth\":0,\"ticks\":\"\"},\"colorscale\":[[0.0,\"#0d0887\"],[0.1111111111111111,\"#46039f\"],[0.2222222222222222,\"#7201a8\"],[0.3333333333333333,\"#9c179e\"],[0.4444444444444444,\"#bd3786\"],[0.5555555555555556,\"#d8576b\"],[0.6666666666666666,\"#ed7953\"],[0.7777777777777778,\"#fb9f3a\"],[0.8888888888888888,\"#fdca26\"],[1.0,\"#f0f921\"]],\"type\":\"heatmap\"}],\"heatmapgl\":[{\"colorbar\":{\"outlinewidth\":0,\"ticks\":\"\"},\"colorscale\":[[0.0,\"#0d0887\"],[0.1111111111111111,\"#46039f\"],[0.2222222222222222,\"#7201a8\"],[0.3333333333333333,\"#9c179e\"],[0.4444444444444444,\"#bd3786\"],[0.5555555555555556,\"#d8576b\"],[0.6666666666666666,\"#ed7953\"],[0.7777777777777778,\"#fb9f3a\"],[0.8888888888888888,\"#fdca26\"],[1.0,\"#f0f921\"]],\"type\":\"heatmapgl\"}],\"histogram\":[{\"marker\":{\"pattern\":{\"fillmode\":\"overlay\",\"size\":10,\"solidity\":0.2}},\"type\":\"histogram\"}],\"histogram2d\":[{\"colorbar\":{\"outlinewidth\":0,\"ticks\":\"\"},\"colorscale\":[[0.0,\"#0d0887\"],[0.1111111111111111,\"#46039f\"],[0.2222222222222222,\"#7201a8\"],[0.3333333333333333,\"#9c179e\"],[0.4444444444444444,\"#bd3786\"],[0.5555555555555556,\"#d8576b\"],[0.6666666666666666,\"#ed7953\"],[0.7777777777777778,\"#fb9f3a\"],[0.8888888888888888,\"#fdca26\"],[1.0,\"#f0f921\"]],\"type\":\"histogram2d\"}],\"histogram2dcontour\":[{\"colorbar\":{\"outlinewidth\":0,\"ticks\":\"\"},\"colorscale\":[[0.0,\"#0d0887\"],[0.1111111111111111,\"#46039f\"],[0.2222222222222222,\"#7201a8\"],[0.3333333333333333,\"#9c179e\"],[0.4444444444444444,\"#bd3786\"],[0.5555555555555556,\"#d8576b\"],[0.6666666666666666,\"#ed7953\"],[0.7777777777777778,\"#fb9f3a\"],[0.8888888888888888,\"#fdca26\"],[1.0,\"#f0f921\"]],\"type\":\"histogram2dcontour\"}],\"mesh3d\":[{\"colorbar\":{\"outlinewidth\":0,\"ticks\":\"\"},\"type\":\"mesh3d\"}],\"parcoords\":[{\"line\":{\"colorbar\":{\"outlinewidth\":0,\"ticks\":\"\"}},\"type\":\"parcoords\"}],\"pie\":[{\"automargin\":true,\"type\":\"pie\"}],\"scatter\":[{\"marker\":{\"colorbar\":{\"outlinewidth\":0,\"ticks\":\"\"}},\"type\":\"scatter\"}],\"scatter3d\":[{\"line\":{\"colorbar\":{\"outlinewidth\":0,\"ticks\":\"\"}},\"marker\":{\"colorbar\":{\"outlinewidth\":0,\"ticks\":\"\"}},\"type\":\"scatter3d\"}],\"scattercarpet\":[{\"marker\":{\"colorbar\":{\"outlinewidth\":0,\"ticks\":\"\"}},\"type\":\"scattercarpet\"}],\"scattergeo\":[{\"marker\":{\"colorbar\":{\"outlinewidth\":0,\"ticks\":\"\"}},\"type\":\"scattergeo\"}],\"scattergl\":[{\"marker\":{\"colorbar\":{\"outlinewidth\":0,\"ticks\":\"\"}},\"type\":\"scattergl\"}],\"scattermapbox\":[{\"marker\":{\"colorbar\":{\"outlinewidth\":0,\"ticks\":\"\"}},\"type\":\"scattermapbox\"}],\"scatterpolar\":[{\"marker\":{\"colorbar\":{\"outlinewidth\":0,\"ticks\":\"\"}},\"type\":\"scatterpolar\"}],\"scatterpolargl\":[{\"marker\":{\"colorbar\":{\"outlinewidth\":0,\"ticks\":\"\"}},\"type\":\"scatterpolargl\"}],\"scatterternary\":[{\"marker\":{\"colorbar\":{\"outlinewidth\":0,\"ticks\":\"\"}},\"type\":\"scatterternary\"}],\"surface\":[{\"colorbar\":{\"outlinewidth\":0,\"ticks\":\"\"},\"colorscale\":[[0.0,\"#0d0887\"],[0.1111111111111111,\"#46039f\"],[0.2222222222222222,\"#7201a8\"],[0.3333333333333333,\"#9c179e\"],[0.4444444444444444,\"#bd3786\"],[0.5555555555555556,\"#d8576b\"],[0.6666666666666666,\"#ed7953\"],[0.7777777777777778,\"#fb9f3a\"],[0.8888888888888888,\"#fdca26\"],[1.0,\"#f0f921\"]],\"type\":\"surface\"}],\"table\":[{\"cells\":{\"fill\":{\"color\":\"#EBF0F8\"},\"line\":{\"color\":\"white\"}},\"header\":{\"fill\":{\"color\":\"#C8D4E3\"},\"line\":{\"color\":\"white\"}},\"type\":\"table\"}]},\"layout\":{\"annotationdefaults\":{\"arrowcolor\":\"#2a3f5f\",\"arrowhead\":0,\"arrowwidth\":1},\"autotypenumbers\":\"strict\",\"coloraxis\":{\"colorbar\":{\"outlinewidth\":0,\"ticks\":\"\"}},\"colorscale\":{\"diverging\":[[0,\"#8e0152\"],[0.1,\"#c51b7d\"],[0.2,\"#de77ae\"],[0.3,\"#f1b6da\"],[0.4,\"#fde0ef\"],[0.5,\"#f7f7f7\"],[0.6,\"#e6f5d0\"],[0.7,\"#b8e186\"],[0.8,\"#7fbc41\"],[0.9,\"#4d9221\"],[1,\"#276419\"]],\"sequential\":[[0.0,\"#0d0887\"],[0.1111111111111111,\"#46039f\"],[0.2222222222222222,\"#7201a8\"],[0.3333333333333333,\"#9c179e\"],[0.4444444444444444,\"#bd3786\"],[0.5555555555555556,\"#d8576b\"],[0.6666666666666666,\"#ed7953\"],[0.7777777777777778,\"#fb9f3a\"],[0.8888888888888888,\"#fdca26\"],[1.0,\"#f0f921\"]],\"sequentialminus\":[[0.0,\"#0d0887\"],[0.1111111111111111,\"#46039f\"],[0.2222222222222222,\"#7201a8\"],[0.3333333333333333,\"#9c179e\"],[0.4444444444444444,\"#bd3786\"],[0.5555555555555556,\"#d8576b\"],[0.6666666666666666,\"#ed7953\"],[0.7777777777777778,\"#fb9f3a\"],[0.8888888888888888,\"#fdca26\"],[1.0,\"#f0f921\"]]},\"colorway\":[\"#636efa\",\"#EF553B\",\"#00cc96\",\"#ab63fa\",\"#FFA15A\",\"#19d3f3\",\"#FF6692\",\"#B6E880\",\"#FF97FF\",\"#FECB52\"],\"font\":{\"color\":\"#2a3f5f\"},\"geo\":{\"bgcolor\":\"white\",\"lakecolor\":\"white\",\"landcolor\":\"#E5ECF6\",\"showlakes\":true,\"showland\":true,\"subunitcolor\":\"white\"},\"hoverlabel\":{\"align\":\"left\"},\"hovermode\":\"closest\",\"mapbox\":{\"style\":\"light\"},\"paper_bgcolor\":\"white\",\"plot_bgcolor\":\"#E5ECF6\",\"polar\":{\"angularaxis\":{\"gridcolor\":\"white\",\"linecolor\":\"white\",\"ticks\":\"\"},\"bgcolor\":\"#E5ECF6\",\"radialaxis\":{\"gridcolor\":\"white\",\"linecolor\":\"white\",\"ticks\":\"\"}},\"scene\":{\"xaxis\":{\"backgroundcolor\":\"#E5ECF6\",\"gridcolor\":\"white\",\"gridwidth\":2,\"linecolor\":\"white\",\"showbackground\":true,\"ticks\":\"\",\"zerolinecolor\":\"white\"},\"yaxis\":{\"backgroundcolor\":\"#E5ECF6\",\"gridcolor\":\"white\",\"gridwidth\":2,\"linecolor\":\"white\",\"showbackground\":true,\"ticks\":\"\",\"zerolinecolor\":\"white\"},\"zaxis\":{\"backgroundcolor\":\"#E5ECF6\",\"gridcolor\":\"white\",\"gridwidth\":2,\"linecolor\":\"white\",\"showbackground\":true,\"ticks\":\"\",\"zerolinecolor\":\"white\"}},\"shapedefaults\":{\"line\":{\"color\":\"#2a3f5f\"}},\"ternary\":{\"aaxis\":{\"gridcolor\":\"white\",\"linecolor\":\"white\",\"ticks\":\"\"},\"baxis\":{\"gridcolor\":\"white\",\"linecolor\":\"white\",\"ticks\":\"\"},\"bgcolor\":\"#E5ECF6\",\"caxis\":{\"gridcolor\":\"white\",\"linecolor\":\"white\",\"ticks\":\"\"}},\"title\":{\"x\":0.05},\"xaxis\":{\"automargin\":true,\"gridcolor\":\"white\",\"linecolor\":\"white\",\"ticks\":\"\",\"title\":{\"standoff\":15},\"zerolinecolor\":\"white\",\"zerolinewidth\":2},\"yaxis\":{\"automargin\":true,\"gridcolor\":\"white\",\"linecolor\":\"white\",\"ticks\":\"\",\"title\":{\"standoff\":15},\"zerolinecolor\":\"white\",\"zerolinewidth\":2}}},\"xaxis\":{\"anchor\":\"y\",\"domain\":[0.0,1.0],\"title\":{\"text\":\"Percent_Male\"}},\"yaxis\":{\"anchor\":\"x\",\"domain\":[0.0,1.0],\"title\":{\"text\":\"count\"}},\"coloraxis\":{\"colorbar\":{\"title\":{\"text\":\"Generation\"}},\"colorscale\":[[0.0,\"#0d0887\"],[0.1111111111111111,\"#46039f\"],[0.2222222222222222,\"#7201a8\"],[0.3333333333333333,\"#9c179e\"],[0.4444444444444444,\"#bd3786\"],[0.5555555555555556,\"#d8576b\"],[0.6666666666666666,\"#ed7953\"],[0.7777777777777778,\"#fb9f3a\"],[0.8888888888888888,\"#fdca26\"],[1.0,\"#f0f921\"]]},\"legend\":{\"tracegroupgap\":0},\"margin\":{\"t\":60},\"barmode\":\"relative\"},                        {\"responsive\": true}                    ).then(function(){\n",
       "                            \n",
       "var gd = document.getElementById('8d3e55c2-c707-478c-b454-292ffc83225b');\n",
       "var x = new MutationObserver(function (mutations, observer) {{\n",
       "        var display = window.getComputedStyle(gd).display;\n",
       "        if (!display || display === 'none') {{\n",
       "            console.log([gd, 'removed!']);\n",
       "            Plotly.purge(gd);\n",
       "            observer.disconnect();\n",
       "        }}\n",
       "}});\n",
       "\n",
       "// Listen for the removal of the full notebook cells\n",
       "var notebookContainer = gd.closest('#notebook-container');\n",
       "if (notebookContainer) {{\n",
       "    x.observe(notebookContainer, {childList: true});\n",
       "}}\n",
       "\n",
       "// Listen for the clearing of the current output cell\n",
       "var outputEl = gd.closest('.output');\n",
       "if (outputEl) {{\n",
       "    x.observe(outputEl, {childList: true});\n",
       "}}\n",
       "\n",
       "                        })                };                });            </script>        </div>"
      ]
     },
     "metadata": {},
     "output_type": "display_data"
    }
   ],
   "source": [
    "fig=px.bar(pokemon, x=\"Percent_Male\", color=\"Generation\",\n",
    "           hover_name='Name', hover_data=[\"Generation\"])\n",
    "\n",
    "fig.show()"
   ]
  },
  {
   "cell_type": "code",
   "execution_count": 15,
   "id": "11fdb9e0",
   "metadata": {},
   "outputs": [
    {
     "data": {
      "application/vnd.plotly.v1+json": {
       "config": {
        "plotlyServerURL": "https://plot.ly"
       },
       "data": [
        {
         "alignmentgroup": "True",
         "hovertemplate": "<b>%{hovertext}</b><br><br>Primary=Grass<br>Percent_Male=%{x}<br>count=%{y}<extra></extra>",
         "hovertext": [
          "Bulbasaur",
          "Ivysaur",
          "Venusaur",
          "Oddish",
          "Gloom",
          "Vileplume",
          "Bellsprout",
          "Weepinbell",
          "Victreebel",
          "Exeggcute",
          "Exeggutor",
          "Tangela",
          "Chikorita",
          "Bayleef",
          "Meganium",
          "Bellossom",
          "Hoppip",
          "Skiploom",
          "Jumpluff",
          "Sunkern",
          "Sunflora",
          "Treecko",
          "Grovyle",
          "Sceptile",
          "Seedot",
          "Nuzleaf",
          "Shiftry",
          "Shroomish",
          "Breloom",
          "Roselia",
          "Cacnea",
          "Cacturne",
          "Tropius",
          "Turtwig",
          "Grotle",
          "Torterra",
          "Budew",
          "Roserade",
          "Cherubi",
          "Cherrim",
          "Carnivine",
          "Snover",
          "Abomasnow",
          "Tangrowth",
          "Leafeon",
          "Shaymin",
          "Snivy",
          "Servine",
          "Serperior",
          "Pansage",
          "Simisage",
          "Cottonee",
          "Whimsicott",
          "Petilil",
          "Lilligant",
          "Maractus",
          "Foongus",
          "Amoonguss",
          "Ferroseed",
          "Ferrothorn",
          "Virizion"
         ],
         "legendgroup": "Grass",
         "marker": {
          "color": "#7AC74C",
          "pattern": {
           "shape": ""
          }
         },
         "name": "Grass",
         "offsetgroup": "Grass",
         "orientation": "v",
         "showlegend": true,
         "textposition": "auto",
         "type": "bar",
         "x": [
          88.1,
          88.1,
          88.1,
          50,
          50,
          50,
          50,
          50,
          50,
          50,
          50,
          50,
          88.1,
          88.1,
          88.1,
          50,
          50,
          50,
          50,
          50,
          50,
          88.1,
          88.1,
          88.1,
          50,
          50,
          50,
          50,
          50,
          50,
          50,
          50,
          50,
          88.1,
          88.1,
          88.1,
          50,
          50,
          50,
          50,
          50,
          50,
          50,
          50,
          88.1,
          null,
          88.1,
          88.1,
          88.1,
          88.1,
          88.1,
          50,
          50,
          0,
          0,
          50,
          50,
          50,
          50,
          50,
          null
         ],
         "xaxis": "x",
         "y": [
          1,
          1,
          1,
          1,
          1,
          1,
          1,
          1,
          1,
          1,
          1,
          1,
          1,
          1,
          1,
          1,
          1,
          1,
          1,
          1,
          1,
          1,
          1,
          1,
          1,
          1,
          1,
          1,
          1,
          1,
          1,
          1,
          1,
          1,
          1,
          1,
          1,
          1,
          1,
          1,
          1,
          1,
          1,
          1,
          1,
          1,
          1,
          1,
          1,
          1,
          1,
          1,
          1,
          1,
          1,
          1,
          1,
          1,
          1,
          1,
          1
         ],
         "yaxis": "y"
        },
        {
         "alignmentgroup": "True",
         "hovertemplate": "<b>%{hovertext}</b><br><br>Primary=Fire<br>Percent_Male=%{x}<br>count=%{y}<extra></extra>",
         "hovertext": [
          "Charmander",
          "Charmeleon",
          "Charizard",
          "Vulpix",
          "Ninetales",
          "Growlithe",
          "Arcanine",
          "Ponyta",
          "Rapidash",
          "Magmar",
          "Flareon",
          "Moltres",
          "Cyndaquil",
          "Quilava",
          "Typhlosion",
          "Slugma",
          "Magcargo",
          "Magby",
          "Entei",
          "Ho-Oh",
          "Torchic",
          "Combusken",
          "Blaziken",
          "Numel",
          "Camerupt",
          "Torkoal",
          "Chimchar",
          "Monferno",
          "Infernape",
          "Magmortar",
          "Heatran",
          "Tepig",
          "Pignite",
          "Emboar",
          "Pansear",
          "Simisear",
          "Darumaka",
          "Darmanitan",
          "Heatmor"
         ],
         "legendgroup": "Fire",
         "marker": {
          "color": "#EE8130",
          "pattern": {
           "shape": ""
          }
         },
         "name": "Fire",
         "offsetgroup": "Fire",
         "orientation": "v",
         "showlegend": true,
         "textposition": "auto",
         "type": "bar",
         "x": [
          88.1,
          88.1,
          88.1,
          24.6,
          24.6,
          75.4,
          75.4,
          50,
          50,
          75.4,
          88.1,
          null,
          88.1,
          88.1,
          88.1,
          50,
          50,
          75.4,
          null,
          null,
          88.1,
          88.1,
          88.1,
          50,
          50,
          50,
          88.1,
          88.1,
          88.1,
          75.4,
          50,
          88.1,
          88.1,
          88.1,
          88.1,
          88.1,
          50,
          50,
          50
         ],
         "xaxis": "x",
         "y": [
          1,
          1,
          1,
          1,
          1,
          1,
          1,
          1,
          1,
          1,
          1,
          1,
          1,
          1,
          1,
          1,
          1,
          1,
          1,
          1,
          1,
          1,
          1,
          1,
          1,
          1,
          1,
          1,
          1,
          1,
          1,
          1,
          1,
          1,
          1,
          1,
          1,
          1,
          1
         ],
         "yaxis": "y"
        },
        {
         "alignmentgroup": "True",
         "hovertemplate": "<b>%{hovertext}</b><br><br>Primary=Water<br>Percent_Male=%{x}<br>count=%{y}<extra></extra>",
         "hovertext": [
          "Squirtle",
          "Wartortle",
          "Blastoise",
          "Psyduck",
          "Golduck",
          "Poliwag",
          "Poliwhirl",
          "Poliwrath",
          "Tentacool",
          "Tentacruel",
          "Slowpoke",
          "Slowbro",
          "Seel",
          "Dewgong",
          "Shellder",
          "Cloyster",
          "Krabby",
          "Kingler",
          "Horsea",
          "Seadra",
          "Goldeen",
          "Seaking",
          "Staryu",
          "Starmie",
          "Magikarp",
          "Gyarados",
          "Lapras",
          "Vaporeon",
          "Totodile",
          "Croconaw",
          "Feraligatr",
          "Chinchou",
          "Lanturn",
          "Marill",
          "Azumarill",
          "Politoed",
          "Wooper",
          "Quagsire",
          "Slowking",
          "Qwilfish",
          "Corsola",
          "Remoraid",
          "Octillery",
          "Mantine",
          "Kingdra",
          "Suicune",
          "Mudkip",
          "Marshtomp",
          "Swampert",
          "Lotad",
          "Lombre",
          "Ludicolo",
          "Wingull",
          "Pelipper",
          "Carvanha",
          "Sharpedo",
          "Wailmer",
          "Wailord",
          "Barboach",
          "Whiscash",
          "Corphish",
          "Crawdaunt",
          "Feebas",
          "Milotic",
          "Clamperl",
          "Huntail",
          "Gorebyss",
          "Relicanth",
          "Luvdisc",
          "Kyogre",
          "Piplup",
          "Prinplup",
          "Empoleon",
          "Buizel",
          "Floatzel",
          "Shellos",
          "Gastrodon",
          "Finneon",
          "Lumineon",
          "Mantyke",
          "Palkia",
          "Phione",
          "Manaphy",
          "Oshawott",
          "Dewott",
          "Samurott",
          "Panpour",
          "Simipour",
          "Tympole",
          "Palpitoad",
          "Seismitoad",
          "Basculin",
          "Tirtouga",
          "Carracosta",
          "Ducklett",
          "Swanna",
          "Frillish",
          "Jellicent",
          "Alomomola",
          "Keldeo"
         ],
         "legendgroup": "Water",
         "marker": {
          "color": "#6390F0",
          "pattern": {
           "shape": ""
          }
         },
         "name": "Water",
         "offsetgroup": "Water",
         "orientation": "v",
         "showlegend": true,
         "textposition": "auto",
         "type": "bar",
         "x": [
          88.1,
          88.1,
          88.1,
          50,
          50,
          50,
          50,
          50,
          50,
          50,
          50,
          50,
          50,
          50,
          50,
          50,
          50,
          50,
          50,
          50,
          50,
          50,
          null,
          null,
          50,
          50,
          50,
          88.1,
          88.1,
          88.1,
          88.1,
          50,
          50,
          50,
          50,
          50,
          50,
          50,
          50,
          50,
          24.6,
          50,
          50,
          50,
          50,
          null,
          88.1,
          88.1,
          88.1,
          50,
          50,
          50,
          50,
          50,
          50,
          50,
          50,
          50,
          50,
          50,
          50,
          50,
          50,
          50,
          50,
          50,
          50,
          88.1,
          24.6,
          null,
          88.1,
          88.1,
          88.1,
          50,
          50,
          50,
          50,
          50,
          50,
          50,
          null,
          null,
          null,
          88.1,
          88.1,
          88.1,
          88.1,
          88.1,
          50,
          50,
          50,
          50,
          88.1,
          88.1,
          50,
          50,
          50,
          50,
          50,
          null
         ],
         "xaxis": "x",
         "y": [
          1,
          1,
          1,
          1,
          1,
          1,
          1,
          1,
          1,
          1,
          1,
          1,
          1,
          1,
          1,
          1,
          1,
          1,
          1,
          1,
          1,
          1,
          1,
          1,
          1,
          1,
          1,
          1,
          1,
          1,
          1,
          1,
          1,
          1,
          1,
          1,
          1,
          1,
          1,
          1,
          1,
          1,
          1,
          1,
          1,
          1,
          1,
          1,
          1,
          1,
          1,
          1,
          1,
          1,
          1,
          1,
          1,
          1,
          1,
          1,
          1,
          1,
          1,
          1,
          1,
          1,
          1,
          1,
          1,
          1,
          1,
          1,
          1,
          1,
          1,
          1,
          1,
          1,
          1,
          1,
          1,
          1,
          1,
          1,
          1,
          1,
          1,
          1,
          1,
          1,
          1,
          1,
          1,
          1,
          1,
          1,
          1,
          1,
          1,
          1
         ],
         "yaxis": "y"
        },
        {
         "alignmentgroup": "True",
         "hovertemplate": "<b>%{hovertext}</b><br><br>Primary=Bug<br>Percent_Male=%{x}<br>count=%{y}<extra></extra>",
         "hovertext": [
          "Caterpie",
          "Metapod",
          "Butterfree",
          "Weedle",
          "Kakuna",
          "Beedrill",
          "Paras",
          "Parasect",
          "Venonat",
          "Venomoth",
          "Scyther",
          "Pinsir",
          "Ledyba",
          "Ledian",
          "Spinarak",
          "Ariados",
          "Yanma",
          "Pineco",
          "Forretress",
          "Scizor",
          "Shuckle",
          "Heracross",
          "Wurmple",
          "Silcoon",
          "Beautifly",
          "Cascoon",
          "Dustox",
          "Surskit",
          "Masquerain",
          "Nincada",
          "Ninjask",
          "Shedinja",
          "Volbeat",
          "Illumise",
          "Kricketot",
          "Kricketune",
          "Burmy",
          "Wormadam",
          "Mothim",
          "Combee",
          "Vespiquen",
          "Yanmega",
          "Sewaddle",
          "Swadloon",
          "Leavanny",
          "Venipede",
          "Whirlipede",
          "Scolipede",
          "Dwebble",
          "Crustle",
          "Karrablast",
          "Escavalier",
          "Joltik",
          "Galvantula",
          "Shelmet",
          "Accelgor",
          "Durant",
          "Larvesta",
          "Volcarona",
          "Genesect"
         ],
         "legendgroup": "Bug",
         "marker": {
          "color": "#A6B91A",
          "pattern": {
           "shape": ""
          }
         },
         "name": "Bug",
         "offsetgroup": "Bug",
         "orientation": "v",
         "showlegend": true,
         "textposition": "auto",
         "type": "bar",
         "x": [
          50,
          50,
          50,
          50,
          50,
          50,
          50,
          50,
          50,
          50,
          50,
          50,
          50,
          50,
          50,
          50,
          50,
          50,
          50,
          50,
          50,
          50,
          50,
          50,
          50,
          50,
          50,
          50,
          50,
          50,
          50,
          null,
          100,
          0,
          50,
          50,
          50,
          0,
          100,
          88.1,
          0,
          50,
          50,
          50,
          50,
          50,
          50,
          50,
          50,
          50,
          50,
          50,
          50,
          50,
          50,
          50,
          50,
          50,
          50,
          null
         ],
         "xaxis": "x",
         "y": [
          1,
          1,
          1,
          1,
          1,
          1,
          1,
          1,
          1,
          1,
          1,
          1,
          1,
          1,
          1,
          1,
          1,
          1,
          1,
          1,
          1,
          1,
          1,
          1,
          1,
          1,
          1,
          1,
          1,
          1,
          1,
          1,
          1,
          1,
          1,
          1,
          1,
          1,
          1,
          1,
          1,
          1,
          1,
          1,
          1,
          1,
          1,
          1,
          1,
          1,
          1,
          1,
          1,
          1,
          1,
          1,
          1,
          1,
          1,
          1
         ],
         "yaxis": "y"
        },
        {
         "alignmentgroup": "True",
         "hovertemplate": "<b>%{hovertext}</b><br><br>Primary=Normal<br>Percent_Male=%{x}<br>count=%{y}<extra></extra>",
         "hovertext": [
          "Pidgey",
          "Pidgeotto",
          "Pidgeot",
          "Rattata",
          "Raticate",
          "Spearow",
          "Fearow",
          "Jigglypuff",
          "Wigglytuff",
          "Meowth",
          "Persian",
          "Farfetch'd",
          "Doduo",
          "Dodrio",
          "Lickitung",
          "Chansey",
          "Kangaskhan",
          "Tauros",
          "Ditto",
          "Eevee",
          "Porygon",
          "Snorlax",
          "Sentret",
          "Furret",
          "Hoothoot",
          "Noctowl",
          "Igglybuff",
          "Aipom",
          "Girafarig",
          "Dunsparce",
          "Teddiursa",
          "Ursaring",
          "Porygon2",
          "Stantler",
          "Smeargle",
          "Miltank",
          "Blissey",
          "Zigzagoon",
          "Linoone",
          "Taillow",
          "Swellow",
          "Slakoth",
          "Vigoroth",
          "Slaking",
          "Whismur",
          "Loudred",
          "Exploud",
          "Azurill",
          "Skitty",
          "Delcatty",
          "Spinda",
          "Swablu",
          "Zangoose",
          "Castform",
          "Kecleon",
          "Starly",
          "Staravia",
          "Staraptor",
          "Bidoof",
          "Bibarel",
          "Ambipom",
          "Buneary",
          "Lopunny",
          "Glameow",
          "Purugly",
          "Happiny",
          "Chatot",
          "Munchlax",
          "Lickilicky",
          "Porygon-Z",
          "Regigigas",
          "Arceus",
          "Patrat",
          "Watchog",
          "Lillipup",
          "Herdier",
          "Stoutland",
          "Pidove",
          "Tranquill",
          "Unfezant",
          "Audino",
          "Minccino",
          "Cinccino",
          "Deerling",
          "Sawsbuck",
          "Bouffalant",
          "Rufflet",
          "Braviary",
          "Meloetta"
         ],
         "legendgroup": "Normal",
         "marker": {
          "color": "#A8A77A",
          "pattern": {
           "shape": ""
          }
         },
         "name": "Normal",
         "offsetgroup": "Normal",
         "orientation": "v",
         "showlegend": true,
         "textposition": "auto",
         "type": "bar",
         "x": [
          50,
          50,
          50,
          50,
          50,
          50,
          50,
          24.6,
          24.6,
          50,
          50,
          50,
          50,
          50,
          50,
          0,
          0,
          100,
          null,
          88.1,
          null,
          88.1,
          50,
          50,
          50,
          50,
          24.6,
          50,
          50,
          50,
          50,
          50,
          null,
          50,
          50,
          0,
          0,
          50,
          50,
          50,
          50,
          50,
          50,
          50,
          50,
          50,
          50,
          24.6,
          24.6,
          24.6,
          50,
          50,
          50,
          50,
          50,
          50,
          50,
          50,
          50,
          50,
          50,
          50,
          50,
          24.6,
          24.6,
          0,
          50,
          88.1,
          50,
          null,
          null,
          null,
          50,
          50,
          50,
          50,
          50,
          50,
          50,
          50,
          50,
          24.6,
          24.6,
          50,
          50,
          50,
          100,
          100,
          null
         ],
         "xaxis": "x",
         "y": [
          1,
          1,
          1,
          1,
          1,
          1,
          1,
          1,
          1,
          1,
          1,
          1,
          1,
          1,
          1,
          1,
          1,
          1,
          1,
          1,
          1,
          1,
          1,
          1,
          1,
          1,
          1,
          1,
          1,
          1,
          1,
          1,
          1,
          1,
          1,
          1,
          1,
          1,
          1,
          1,
          1,
          1,
          1,
          1,
          1,
          1,
          1,
          1,
          1,
          1,
          1,
          1,
          1,
          1,
          1,
          1,
          1,
          1,
          1,
          1,
          1,
          1,
          1,
          1,
          1,
          1,
          1,
          1,
          1,
          1,
          1,
          1,
          1,
          1,
          1,
          1,
          1,
          1,
          1,
          1,
          1,
          1,
          1,
          1,
          1,
          1,
          1,
          1,
          1
         ],
         "yaxis": "y"
        },
        {
         "alignmentgroup": "True",
         "hovertemplate": "<b>%{hovertext}</b><br><br>Primary=Poison<br>Percent_Male=%{x}<br>count=%{y}<extra></extra>",
         "hovertext": [
          "Ekans",
          "Arbok",
          "Nidoran♀",
          "Nidorina",
          "Nidoqueen",
          "Nidoran♂",
          "Nidorino",
          "Nidoking",
          "Zubat",
          "Golbat",
          "Grimer",
          "Muk",
          "Koffing",
          "Weezing",
          "Crobat",
          "Gulpin",
          "Swalot",
          "Seviper",
          "Stunky",
          "Skuntank",
          "Skorupi",
          "Drapion",
          "Croagunk",
          "Toxicroak",
          "Trubbish",
          "Garbodor"
         ],
         "legendgroup": "Poison",
         "marker": {
          "color": "#A33EA1",
          "pattern": {
           "shape": ""
          }
         },
         "name": "Poison",
         "offsetgroup": "Poison",
         "orientation": "v",
         "showlegend": true,
         "textposition": "auto",
         "type": "bar",
         "x": [
          50,
          50,
          0,
          0,
          0,
          100,
          100,
          100,
          50,
          50,
          50,
          50,
          50,
          50,
          50,
          50,
          50,
          50,
          50,
          50,
          50,
          50,
          50,
          50,
          50,
          50
         ],
         "xaxis": "x",
         "y": [
          1,
          1,
          1,
          1,
          1,
          1,
          1,
          1,
          1,
          1,
          1,
          1,
          1,
          1,
          1,
          1,
          1,
          1,
          1,
          1,
          1,
          1,
          1,
          1,
          1,
          1
         ],
         "yaxis": "y"
        },
        {
         "alignmentgroup": "True",
         "hovertemplate": "<b>%{hovertext}</b><br><br>Primary=Electric<br>Percent_Male=%{x}<br>count=%{y}<extra></extra>",
         "hovertext": [
          "Pikachu",
          "Raichu",
          "Magnemite",
          "Magneton",
          "Voltorb",
          "Electrode",
          "Electabuzz",
          "Jolteon",
          "Zapdos",
          "Pichu",
          "Mareep",
          "Flaaffy",
          "Ampharos",
          "Elekid",
          "Raikou",
          "Electrike",
          "Manectric",
          "Plusle",
          "Minun",
          "Shinx",
          "Luxio",
          "Luxray",
          "Pachirisu",
          "Magnezone",
          "Electivire",
          "Rotom",
          "Blitzle",
          "Zebstrika",
          "Emolga",
          "Tynamo",
          "Eelektrik",
          "Eelektross",
          "Thundurus"
         ],
         "legendgroup": "Electric",
         "marker": {
          "color": "#F7D02C",
          "pattern": {
           "shape": ""
          }
         },
         "name": "Electric",
         "offsetgroup": "Electric",
         "orientation": "v",
         "showlegend": true,
         "textposition": "auto",
         "type": "bar",
         "x": [
          50,
          50,
          null,
          null,
          null,
          null,
          75.4,
          88.1,
          null,
          50,
          50,
          50,
          50,
          75.4,
          null,
          50,
          50,
          50,
          50,
          50,
          50,
          50,
          50,
          null,
          75.4,
          null,
          50,
          50,
          50,
          50,
          50,
          50,
          100
         ],
         "xaxis": "x",
         "y": [
          1,
          1,
          1,
          1,
          1,
          1,
          1,
          1,
          1,
          1,
          1,
          1,
          1,
          1,
          1,
          1,
          1,
          1,
          1,
          1,
          1,
          1,
          1,
          1,
          1,
          1,
          1,
          1,
          1,
          1,
          1,
          1,
          1
         ],
         "yaxis": "y"
        },
        {
         "alignmentgroup": "True",
         "hovertemplate": "<b>%{hovertext}</b><br><br>Primary=Ground<br>Percent_Male=%{x}<br>count=%{y}<extra></extra>",
         "hovertext": [
          "Sandshrew",
          "Sandslash",
          "Diglett",
          "Dugtrio",
          "Cubone",
          "Marowak",
          "Rhyhorn",
          "Rhydon",
          "Gligar",
          "Phanpy",
          "Donphan",
          "Trapinch",
          "Vibrava",
          "Flygon",
          "Baltoy",
          "Claydol",
          "Groudon",
          "Hippopotas",
          "Hippowdon",
          "Rhyperior",
          "Gliscor",
          "Drilbur",
          "Excadrill",
          "Sandile",
          "Krokorok",
          "Krookodile",
          "Stunfisk",
          "Golett",
          "Golurk",
          "Landorus"
         ],
         "legendgroup": "Ground",
         "marker": {
          "color": "#E2BF65",
          "pattern": {
           "shape": ""
          }
         },
         "name": "Ground",
         "offsetgroup": "Ground",
         "orientation": "v",
         "showlegend": true,
         "textposition": "auto",
         "type": "bar",
         "x": [
          50,
          50,
          50,
          50,
          50,
          50,
          50,
          50,
          50,
          50,
          50,
          50,
          50,
          50,
          null,
          null,
          null,
          50,
          50,
          50,
          50,
          50,
          50,
          50,
          50,
          50,
          50,
          null,
          null,
          100
         ],
         "xaxis": "x",
         "y": [
          1,
          1,
          1,
          1,
          1,
          1,
          1,
          1,
          1,
          1,
          1,
          1,
          1,
          1,
          1,
          1,
          1,
          1,
          1,
          1,
          1,
          1,
          1,
          1,
          1,
          1,
          1,
          1,
          1,
          1
         ],
         "yaxis": "y"
        },
        {
         "alignmentgroup": "True",
         "hovertemplate": "<b>%{hovertext}</b><br><br>Primary=Fairy<br>Percent_Male=%{x}<br>count=%{y}<extra></extra>",
         "hovertext": [
          "Clefairy",
          "Clefable",
          "Cleffa",
          "Togepi",
          "Togetic",
          "Snubbull",
          "Granbull",
          "Togekiss"
         ],
         "legendgroup": "Fairy",
         "marker": {
          "color": "#D685AD",
          "pattern": {
           "shape": ""
          }
         },
         "name": "Fairy",
         "offsetgroup": "Fairy",
         "orientation": "v",
         "showlegend": true,
         "textposition": "auto",
         "type": "bar",
         "x": [
          24.6,
          24.6,
          24.6,
          88.1,
          88.1,
          24.6,
          24.6,
          88.1
         ],
         "xaxis": "x",
         "y": [
          1,
          1,
          1,
          1,
          1,
          1,
          1,
          1
         ],
         "yaxis": "y"
        },
        {
         "alignmentgroup": "True",
         "hovertemplate": "<b>%{hovertext}</b><br><br>Primary=Fighting<br>Percent_Male=%{x}<br>count=%{y}<extra></extra>",
         "hovertext": [
          "Mankey",
          "Primeape",
          "Machop",
          "Machoke",
          "Machamp",
          "Hitmonlee",
          "Hitmonchan",
          "Tyrogue",
          "Hitmontop",
          "Makuhita",
          "Hariyama",
          "Meditite",
          "Medicham",
          "Riolu",
          "Lucario",
          "Timburr",
          "Gurdurr",
          "Conkeldurr",
          "Throh",
          "Sawk",
          "Mienfoo",
          "Mienshao"
         ],
         "legendgroup": "Fighting",
         "marker": {
          "color": "#C22E28",
          "pattern": {
           "shape": ""
          }
         },
         "name": "Fighting",
         "offsetgroup": "Fighting",
         "orientation": "v",
         "showlegend": true,
         "textposition": "auto",
         "type": "bar",
         "x": [
          50,
          50,
          75.4,
          75.4,
          75.4,
          100,
          100,
          100,
          100,
          75.4,
          75.4,
          50,
          50,
          88.1,
          88.1,
          75.4,
          75.4,
          75.4,
          100,
          100,
          50,
          50
         ],
         "xaxis": "x",
         "y": [
          1,
          1,
          1,
          1,
          1,
          1,
          1,
          1,
          1,
          1,
          1,
          1,
          1,
          1,
          1,
          1,
          1,
          1,
          1,
          1,
          1,
          1
         ],
         "yaxis": "y"
        },
        {
         "alignmentgroup": "True",
         "hovertemplate": "<b>%{hovertext}</b><br><br>Primary=Psychic<br>Percent_Male=%{x}<br>count=%{y}<extra></extra>",
         "hovertext": [
          "Abra",
          "Kadabra",
          "Alakazam",
          "Drowzee",
          "Hypno",
          "Mr.",
          "Mewtwo",
          "Mew",
          "Natu",
          "Xatu",
          "Espeon",
          "Unown",
          "Wobbuffet",
          "Lugia",
          "Celebi",
          "Ralts",
          "Kirlia",
          "Gardevoir",
          "Spoink",
          "Grumpig",
          "Chimecho",
          "Wynaut",
          "Deoxys",
          "Chingling",
          "Mime",
          "Gallade",
          "Uxie",
          "Mesprit",
          "Azelf",
          "Cresselia",
          "Victini",
          "Munna",
          "Musharna",
          "Woobat",
          "Swoobat",
          "Sigilyph",
          "Gothita",
          "Gothorita",
          "Gothitelle",
          "Solosis",
          "Duosion",
          "Reuniclus",
          "Elgyem",
          "Beheeyem"
         ],
         "legendgroup": "Psychic",
         "marker": {
          "color": "#F95587",
          "pattern": {
           "shape": ""
          }
         },
         "name": "Psychic",
         "offsetgroup": "Psychic",
         "orientation": "v",
         "showlegend": true,
         "textposition": "auto",
         "type": "bar",
         "x": [
          75.4,
          75.4,
          75.4,
          50,
          50,
          50,
          null,
          null,
          50,
          50,
          88.1,
          null,
          50,
          null,
          null,
          50,
          50,
          50,
          50,
          50,
          50,
          50,
          null,
          50,
          50,
          100,
          null,
          null,
          null,
          0,
          null,
          50,
          50,
          50,
          50,
          50,
          24.6,
          24.6,
          24.6,
          50,
          50,
          50,
          50,
          50
         ],
         "xaxis": "x",
         "y": [
          1,
          1,
          1,
          1,
          1,
          1,
          1,
          1,
          1,
          1,
          1,
          1,
          1,
          1,
          1,
          1,
          1,
          1,
          1,
          1,
          1,
          1,
          1,
          1,
          1,
          1,
          1,
          1,
          1,
          1,
          1,
          1,
          1,
          1,
          1,
          1,
          1,
          1,
          1,
          1,
          1,
          1,
          1,
          1
         ],
         "yaxis": "y"
        },
        {
         "alignmentgroup": "True",
         "hovertemplate": "<b>%{hovertext}</b><br><br>Primary=Rock<br>Percent_Male=%{x}<br>count=%{y}<extra></extra>",
         "hovertext": [
          "Geodude",
          "Graveler",
          "Golem",
          "Onix",
          "Omanyte",
          "Omastar",
          "Kabuto",
          "Kabutops",
          "Aerodactyl",
          "Sudowoodo",
          "Larvitar",
          "Pupitar",
          "Tyranitar",
          "Nosepass",
          "Lunatone",
          "Solrock",
          "Lileep",
          "Cradily",
          "Anorith",
          "Armaldo",
          "Regirock",
          "Cranidos",
          "Rampardos",
          "Shieldon",
          "Bastiodon",
          "Bonsly",
          "Probopass",
          "Roggenrola",
          "Boldore",
          "Gigalith",
          "Archen",
          "Archeops",
          "Terrakion"
         ],
         "legendgroup": "Rock",
         "marker": {
          "color": "#B6A136",
          "pattern": {
           "shape": ""
          }
         },
         "name": "Rock",
         "offsetgroup": "Rock",
         "orientation": "v",
         "showlegend": true,
         "textposition": "auto",
         "type": "bar",
         "x": [
          50,
          50,
          50,
          50,
          88.1,
          88.1,
          88.1,
          88.1,
          88.1,
          50,
          50,
          50,
          50,
          50,
          null,
          null,
          88.1,
          88.1,
          88.1,
          88.1,
          null,
          88.1,
          88.1,
          88.1,
          88.1,
          50,
          50,
          50,
          50,
          50,
          88.1,
          88.1,
          null
         ],
         "xaxis": "x",
         "y": [
          1,
          1,
          1,
          1,
          1,
          1,
          1,
          1,
          1,
          1,
          1,
          1,
          1,
          1,
          1,
          1,
          1,
          1,
          1,
          1,
          1,
          1,
          1,
          1,
          1,
          1,
          1,
          1,
          1,
          1,
          1,
          1,
          1
         ],
         "yaxis": "y"
        },
        {
         "alignmentgroup": "True",
         "hovertemplate": "<b>%{hovertext}</b><br><br>Primary=Ghost<br>Percent_Male=%{x}<br>count=%{y}<extra></extra>",
         "hovertext": [
          "Gastly",
          "Haunter",
          "Gengar",
          "Misdreavus",
          "Shuppet",
          "Banette",
          "Duskull",
          "Dusclops",
          "Drifloon",
          "Drifblim",
          "Mismagius",
          "Spiritomb",
          "Dusknoir",
          "Giratina",
          "Yamask",
          "Cofagrigus",
          "Litwick",
          "Lampent",
          "Chandelure"
         ],
         "legendgroup": "Ghost",
         "marker": {
          "color": "#735797",
          "pattern": {
           "shape": ""
          }
         },
         "name": "Ghost",
         "offsetgroup": "Ghost",
         "orientation": "v",
         "showlegend": true,
         "textposition": "auto",
         "type": "bar",
         "x": [
          50,
          50,
          50,
          50,
          50,
          50,
          50,
          50,
          50,
          50,
          50,
          50,
          50,
          null,
          50,
          50,
          50,
          50,
          50
         ],
         "xaxis": "x",
         "y": [
          1,
          1,
          1,
          1,
          1,
          1,
          1,
          1,
          1,
          1,
          1,
          1,
          1,
          1,
          1,
          1,
          1,
          1,
          1
         ],
         "yaxis": "y"
        },
        {
         "alignmentgroup": "True",
         "hovertemplate": "<b>%{hovertext}</b><br><br>Primary=Ice<br>Percent_Male=%{x}<br>count=%{y}<extra></extra>",
         "hovertext": [
          "Jynx",
          "Articuno",
          "Swinub",
          "Piloswine",
          "Delibird",
          "Smoochum",
          "Snorunt",
          "Glalie",
          "Spheal",
          "Sealeo",
          "Walrein",
          "Regice",
          "Glaceon",
          "Mamoswine",
          "Froslass",
          "Vanillite",
          "Vanillish",
          "Vanilluxe",
          "Cubchoo",
          "Beartic",
          "Cryogonal"
         ],
         "legendgroup": "Ice",
         "marker": {
          "color": "#96D9D6",
          "pattern": {
           "shape": ""
          }
         },
         "name": "Ice",
         "offsetgroup": "Ice",
         "orientation": "v",
         "showlegend": true,
         "textposition": "auto",
         "type": "bar",
         "x": [
          0,
          null,
          50,
          50,
          50,
          0,
          50,
          50,
          50,
          50,
          50,
          null,
          88.1,
          50,
          0,
          50,
          50,
          50,
          50,
          50,
          null
         ],
         "xaxis": "x",
         "y": [
          1,
          1,
          1,
          1,
          1,
          1,
          1,
          1,
          1,
          1,
          1,
          1,
          1,
          1,
          1,
          1,
          1,
          1,
          1,
          1,
          1
         ],
         "yaxis": "y"
        },
        {
         "alignmentgroup": "True",
         "hovertemplate": "<b>%{hovertext}</b><br><br>Primary=Dragon<br>Percent_Male=%{x}<br>count=%{y}<extra></extra>",
         "hovertext": [
          "Dratini",
          "Dragonair",
          "Dragonite",
          "Altaria",
          "Bagon",
          "Shelgon",
          "Salamence",
          "Latias",
          "Latios",
          "Rayquaza",
          "Gible",
          "Gabite",
          "Garchomp",
          "Axew",
          "Fraxure",
          "Haxorus",
          "Druddigon",
          "Reshiram",
          "Zekrom",
          "Kyurem"
         ],
         "legendgroup": "Dragon",
         "marker": {
          "color": "#6F35FC",
          "pattern": {
           "shape": ""
          }
         },
         "name": "Dragon",
         "offsetgroup": "Dragon",
         "orientation": "v",
         "showlegend": true,
         "textposition": "auto",
         "type": "bar",
         "x": [
          50,
          50,
          50,
          50,
          50,
          50,
          50,
          0,
          100,
          null,
          50,
          50,
          50,
          50,
          50,
          50,
          50,
          null,
          null,
          null
         ],
         "xaxis": "x",
         "y": [
          1,
          1,
          1,
          1,
          1,
          1,
          1,
          1,
          1,
          1,
          1,
          1,
          1,
          1,
          1,
          1,
          1,
          1,
          1,
          1
         ],
         "yaxis": "y"
        },
        {
         "alignmentgroup": "True",
         "hovertemplate": "<b>%{hovertext}</b><br><br>Primary=Dark<br>Percent_Male=%{x}<br>count=%{y}<extra></extra>",
         "hovertext": [
          "Umbreon",
          "Murkrow",
          "Sneasel",
          "Houndour",
          "Houndoom",
          "Poochyena",
          "Mightyena",
          "Sableye",
          "Absol",
          "Honchkrow",
          "Weavile",
          "Darkrai",
          "Purrloin",
          "Liepard",
          "Scraggy",
          "Scrafty",
          "Zorua",
          "Zoroark",
          "Pawniard",
          "Bisharp",
          "Vullaby",
          "Mandibuzz",
          "Deino",
          "Zweilous",
          "Hydreigon"
         ],
         "legendgroup": "Dark",
         "marker": {
          "color": "#705746",
          "pattern": {
           "shape": ""
          }
         },
         "name": "Dark",
         "offsetgroup": "Dark",
         "orientation": "v",
         "showlegend": true,
         "textposition": "auto",
         "type": "bar",
         "x": [
          88.1,
          50,
          50,
          50,
          50,
          50,
          50,
          50,
          50,
          50,
          50,
          null,
          50,
          50,
          50,
          50,
          88.1,
          88.1,
          50,
          50,
          0,
          0,
          50,
          50,
          50
         ],
         "xaxis": "x",
         "y": [
          1,
          1,
          1,
          1,
          1,
          1,
          1,
          1,
          1,
          1,
          1,
          1,
          1,
          1,
          1,
          1,
          1,
          1,
          1,
          1,
          1,
          1,
          1,
          1,
          1
         ],
         "yaxis": "y"
        },
        {
         "alignmentgroup": "True",
         "hovertemplate": "<b>%{hovertext}</b><br><br>Primary=Steel<br>Percent_Male=%{x}<br>count=%{y}<extra></extra>",
         "hovertext": [
          "Steelix",
          "Skarmory",
          "Mawile",
          "Aron",
          "Lairon",
          "Aggron",
          "Beldum",
          "Metang",
          "Metagross",
          "Registeel",
          "Jirachi",
          "Bronzor",
          "Bronzong",
          "Dialga",
          "Klink",
          "Klang",
          "Klinklang",
          "Cobalion"
         ],
         "legendgroup": "Steel",
         "marker": {
          "color": "#B7B7CE",
          "pattern": {
           "shape": ""
          }
         },
         "name": "Steel",
         "offsetgroup": "Steel",
         "orientation": "v",
         "showlegend": true,
         "textposition": "auto",
         "type": "bar",
         "x": [
          50,
          50,
          50,
          50,
          50,
          50,
          null,
          null,
          null,
          null,
          null,
          null,
          null,
          null,
          null,
          null,
          null,
          null
         ],
         "xaxis": "x",
         "y": [
          1,
          1,
          1,
          1,
          1,
          1,
          1,
          1,
          1,
          1,
          1,
          1,
          1,
          1,
          1,
          1,
          1,
          1
         ],
         "yaxis": "y"
        },
        {
         "alignmentgroup": "True",
         "hovertemplate": "<b>%{hovertext}</b><br><br>Primary=Flying<br>Percent_Male=%{x}<br>count=%{y}<extra></extra>",
         "hovertext": [
          "Tornadus"
         ],
         "legendgroup": "Flying",
         "marker": {
          "color": "#A98FF3",
          "pattern": {
           "shape": ""
          }
         },
         "name": "Flying",
         "offsetgroup": "Flying",
         "orientation": "v",
         "showlegend": true,
         "textposition": "auto",
         "type": "bar",
         "x": [
          100
         ],
         "xaxis": "x",
         "y": [
          1
         ],
         "yaxis": "y"
        }
       ],
       "layout": {
        "barmode": "relative",
        "legend": {
         "title": {
          "text": "Primary"
         },
         "tracegroupgap": 0
        },
        "margin": {
         "t": 60
        },
        "template": {
         "data": {
          "bar": [
           {
            "error_x": {
             "color": "#2a3f5f"
            },
            "error_y": {
             "color": "#2a3f5f"
            },
            "marker": {
             "line": {
              "color": "#E5ECF6",
              "width": 0.5
             },
             "pattern": {
              "fillmode": "overlay",
              "size": 10,
              "solidity": 0.2
             }
            },
            "type": "bar"
           }
          ],
          "barpolar": [
           {
            "marker": {
             "line": {
              "color": "#E5ECF6",
              "width": 0.5
             },
             "pattern": {
              "fillmode": "overlay",
              "size": 10,
              "solidity": 0.2
             }
            },
            "type": "barpolar"
           }
          ],
          "carpet": [
           {
            "aaxis": {
             "endlinecolor": "#2a3f5f",
             "gridcolor": "white",
             "linecolor": "white",
             "minorgridcolor": "white",
             "startlinecolor": "#2a3f5f"
            },
            "baxis": {
             "endlinecolor": "#2a3f5f",
             "gridcolor": "white",
             "linecolor": "white",
             "minorgridcolor": "white",
             "startlinecolor": "#2a3f5f"
            },
            "type": "carpet"
           }
          ],
          "choropleth": [
           {
            "colorbar": {
             "outlinewidth": 0,
             "ticks": ""
            },
            "type": "choropleth"
           }
          ],
          "contour": [
           {
            "colorbar": {
             "outlinewidth": 0,
             "ticks": ""
            },
            "colorscale": [
             [
              0,
              "#0d0887"
             ],
             [
              0.1111111111111111,
              "#46039f"
             ],
             [
              0.2222222222222222,
              "#7201a8"
             ],
             [
              0.3333333333333333,
              "#9c179e"
             ],
             [
              0.4444444444444444,
              "#bd3786"
             ],
             [
              0.5555555555555556,
              "#d8576b"
             ],
             [
              0.6666666666666666,
              "#ed7953"
             ],
             [
              0.7777777777777778,
              "#fb9f3a"
             ],
             [
              0.8888888888888888,
              "#fdca26"
             ],
             [
              1,
              "#f0f921"
             ]
            ],
            "type": "contour"
           }
          ],
          "contourcarpet": [
           {
            "colorbar": {
             "outlinewidth": 0,
             "ticks": ""
            },
            "type": "contourcarpet"
           }
          ],
          "heatmap": [
           {
            "colorbar": {
             "outlinewidth": 0,
             "ticks": ""
            },
            "colorscale": [
             [
              0,
              "#0d0887"
             ],
             [
              0.1111111111111111,
              "#46039f"
             ],
             [
              0.2222222222222222,
              "#7201a8"
             ],
             [
              0.3333333333333333,
              "#9c179e"
             ],
             [
              0.4444444444444444,
              "#bd3786"
             ],
             [
              0.5555555555555556,
              "#d8576b"
             ],
             [
              0.6666666666666666,
              "#ed7953"
             ],
             [
              0.7777777777777778,
              "#fb9f3a"
             ],
             [
              0.8888888888888888,
              "#fdca26"
             ],
             [
              1,
              "#f0f921"
             ]
            ],
            "type": "heatmap"
           }
          ],
          "heatmapgl": [
           {
            "colorbar": {
             "outlinewidth": 0,
             "ticks": ""
            },
            "colorscale": [
             [
              0,
              "#0d0887"
             ],
             [
              0.1111111111111111,
              "#46039f"
             ],
             [
              0.2222222222222222,
              "#7201a8"
             ],
             [
              0.3333333333333333,
              "#9c179e"
             ],
             [
              0.4444444444444444,
              "#bd3786"
             ],
             [
              0.5555555555555556,
              "#d8576b"
             ],
             [
              0.6666666666666666,
              "#ed7953"
             ],
             [
              0.7777777777777778,
              "#fb9f3a"
             ],
             [
              0.8888888888888888,
              "#fdca26"
             ],
             [
              1,
              "#f0f921"
             ]
            ],
            "type": "heatmapgl"
           }
          ],
          "histogram": [
           {
            "marker": {
             "pattern": {
              "fillmode": "overlay",
              "size": 10,
              "solidity": 0.2
             }
            },
            "type": "histogram"
           }
          ],
          "histogram2d": [
           {
            "colorbar": {
             "outlinewidth": 0,
             "ticks": ""
            },
            "colorscale": [
             [
              0,
              "#0d0887"
             ],
             [
              0.1111111111111111,
              "#46039f"
             ],
             [
              0.2222222222222222,
              "#7201a8"
             ],
             [
              0.3333333333333333,
              "#9c179e"
             ],
             [
              0.4444444444444444,
              "#bd3786"
             ],
             [
              0.5555555555555556,
              "#d8576b"
             ],
             [
              0.6666666666666666,
              "#ed7953"
             ],
             [
              0.7777777777777778,
              "#fb9f3a"
             ],
             [
              0.8888888888888888,
              "#fdca26"
             ],
             [
              1,
              "#f0f921"
             ]
            ],
            "type": "histogram2d"
           }
          ],
          "histogram2dcontour": [
           {
            "colorbar": {
             "outlinewidth": 0,
             "ticks": ""
            },
            "colorscale": [
             [
              0,
              "#0d0887"
             ],
             [
              0.1111111111111111,
              "#46039f"
             ],
             [
              0.2222222222222222,
              "#7201a8"
             ],
             [
              0.3333333333333333,
              "#9c179e"
             ],
             [
              0.4444444444444444,
              "#bd3786"
             ],
             [
              0.5555555555555556,
              "#d8576b"
             ],
             [
              0.6666666666666666,
              "#ed7953"
             ],
             [
              0.7777777777777778,
              "#fb9f3a"
             ],
             [
              0.8888888888888888,
              "#fdca26"
             ],
             [
              1,
              "#f0f921"
             ]
            ],
            "type": "histogram2dcontour"
           }
          ],
          "mesh3d": [
           {
            "colorbar": {
             "outlinewidth": 0,
             "ticks": ""
            },
            "type": "mesh3d"
           }
          ],
          "parcoords": [
           {
            "line": {
             "colorbar": {
              "outlinewidth": 0,
              "ticks": ""
             }
            },
            "type": "parcoords"
           }
          ],
          "pie": [
           {
            "automargin": true,
            "type": "pie"
           }
          ],
          "scatter": [
           {
            "marker": {
             "colorbar": {
              "outlinewidth": 0,
              "ticks": ""
             }
            },
            "type": "scatter"
           }
          ],
          "scatter3d": [
           {
            "line": {
             "colorbar": {
              "outlinewidth": 0,
              "ticks": ""
             }
            },
            "marker": {
             "colorbar": {
              "outlinewidth": 0,
              "ticks": ""
             }
            },
            "type": "scatter3d"
           }
          ],
          "scattercarpet": [
           {
            "marker": {
             "colorbar": {
              "outlinewidth": 0,
              "ticks": ""
             }
            },
            "type": "scattercarpet"
           }
          ],
          "scattergeo": [
           {
            "marker": {
             "colorbar": {
              "outlinewidth": 0,
              "ticks": ""
             }
            },
            "type": "scattergeo"
           }
          ],
          "scattergl": [
           {
            "marker": {
             "colorbar": {
              "outlinewidth": 0,
              "ticks": ""
             }
            },
            "type": "scattergl"
           }
          ],
          "scattermapbox": [
           {
            "marker": {
             "colorbar": {
              "outlinewidth": 0,
              "ticks": ""
             }
            },
            "type": "scattermapbox"
           }
          ],
          "scatterpolar": [
           {
            "marker": {
             "colorbar": {
              "outlinewidth": 0,
              "ticks": ""
             }
            },
            "type": "scatterpolar"
           }
          ],
          "scatterpolargl": [
           {
            "marker": {
             "colorbar": {
              "outlinewidth": 0,
              "ticks": ""
             }
            },
            "type": "scatterpolargl"
           }
          ],
          "scatterternary": [
           {
            "marker": {
             "colorbar": {
              "outlinewidth": 0,
              "ticks": ""
             }
            },
            "type": "scatterternary"
           }
          ],
          "surface": [
           {
            "colorbar": {
             "outlinewidth": 0,
             "ticks": ""
            },
            "colorscale": [
             [
              0,
              "#0d0887"
             ],
             [
              0.1111111111111111,
              "#46039f"
             ],
             [
              0.2222222222222222,
              "#7201a8"
             ],
             [
              0.3333333333333333,
              "#9c179e"
             ],
             [
              0.4444444444444444,
              "#bd3786"
             ],
             [
              0.5555555555555556,
              "#d8576b"
             ],
             [
              0.6666666666666666,
              "#ed7953"
             ],
             [
              0.7777777777777778,
              "#fb9f3a"
             ],
             [
              0.8888888888888888,
              "#fdca26"
             ],
             [
              1,
              "#f0f921"
             ]
            ],
            "type": "surface"
           }
          ],
          "table": [
           {
            "cells": {
             "fill": {
              "color": "#EBF0F8"
             },
             "line": {
              "color": "white"
             }
            },
            "header": {
             "fill": {
              "color": "#C8D4E3"
             },
             "line": {
              "color": "white"
             }
            },
            "type": "table"
           }
          ]
         },
         "layout": {
          "annotationdefaults": {
           "arrowcolor": "#2a3f5f",
           "arrowhead": 0,
           "arrowwidth": 1
          },
          "autotypenumbers": "strict",
          "coloraxis": {
           "colorbar": {
            "outlinewidth": 0,
            "ticks": ""
           }
          },
          "colorscale": {
           "diverging": [
            [
             0,
             "#8e0152"
            ],
            [
             0.1,
             "#c51b7d"
            ],
            [
             0.2,
             "#de77ae"
            ],
            [
             0.3,
             "#f1b6da"
            ],
            [
             0.4,
             "#fde0ef"
            ],
            [
             0.5,
             "#f7f7f7"
            ],
            [
             0.6,
             "#e6f5d0"
            ],
            [
             0.7,
             "#b8e186"
            ],
            [
             0.8,
             "#7fbc41"
            ],
            [
             0.9,
             "#4d9221"
            ],
            [
             1,
             "#276419"
            ]
           ],
           "sequential": [
            [
             0,
             "#0d0887"
            ],
            [
             0.1111111111111111,
             "#46039f"
            ],
            [
             0.2222222222222222,
             "#7201a8"
            ],
            [
             0.3333333333333333,
             "#9c179e"
            ],
            [
             0.4444444444444444,
             "#bd3786"
            ],
            [
             0.5555555555555556,
             "#d8576b"
            ],
            [
             0.6666666666666666,
             "#ed7953"
            ],
            [
             0.7777777777777778,
             "#fb9f3a"
            ],
            [
             0.8888888888888888,
             "#fdca26"
            ],
            [
             1,
             "#f0f921"
            ]
           ],
           "sequentialminus": [
            [
             0,
             "#0d0887"
            ],
            [
             0.1111111111111111,
             "#46039f"
            ],
            [
             0.2222222222222222,
             "#7201a8"
            ],
            [
             0.3333333333333333,
             "#9c179e"
            ],
            [
             0.4444444444444444,
             "#bd3786"
            ],
            [
             0.5555555555555556,
             "#d8576b"
            ],
            [
             0.6666666666666666,
             "#ed7953"
            ],
            [
             0.7777777777777778,
             "#fb9f3a"
            ],
            [
             0.8888888888888888,
             "#fdca26"
            ],
            [
             1,
             "#f0f921"
            ]
           ]
          },
          "colorway": [
           "#636efa",
           "#EF553B",
           "#00cc96",
           "#ab63fa",
           "#FFA15A",
           "#19d3f3",
           "#FF6692",
           "#B6E880",
           "#FF97FF",
           "#FECB52"
          ],
          "font": {
           "color": "#2a3f5f"
          },
          "geo": {
           "bgcolor": "white",
           "lakecolor": "white",
           "landcolor": "#E5ECF6",
           "showlakes": true,
           "showland": true,
           "subunitcolor": "white"
          },
          "hoverlabel": {
           "align": "left"
          },
          "hovermode": "closest",
          "mapbox": {
           "style": "light"
          },
          "paper_bgcolor": "white",
          "plot_bgcolor": "#E5ECF6",
          "polar": {
           "angularaxis": {
            "gridcolor": "white",
            "linecolor": "white",
            "ticks": ""
           },
           "bgcolor": "#E5ECF6",
           "radialaxis": {
            "gridcolor": "white",
            "linecolor": "white",
            "ticks": ""
           }
          },
          "scene": {
           "xaxis": {
            "backgroundcolor": "#E5ECF6",
            "gridcolor": "white",
            "gridwidth": 2,
            "linecolor": "white",
            "showbackground": true,
            "ticks": "",
            "zerolinecolor": "white"
           },
           "yaxis": {
            "backgroundcolor": "#E5ECF6",
            "gridcolor": "white",
            "gridwidth": 2,
            "linecolor": "white",
            "showbackground": true,
            "ticks": "",
            "zerolinecolor": "white"
           },
           "zaxis": {
            "backgroundcolor": "#E5ECF6",
            "gridcolor": "white",
            "gridwidth": 2,
            "linecolor": "white",
            "showbackground": true,
            "ticks": "",
            "zerolinecolor": "white"
           }
          },
          "shapedefaults": {
           "line": {
            "color": "#2a3f5f"
           }
          },
          "ternary": {
           "aaxis": {
            "gridcolor": "white",
            "linecolor": "white",
            "ticks": ""
           },
           "baxis": {
            "gridcolor": "white",
            "linecolor": "white",
            "ticks": ""
           },
           "bgcolor": "#E5ECF6",
           "caxis": {
            "gridcolor": "white",
            "linecolor": "white",
            "ticks": ""
           }
          },
          "title": {
           "x": 0.05
          },
          "xaxis": {
           "automargin": true,
           "gridcolor": "white",
           "linecolor": "white",
           "ticks": "",
           "title": {
            "standoff": 15
           },
           "zerolinecolor": "white",
           "zerolinewidth": 2
          },
          "yaxis": {
           "automargin": true,
           "gridcolor": "white",
           "linecolor": "white",
           "ticks": "",
           "title": {
            "standoff": 15
           },
           "zerolinecolor": "white",
           "zerolinewidth": 2
          }
         }
        },
        "xaxis": {
         "anchor": "y",
         "domain": [
          0,
          1
         ],
         "title": {
          "text": "Percent_Male"
         }
        },
        "yaxis": {
         "anchor": "x",
         "domain": [
          0,
          1
         ],
         "title": {
          "text": "count"
         }
        }
       }
      },
      "text/html": [
       "<div>                            <div id=\"1e25b868-40ad-4c6e-8b3f-d9c3c558bc8e\" class=\"plotly-graph-div\" style=\"height:525px; width:100%;\"></div>            <script type=\"text/javascript\">                require([\"plotly\"], function(Plotly) {                    window.PLOTLYENV=window.PLOTLYENV || {};                                    if (document.getElementById(\"1e25b868-40ad-4c6e-8b3f-d9c3c558bc8e\")) {                    Plotly.newPlot(                        \"1e25b868-40ad-4c6e-8b3f-d9c3c558bc8e\",                        [{\"alignmentgroup\":\"True\",\"hovertemplate\":\"<b>%{hovertext}</b><br><br>Primary=Grass<br>Percent_Male=%{x}<br>count=%{y}<extra></extra>\",\"hovertext\":[\"Bulbasaur\",\"Ivysaur\",\"Venusaur\",\"Oddish\",\"Gloom\",\"Vileplume\",\"Bellsprout\",\"Weepinbell\",\"Victreebel\",\"Exeggcute\",\"Exeggutor\",\"Tangela\",\"Chikorita\",\"Bayleef\",\"Meganium\",\"Bellossom\",\"Hoppip\",\"Skiploom\",\"Jumpluff\",\"Sunkern\",\"Sunflora\",\"Treecko\",\"Grovyle\",\"Sceptile\",\"Seedot\",\"Nuzleaf\",\"Shiftry\",\"Shroomish\",\"Breloom\",\"Roselia\",\"Cacnea\",\"Cacturne\",\"Tropius\",\"Turtwig\",\"Grotle\",\"Torterra\",\"Budew\",\"Roserade\",\"Cherubi\",\"Cherrim\",\"Carnivine\",\"Snover\",\"Abomasnow\",\"Tangrowth\",\"Leafeon\",\"Shaymin\",\"Snivy\",\"Servine\",\"Serperior\",\"Pansage\",\"Simisage\",\"Cottonee\",\"Whimsicott\",\"Petilil\",\"Lilligant\",\"Maractus\",\"Foongus\",\"Amoonguss\",\"Ferroseed\",\"Ferrothorn\",\"Virizion\"],\"legendgroup\":\"Grass\",\"marker\":{\"color\":\"#7AC74C\",\"pattern\":{\"shape\":\"\"}},\"name\":\"Grass\",\"offsetgroup\":\"Grass\",\"orientation\":\"v\",\"showlegend\":true,\"textposition\":\"auto\",\"x\":[88.1,88.1,88.1,50.0,50.0,50.0,50.0,50.0,50.0,50.0,50.0,50.0,88.1,88.1,88.1,50.0,50.0,50.0,50.0,50.0,50.0,88.1,88.1,88.1,50.0,50.0,50.0,50.0,50.0,50.0,50.0,50.0,50.0,88.1,88.1,88.1,50.0,50.0,50.0,50.0,50.0,50.0,50.0,50.0,88.1,null,88.1,88.1,88.1,88.1,88.1,50.0,50.0,0.0,0.0,50.0,50.0,50.0,50.0,50.0,null],\"xaxis\":\"x\",\"y\":[1,1,1,1,1,1,1,1,1,1,1,1,1,1,1,1,1,1,1,1,1,1,1,1,1,1,1,1,1,1,1,1,1,1,1,1,1,1,1,1,1,1,1,1,1,1,1,1,1,1,1,1,1,1,1,1,1,1,1,1,1],\"yaxis\":\"y\",\"type\":\"bar\"},{\"alignmentgroup\":\"True\",\"hovertemplate\":\"<b>%{hovertext}</b><br><br>Primary=Fire<br>Percent_Male=%{x}<br>count=%{y}<extra></extra>\",\"hovertext\":[\"Charmander\",\"Charmeleon\",\"Charizard\",\"Vulpix\",\"Ninetales\",\"Growlithe\",\"Arcanine\",\"Ponyta\",\"Rapidash\",\"Magmar\",\"Flareon\",\"Moltres\",\"Cyndaquil\",\"Quilava\",\"Typhlosion\",\"Slugma\",\"Magcargo\",\"Magby\",\"Entei\",\"Ho-Oh\",\"Torchic\",\"Combusken\",\"Blaziken\",\"Numel\",\"Camerupt\",\"Torkoal\",\"Chimchar\",\"Monferno\",\"Infernape\",\"Magmortar\",\"Heatran\",\"Tepig\",\"Pignite\",\"Emboar\",\"Pansear\",\"Simisear\",\"Darumaka\",\"Darmanitan\",\"Heatmor\"],\"legendgroup\":\"Fire\",\"marker\":{\"color\":\"#EE8130\",\"pattern\":{\"shape\":\"\"}},\"name\":\"Fire\",\"offsetgroup\":\"Fire\",\"orientation\":\"v\",\"showlegend\":true,\"textposition\":\"auto\",\"x\":[88.1,88.1,88.1,24.6,24.6,75.4,75.4,50.0,50.0,75.4,88.1,null,88.1,88.1,88.1,50.0,50.0,75.4,null,null,88.1,88.1,88.1,50.0,50.0,50.0,88.1,88.1,88.1,75.4,50.0,88.1,88.1,88.1,88.1,88.1,50.0,50.0,50.0],\"xaxis\":\"x\",\"y\":[1,1,1,1,1,1,1,1,1,1,1,1,1,1,1,1,1,1,1,1,1,1,1,1,1,1,1,1,1,1,1,1,1,1,1,1,1,1,1],\"yaxis\":\"y\",\"type\":\"bar\"},{\"alignmentgroup\":\"True\",\"hovertemplate\":\"<b>%{hovertext}</b><br><br>Primary=Water<br>Percent_Male=%{x}<br>count=%{y}<extra></extra>\",\"hovertext\":[\"Squirtle\",\"Wartortle\",\"Blastoise\",\"Psyduck\",\"Golduck\",\"Poliwag\",\"Poliwhirl\",\"Poliwrath\",\"Tentacool\",\"Tentacruel\",\"Slowpoke\",\"Slowbro\",\"Seel\",\"Dewgong\",\"Shellder\",\"Cloyster\",\"Krabby\",\"Kingler\",\"Horsea\",\"Seadra\",\"Goldeen\",\"Seaking\",\"Staryu\",\"Starmie\",\"Magikarp\",\"Gyarados\",\"Lapras\",\"Vaporeon\",\"Totodile\",\"Croconaw\",\"Feraligatr\",\"Chinchou\",\"Lanturn\",\"Marill\",\"Azumarill\",\"Politoed\",\"Wooper\",\"Quagsire\",\"Slowking\",\"Qwilfish\",\"Corsola\",\"Remoraid\",\"Octillery\",\"Mantine\",\"Kingdra\",\"Suicune\",\"Mudkip\",\"Marshtomp\",\"Swampert\",\"Lotad\",\"Lombre\",\"Ludicolo\",\"Wingull\",\"Pelipper\",\"Carvanha\",\"Sharpedo\",\"Wailmer\",\"Wailord\",\"Barboach\",\"Whiscash\",\"Corphish\",\"Crawdaunt\",\"Feebas\",\"Milotic\",\"Clamperl\",\"Huntail\",\"Gorebyss\",\"Relicanth\",\"Luvdisc\",\"Kyogre\",\"Piplup\",\"Prinplup\",\"Empoleon\",\"Buizel\",\"Floatzel\",\"Shellos\",\"Gastrodon\",\"Finneon\",\"Lumineon\",\"Mantyke\",\"Palkia\",\"Phione\",\"Manaphy\",\"Oshawott\",\"Dewott\",\"Samurott\",\"Panpour\",\"Simipour\",\"Tympole\",\"Palpitoad\",\"Seismitoad\",\"Basculin\",\"Tirtouga\",\"Carracosta\",\"Ducklett\",\"Swanna\",\"Frillish\",\"Jellicent\",\"Alomomola\",\"Keldeo\"],\"legendgroup\":\"Water\",\"marker\":{\"color\":\"#6390F0\",\"pattern\":{\"shape\":\"\"}},\"name\":\"Water\",\"offsetgroup\":\"Water\",\"orientation\":\"v\",\"showlegend\":true,\"textposition\":\"auto\",\"x\":[88.1,88.1,88.1,50.0,50.0,50.0,50.0,50.0,50.0,50.0,50.0,50.0,50.0,50.0,50.0,50.0,50.0,50.0,50.0,50.0,50.0,50.0,null,null,50.0,50.0,50.0,88.1,88.1,88.1,88.1,50.0,50.0,50.0,50.0,50.0,50.0,50.0,50.0,50.0,24.6,50.0,50.0,50.0,50.0,null,88.1,88.1,88.1,50.0,50.0,50.0,50.0,50.0,50.0,50.0,50.0,50.0,50.0,50.0,50.0,50.0,50.0,50.0,50.0,50.0,50.0,88.1,24.6,null,88.1,88.1,88.1,50.0,50.0,50.0,50.0,50.0,50.0,50.0,null,null,null,88.1,88.1,88.1,88.1,88.1,50.0,50.0,50.0,50.0,88.1,88.1,50.0,50.0,50.0,50.0,50.0,null],\"xaxis\":\"x\",\"y\":[1,1,1,1,1,1,1,1,1,1,1,1,1,1,1,1,1,1,1,1,1,1,1,1,1,1,1,1,1,1,1,1,1,1,1,1,1,1,1,1,1,1,1,1,1,1,1,1,1,1,1,1,1,1,1,1,1,1,1,1,1,1,1,1,1,1,1,1,1,1,1,1,1,1,1,1,1,1,1,1,1,1,1,1,1,1,1,1,1,1,1,1,1,1,1,1,1,1,1,1],\"yaxis\":\"y\",\"type\":\"bar\"},{\"alignmentgroup\":\"True\",\"hovertemplate\":\"<b>%{hovertext}</b><br><br>Primary=Bug<br>Percent_Male=%{x}<br>count=%{y}<extra></extra>\",\"hovertext\":[\"Caterpie\",\"Metapod\",\"Butterfree\",\"Weedle\",\"Kakuna\",\"Beedrill\",\"Paras\",\"Parasect\",\"Venonat\",\"Venomoth\",\"Scyther\",\"Pinsir\",\"Ledyba\",\"Ledian\",\"Spinarak\",\"Ariados\",\"Yanma\",\"Pineco\",\"Forretress\",\"Scizor\",\"Shuckle\",\"Heracross\",\"Wurmple\",\"Silcoon\",\"Beautifly\",\"Cascoon\",\"Dustox\",\"Surskit\",\"Masquerain\",\"Nincada\",\"Ninjask\",\"Shedinja\",\"Volbeat\",\"Illumise\",\"Kricketot\",\"Kricketune\",\"Burmy\",\"Wormadam\",\"Mothim\",\"Combee\",\"Vespiquen\",\"Yanmega\",\"Sewaddle\",\"Swadloon\",\"Leavanny\",\"Venipede\",\"Whirlipede\",\"Scolipede\",\"Dwebble\",\"Crustle\",\"Karrablast\",\"Escavalier\",\"Joltik\",\"Galvantula\",\"Shelmet\",\"Accelgor\",\"Durant\",\"Larvesta\",\"Volcarona\",\"Genesect\"],\"legendgroup\":\"Bug\",\"marker\":{\"color\":\"#A6B91A\",\"pattern\":{\"shape\":\"\"}},\"name\":\"Bug\",\"offsetgroup\":\"Bug\",\"orientation\":\"v\",\"showlegend\":true,\"textposition\":\"auto\",\"x\":[50.0,50.0,50.0,50.0,50.0,50.0,50.0,50.0,50.0,50.0,50.0,50.0,50.0,50.0,50.0,50.0,50.0,50.0,50.0,50.0,50.0,50.0,50.0,50.0,50.0,50.0,50.0,50.0,50.0,50.0,50.0,null,100.0,0.0,50.0,50.0,50.0,0.0,100.0,88.1,0.0,50.0,50.0,50.0,50.0,50.0,50.0,50.0,50.0,50.0,50.0,50.0,50.0,50.0,50.0,50.0,50.0,50.0,50.0,null],\"xaxis\":\"x\",\"y\":[1,1,1,1,1,1,1,1,1,1,1,1,1,1,1,1,1,1,1,1,1,1,1,1,1,1,1,1,1,1,1,1,1,1,1,1,1,1,1,1,1,1,1,1,1,1,1,1,1,1,1,1,1,1,1,1,1,1,1,1],\"yaxis\":\"y\",\"type\":\"bar\"},{\"alignmentgroup\":\"True\",\"hovertemplate\":\"<b>%{hovertext}</b><br><br>Primary=Normal<br>Percent_Male=%{x}<br>count=%{y}<extra></extra>\",\"hovertext\":[\"Pidgey\",\"Pidgeotto\",\"Pidgeot\",\"Rattata\",\"Raticate\",\"Spearow\",\"Fearow\",\"Jigglypuff\",\"Wigglytuff\",\"Meowth\",\"Persian\",\"Farfetch'd\",\"Doduo\",\"Dodrio\",\"Lickitung\",\"Chansey\",\"Kangaskhan\",\"Tauros\",\"Ditto\",\"Eevee\",\"Porygon\",\"Snorlax\",\"Sentret\",\"Furret\",\"Hoothoot\",\"Noctowl\",\"Igglybuff\",\"Aipom\",\"Girafarig\",\"Dunsparce\",\"Teddiursa\",\"Ursaring\",\"Porygon2\",\"Stantler\",\"Smeargle\",\"Miltank\",\"Blissey\",\"Zigzagoon\",\"Linoone\",\"Taillow\",\"Swellow\",\"Slakoth\",\"Vigoroth\",\"Slaking\",\"Whismur\",\"Loudred\",\"Exploud\",\"Azurill\",\"Skitty\",\"Delcatty\",\"Spinda\",\"Swablu\",\"Zangoose\",\"Castform\",\"Kecleon\",\"Starly\",\"Staravia\",\"Staraptor\",\"Bidoof\",\"Bibarel\",\"Ambipom\",\"Buneary\",\"Lopunny\",\"Glameow\",\"Purugly\",\"Happiny\",\"Chatot\",\"Munchlax\",\"Lickilicky\",\"Porygon-Z\",\"Regigigas\",\"Arceus\",\"Patrat\",\"Watchog\",\"Lillipup\",\"Herdier\",\"Stoutland\",\"Pidove\",\"Tranquill\",\"Unfezant\",\"Audino\",\"Minccino\",\"Cinccino\",\"Deerling\",\"Sawsbuck\",\"Bouffalant\",\"Rufflet\",\"Braviary\",\"Meloetta\"],\"legendgroup\":\"Normal\",\"marker\":{\"color\":\"#A8A77A\",\"pattern\":{\"shape\":\"\"}},\"name\":\"Normal\",\"offsetgroup\":\"Normal\",\"orientation\":\"v\",\"showlegend\":true,\"textposition\":\"auto\",\"x\":[50.0,50.0,50.0,50.0,50.0,50.0,50.0,24.6,24.6,50.0,50.0,50.0,50.0,50.0,50.0,0.0,0.0,100.0,null,88.1,null,88.1,50.0,50.0,50.0,50.0,24.6,50.0,50.0,50.0,50.0,50.0,null,50.0,50.0,0.0,0.0,50.0,50.0,50.0,50.0,50.0,50.0,50.0,50.0,50.0,50.0,24.6,24.6,24.6,50.0,50.0,50.0,50.0,50.0,50.0,50.0,50.0,50.0,50.0,50.0,50.0,50.0,24.6,24.6,0.0,50.0,88.1,50.0,null,null,null,50.0,50.0,50.0,50.0,50.0,50.0,50.0,50.0,50.0,24.6,24.6,50.0,50.0,50.0,100.0,100.0,null],\"xaxis\":\"x\",\"y\":[1,1,1,1,1,1,1,1,1,1,1,1,1,1,1,1,1,1,1,1,1,1,1,1,1,1,1,1,1,1,1,1,1,1,1,1,1,1,1,1,1,1,1,1,1,1,1,1,1,1,1,1,1,1,1,1,1,1,1,1,1,1,1,1,1,1,1,1,1,1,1,1,1,1,1,1,1,1,1,1,1,1,1,1,1,1,1,1,1],\"yaxis\":\"y\",\"type\":\"bar\"},{\"alignmentgroup\":\"True\",\"hovertemplate\":\"<b>%{hovertext}</b><br><br>Primary=Poison<br>Percent_Male=%{x}<br>count=%{y}<extra></extra>\",\"hovertext\":[\"Ekans\",\"Arbok\",\"Nidoran\\u2640\",\"Nidorina\",\"Nidoqueen\",\"Nidoran\\u2642\",\"Nidorino\",\"Nidoking\",\"Zubat\",\"Golbat\",\"Grimer\",\"Muk\",\"Koffing\",\"Weezing\",\"Crobat\",\"Gulpin\",\"Swalot\",\"Seviper\",\"Stunky\",\"Skuntank\",\"Skorupi\",\"Drapion\",\"Croagunk\",\"Toxicroak\",\"Trubbish\",\"Garbodor\"],\"legendgroup\":\"Poison\",\"marker\":{\"color\":\"#A33EA1\",\"pattern\":{\"shape\":\"\"}},\"name\":\"Poison\",\"offsetgroup\":\"Poison\",\"orientation\":\"v\",\"showlegend\":true,\"textposition\":\"auto\",\"x\":[50.0,50.0,0.0,0.0,0.0,100.0,100.0,100.0,50.0,50.0,50.0,50.0,50.0,50.0,50.0,50.0,50.0,50.0,50.0,50.0,50.0,50.0,50.0,50.0,50.0,50.0],\"xaxis\":\"x\",\"y\":[1,1,1,1,1,1,1,1,1,1,1,1,1,1,1,1,1,1,1,1,1,1,1,1,1,1],\"yaxis\":\"y\",\"type\":\"bar\"},{\"alignmentgroup\":\"True\",\"hovertemplate\":\"<b>%{hovertext}</b><br><br>Primary=Electric<br>Percent_Male=%{x}<br>count=%{y}<extra></extra>\",\"hovertext\":[\"Pikachu\",\"Raichu\",\"Magnemite\",\"Magneton\",\"Voltorb\",\"Electrode\",\"Electabuzz\",\"Jolteon\",\"Zapdos\",\"Pichu\",\"Mareep\",\"Flaaffy\",\"Ampharos\",\"Elekid\",\"Raikou\",\"Electrike\",\"Manectric\",\"Plusle\",\"Minun\",\"Shinx\",\"Luxio\",\"Luxray\",\"Pachirisu\",\"Magnezone\",\"Electivire\",\"Rotom\",\"Blitzle\",\"Zebstrika\",\"Emolga\",\"Tynamo\",\"Eelektrik\",\"Eelektross\",\"Thundurus\"],\"legendgroup\":\"Electric\",\"marker\":{\"color\":\"#F7D02C\",\"pattern\":{\"shape\":\"\"}},\"name\":\"Electric\",\"offsetgroup\":\"Electric\",\"orientation\":\"v\",\"showlegend\":true,\"textposition\":\"auto\",\"x\":[50.0,50.0,null,null,null,null,75.4,88.1,null,50.0,50.0,50.0,50.0,75.4,null,50.0,50.0,50.0,50.0,50.0,50.0,50.0,50.0,null,75.4,null,50.0,50.0,50.0,50.0,50.0,50.0,100.0],\"xaxis\":\"x\",\"y\":[1,1,1,1,1,1,1,1,1,1,1,1,1,1,1,1,1,1,1,1,1,1,1,1,1,1,1,1,1,1,1,1,1],\"yaxis\":\"y\",\"type\":\"bar\"},{\"alignmentgroup\":\"True\",\"hovertemplate\":\"<b>%{hovertext}</b><br><br>Primary=Ground<br>Percent_Male=%{x}<br>count=%{y}<extra></extra>\",\"hovertext\":[\"Sandshrew\",\"Sandslash\",\"Diglett\",\"Dugtrio\",\"Cubone\",\"Marowak\",\"Rhyhorn\",\"Rhydon\",\"Gligar\",\"Phanpy\",\"Donphan\",\"Trapinch\",\"Vibrava\",\"Flygon\",\"Baltoy\",\"Claydol\",\"Groudon\",\"Hippopotas\",\"Hippowdon\",\"Rhyperior\",\"Gliscor\",\"Drilbur\",\"Excadrill\",\"Sandile\",\"Krokorok\",\"Krookodile\",\"Stunfisk\",\"Golett\",\"Golurk\",\"Landorus\"],\"legendgroup\":\"Ground\",\"marker\":{\"color\":\"#E2BF65\",\"pattern\":{\"shape\":\"\"}},\"name\":\"Ground\",\"offsetgroup\":\"Ground\",\"orientation\":\"v\",\"showlegend\":true,\"textposition\":\"auto\",\"x\":[50.0,50.0,50.0,50.0,50.0,50.0,50.0,50.0,50.0,50.0,50.0,50.0,50.0,50.0,null,null,null,50.0,50.0,50.0,50.0,50.0,50.0,50.0,50.0,50.0,50.0,null,null,100.0],\"xaxis\":\"x\",\"y\":[1,1,1,1,1,1,1,1,1,1,1,1,1,1,1,1,1,1,1,1,1,1,1,1,1,1,1,1,1,1],\"yaxis\":\"y\",\"type\":\"bar\"},{\"alignmentgroup\":\"True\",\"hovertemplate\":\"<b>%{hovertext}</b><br><br>Primary=Fairy<br>Percent_Male=%{x}<br>count=%{y}<extra></extra>\",\"hovertext\":[\"Clefairy\",\"Clefable\",\"Cleffa\",\"Togepi\",\"Togetic\",\"Snubbull\",\"Granbull\",\"Togekiss\"],\"legendgroup\":\"Fairy\",\"marker\":{\"color\":\"#D685AD\",\"pattern\":{\"shape\":\"\"}},\"name\":\"Fairy\",\"offsetgroup\":\"Fairy\",\"orientation\":\"v\",\"showlegend\":true,\"textposition\":\"auto\",\"x\":[24.6,24.6,24.6,88.1,88.1,24.6,24.6,88.1],\"xaxis\":\"x\",\"y\":[1,1,1,1,1,1,1,1],\"yaxis\":\"y\",\"type\":\"bar\"},{\"alignmentgroup\":\"True\",\"hovertemplate\":\"<b>%{hovertext}</b><br><br>Primary=Fighting<br>Percent_Male=%{x}<br>count=%{y}<extra></extra>\",\"hovertext\":[\"Mankey\",\"Primeape\",\"Machop\",\"Machoke\",\"Machamp\",\"Hitmonlee\",\"Hitmonchan\",\"Tyrogue\",\"Hitmontop\",\"Makuhita\",\"Hariyama\",\"Meditite\",\"Medicham\",\"Riolu\",\"Lucario\",\"Timburr\",\"Gurdurr\",\"Conkeldurr\",\"Throh\",\"Sawk\",\"Mienfoo\",\"Mienshao\"],\"legendgroup\":\"Fighting\",\"marker\":{\"color\":\"#C22E28\",\"pattern\":{\"shape\":\"\"}},\"name\":\"Fighting\",\"offsetgroup\":\"Fighting\",\"orientation\":\"v\",\"showlegend\":true,\"textposition\":\"auto\",\"x\":[50.0,50.0,75.4,75.4,75.4,100.0,100.0,100.0,100.0,75.4,75.4,50.0,50.0,88.1,88.1,75.4,75.4,75.4,100.0,100.0,50.0,50.0],\"xaxis\":\"x\",\"y\":[1,1,1,1,1,1,1,1,1,1,1,1,1,1,1,1,1,1,1,1,1,1],\"yaxis\":\"y\",\"type\":\"bar\"},{\"alignmentgroup\":\"True\",\"hovertemplate\":\"<b>%{hovertext}</b><br><br>Primary=Psychic<br>Percent_Male=%{x}<br>count=%{y}<extra></extra>\",\"hovertext\":[\"Abra\",\"Kadabra\",\"Alakazam\",\"Drowzee\",\"Hypno\",\"Mr.\",\"Mewtwo\",\"Mew\",\"Natu\",\"Xatu\",\"Espeon\",\"Unown\",\"Wobbuffet\",\"Lugia\",\"Celebi\",\"Ralts\",\"Kirlia\",\"Gardevoir\",\"Spoink\",\"Grumpig\",\"Chimecho\",\"Wynaut\",\"Deoxys\",\"Chingling\",\"Mime\",\"Gallade\",\"Uxie\",\"Mesprit\",\"Azelf\",\"Cresselia\",\"Victini\",\"Munna\",\"Musharna\",\"Woobat\",\"Swoobat\",\"Sigilyph\",\"Gothita\",\"Gothorita\",\"Gothitelle\",\"Solosis\",\"Duosion\",\"Reuniclus\",\"Elgyem\",\"Beheeyem\"],\"legendgroup\":\"Psychic\",\"marker\":{\"color\":\"#F95587\",\"pattern\":{\"shape\":\"\"}},\"name\":\"Psychic\",\"offsetgroup\":\"Psychic\",\"orientation\":\"v\",\"showlegend\":true,\"textposition\":\"auto\",\"x\":[75.4,75.4,75.4,50.0,50.0,50.0,null,null,50.0,50.0,88.1,null,50.0,null,null,50.0,50.0,50.0,50.0,50.0,50.0,50.0,null,50.0,50.0,100.0,null,null,null,0.0,null,50.0,50.0,50.0,50.0,50.0,24.6,24.6,24.6,50.0,50.0,50.0,50.0,50.0],\"xaxis\":\"x\",\"y\":[1,1,1,1,1,1,1,1,1,1,1,1,1,1,1,1,1,1,1,1,1,1,1,1,1,1,1,1,1,1,1,1,1,1,1,1,1,1,1,1,1,1,1,1],\"yaxis\":\"y\",\"type\":\"bar\"},{\"alignmentgroup\":\"True\",\"hovertemplate\":\"<b>%{hovertext}</b><br><br>Primary=Rock<br>Percent_Male=%{x}<br>count=%{y}<extra></extra>\",\"hovertext\":[\"Geodude\",\"Graveler\",\"Golem\",\"Onix\",\"Omanyte\",\"Omastar\",\"Kabuto\",\"Kabutops\",\"Aerodactyl\",\"Sudowoodo\",\"Larvitar\",\"Pupitar\",\"Tyranitar\",\"Nosepass\",\"Lunatone\",\"Solrock\",\"Lileep\",\"Cradily\",\"Anorith\",\"Armaldo\",\"Regirock\",\"Cranidos\",\"Rampardos\",\"Shieldon\",\"Bastiodon\",\"Bonsly\",\"Probopass\",\"Roggenrola\",\"Boldore\",\"Gigalith\",\"Archen\",\"Archeops\",\"Terrakion\"],\"legendgroup\":\"Rock\",\"marker\":{\"color\":\"#B6A136\",\"pattern\":{\"shape\":\"\"}},\"name\":\"Rock\",\"offsetgroup\":\"Rock\",\"orientation\":\"v\",\"showlegend\":true,\"textposition\":\"auto\",\"x\":[50.0,50.0,50.0,50.0,88.1,88.1,88.1,88.1,88.1,50.0,50.0,50.0,50.0,50.0,null,null,88.1,88.1,88.1,88.1,null,88.1,88.1,88.1,88.1,50.0,50.0,50.0,50.0,50.0,88.1,88.1,null],\"xaxis\":\"x\",\"y\":[1,1,1,1,1,1,1,1,1,1,1,1,1,1,1,1,1,1,1,1,1,1,1,1,1,1,1,1,1,1,1,1,1],\"yaxis\":\"y\",\"type\":\"bar\"},{\"alignmentgroup\":\"True\",\"hovertemplate\":\"<b>%{hovertext}</b><br><br>Primary=Ghost<br>Percent_Male=%{x}<br>count=%{y}<extra></extra>\",\"hovertext\":[\"Gastly\",\"Haunter\",\"Gengar\",\"Misdreavus\",\"Shuppet\",\"Banette\",\"Duskull\",\"Dusclops\",\"Drifloon\",\"Drifblim\",\"Mismagius\",\"Spiritomb\",\"Dusknoir\",\"Giratina\",\"Yamask\",\"Cofagrigus\",\"Litwick\",\"Lampent\",\"Chandelure\"],\"legendgroup\":\"Ghost\",\"marker\":{\"color\":\"#735797\",\"pattern\":{\"shape\":\"\"}},\"name\":\"Ghost\",\"offsetgroup\":\"Ghost\",\"orientation\":\"v\",\"showlegend\":true,\"textposition\":\"auto\",\"x\":[50.0,50.0,50.0,50.0,50.0,50.0,50.0,50.0,50.0,50.0,50.0,50.0,50.0,null,50.0,50.0,50.0,50.0,50.0],\"xaxis\":\"x\",\"y\":[1,1,1,1,1,1,1,1,1,1,1,1,1,1,1,1,1,1,1],\"yaxis\":\"y\",\"type\":\"bar\"},{\"alignmentgroup\":\"True\",\"hovertemplate\":\"<b>%{hovertext}</b><br><br>Primary=Ice<br>Percent_Male=%{x}<br>count=%{y}<extra></extra>\",\"hovertext\":[\"Jynx\",\"Articuno\",\"Swinub\",\"Piloswine\",\"Delibird\",\"Smoochum\",\"Snorunt\",\"Glalie\",\"Spheal\",\"Sealeo\",\"Walrein\",\"Regice\",\"Glaceon\",\"Mamoswine\",\"Froslass\",\"Vanillite\",\"Vanillish\",\"Vanilluxe\",\"Cubchoo\",\"Beartic\",\"Cryogonal\"],\"legendgroup\":\"Ice\",\"marker\":{\"color\":\"#96D9D6\",\"pattern\":{\"shape\":\"\"}},\"name\":\"Ice\",\"offsetgroup\":\"Ice\",\"orientation\":\"v\",\"showlegend\":true,\"textposition\":\"auto\",\"x\":[0.0,null,50.0,50.0,50.0,0.0,50.0,50.0,50.0,50.0,50.0,null,88.1,50.0,0.0,50.0,50.0,50.0,50.0,50.0,null],\"xaxis\":\"x\",\"y\":[1,1,1,1,1,1,1,1,1,1,1,1,1,1,1,1,1,1,1,1,1],\"yaxis\":\"y\",\"type\":\"bar\"},{\"alignmentgroup\":\"True\",\"hovertemplate\":\"<b>%{hovertext}</b><br><br>Primary=Dragon<br>Percent_Male=%{x}<br>count=%{y}<extra></extra>\",\"hovertext\":[\"Dratini\",\"Dragonair\",\"Dragonite\",\"Altaria\",\"Bagon\",\"Shelgon\",\"Salamence\",\"Latias\",\"Latios\",\"Rayquaza\",\"Gible\",\"Gabite\",\"Garchomp\",\"Axew\",\"Fraxure\",\"Haxorus\",\"Druddigon\",\"Reshiram\",\"Zekrom\",\"Kyurem\"],\"legendgroup\":\"Dragon\",\"marker\":{\"color\":\"#6F35FC\",\"pattern\":{\"shape\":\"\"}},\"name\":\"Dragon\",\"offsetgroup\":\"Dragon\",\"orientation\":\"v\",\"showlegend\":true,\"textposition\":\"auto\",\"x\":[50.0,50.0,50.0,50.0,50.0,50.0,50.0,0.0,100.0,null,50.0,50.0,50.0,50.0,50.0,50.0,50.0,null,null,null],\"xaxis\":\"x\",\"y\":[1,1,1,1,1,1,1,1,1,1,1,1,1,1,1,1,1,1,1,1],\"yaxis\":\"y\",\"type\":\"bar\"},{\"alignmentgroup\":\"True\",\"hovertemplate\":\"<b>%{hovertext}</b><br><br>Primary=Dark<br>Percent_Male=%{x}<br>count=%{y}<extra></extra>\",\"hovertext\":[\"Umbreon\",\"Murkrow\",\"Sneasel\",\"Houndour\",\"Houndoom\",\"Poochyena\",\"Mightyena\",\"Sableye\",\"Absol\",\"Honchkrow\",\"Weavile\",\"Darkrai\",\"Purrloin\",\"Liepard\",\"Scraggy\",\"Scrafty\",\"Zorua\",\"Zoroark\",\"Pawniard\",\"Bisharp\",\"Vullaby\",\"Mandibuzz\",\"Deino\",\"Zweilous\",\"Hydreigon\"],\"legendgroup\":\"Dark\",\"marker\":{\"color\":\"#705746\",\"pattern\":{\"shape\":\"\"}},\"name\":\"Dark\",\"offsetgroup\":\"Dark\",\"orientation\":\"v\",\"showlegend\":true,\"textposition\":\"auto\",\"x\":[88.1,50.0,50.0,50.0,50.0,50.0,50.0,50.0,50.0,50.0,50.0,null,50.0,50.0,50.0,50.0,88.1,88.1,50.0,50.0,0.0,0.0,50.0,50.0,50.0],\"xaxis\":\"x\",\"y\":[1,1,1,1,1,1,1,1,1,1,1,1,1,1,1,1,1,1,1,1,1,1,1,1,1],\"yaxis\":\"y\",\"type\":\"bar\"},{\"alignmentgroup\":\"True\",\"hovertemplate\":\"<b>%{hovertext}</b><br><br>Primary=Steel<br>Percent_Male=%{x}<br>count=%{y}<extra></extra>\",\"hovertext\":[\"Steelix\",\"Skarmory\",\"Mawile\",\"Aron\",\"Lairon\",\"Aggron\",\"Beldum\",\"Metang\",\"Metagross\",\"Registeel\",\"Jirachi\",\"Bronzor\",\"Bronzong\",\"Dialga\",\"Klink\",\"Klang\",\"Klinklang\",\"Cobalion\"],\"legendgroup\":\"Steel\",\"marker\":{\"color\":\"#B7B7CE\",\"pattern\":{\"shape\":\"\"}},\"name\":\"Steel\",\"offsetgroup\":\"Steel\",\"orientation\":\"v\",\"showlegend\":true,\"textposition\":\"auto\",\"x\":[50.0,50.0,50.0,50.0,50.0,50.0,null,null,null,null,null,null,null,null,null,null,null,null],\"xaxis\":\"x\",\"y\":[1,1,1,1,1,1,1,1,1,1,1,1,1,1,1,1,1,1],\"yaxis\":\"y\",\"type\":\"bar\"},{\"alignmentgroup\":\"True\",\"hovertemplate\":\"<b>%{hovertext}</b><br><br>Primary=Flying<br>Percent_Male=%{x}<br>count=%{y}<extra></extra>\",\"hovertext\":[\"Tornadus\"],\"legendgroup\":\"Flying\",\"marker\":{\"color\":\"#A98FF3\",\"pattern\":{\"shape\":\"\"}},\"name\":\"Flying\",\"offsetgroup\":\"Flying\",\"orientation\":\"v\",\"showlegend\":true,\"textposition\":\"auto\",\"x\":[100.0],\"xaxis\":\"x\",\"y\":[1],\"yaxis\":\"y\",\"type\":\"bar\"}],                        {\"template\":{\"data\":{\"bar\":[{\"error_x\":{\"color\":\"#2a3f5f\"},\"error_y\":{\"color\":\"#2a3f5f\"},\"marker\":{\"line\":{\"color\":\"#E5ECF6\",\"width\":0.5},\"pattern\":{\"fillmode\":\"overlay\",\"size\":10,\"solidity\":0.2}},\"type\":\"bar\"}],\"barpolar\":[{\"marker\":{\"line\":{\"color\":\"#E5ECF6\",\"width\":0.5},\"pattern\":{\"fillmode\":\"overlay\",\"size\":10,\"solidity\":0.2}},\"type\":\"barpolar\"}],\"carpet\":[{\"aaxis\":{\"endlinecolor\":\"#2a3f5f\",\"gridcolor\":\"white\",\"linecolor\":\"white\",\"minorgridcolor\":\"white\",\"startlinecolor\":\"#2a3f5f\"},\"baxis\":{\"endlinecolor\":\"#2a3f5f\",\"gridcolor\":\"white\",\"linecolor\":\"white\",\"minorgridcolor\":\"white\",\"startlinecolor\":\"#2a3f5f\"},\"type\":\"carpet\"}],\"choropleth\":[{\"colorbar\":{\"outlinewidth\":0,\"ticks\":\"\"},\"type\":\"choropleth\"}],\"contour\":[{\"colorbar\":{\"outlinewidth\":0,\"ticks\":\"\"},\"colorscale\":[[0.0,\"#0d0887\"],[0.1111111111111111,\"#46039f\"],[0.2222222222222222,\"#7201a8\"],[0.3333333333333333,\"#9c179e\"],[0.4444444444444444,\"#bd3786\"],[0.5555555555555556,\"#d8576b\"],[0.6666666666666666,\"#ed7953\"],[0.7777777777777778,\"#fb9f3a\"],[0.8888888888888888,\"#fdca26\"],[1.0,\"#f0f921\"]],\"type\":\"contour\"}],\"contourcarpet\":[{\"colorbar\":{\"outlinewidth\":0,\"ticks\":\"\"},\"type\":\"contourcarpet\"}],\"heatmap\":[{\"colorbar\":{\"outlinewidth\":0,\"ticks\":\"\"},\"colorscale\":[[0.0,\"#0d0887\"],[0.1111111111111111,\"#46039f\"],[0.2222222222222222,\"#7201a8\"],[0.3333333333333333,\"#9c179e\"],[0.4444444444444444,\"#bd3786\"],[0.5555555555555556,\"#d8576b\"],[0.6666666666666666,\"#ed7953\"],[0.7777777777777778,\"#fb9f3a\"],[0.8888888888888888,\"#fdca26\"],[1.0,\"#f0f921\"]],\"type\":\"heatmap\"}],\"heatmapgl\":[{\"colorbar\":{\"outlinewidth\":0,\"ticks\":\"\"},\"colorscale\":[[0.0,\"#0d0887\"],[0.1111111111111111,\"#46039f\"],[0.2222222222222222,\"#7201a8\"],[0.3333333333333333,\"#9c179e\"],[0.4444444444444444,\"#bd3786\"],[0.5555555555555556,\"#d8576b\"],[0.6666666666666666,\"#ed7953\"],[0.7777777777777778,\"#fb9f3a\"],[0.8888888888888888,\"#fdca26\"],[1.0,\"#f0f921\"]],\"type\":\"heatmapgl\"}],\"histogram\":[{\"marker\":{\"pattern\":{\"fillmode\":\"overlay\",\"size\":10,\"solidity\":0.2}},\"type\":\"histogram\"}],\"histogram2d\":[{\"colorbar\":{\"outlinewidth\":0,\"ticks\":\"\"},\"colorscale\":[[0.0,\"#0d0887\"],[0.1111111111111111,\"#46039f\"],[0.2222222222222222,\"#7201a8\"],[0.3333333333333333,\"#9c179e\"],[0.4444444444444444,\"#bd3786\"],[0.5555555555555556,\"#d8576b\"],[0.6666666666666666,\"#ed7953\"],[0.7777777777777778,\"#fb9f3a\"],[0.8888888888888888,\"#fdca26\"],[1.0,\"#f0f921\"]],\"type\":\"histogram2d\"}],\"histogram2dcontour\":[{\"colorbar\":{\"outlinewidth\":0,\"ticks\":\"\"},\"colorscale\":[[0.0,\"#0d0887\"],[0.1111111111111111,\"#46039f\"],[0.2222222222222222,\"#7201a8\"],[0.3333333333333333,\"#9c179e\"],[0.4444444444444444,\"#bd3786\"],[0.5555555555555556,\"#d8576b\"],[0.6666666666666666,\"#ed7953\"],[0.7777777777777778,\"#fb9f3a\"],[0.8888888888888888,\"#fdca26\"],[1.0,\"#f0f921\"]],\"type\":\"histogram2dcontour\"}],\"mesh3d\":[{\"colorbar\":{\"outlinewidth\":0,\"ticks\":\"\"},\"type\":\"mesh3d\"}],\"parcoords\":[{\"line\":{\"colorbar\":{\"outlinewidth\":0,\"ticks\":\"\"}},\"type\":\"parcoords\"}],\"pie\":[{\"automargin\":true,\"type\":\"pie\"}],\"scatter\":[{\"marker\":{\"colorbar\":{\"outlinewidth\":0,\"ticks\":\"\"}},\"type\":\"scatter\"}],\"scatter3d\":[{\"line\":{\"colorbar\":{\"outlinewidth\":0,\"ticks\":\"\"}},\"marker\":{\"colorbar\":{\"outlinewidth\":0,\"ticks\":\"\"}},\"type\":\"scatter3d\"}],\"scattercarpet\":[{\"marker\":{\"colorbar\":{\"outlinewidth\":0,\"ticks\":\"\"}},\"type\":\"scattercarpet\"}],\"scattergeo\":[{\"marker\":{\"colorbar\":{\"outlinewidth\":0,\"ticks\":\"\"}},\"type\":\"scattergeo\"}],\"scattergl\":[{\"marker\":{\"colorbar\":{\"outlinewidth\":0,\"ticks\":\"\"}},\"type\":\"scattergl\"}],\"scattermapbox\":[{\"marker\":{\"colorbar\":{\"outlinewidth\":0,\"ticks\":\"\"}},\"type\":\"scattermapbox\"}],\"scatterpolar\":[{\"marker\":{\"colorbar\":{\"outlinewidth\":0,\"ticks\":\"\"}},\"type\":\"scatterpolar\"}],\"scatterpolargl\":[{\"marker\":{\"colorbar\":{\"outlinewidth\":0,\"ticks\":\"\"}},\"type\":\"scatterpolargl\"}],\"scatterternary\":[{\"marker\":{\"colorbar\":{\"outlinewidth\":0,\"ticks\":\"\"}},\"type\":\"scatterternary\"}],\"surface\":[{\"colorbar\":{\"outlinewidth\":0,\"ticks\":\"\"},\"colorscale\":[[0.0,\"#0d0887\"],[0.1111111111111111,\"#46039f\"],[0.2222222222222222,\"#7201a8\"],[0.3333333333333333,\"#9c179e\"],[0.4444444444444444,\"#bd3786\"],[0.5555555555555556,\"#d8576b\"],[0.6666666666666666,\"#ed7953\"],[0.7777777777777778,\"#fb9f3a\"],[0.8888888888888888,\"#fdca26\"],[1.0,\"#f0f921\"]],\"type\":\"surface\"}],\"table\":[{\"cells\":{\"fill\":{\"color\":\"#EBF0F8\"},\"line\":{\"color\":\"white\"}},\"header\":{\"fill\":{\"color\":\"#C8D4E3\"},\"line\":{\"color\":\"white\"}},\"type\":\"table\"}]},\"layout\":{\"annotationdefaults\":{\"arrowcolor\":\"#2a3f5f\",\"arrowhead\":0,\"arrowwidth\":1},\"autotypenumbers\":\"strict\",\"coloraxis\":{\"colorbar\":{\"outlinewidth\":0,\"ticks\":\"\"}},\"colorscale\":{\"diverging\":[[0,\"#8e0152\"],[0.1,\"#c51b7d\"],[0.2,\"#de77ae\"],[0.3,\"#f1b6da\"],[0.4,\"#fde0ef\"],[0.5,\"#f7f7f7\"],[0.6,\"#e6f5d0\"],[0.7,\"#b8e186\"],[0.8,\"#7fbc41\"],[0.9,\"#4d9221\"],[1,\"#276419\"]],\"sequential\":[[0.0,\"#0d0887\"],[0.1111111111111111,\"#46039f\"],[0.2222222222222222,\"#7201a8\"],[0.3333333333333333,\"#9c179e\"],[0.4444444444444444,\"#bd3786\"],[0.5555555555555556,\"#d8576b\"],[0.6666666666666666,\"#ed7953\"],[0.7777777777777778,\"#fb9f3a\"],[0.8888888888888888,\"#fdca26\"],[1.0,\"#f0f921\"]],\"sequentialminus\":[[0.0,\"#0d0887\"],[0.1111111111111111,\"#46039f\"],[0.2222222222222222,\"#7201a8\"],[0.3333333333333333,\"#9c179e\"],[0.4444444444444444,\"#bd3786\"],[0.5555555555555556,\"#d8576b\"],[0.6666666666666666,\"#ed7953\"],[0.7777777777777778,\"#fb9f3a\"],[0.8888888888888888,\"#fdca26\"],[1.0,\"#f0f921\"]]},\"colorway\":[\"#636efa\",\"#EF553B\",\"#00cc96\",\"#ab63fa\",\"#FFA15A\",\"#19d3f3\",\"#FF6692\",\"#B6E880\",\"#FF97FF\",\"#FECB52\"],\"font\":{\"color\":\"#2a3f5f\"},\"geo\":{\"bgcolor\":\"white\",\"lakecolor\":\"white\",\"landcolor\":\"#E5ECF6\",\"showlakes\":true,\"showland\":true,\"subunitcolor\":\"white\"},\"hoverlabel\":{\"align\":\"left\"},\"hovermode\":\"closest\",\"mapbox\":{\"style\":\"light\"},\"paper_bgcolor\":\"white\",\"plot_bgcolor\":\"#E5ECF6\",\"polar\":{\"angularaxis\":{\"gridcolor\":\"white\",\"linecolor\":\"white\",\"ticks\":\"\"},\"bgcolor\":\"#E5ECF6\",\"radialaxis\":{\"gridcolor\":\"white\",\"linecolor\":\"white\",\"ticks\":\"\"}},\"scene\":{\"xaxis\":{\"backgroundcolor\":\"#E5ECF6\",\"gridcolor\":\"white\",\"gridwidth\":2,\"linecolor\":\"white\",\"showbackground\":true,\"ticks\":\"\",\"zerolinecolor\":\"white\"},\"yaxis\":{\"backgroundcolor\":\"#E5ECF6\",\"gridcolor\":\"white\",\"gridwidth\":2,\"linecolor\":\"white\",\"showbackground\":true,\"ticks\":\"\",\"zerolinecolor\":\"white\"},\"zaxis\":{\"backgroundcolor\":\"#E5ECF6\",\"gridcolor\":\"white\",\"gridwidth\":2,\"linecolor\":\"white\",\"showbackground\":true,\"ticks\":\"\",\"zerolinecolor\":\"white\"}},\"shapedefaults\":{\"line\":{\"color\":\"#2a3f5f\"}},\"ternary\":{\"aaxis\":{\"gridcolor\":\"white\",\"linecolor\":\"white\",\"ticks\":\"\"},\"baxis\":{\"gridcolor\":\"white\",\"linecolor\":\"white\",\"ticks\":\"\"},\"bgcolor\":\"#E5ECF6\",\"caxis\":{\"gridcolor\":\"white\",\"linecolor\":\"white\",\"ticks\":\"\"}},\"title\":{\"x\":0.05},\"xaxis\":{\"automargin\":true,\"gridcolor\":\"white\",\"linecolor\":\"white\",\"ticks\":\"\",\"title\":{\"standoff\":15},\"zerolinecolor\":\"white\",\"zerolinewidth\":2},\"yaxis\":{\"automargin\":true,\"gridcolor\":\"white\",\"linecolor\":\"white\",\"ticks\":\"\",\"title\":{\"standoff\":15},\"zerolinecolor\":\"white\",\"zerolinewidth\":2}}},\"xaxis\":{\"anchor\":\"y\",\"domain\":[0.0,1.0],\"title\":{\"text\":\"Percent_Male\"}},\"yaxis\":{\"anchor\":\"x\",\"domain\":[0.0,1.0],\"title\":{\"text\":\"count\"}},\"legend\":{\"title\":{\"text\":\"Primary\"},\"tracegroupgap\":0},\"margin\":{\"t\":60},\"barmode\":\"relative\"},                        {\"responsive\": true}                    ).then(function(){\n",
       "                            \n",
       "var gd = document.getElementById('1e25b868-40ad-4c6e-8b3f-d9c3c558bc8e');\n",
       "var x = new MutationObserver(function (mutations, observer) {{\n",
       "        var display = window.getComputedStyle(gd).display;\n",
       "        if (!display || display === 'none') {{\n",
       "            console.log([gd, 'removed!']);\n",
       "            Plotly.purge(gd);\n",
       "            observer.disconnect();\n",
       "        }}\n",
       "}});\n",
       "\n",
       "// Listen for the removal of the full notebook cells\n",
       "var notebookContainer = gd.closest('#notebook-container');\n",
       "if (notebookContainer) {{\n",
       "    x.observe(notebookContainer, {childList: true});\n",
       "}}\n",
       "\n",
       "// Listen for the clearing of the current output cell\n",
       "var outputEl = gd.closest('.output');\n",
       "if (outputEl) {{\n",
       "    x.observe(outputEl, {childList: true});\n",
       "}}\n",
       "\n",
       "                        })                };                });            </script>        </div>"
      ]
     },
     "metadata": {},
     "output_type": "display_data"
    }
   ],
   "source": [
    "fig=px.bar(pokemon, x=\"Percent_Male\",\n",
    "           color=\"Primary\", color_discrete_map=colours, hover_name='Name')\n",
    "\n",
    "fig.show()"
   ]
  },
  {
   "cell_type": "code",
   "execution_count": 28,
   "id": "151ef2ef",
   "metadata": {},
   "outputs": [
    {
     "data": {
      "application/vnd.plotly.v1+json": {
       "config": {
        "plotlyServerURL": "https://plot.ly"
       },
       "data": [
        {
         "alignmentgroup": "True",
         "hovertemplate": "<b>%{hovertext}</b><br><br>Primary=Grass<br>Generation=%{x}<br>percentage_male=%{y}<extra></extra>",
         "hovertext": [
          "Bulbasaur",
          "Ivysaur",
          "Venusaur",
          "Oddish",
          "Gloom",
          "Vileplume",
          "Bellsprout",
          "Weepinbell",
          "Victreebel",
          "Exeggcute",
          "Exeggutor",
          "Tangela",
          "Chikorita",
          "Bayleef",
          "Meganium",
          "Bellossom",
          "Hoppip",
          "Skiploom",
          "Jumpluff",
          "Sunkern",
          "Sunflora",
          "Treecko",
          "Grovyle",
          "Sceptile",
          "Seedot",
          "Nuzleaf",
          "Shiftry",
          "Shroomish",
          "Breloom",
          "Roselia",
          "Cacnea",
          "Cacturne",
          "Tropius",
          "Turtwig",
          "Grotle",
          "Torterra",
          "Budew",
          "Roserade",
          "Cherubi",
          "Cherrim",
          "Carnivine",
          "Snover",
          "Abomasnow",
          "Tangrowth",
          "Leafeon",
          "Shaymin",
          "Snivy",
          "Servine",
          "Serperior",
          "Pansage",
          "Simisage",
          "Cottonee",
          "Whimsicott",
          "Petilil",
          "Lilligant",
          "Maractus",
          "Foongus",
          "Amoonguss",
          "Ferroseed",
          "Ferrothorn",
          "Virizion"
         ],
         "legendgroup": "Grass",
         "marker": {
          "color": "#636efa",
          "pattern": {
           "shape": ""
          }
         },
         "name": "Grass",
         "offsetgroup": "Grass",
         "orientation": "v",
         "showlegend": true,
         "textposition": "auto",
         "type": "bar",
         "x": [
          1,
          1,
          1,
          1,
          1,
          1,
          1,
          1,
          1,
          1,
          1,
          1,
          2,
          2,
          2,
          2,
          2,
          2,
          2,
          2,
          2,
          3,
          3,
          3,
          3,
          3,
          3,
          3,
          3,
          3,
          3,
          3,
          3,
          4,
          4,
          4,
          4,
          4,
          4,
          4,
          4,
          4,
          4,
          4,
          4,
          4,
          5,
          5,
          5,
          5,
          5,
          5,
          5,
          5,
          5,
          5,
          5,
          5,
          5,
          5,
          5
         ],
         "xaxis": "x",
         "y": [
          88.1,
          88.1,
          88.1,
          50,
          50,
          50,
          50,
          50,
          50,
          50,
          50,
          50,
          88.1,
          88.1,
          88.1,
          50,
          50,
          50,
          50,
          50,
          50,
          88.1,
          88.1,
          88.1,
          50,
          50,
          50,
          50,
          50,
          50,
          50,
          50,
          50,
          88.1,
          88.1,
          88.1,
          50,
          50,
          50,
          50,
          50,
          50,
          50,
          50,
          88.1,
          null,
          88.1,
          88.1,
          88.1,
          88.1,
          88.1,
          50,
          50,
          0,
          0,
          50,
          50,
          50,
          50,
          50,
          null
         ],
         "yaxis": "y"
        },
        {
         "alignmentgroup": "True",
         "hovertemplate": "<b>%{hovertext}</b><br><br>Primary=Fire<br>Generation=%{x}<br>percentage_male=%{y}<extra></extra>",
         "hovertext": [
          "Charmander",
          "Charmeleon",
          "Charizard",
          "Vulpix",
          "Ninetales",
          "Growlithe",
          "Arcanine",
          "Ponyta",
          "Rapidash",
          "Magmar",
          "Flareon",
          "Moltres",
          "Cyndaquil",
          "Quilava",
          "Typhlosion",
          "Slugma",
          "Magcargo",
          "Magby",
          "Entei",
          "Ho-Oh",
          "Torchic",
          "Combusken",
          "Blaziken",
          "Numel",
          "Camerupt",
          "Torkoal",
          "Chimchar",
          "Monferno",
          "Infernape",
          "Magmortar",
          "Heatran",
          "Tepig",
          "Pignite",
          "Emboar",
          "Pansear",
          "Simisear",
          "Darumaka",
          "Darmanitan",
          "Heatmor"
         ],
         "legendgroup": "Fire",
         "marker": {
          "color": "#EF553B",
          "pattern": {
           "shape": ""
          }
         },
         "name": "Fire",
         "offsetgroup": "Fire",
         "orientation": "v",
         "showlegend": true,
         "textposition": "auto",
         "type": "bar",
         "x": [
          1,
          1,
          1,
          1,
          1,
          1,
          1,
          1,
          1,
          1,
          1,
          1,
          2,
          2,
          2,
          2,
          2,
          2,
          2,
          2,
          3,
          3,
          3,
          3,
          3,
          3,
          4,
          4,
          4,
          4,
          4,
          5,
          5,
          5,
          5,
          5,
          5,
          5,
          5
         ],
         "xaxis": "x",
         "y": [
          88.1,
          88.1,
          88.1,
          24.6,
          24.6,
          75.4,
          75.4,
          50,
          50,
          75.4,
          88.1,
          null,
          88.1,
          88.1,
          88.1,
          50,
          50,
          75.4,
          null,
          null,
          88.1,
          88.1,
          88.1,
          50,
          50,
          50,
          88.1,
          88.1,
          88.1,
          75.4,
          50,
          88.1,
          88.1,
          88.1,
          88.1,
          88.1,
          50,
          50,
          50
         ],
         "yaxis": "y"
        },
        {
         "alignmentgroup": "True",
         "hovertemplate": "<b>%{hovertext}</b><br><br>Primary=Water<br>Generation=%{x}<br>percentage_male=%{y}<extra></extra>",
         "hovertext": [
          "Squirtle",
          "Wartortle",
          "Blastoise",
          "Psyduck",
          "Golduck",
          "Poliwag",
          "Poliwhirl",
          "Poliwrath",
          "Tentacool",
          "Tentacruel",
          "Slowpoke",
          "Slowbro",
          "Seel",
          "Dewgong",
          "Shellder",
          "Cloyster",
          "Krabby",
          "Kingler",
          "Horsea",
          "Seadra",
          "Goldeen",
          "Seaking",
          "Staryu",
          "Starmie",
          "Magikarp",
          "Gyarados",
          "Lapras",
          "Vaporeon",
          "Totodile",
          "Croconaw",
          "Feraligatr",
          "Chinchou",
          "Lanturn",
          "Marill",
          "Azumarill",
          "Politoed",
          "Wooper",
          "Quagsire",
          "Slowking",
          "Qwilfish",
          "Corsola",
          "Remoraid",
          "Octillery",
          "Mantine",
          "Kingdra",
          "Suicune",
          "Mudkip",
          "Marshtomp",
          "Swampert",
          "Lotad",
          "Lombre",
          "Ludicolo",
          "Wingull",
          "Pelipper",
          "Carvanha",
          "Sharpedo",
          "Wailmer",
          "Wailord",
          "Barboach",
          "Whiscash",
          "Corphish",
          "Crawdaunt",
          "Feebas",
          "Milotic",
          "Clamperl",
          "Huntail",
          "Gorebyss",
          "Relicanth",
          "Luvdisc",
          "Kyogre",
          "Piplup",
          "Prinplup",
          "Empoleon",
          "Buizel",
          "Floatzel",
          "Shellos",
          "Gastrodon",
          "Finneon",
          "Lumineon",
          "Mantyke",
          "Palkia",
          "Phione",
          "Manaphy",
          "Oshawott",
          "Dewott",
          "Samurott",
          "Panpour",
          "Simipour",
          "Tympole",
          "Palpitoad",
          "Seismitoad",
          "Basculin",
          "Tirtouga",
          "Carracosta",
          "Ducklett",
          "Swanna",
          "Frillish",
          "Jellicent",
          "Alomomola",
          "Keldeo"
         ],
         "legendgroup": "Water",
         "marker": {
          "color": "#00cc96",
          "pattern": {
           "shape": ""
          }
         },
         "name": "Water",
         "offsetgroup": "Water",
         "orientation": "v",
         "showlegend": true,
         "textposition": "auto",
         "type": "bar",
         "x": [
          1,
          1,
          1,
          1,
          1,
          1,
          1,
          1,
          1,
          1,
          1,
          1,
          1,
          1,
          1,
          1,
          1,
          1,
          1,
          1,
          1,
          1,
          1,
          1,
          1,
          1,
          1,
          1,
          2,
          2,
          2,
          2,
          2,
          2,
          2,
          2,
          2,
          2,
          2,
          2,
          2,
          2,
          2,
          2,
          2,
          2,
          3,
          3,
          3,
          3,
          3,
          3,
          3,
          3,
          3,
          3,
          3,
          3,
          3,
          3,
          3,
          3,
          3,
          3,
          3,
          3,
          3,
          3,
          3,
          3,
          4,
          4,
          4,
          4,
          4,
          4,
          4,
          4,
          4,
          4,
          4,
          4,
          4,
          5,
          5,
          5,
          5,
          5,
          5,
          5,
          5,
          5,
          5,
          5,
          5,
          5,
          5,
          5,
          5,
          5
         ],
         "xaxis": "x",
         "y": [
          88.1,
          88.1,
          88.1,
          50,
          50,
          50,
          50,
          50,
          50,
          50,
          50,
          50,
          50,
          50,
          50,
          50,
          50,
          50,
          50,
          50,
          50,
          50,
          null,
          null,
          50,
          50,
          50,
          88.1,
          88.1,
          88.1,
          88.1,
          50,
          50,
          50,
          50,
          50,
          50,
          50,
          50,
          50,
          24.6,
          50,
          50,
          50,
          50,
          null,
          88.1,
          88.1,
          88.1,
          50,
          50,
          50,
          50,
          50,
          50,
          50,
          50,
          50,
          50,
          50,
          50,
          50,
          50,
          50,
          50,
          50,
          50,
          88.1,
          24.6,
          null,
          88.1,
          88.1,
          88.1,
          50,
          50,
          50,
          50,
          50,
          50,
          50,
          null,
          null,
          null,
          88.1,
          88.1,
          88.1,
          88.1,
          88.1,
          50,
          50,
          50,
          50,
          88.1,
          88.1,
          50,
          50,
          50,
          50,
          50,
          null
         ],
         "yaxis": "y"
        },
        {
         "alignmentgroup": "True",
         "hovertemplate": "<b>%{hovertext}</b><br><br>Primary=Bug<br>Generation=%{x}<br>percentage_male=%{y}<extra></extra>",
         "hovertext": [
          "Caterpie",
          "Metapod",
          "Butterfree",
          "Weedle",
          "Kakuna",
          "Beedrill",
          "Paras",
          "Parasect",
          "Venonat",
          "Venomoth",
          "Scyther",
          "Pinsir",
          "Ledyba",
          "Ledian",
          "Spinarak",
          "Ariados",
          "Yanma",
          "Pineco",
          "Forretress",
          "Scizor",
          "Shuckle",
          "Heracross",
          "Wurmple",
          "Silcoon",
          "Beautifly",
          "Cascoon",
          "Dustox",
          "Surskit",
          "Masquerain",
          "Nincada",
          "Ninjask",
          "Shedinja",
          "Volbeat",
          "Illumise",
          "Kricketot",
          "Kricketune",
          "Burmy",
          "Wormadam",
          "Mothim",
          "Combee",
          "Vespiquen",
          "Yanmega",
          "Sewaddle",
          "Swadloon",
          "Leavanny",
          "Venipede",
          "Whirlipede",
          "Scolipede",
          "Dwebble",
          "Crustle",
          "Karrablast",
          "Escavalier",
          "Joltik",
          "Galvantula",
          "Shelmet",
          "Accelgor",
          "Durant",
          "Larvesta",
          "Volcarona",
          "Genesect"
         ],
         "legendgroup": "Bug",
         "marker": {
          "color": "#ab63fa",
          "pattern": {
           "shape": ""
          }
         },
         "name": "Bug",
         "offsetgroup": "Bug",
         "orientation": "v",
         "showlegend": true,
         "textposition": "auto",
         "type": "bar",
         "x": [
          1,
          1,
          1,
          1,
          1,
          1,
          1,
          1,
          1,
          1,
          1,
          1,
          2,
          2,
          2,
          2,
          2,
          2,
          2,
          2,
          2,
          2,
          3,
          3,
          3,
          3,
          3,
          3,
          3,
          3,
          3,
          3,
          3,
          3,
          4,
          4,
          4,
          4,
          4,
          4,
          4,
          4,
          5,
          5,
          5,
          5,
          5,
          5,
          5,
          5,
          5,
          5,
          5,
          5,
          5,
          5,
          5,
          5,
          5,
          5
         ],
         "xaxis": "x",
         "y": [
          50,
          50,
          50,
          50,
          50,
          50,
          50,
          50,
          50,
          50,
          50,
          50,
          50,
          50,
          50,
          50,
          50,
          50,
          50,
          50,
          50,
          50,
          50,
          50,
          50,
          50,
          50,
          50,
          50,
          50,
          50,
          null,
          100,
          0,
          50,
          50,
          50,
          0,
          100,
          88.1,
          0,
          50,
          50,
          50,
          50,
          50,
          50,
          50,
          50,
          50,
          50,
          50,
          50,
          50,
          50,
          50,
          50,
          50,
          50,
          null
         ],
         "yaxis": "y"
        },
        {
         "alignmentgroup": "True",
         "hovertemplate": "<b>%{hovertext}</b><br><br>Primary=Normal<br>Generation=%{x}<br>percentage_male=%{y}<extra></extra>",
         "hovertext": [
          "Pidgey",
          "Pidgeotto",
          "Pidgeot",
          "Rattata",
          "Raticate",
          "Spearow",
          "Fearow",
          "Jigglypuff",
          "Wigglytuff",
          "Meowth",
          "Persian",
          "Farfetch'd",
          "Doduo",
          "Dodrio",
          "Lickitung",
          "Chansey",
          "Kangaskhan",
          "Tauros",
          "Ditto",
          "Eevee",
          "Porygon",
          "Snorlax",
          "Sentret",
          "Furret",
          "Hoothoot",
          "Noctowl",
          "Igglybuff",
          "Aipom",
          "Girafarig",
          "Dunsparce",
          "Teddiursa",
          "Ursaring",
          "Porygon2",
          "Stantler",
          "Smeargle",
          "Miltank",
          "Blissey",
          "Zigzagoon",
          "Linoone",
          "Taillow",
          "Swellow",
          "Slakoth",
          "Vigoroth",
          "Slaking",
          "Whismur",
          "Loudred",
          "Exploud",
          "Azurill",
          "Skitty",
          "Delcatty",
          "Spinda",
          "Swablu",
          "Zangoose",
          "Castform",
          "Kecleon",
          "Starly",
          "Staravia",
          "Staraptor",
          "Bidoof",
          "Bibarel",
          "Ambipom",
          "Buneary",
          "Lopunny",
          "Glameow",
          "Purugly",
          "Happiny",
          "Chatot",
          "Munchlax",
          "Lickilicky",
          "Porygon-Z",
          "Regigigas",
          "Arceus",
          "Patrat",
          "Watchog",
          "Lillipup",
          "Herdier",
          "Stoutland",
          "Pidove",
          "Tranquill",
          "Unfezant",
          "Audino",
          "Minccino",
          "Cinccino",
          "Deerling",
          "Sawsbuck",
          "Bouffalant",
          "Rufflet",
          "Braviary",
          "Meloetta"
         ],
         "legendgroup": "Normal",
         "marker": {
          "color": "#FFA15A",
          "pattern": {
           "shape": ""
          }
         },
         "name": "Normal",
         "offsetgroup": "Normal",
         "orientation": "v",
         "showlegend": true,
         "textposition": "auto",
         "type": "bar",
         "x": [
          1,
          1,
          1,
          1,
          1,
          1,
          1,
          1,
          1,
          1,
          1,
          1,
          1,
          1,
          1,
          1,
          1,
          1,
          1,
          1,
          1,
          1,
          2,
          2,
          2,
          2,
          2,
          2,
          2,
          2,
          2,
          2,
          2,
          2,
          2,
          2,
          2,
          3,
          3,
          3,
          3,
          3,
          3,
          3,
          3,
          3,
          3,
          3,
          3,
          3,
          3,
          3,
          3,
          3,
          3,
          4,
          4,
          4,
          4,
          4,
          4,
          4,
          4,
          4,
          4,
          4,
          4,
          4,
          4,
          4,
          4,
          4,
          5,
          5,
          5,
          5,
          5,
          5,
          5,
          5,
          5,
          5,
          5,
          5,
          5,
          5,
          5,
          5,
          5
         ],
         "xaxis": "x",
         "y": [
          50,
          50,
          50,
          50,
          50,
          50,
          50,
          24.6,
          24.6,
          50,
          50,
          50,
          50,
          50,
          50,
          0,
          0,
          100,
          null,
          88.1,
          null,
          88.1,
          50,
          50,
          50,
          50,
          24.6,
          50,
          50,
          50,
          50,
          50,
          null,
          50,
          50,
          0,
          0,
          50,
          50,
          50,
          50,
          50,
          50,
          50,
          50,
          50,
          50,
          24.6,
          24.6,
          24.6,
          50,
          50,
          50,
          50,
          50,
          50,
          50,
          50,
          50,
          50,
          50,
          50,
          50,
          24.6,
          24.6,
          0,
          50,
          88.1,
          50,
          null,
          null,
          null,
          50,
          50,
          50,
          50,
          50,
          50,
          50,
          50,
          50,
          24.6,
          24.6,
          50,
          50,
          50,
          100,
          100,
          null
         ],
         "yaxis": "y"
        },
        {
         "alignmentgroup": "True",
         "hovertemplate": "<b>%{hovertext}</b><br><br>Primary=Poison<br>Generation=%{x}<br>percentage_male=%{y}<extra></extra>",
         "hovertext": [
          "Ekans",
          "Arbok",
          "Nidoran♀",
          "Nidorina",
          "Nidoqueen",
          "Nidoran♂",
          "Nidorino",
          "Nidoking",
          "Zubat",
          "Golbat",
          "Grimer",
          "Muk",
          "Koffing",
          "Weezing",
          "Crobat",
          "Gulpin",
          "Swalot",
          "Seviper",
          "Stunky",
          "Skuntank",
          "Skorupi",
          "Drapion",
          "Croagunk",
          "Toxicroak",
          "Trubbish",
          "Garbodor"
         ],
         "legendgroup": "Poison",
         "marker": {
          "color": "#19d3f3",
          "pattern": {
           "shape": ""
          }
         },
         "name": "Poison",
         "offsetgroup": "Poison",
         "orientation": "v",
         "showlegend": true,
         "textposition": "auto",
         "type": "bar",
         "x": [
          1,
          1,
          1,
          1,
          1,
          1,
          1,
          1,
          1,
          1,
          1,
          1,
          1,
          1,
          2,
          3,
          3,
          3,
          4,
          4,
          4,
          4,
          4,
          4,
          5,
          5
         ],
         "xaxis": "x",
         "y": [
          50,
          50,
          0,
          0,
          0,
          100,
          100,
          100,
          50,
          50,
          50,
          50,
          50,
          50,
          50,
          50,
          50,
          50,
          50,
          50,
          50,
          50,
          50,
          50,
          50,
          50
         ],
         "yaxis": "y"
        },
        {
         "alignmentgroup": "True",
         "hovertemplate": "<b>%{hovertext}</b><br><br>Primary=Electric<br>Generation=%{x}<br>percentage_male=%{y}<extra></extra>",
         "hovertext": [
          "Pikachu",
          "Raichu",
          "Magnemite",
          "Magneton",
          "Voltorb",
          "Electrode",
          "Electabuzz",
          "Jolteon",
          "Zapdos",
          "Pichu",
          "Mareep",
          "Flaaffy",
          "Ampharos",
          "Elekid",
          "Raikou",
          "Electrike",
          "Manectric",
          "Plusle",
          "Minun",
          "Shinx",
          "Luxio",
          "Luxray",
          "Pachirisu",
          "Magnezone",
          "Electivire",
          "Rotom",
          "Blitzle",
          "Zebstrika",
          "Emolga",
          "Tynamo",
          "Eelektrik",
          "Eelektross",
          "Thundurus"
         ],
         "legendgroup": "Electric",
         "marker": {
          "color": "#FF6692",
          "pattern": {
           "shape": ""
          }
         },
         "name": "Electric",
         "offsetgroup": "Electric",
         "orientation": "v",
         "showlegend": true,
         "textposition": "auto",
         "type": "bar",
         "x": [
          1,
          1,
          1,
          1,
          1,
          1,
          1,
          1,
          1,
          2,
          2,
          2,
          2,
          2,
          2,
          3,
          3,
          3,
          3,
          4,
          4,
          4,
          4,
          4,
          4,
          4,
          5,
          5,
          5,
          5,
          5,
          5,
          5
         ],
         "xaxis": "x",
         "y": [
          50,
          50,
          null,
          null,
          null,
          null,
          75.4,
          88.1,
          null,
          50,
          50,
          50,
          50,
          75.4,
          null,
          50,
          50,
          50,
          50,
          50,
          50,
          50,
          50,
          null,
          75.4,
          null,
          50,
          50,
          50,
          50,
          50,
          50,
          100
         ],
         "yaxis": "y"
        },
        {
         "alignmentgroup": "True",
         "hovertemplate": "<b>%{hovertext}</b><br><br>Primary=Ground<br>Generation=%{x}<br>percentage_male=%{y}<extra></extra>",
         "hovertext": [
          "Sandshrew",
          "Sandslash",
          "Diglett",
          "Dugtrio",
          "Cubone",
          "Marowak",
          "Rhyhorn",
          "Rhydon",
          "Gligar",
          "Phanpy",
          "Donphan",
          "Trapinch",
          "Vibrava",
          "Flygon",
          "Baltoy",
          "Claydol",
          "Groudon",
          "Hippopotas",
          "Hippowdon",
          "Rhyperior",
          "Gliscor",
          "Drilbur",
          "Excadrill",
          "Sandile",
          "Krokorok",
          "Krookodile",
          "Stunfisk",
          "Golett",
          "Golurk",
          "Landorus"
         ],
         "legendgroup": "Ground",
         "marker": {
          "color": "#B6E880",
          "pattern": {
           "shape": ""
          }
         },
         "name": "Ground",
         "offsetgroup": "Ground",
         "orientation": "v",
         "showlegend": true,
         "textposition": "auto",
         "type": "bar",
         "x": [
          1,
          1,
          1,
          1,
          1,
          1,
          1,
          1,
          2,
          2,
          2,
          3,
          3,
          3,
          3,
          3,
          3,
          4,
          4,
          4,
          4,
          5,
          5,
          5,
          5,
          5,
          5,
          5,
          5,
          5
         ],
         "xaxis": "x",
         "y": [
          50,
          50,
          50,
          50,
          50,
          50,
          50,
          50,
          50,
          50,
          50,
          50,
          50,
          50,
          null,
          null,
          null,
          50,
          50,
          50,
          50,
          50,
          50,
          50,
          50,
          50,
          50,
          null,
          null,
          100
         ],
         "yaxis": "y"
        },
        {
         "alignmentgroup": "True",
         "hovertemplate": "<b>%{hovertext}</b><br><br>Primary=Fairy<br>Generation=%{x}<br>percentage_male=%{y}<extra></extra>",
         "hovertext": [
          "Clefairy",
          "Clefable",
          "Cleffa",
          "Togepi",
          "Togetic",
          "Snubbull",
          "Granbull",
          "Togekiss"
         ],
         "legendgroup": "Fairy",
         "marker": {
          "color": "#FF97FF",
          "pattern": {
           "shape": ""
          }
         },
         "name": "Fairy",
         "offsetgroup": "Fairy",
         "orientation": "v",
         "showlegend": true,
         "textposition": "auto",
         "type": "bar",
         "x": [
          1,
          1,
          2,
          2,
          2,
          2,
          2,
          4
         ],
         "xaxis": "x",
         "y": [
          24.6,
          24.6,
          24.6,
          88.1,
          88.1,
          24.6,
          24.6,
          88.1
         ],
         "yaxis": "y"
        },
        {
         "alignmentgroup": "True",
         "hovertemplate": "<b>%{hovertext}</b><br><br>Primary=Fighting<br>Generation=%{x}<br>percentage_male=%{y}<extra></extra>",
         "hovertext": [
          "Mankey",
          "Primeape",
          "Machop",
          "Machoke",
          "Machamp",
          "Hitmonlee",
          "Hitmonchan",
          "Tyrogue",
          "Hitmontop",
          "Makuhita",
          "Hariyama",
          "Meditite",
          "Medicham",
          "Riolu",
          "Lucario",
          "Timburr",
          "Gurdurr",
          "Conkeldurr",
          "Throh",
          "Sawk",
          "Mienfoo",
          "Mienshao"
         ],
         "legendgroup": "Fighting",
         "marker": {
          "color": "#FECB52",
          "pattern": {
           "shape": ""
          }
         },
         "name": "Fighting",
         "offsetgroup": "Fighting",
         "orientation": "v",
         "showlegend": true,
         "textposition": "auto",
         "type": "bar",
         "x": [
          1,
          1,
          1,
          1,
          1,
          1,
          1,
          2,
          2,
          3,
          3,
          3,
          3,
          4,
          4,
          5,
          5,
          5,
          5,
          5,
          5,
          5
         ],
         "xaxis": "x",
         "y": [
          50,
          50,
          75.4,
          75.4,
          75.4,
          100,
          100,
          100,
          100,
          75.4,
          75.4,
          50,
          50,
          88.1,
          88.1,
          75.4,
          75.4,
          75.4,
          100,
          100,
          50,
          50
         ],
         "yaxis": "y"
        },
        {
         "alignmentgroup": "True",
         "hovertemplate": "<b>%{hovertext}</b><br><br>Primary=Psychic<br>Generation=%{x}<br>percentage_male=%{y}<extra></extra>",
         "hovertext": [
          "Abra",
          "Kadabra",
          "Alakazam",
          "Drowzee",
          "Hypno",
          "Mr.",
          "Mewtwo",
          "Mew",
          "Natu",
          "Xatu",
          "Espeon",
          "Unown",
          "Wobbuffet",
          "Lugia",
          "Celebi",
          "Ralts",
          "Kirlia",
          "Gardevoir",
          "Spoink",
          "Grumpig",
          "Chimecho",
          "Wynaut",
          "Deoxys",
          "Chingling",
          "Mime",
          "Gallade",
          "Uxie",
          "Mesprit",
          "Azelf",
          "Cresselia",
          "Victini",
          "Munna",
          "Musharna",
          "Woobat",
          "Swoobat",
          "Sigilyph",
          "Gothita",
          "Gothorita",
          "Gothitelle",
          "Solosis",
          "Duosion",
          "Reuniclus",
          "Elgyem",
          "Beheeyem"
         ],
         "legendgroup": "Psychic",
         "marker": {
          "color": "#636efa",
          "pattern": {
           "shape": ""
          }
         },
         "name": "Psychic",
         "offsetgroup": "Psychic",
         "orientation": "v",
         "showlegend": true,
         "textposition": "auto",
         "type": "bar",
         "x": [
          1,
          1,
          1,
          1,
          1,
          1,
          1,
          1,
          2,
          2,
          2,
          2,
          2,
          2,
          2,
          3,
          3,
          3,
          3,
          3,
          3,
          3,
          3,
          4,
          4,
          4,
          4,
          4,
          4,
          4,
          5,
          5,
          5,
          5,
          5,
          5,
          5,
          5,
          5,
          5,
          5,
          5,
          5,
          5
         ],
         "xaxis": "x",
         "y": [
          75.4,
          75.4,
          75.4,
          50,
          50,
          50,
          null,
          null,
          50,
          50,
          88.1,
          null,
          50,
          null,
          null,
          50,
          50,
          50,
          50,
          50,
          50,
          50,
          null,
          50,
          50,
          100,
          null,
          null,
          null,
          0,
          null,
          50,
          50,
          50,
          50,
          50,
          24.6,
          24.6,
          24.6,
          50,
          50,
          50,
          50,
          50
         ],
         "yaxis": "y"
        },
        {
         "alignmentgroup": "True",
         "hovertemplate": "<b>%{hovertext}</b><br><br>Primary=Rock<br>Generation=%{x}<br>percentage_male=%{y}<extra></extra>",
         "hovertext": [
          "Geodude",
          "Graveler",
          "Golem",
          "Onix",
          "Omanyte",
          "Omastar",
          "Kabuto",
          "Kabutops",
          "Aerodactyl",
          "Sudowoodo",
          "Larvitar",
          "Pupitar",
          "Tyranitar",
          "Nosepass",
          "Lunatone",
          "Solrock",
          "Lileep",
          "Cradily",
          "Anorith",
          "Armaldo",
          "Regirock",
          "Cranidos",
          "Rampardos",
          "Shieldon",
          "Bastiodon",
          "Bonsly",
          "Probopass",
          "Roggenrola",
          "Boldore",
          "Gigalith",
          "Archen",
          "Archeops",
          "Terrakion"
         ],
         "legendgroup": "Rock",
         "marker": {
          "color": "#EF553B",
          "pattern": {
           "shape": ""
          }
         },
         "name": "Rock",
         "offsetgroup": "Rock",
         "orientation": "v",
         "showlegend": true,
         "textposition": "auto",
         "type": "bar",
         "x": [
          1,
          1,
          1,
          1,
          1,
          1,
          1,
          1,
          1,
          2,
          2,
          2,
          2,
          3,
          3,
          3,
          3,
          3,
          3,
          3,
          3,
          4,
          4,
          4,
          4,
          4,
          4,
          5,
          5,
          5,
          5,
          5,
          5
         ],
         "xaxis": "x",
         "y": [
          50,
          50,
          50,
          50,
          88.1,
          88.1,
          88.1,
          88.1,
          88.1,
          50,
          50,
          50,
          50,
          50,
          null,
          null,
          88.1,
          88.1,
          88.1,
          88.1,
          null,
          88.1,
          88.1,
          88.1,
          88.1,
          50,
          50,
          50,
          50,
          50,
          88.1,
          88.1,
          null
         ],
         "yaxis": "y"
        },
        {
         "alignmentgroup": "True",
         "hovertemplate": "<b>%{hovertext}</b><br><br>Primary=Ghost<br>Generation=%{x}<br>percentage_male=%{y}<extra></extra>",
         "hovertext": [
          "Gastly",
          "Haunter",
          "Gengar",
          "Misdreavus",
          "Shuppet",
          "Banette",
          "Duskull",
          "Dusclops",
          "Drifloon",
          "Drifblim",
          "Mismagius",
          "Spiritomb",
          "Dusknoir",
          "Giratina",
          "Yamask",
          "Cofagrigus",
          "Litwick",
          "Lampent",
          "Chandelure"
         ],
         "legendgroup": "Ghost",
         "marker": {
          "color": "#00cc96",
          "pattern": {
           "shape": ""
          }
         },
         "name": "Ghost",
         "offsetgroup": "Ghost",
         "orientation": "v",
         "showlegend": true,
         "textposition": "auto",
         "type": "bar",
         "x": [
          1,
          1,
          1,
          2,
          3,
          3,
          3,
          3,
          4,
          4,
          4,
          4,
          4,
          4,
          5,
          5,
          5,
          5,
          5
         ],
         "xaxis": "x",
         "y": [
          50,
          50,
          50,
          50,
          50,
          50,
          50,
          50,
          50,
          50,
          50,
          50,
          50,
          null,
          50,
          50,
          50,
          50,
          50
         ],
         "yaxis": "y"
        },
        {
         "alignmentgroup": "True",
         "hovertemplate": "<b>%{hovertext}</b><br><br>Primary=Ice<br>Generation=%{x}<br>percentage_male=%{y}<extra></extra>",
         "hovertext": [
          "Jynx",
          "Articuno",
          "Swinub",
          "Piloswine",
          "Delibird",
          "Smoochum",
          "Snorunt",
          "Glalie",
          "Spheal",
          "Sealeo",
          "Walrein",
          "Regice",
          "Glaceon",
          "Mamoswine",
          "Froslass",
          "Vanillite",
          "Vanillish",
          "Vanilluxe",
          "Cubchoo",
          "Beartic",
          "Cryogonal"
         ],
         "legendgroup": "Ice",
         "marker": {
          "color": "#ab63fa",
          "pattern": {
           "shape": ""
          }
         },
         "name": "Ice",
         "offsetgroup": "Ice",
         "orientation": "v",
         "showlegend": true,
         "textposition": "auto",
         "type": "bar",
         "x": [
          1,
          1,
          2,
          2,
          2,
          2,
          3,
          3,
          3,
          3,
          3,
          3,
          4,
          4,
          4,
          5,
          5,
          5,
          5,
          5,
          5
         ],
         "xaxis": "x",
         "y": [
          0,
          null,
          50,
          50,
          50,
          0,
          50,
          50,
          50,
          50,
          50,
          null,
          88.1,
          50,
          0,
          50,
          50,
          50,
          50,
          50,
          null
         ],
         "yaxis": "y"
        },
        {
         "alignmentgroup": "True",
         "hovertemplate": "<b>%{hovertext}</b><br><br>Primary=Dragon<br>Generation=%{x}<br>percentage_male=%{y}<extra></extra>",
         "hovertext": [
          "Dratini",
          "Dragonair",
          "Dragonite",
          "Altaria",
          "Bagon",
          "Shelgon",
          "Salamence",
          "Latias",
          "Latios",
          "Rayquaza",
          "Gible",
          "Gabite",
          "Garchomp",
          "Axew",
          "Fraxure",
          "Haxorus",
          "Druddigon",
          "Reshiram",
          "Zekrom",
          "Kyurem"
         ],
         "legendgroup": "Dragon",
         "marker": {
          "color": "#FFA15A",
          "pattern": {
           "shape": ""
          }
         },
         "name": "Dragon",
         "offsetgroup": "Dragon",
         "orientation": "v",
         "showlegend": true,
         "textposition": "auto",
         "type": "bar",
         "x": [
          1,
          1,
          1,
          3,
          3,
          3,
          3,
          3,
          3,
          3,
          4,
          4,
          4,
          5,
          5,
          5,
          5,
          5,
          5,
          5
         ],
         "xaxis": "x",
         "y": [
          50,
          50,
          50,
          50,
          50,
          50,
          50,
          0,
          100,
          null,
          50,
          50,
          50,
          50,
          50,
          50,
          50,
          null,
          null,
          null
         ],
         "yaxis": "y"
        },
        {
         "alignmentgroup": "True",
         "hovertemplate": "<b>%{hovertext}</b><br><br>Primary=Dark<br>Generation=%{x}<br>percentage_male=%{y}<extra></extra>",
         "hovertext": [
          "Umbreon",
          "Murkrow",
          "Sneasel",
          "Houndour",
          "Houndoom",
          "Poochyena",
          "Mightyena",
          "Sableye",
          "Absol",
          "Honchkrow",
          "Weavile",
          "Darkrai",
          "Purrloin",
          "Liepard",
          "Scraggy",
          "Scrafty",
          "Zorua",
          "Zoroark",
          "Pawniard",
          "Bisharp",
          "Vullaby",
          "Mandibuzz",
          "Deino",
          "Zweilous",
          "Hydreigon"
         ],
         "legendgroup": "Dark",
         "marker": {
          "color": "#19d3f3",
          "pattern": {
           "shape": ""
          }
         },
         "name": "Dark",
         "offsetgroup": "Dark",
         "orientation": "v",
         "showlegend": true,
         "textposition": "auto",
         "type": "bar",
         "x": [
          2,
          2,
          2,
          2,
          2,
          3,
          3,
          3,
          3,
          4,
          4,
          4,
          5,
          5,
          5,
          5,
          5,
          5,
          5,
          5,
          5,
          5,
          5,
          5,
          5
         ],
         "xaxis": "x",
         "y": [
          88.1,
          50,
          50,
          50,
          50,
          50,
          50,
          50,
          50,
          50,
          50,
          null,
          50,
          50,
          50,
          50,
          88.1,
          88.1,
          50,
          50,
          0,
          0,
          50,
          50,
          50
         ],
         "yaxis": "y"
        },
        {
         "alignmentgroup": "True",
         "hovertemplate": "<b>%{hovertext}</b><br><br>Primary=Steel<br>Generation=%{x}<br>percentage_male=%{y}<extra></extra>",
         "hovertext": [
          "Steelix",
          "Skarmory",
          "Mawile",
          "Aron",
          "Lairon",
          "Aggron",
          "Beldum",
          "Metang",
          "Metagross",
          "Registeel",
          "Jirachi",
          "Bronzor",
          "Bronzong",
          "Dialga",
          "Klink",
          "Klang",
          "Klinklang",
          "Cobalion"
         ],
         "legendgroup": "Steel",
         "marker": {
          "color": "#FF6692",
          "pattern": {
           "shape": ""
          }
         },
         "name": "Steel",
         "offsetgroup": "Steel",
         "orientation": "v",
         "showlegend": true,
         "textposition": "auto",
         "type": "bar",
         "x": [
          2,
          2,
          3,
          3,
          3,
          3,
          3,
          3,
          3,
          3,
          3,
          4,
          4,
          4,
          5,
          5,
          5,
          5
         ],
         "xaxis": "x",
         "y": [
          50,
          50,
          50,
          50,
          50,
          50,
          null,
          null,
          null,
          null,
          null,
          null,
          null,
          null,
          null,
          null,
          null,
          null
         ],
         "yaxis": "y"
        },
        {
         "alignmentgroup": "True",
         "hovertemplate": "<b>%{hovertext}</b><br><br>Primary=Flying<br>Generation=%{x}<br>percentage_male=%{y}<extra></extra>",
         "hovertext": [
          "Tornadus"
         ],
         "legendgroup": "Flying",
         "marker": {
          "color": "#B6E880",
          "pattern": {
           "shape": ""
          }
         },
         "name": "Flying",
         "offsetgroup": "Flying",
         "orientation": "v",
         "showlegend": true,
         "textposition": "auto",
         "type": "bar",
         "x": [
          5
         ],
         "xaxis": "x",
         "y": [
          100
         ],
         "yaxis": "y"
        }
       ],
       "layout": {
        "barmode": "relative",
        "legend": {
         "title": {
          "text": "Primary"
         },
         "tracegroupgap": 0
        },
        "margin": {
         "t": 60
        },
        "template": {
         "data": {
          "bar": [
           {
            "error_x": {
             "color": "#2a3f5f"
            },
            "error_y": {
             "color": "#2a3f5f"
            },
            "marker": {
             "line": {
              "color": "#E5ECF6",
              "width": 0.5
             },
             "pattern": {
              "fillmode": "overlay",
              "size": 10,
              "solidity": 0.2
             }
            },
            "type": "bar"
           }
          ],
          "barpolar": [
           {
            "marker": {
             "line": {
              "color": "#E5ECF6",
              "width": 0.5
             },
             "pattern": {
              "fillmode": "overlay",
              "size": 10,
              "solidity": 0.2
             }
            },
            "type": "barpolar"
           }
          ],
          "carpet": [
           {
            "aaxis": {
             "endlinecolor": "#2a3f5f",
             "gridcolor": "white",
             "linecolor": "white",
             "minorgridcolor": "white",
             "startlinecolor": "#2a3f5f"
            },
            "baxis": {
             "endlinecolor": "#2a3f5f",
             "gridcolor": "white",
             "linecolor": "white",
             "minorgridcolor": "white",
             "startlinecolor": "#2a3f5f"
            },
            "type": "carpet"
           }
          ],
          "choropleth": [
           {
            "colorbar": {
             "outlinewidth": 0,
             "ticks": ""
            },
            "type": "choropleth"
           }
          ],
          "contour": [
           {
            "colorbar": {
             "outlinewidth": 0,
             "ticks": ""
            },
            "colorscale": [
             [
              0,
              "#0d0887"
             ],
             [
              0.1111111111111111,
              "#46039f"
             ],
             [
              0.2222222222222222,
              "#7201a8"
             ],
             [
              0.3333333333333333,
              "#9c179e"
             ],
             [
              0.4444444444444444,
              "#bd3786"
             ],
             [
              0.5555555555555556,
              "#d8576b"
             ],
             [
              0.6666666666666666,
              "#ed7953"
             ],
             [
              0.7777777777777778,
              "#fb9f3a"
             ],
             [
              0.8888888888888888,
              "#fdca26"
             ],
             [
              1,
              "#f0f921"
             ]
            ],
            "type": "contour"
           }
          ],
          "contourcarpet": [
           {
            "colorbar": {
             "outlinewidth": 0,
             "ticks": ""
            },
            "type": "contourcarpet"
           }
          ],
          "heatmap": [
           {
            "colorbar": {
             "outlinewidth": 0,
             "ticks": ""
            },
            "colorscale": [
             [
              0,
              "#0d0887"
             ],
             [
              0.1111111111111111,
              "#46039f"
             ],
             [
              0.2222222222222222,
              "#7201a8"
             ],
             [
              0.3333333333333333,
              "#9c179e"
             ],
             [
              0.4444444444444444,
              "#bd3786"
             ],
             [
              0.5555555555555556,
              "#d8576b"
             ],
             [
              0.6666666666666666,
              "#ed7953"
             ],
             [
              0.7777777777777778,
              "#fb9f3a"
             ],
             [
              0.8888888888888888,
              "#fdca26"
             ],
             [
              1,
              "#f0f921"
             ]
            ],
            "type": "heatmap"
           }
          ],
          "heatmapgl": [
           {
            "colorbar": {
             "outlinewidth": 0,
             "ticks": ""
            },
            "colorscale": [
             [
              0,
              "#0d0887"
             ],
             [
              0.1111111111111111,
              "#46039f"
             ],
             [
              0.2222222222222222,
              "#7201a8"
             ],
             [
              0.3333333333333333,
              "#9c179e"
             ],
             [
              0.4444444444444444,
              "#bd3786"
             ],
             [
              0.5555555555555556,
              "#d8576b"
             ],
             [
              0.6666666666666666,
              "#ed7953"
             ],
             [
              0.7777777777777778,
              "#fb9f3a"
             ],
             [
              0.8888888888888888,
              "#fdca26"
             ],
             [
              1,
              "#f0f921"
             ]
            ],
            "type": "heatmapgl"
           }
          ],
          "histogram": [
           {
            "marker": {
             "pattern": {
              "fillmode": "overlay",
              "size": 10,
              "solidity": 0.2
             }
            },
            "type": "histogram"
           }
          ],
          "histogram2d": [
           {
            "colorbar": {
             "outlinewidth": 0,
             "ticks": ""
            },
            "colorscale": [
             [
              0,
              "#0d0887"
             ],
             [
              0.1111111111111111,
              "#46039f"
             ],
             [
              0.2222222222222222,
              "#7201a8"
             ],
             [
              0.3333333333333333,
              "#9c179e"
             ],
             [
              0.4444444444444444,
              "#bd3786"
             ],
             [
              0.5555555555555556,
              "#d8576b"
             ],
             [
              0.6666666666666666,
              "#ed7953"
             ],
             [
              0.7777777777777778,
              "#fb9f3a"
             ],
             [
              0.8888888888888888,
              "#fdca26"
             ],
             [
              1,
              "#f0f921"
             ]
            ],
            "type": "histogram2d"
           }
          ],
          "histogram2dcontour": [
           {
            "colorbar": {
             "outlinewidth": 0,
             "ticks": ""
            },
            "colorscale": [
             [
              0,
              "#0d0887"
             ],
             [
              0.1111111111111111,
              "#46039f"
             ],
             [
              0.2222222222222222,
              "#7201a8"
             ],
             [
              0.3333333333333333,
              "#9c179e"
             ],
             [
              0.4444444444444444,
              "#bd3786"
             ],
             [
              0.5555555555555556,
              "#d8576b"
             ],
             [
              0.6666666666666666,
              "#ed7953"
             ],
             [
              0.7777777777777778,
              "#fb9f3a"
             ],
             [
              0.8888888888888888,
              "#fdca26"
             ],
             [
              1,
              "#f0f921"
             ]
            ],
            "type": "histogram2dcontour"
           }
          ],
          "mesh3d": [
           {
            "colorbar": {
             "outlinewidth": 0,
             "ticks": ""
            },
            "type": "mesh3d"
           }
          ],
          "parcoords": [
           {
            "line": {
             "colorbar": {
              "outlinewidth": 0,
              "ticks": ""
             }
            },
            "type": "parcoords"
           }
          ],
          "pie": [
           {
            "automargin": true,
            "type": "pie"
           }
          ],
          "scatter": [
           {
            "marker": {
             "colorbar": {
              "outlinewidth": 0,
              "ticks": ""
             }
            },
            "type": "scatter"
           }
          ],
          "scatter3d": [
           {
            "line": {
             "colorbar": {
              "outlinewidth": 0,
              "ticks": ""
             }
            },
            "marker": {
             "colorbar": {
              "outlinewidth": 0,
              "ticks": ""
             }
            },
            "type": "scatter3d"
           }
          ],
          "scattercarpet": [
           {
            "marker": {
             "colorbar": {
              "outlinewidth": 0,
              "ticks": ""
             }
            },
            "type": "scattercarpet"
           }
          ],
          "scattergeo": [
           {
            "marker": {
             "colorbar": {
              "outlinewidth": 0,
              "ticks": ""
             }
            },
            "type": "scattergeo"
           }
          ],
          "scattergl": [
           {
            "marker": {
             "colorbar": {
              "outlinewidth": 0,
              "ticks": ""
             }
            },
            "type": "scattergl"
           }
          ],
          "scattermapbox": [
           {
            "marker": {
             "colorbar": {
              "outlinewidth": 0,
              "ticks": ""
             }
            },
            "type": "scattermapbox"
           }
          ],
          "scatterpolar": [
           {
            "marker": {
             "colorbar": {
              "outlinewidth": 0,
              "ticks": ""
             }
            },
            "type": "scatterpolar"
           }
          ],
          "scatterpolargl": [
           {
            "marker": {
             "colorbar": {
              "outlinewidth": 0,
              "ticks": ""
             }
            },
            "type": "scatterpolargl"
           }
          ],
          "scatterternary": [
           {
            "marker": {
             "colorbar": {
              "outlinewidth": 0,
              "ticks": ""
             }
            },
            "type": "scatterternary"
           }
          ],
          "surface": [
           {
            "colorbar": {
             "outlinewidth": 0,
             "ticks": ""
            },
            "colorscale": [
             [
              0,
              "#0d0887"
             ],
             [
              0.1111111111111111,
              "#46039f"
             ],
             [
              0.2222222222222222,
              "#7201a8"
             ],
             [
              0.3333333333333333,
              "#9c179e"
             ],
             [
              0.4444444444444444,
              "#bd3786"
             ],
             [
              0.5555555555555556,
              "#d8576b"
             ],
             [
              0.6666666666666666,
              "#ed7953"
             ],
             [
              0.7777777777777778,
              "#fb9f3a"
             ],
             [
              0.8888888888888888,
              "#fdca26"
             ],
             [
              1,
              "#f0f921"
             ]
            ],
            "type": "surface"
           }
          ],
          "table": [
           {
            "cells": {
             "fill": {
              "color": "#EBF0F8"
             },
             "line": {
              "color": "white"
             }
            },
            "header": {
             "fill": {
              "color": "#C8D4E3"
             },
             "line": {
              "color": "white"
             }
            },
            "type": "table"
           }
          ]
         },
         "layout": {
          "annotationdefaults": {
           "arrowcolor": "#2a3f5f",
           "arrowhead": 0,
           "arrowwidth": 1
          },
          "autotypenumbers": "strict",
          "coloraxis": {
           "colorbar": {
            "outlinewidth": 0,
            "ticks": ""
           }
          },
          "colorscale": {
           "diverging": [
            [
             0,
             "#8e0152"
            ],
            [
             0.1,
             "#c51b7d"
            ],
            [
             0.2,
             "#de77ae"
            ],
            [
             0.3,
             "#f1b6da"
            ],
            [
             0.4,
             "#fde0ef"
            ],
            [
             0.5,
             "#f7f7f7"
            ],
            [
             0.6,
             "#e6f5d0"
            ],
            [
             0.7,
             "#b8e186"
            ],
            [
             0.8,
             "#7fbc41"
            ],
            [
             0.9,
             "#4d9221"
            ],
            [
             1,
             "#276419"
            ]
           ],
           "sequential": [
            [
             0,
             "#0d0887"
            ],
            [
             0.1111111111111111,
             "#46039f"
            ],
            [
             0.2222222222222222,
             "#7201a8"
            ],
            [
             0.3333333333333333,
             "#9c179e"
            ],
            [
             0.4444444444444444,
             "#bd3786"
            ],
            [
             0.5555555555555556,
             "#d8576b"
            ],
            [
             0.6666666666666666,
             "#ed7953"
            ],
            [
             0.7777777777777778,
             "#fb9f3a"
            ],
            [
             0.8888888888888888,
             "#fdca26"
            ],
            [
             1,
             "#f0f921"
            ]
           ],
           "sequentialminus": [
            [
             0,
             "#0d0887"
            ],
            [
             0.1111111111111111,
             "#46039f"
            ],
            [
             0.2222222222222222,
             "#7201a8"
            ],
            [
             0.3333333333333333,
             "#9c179e"
            ],
            [
             0.4444444444444444,
             "#bd3786"
            ],
            [
             0.5555555555555556,
             "#d8576b"
            ],
            [
             0.6666666666666666,
             "#ed7953"
            ],
            [
             0.7777777777777778,
             "#fb9f3a"
            ],
            [
             0.8888888888888888,
             "#fdca26"
            ],
            [
             1,
             "#f0f921"
            ]
           ]
          },
          "colorway": [
           "#636efa",
           "#EF553B",
           "#00cc96",
           "#ab63fa",
           "#FFA15A",
           "#19d3f3",
           "#FF6692",
           "#B6E880",
           "#FF97FF",
           "#FECB52"
          ],
          "font": {
           "color": "#2a3f5f"
          },
          "geo": {
           "bgcolor": "white",
           "lakecolor": "white",
           "landcolor": "#E5ECF6",
           "showlakes": true,
           "showland": true,
           "subunitcolor": "white"
          },
          "hoverlabel": {
           "align": "left"
          },
          "hovermode": "closest",
          "mapbox": {
           "style": "light"
          },
          "paper_bgcolor": "white",
          "plot_bgcolor": "#E5ECF6",
          "polar": {
           "angularaxis": {
            "gridcolor": "white",
            "linecolor": "white",
            "ticks": ""
           },
           "bgcolor": "#E5ECF6",
           "radialaxis": {
            "gridcolor": "white",
            "linecolor": "white",
            "ticks": ""
           }
          },
          "scene": {
           "xaxis": {
            "backgroundcolor": "#E5ECF6",
            "gridcolor": "white",
            "gridwidth": 2,
            "linecolor": "white",
            "showbackground": true,
            "ticks": "",
            "zerolinecolor": "white"
           },
           "yaxis": {
            "backgroundcolor": "#E5ECF6",
            "gridcolor": "white",
            "gridwidth": 2,
            "linecolor": "white",
            "showbackground": true,
            "ticks": "",
            "zerolinecolor": "white"
           },
           "zaxis": {
            "backgroundcolor": "#E5ECF6",
            "gridcolor": "white",
            "gridwidth": 2,
            "linecolor": "white",
            "showbackground": true,
            "ticks": "",
            "zerolinecolor": "white"
           }
          },
          "shapedefaults": {
           "line": {
            "color": "#2a3f5f"
           }
          },
          "ternary": {
           "aaxis": {
            "gridcolor": "white",
            "linecolor": "white",
            "ticks": ""
           },
           "baxis": {
            "gridcolor": "white",
            "linecolor": "white",
            "ticks": ""
           },
           "bgcolor": "#E5ECF6",
           "caxis": {
            "gridcolor": "white",
            "linecolor": "white",
            "ticks": ""
           }
          },
          "title": {
           "x": 0.05
          },
          "xaxis": {
           "automargin": true,
           "gridcolor": "white",
           "linecolor": "white",
           "ticks": "",
           "title": {
            "standoff": 15
           },
           "zerolinecolor": "white",
           "zerolinewidth": 2
          },
          "yaxis": {
           "automargin": true,
           "gridcolor": "white",
           "linecolor": "white",
           "ticks": "",
           "title": {
            "standoff": 15
           },
           "zerolinecolor": "white",
           "zerolinewidth": 2
          }
         }
        },
        "xaxis": {
         "anchor": "y",
         "domain": [
          0,
          1
         ],
         "title": {
          "text": "Generation"
         }
        },
        "yaxis": {
         "anchor": "x",
         "domain": [
          0,
          1
         ],
         "title": {
          "text": "percentage_male"
         }
        }
       }
      },
      "text/html": [
       "<div>                            <div id=\"d4e4c565-974b-4048-8da1-a51cde4908aa\" class=\"plotly-graph-div\" style=\"height:525px; width:100%;\"></div>            <script type=\"text/javascript\">                require([\"plotly\"], function(Plotly) {                    window.PLOTLYENV=window.PLOTLYENV || {};                                    if (document.getElementById(\"d4e4c565-974b-4048-8da1-a51cde4908aa\")) {                    Plotly.newPlot(                        \"d4e4c565-974b-4048-8da1-a51cde4908aa\",                        [{\"alignmentgroup\":\"True\",\"hovertemplate\":\"<b>%{hovertext}</b><br><br>Primary=Grass<br>Generation=%{x}<br>percentage_male=%{y}<extra></extra>\",\"hovertext\":[\"Bulbasaur\",\"Ivysaur\",\"Venusaur\",\"Oddish\",\"Gloom\",\"Vileplume\",\"Bellsprout\",\"Weepinbell\",\"Victreebel\",\"Exeggcute\",\"Exeggutor\",\"Tangela\",\"Chikorita\",\"Bayleef\",\"Meganium\",\"Bellossom\",\"Hoppip\",\"Skiploom\",\"Jumpluff\",\"Sunkern\",\"Sunflora\",\"Treecko\",\"Grovyle\",\"Sceptile\",\"Seedot\",\"Nuzleaf\",\"Shiftry\",\"Shroomish\",\"Breloom\",\"Roselia\",\"Cacnea\",\"Cacturne\",\"Tropius\",\"Turtwig\",\"Grotle\",\"Torterra\",\"Budew\",\"Roserade\",\"Cherubi\",\"Cherrim\",\"Carnivine\",\"Snover\",\"Abomasnow\",\"Tangrowth\",\"Leafeon\",\"Shaymin\",\"Snivy\",\"Servine\",\"Serperior\",\"Pansage\",\"Simisage\",\"Cottonee\",\"Whimsicott\",\"Petilil\",\"Lilligant\",\"Maractus\",\"Foongus\",\"Amoonguss\",\"Ferroseed\",\"Ferrothorn\",\"Virizion\"],\"legendgroup\":\"Grass\",\"marker\":{\"color\":\"#636efa\",\"pattern\":{\"shape\":\"\"}},\"name\":\"Grass\",\"offsetgroup\":\"Grass\",\"orientation\":\"v\",\"showlegend\":true,\"textposition\":\"auto\",\"x\":[1,1,1,1,1,1,1,1,1,1,1,1,2,2,2,2,2,2,2,2,2,3,3,3,3,3,3,3,3,3,3,3,3,4,4,4,4,4,4,4,4,4,4,4,4,4,5,5,5,5,5,5,5,5,5,5,5,5,5,5,5],\"xaxis\":\"x\",\"y\":[88.1,88.1,88.1,50.0,50.0,50.0,50.0,50.0,50.0,50.0,50.0,50.0,88.1,88.1,88.1,50.0,50.0,50.0,50.0,50.0,50.0,88.1,88.1,88.1,50.0,50.0,50.0,50.0,50.0,50.0,50.0,50.0,50.0,88.1,88.1,88.1,50.0,50.0,50.0,50.0,50.0,50.0,50.0,50.0,88.1,null,88.1,88.1,88.1,88.1,88.1,50.0,50.0,0.0,0.0,50.0,50.0,50.0,50.0,50.0,null],\"yaxis\":\"y\",\"type\":\"bar\"},{\"alignmentgroup\":\"True\",\"hovertemplate\":\"<b>%{hovertext}</b><br><br>Primary=Fire<br>Generation=%{x}<br>percentage_male=%{y}<extra></extra>\",\"hovertext\":[\"Charmander\",\"Charmeleon\",\"Charizard\",\"Vulpix\",\"Ninetales\",\"Growlithe\",\"Arcanine\",\"Ponyta\",\"Rapidash\",\"Magmar\",\"Flareon\",\"Moltres\",\"Cyndaquil\",\"Quilava\",\"Typhlosion\",\"Slugma\",\"Magcargo\",\"Magby\",\"Entei\",\"Ho-Oh\",\"Torchic\",\"Combusken\",\"Blaziken\",\"Numel\",\"Camerupt\",\"Torkoal\",\"Chimchar\",\"Monferno\",\"Infernape\",\"Magmortar\",\"Heatran\",\"Tepig\",\"Pignite\",\"Emboar\",\"Pansear\",\"Simisear\",\"Darumaka\",\"Darmanitan\",\"Heatmor\"],\"legendgroup\":\"Fire\",\"marker\":{\"color\":\"#EF553B\",\"pattern\":{\"shape\":\"\"}},\"name\":\"Fire\",\"offsetgroup\":\"Fire\",\"orientation\":\"v\",\"showlegend\":true,\"textposition\":\"auto\",\"x\":[1,1,1,1,1,1,1,1,1,1,1,1,2,2,2,2,2,2,2,2,3,3,3,3,3,3,4,4,4,4,4,5,5,5,5,5,5,5,5],\"xaxis\":\"x\",\"y\":[88.1,88.1,88.1,24.6,24.6,75.4,75.4,50.0,50.0,75.4,88.1,null,88.1,88.1,88.1,50.0,50.0,75.4,null,null,88.1,88.1,88.1,50.0,50.0,50.0,88.1,88.1,88.1,75.4,50.0,88.1,88.1,88.1,88.1,88.1,50.0,50.0,50.0],\"yaxis\":\"y\",\"type\":\"bar\"},{\"alignmentgroup\":\"True\",\"hovertemplate\":\"<b>%{hovertext}</b><br><br>Primary=Water<br>Generation=%{x}<br>percentage_male=%{y}<extra></extra>\",\"hovertext\":[\"Squirtle\",\"Wartortle\",\"Blastoise\",\"Psyduck\",\"Golduck\",\"Poliwag\",\"Poliwhirl\",\"Poliwrath\",\"Tentacool\",\"Tentacruel\",\"Slowpoke\",\"Slowbro\",\"Seel\",\"Dewgong\",\"Shellder\",\"Cloyster\",\"Krabby\",\"Kingler\",\"Horsea\",\"Seadra\",\"Goldeen\",\"Seaking\",\"Staryu\",\"Starmie\",\"Magikarp\",\"Gyarados\",\"Lapras\",\"Vaporeon\",\"Totodile\",\"Croconaw\",\"Feraligatr\",\"Chinchou\",\"Lanturn\",\"Marill\",\"Azumarill\",\"Politoed\",\"Wooper\",\"Quagsire\",\"Slowking\",\"Qwilfish\",\"Corsola\",\"Remoraid\",\"Octillery\",\"Mantine\",\"Kingdra\",\"Suicune\",\"Mudkip\",\"Marshtomp\",\"Swampert\",\"Lotad\",\"Lombre\",\"Ludicolo\",\"Wingull\",\"Pelipper\",\"Carvanha\",\"Sharpedo\",\"Wailmer\",\"Wailord\",\"Barboach\",\"Whiscash\",\"Corphish\",\"Crawdaunt\",\"Feebas\",\"Milotic\",\"Clamperl\",\"Huntail\",\"Gorebyss\",\"Relicanth\",\"Luvdisc\",\"Kyogre\",\"Piplup\",\"Prinplup\",\"Empoleon\",\"Buizel\",\"Floatzel\",\"Shellos\",\"Gastrodon\",\"Finneon\",\"Lumineon\",\"Mantyke\",\"Palkia\",\"Phione\",\"Manaphy\",\"Oshawott\",\"Dewott\",\"Samurott\",\"Panpour\",\"Simipour\",\"Tympole\",\"Palpitoad\",\"Seismitoad\",\"Basculin\",\"Tirtouga\",\"Carracosta\",\"Ducklett\",\"Swanna\",\"Frillish\",\"Jellicent\",\"Alomomola\",\"Keldeo\"],\"legendgroup\":\"Water\",\"marker\":{\"color\":\"#00cc96\",\"pattern\":{\"shape\":\"\"}},\"name\":\"Water\",\"offsetgroup\":\"Water\",\"orientation\":\"v\",\"showlegend\":true,\"textposition\":\"auto\",\"x\":[1,1,1,1,1,1,1,1,1,1,1,1,1,1,1,1,1,1,1,1,1,1,1,1,1,1,1,1,2,2,2,2,2,2,2,2,2,2,2,2,2,2,2,2,2,2,3,3,3,3,3,3,3,3,3,3,3,3,3,3,3,3,3,3,3,3,3,3,3,3,4,4,4,4,4,4,4,4,4,4,4,4,4,5,5,5,5,5,5,5,5,5,5,5,5,5,5,5,5,5],\"xaxis\":\"x\",\"y\":[88.1,88.1,88.1,50.0,50.0,50.0,50.0,50.0,50.0,50.0,50.0,50.0,50.0,50.0,50.0,50.0,50.0,50.0,50.0,50.0,50.0,50.0,null,null,50.0,50.0,50.0,88.1,88.1,88.1,88.1,50.0,50.0,50.0,50.0,50.0,50.0,50.0,50.0,50.0,24.6,50.0,50.0,50.0,50.0,null,88.1,88.1,88.1,50.0,50.0,50.0,50.0,50.0,50.0,50.0,50.0,50.0,50.0,50.0,50.0,50.0,50.0,50.0,50.0,50.0,50.0,88.1,24.6,null,88.1,88.1,88.1,50.0,50.0,50.0,50.0,50.0,50.0,50.0,null,null,null,88.1,88.1,88.1,88.1,88.1,50.0,50.0,50.0,50.0,88.1,88.1,50.0,50.0,50.0,50.0,50.0,null],\"yaxis\":\"y\",\"type\":\"bar\"},{\"alignmentgroup\":\"True\",\"hovertemplate\":\"<b>%{hovertext}</b><br><br>Primary=Bug<br>Generation=%{x}<br>percentage_male=%{y}<extra></extra>\",\"hovertext\":[\"Caterpie\",\"Metapod\",\"Butterfree\",\"Weedle\",\"Kakuna\",\"Beedrill\",\"Paras\",\"Parasect\",\"Venonat\",\"Venomoth\",\"Scyther\",\"Pinsir\",\"Ledyba\",\"Ledian\",\"Spinarak\",\"Ariados\",\"Yanma\",\"Pineco\",\"Forretress\",\"Scizor\",\"Shuckle\",\"Heracross\",\"Wurmple\",\"Silcoon\",\"Beautifly\",\"Cascoon\",\"Dustox\",\"Surskit\",\"Masquerain\",\"Nincada\",\"Ninjask\",\"Shedinja\",\"Volbeat\",\"Illumise\",\"Kricketot\",\"Kricketune\",\"Burmy\",\"Wormadam\",\"Mothim\",\"Combee\",\"Vespiquen\",\"Yanmega\",\"Sewaddle\",\"Swadloon\",\"Leavanny\",\"Venipede\",\"Whirlipede\",\"Scolipede\",\"Dwebble\",\"Crustle\",\"Karrablast\",\"Escavalier\",\"Joltik\",\"Galvantula\",\"Shelmet\",\"Accelgor\",\"Durant\",\"Larvesta\",\"Volcarona\",\"Genesect\"],\"legendgroup\":\"Bug\",\"marker\":{\"color\":\"#ab63fa\",\"pattern\":{\"shape\":\"\"}},\"name\":\"Bug\",\"offsetgroup\":\"Bug\",\"orientation\":\"v\",\"showlegend\":true,\"textposition\":\"auto\",\"x\":[1,1,1,1,1,1,1,1,1,1,1,1,2,2,2,2,2,2,2,2,2,2,3,3,3,3,3,3,3,3,3,3,3,3,4,4,4,4,4,4,4,4,5,5,5,5,5,5,5,5,5,5,5,5,5,5,5,5,5,5],\"xaxis\":\"x\",\"y\":[50.0,50.0,50.0,50.0,50.0,50.0,50.0,50.0,50.0,50.0,50.0,50.0,50.0,50.0,50.0,50.0,50.0,50.0,50.0,50.0,50.0,50.0,50.0,50.0,50.0,50.0,50.0,50.0,50.0,50.0,50.0,null,100.0,0.0,50.0,50.0,50.0,0.0,100.0,88.1,0.0,50.0,50.0,50.0,50.0,50.0,50.0,50.0,50.0,50.0,50.0,50.0,50.0,50.0,50.0,50.0,50.0,50.0,50.0,null],\"yaxis\":\"y\",\"type\":\"bar\"},{\"alignmentgroup\":\"True\",\"hovertemplate\":\"<b>%{hovertext}</b><br><br>Primary=Normal<br>Generation=%{x}<br>percentage_male=%{y}<extra></extra>\",\"hovertext\":[\"Pidgey\",\"Pidgeotto\",\"Pidgeot\",\"Rattata\",\"Raticate\",\"Spearow\",\"Fearow\",\"Jigglypuff\",\"Wigglytuff\",\"Meowth\",\"Persian\",\"Farfetch'd\",\"Doduo\",\"Dodrio\",\"Lickitung\",\"Chansey\",\"Kangaskhan\",\"Tauros\",\"Ditto\",\"Eevee\",\"Porygon\",\"Snorlax\",\"Sentret\",\"Furret\",\"Hoothoot\",\"Noctowl\",\"Igglybuff\",\"Aipom\",\"Girafarig\",\"Dunsparce\",\"Teddiursa\",\"Ursaring\",\"Porygon2\",\"Stantler\",\"Smeargle\",\"Miltank\",\"Blissey\",\"Zigzagoon\",\"Linoone\",\"Taillow\",\"Swellow\",\"Slakoth\",\"Vigoroth\",\"Slaking\",\"Whismur\",\"Loudred\",\"Exploud\",\"Azurill\",\"Skitty\",\"Delcatty\",\"Spinda\",\"Swablu\",\"Zangoose\",\"Castform\",\"Kecleon\",\"Starly\",\"Staravia\",\"Staraptor\",\"Bidoof\",\"Bibarel\",\"Ambipom\",\"Buneary\",\"Lopunny\",\"Glameow\",\"Purugly\",\"Happiny\",\"Chatot\",\"Munchlax\",\"Lickilicky\",\"Porygon-Z\",\"Regigigas\",\"Arceus\",\"Patrat\",\"Watchog\",\"Lillipup\",\"Herdier\",\"Stoutland\",\"Pidove\",\"Tranquill\",\"Unfezant\",\"Audino\",\"Minccino\",\"Cinccino\",\"Deerling\",\"Sawsbuck\",\"Bouffalant\",\"Rufflet\",\"Braviary\",\"Meloetta\"],\"legendgroup\":\"Normal\",\"marker\":{\"color\":\"#FFA15A\",\"pattern\":{\"shape\":\"\"}},\"name\":\"Normal\",\"offsetgroup\":\"Normal\",\"orientation\":\"v\",\"showlegend\":true,\"textposition\":\"auto\",\"x\":[1,1,1,1,1,1,1,1,1,1,1,1,1,1,1,1,1,1,1,1,1,1,2,2,2,2,2,2,2,2,2,2,2,2,2,2,2,3,3,3,3,3,3,3,3,3,3,3,3,3,3,3,3,3,3,4,4,4,4,4,4,4,4,4,4,4,4,4,4,4,4,4,5,5,5,5,5,5,5,5,5,5,5,5,5,5,5,5,5],\"xaxis\":\"x\",\"y\":[50.0,50.0,50.0,50.0,50.0,50.0,50.0,24.6,24.6,50.0,50.0,50.0,50.0,50.0,50.0,0.0,0.0,100.0,null,88.1,null,88.1,50.0,50.0,50.0,50.0,24.6,50.0,50.0,50.0,50.0,50.0,null,50.0,50.0,0.0,0.0,50.0,50.0,50.0,50.0,50.0,50.0,50.0,50.0,50.0,50.0,24.6,24.6,24.6,50.0,50.0,50.0,50.0,50.0,50.0,50.0,50.0,50.0,50.0,50.0,50.0,50.0,24.6,24.6,0.0,50.0,88.1,50.0,null,null,null,50.0,50.0,50.0,50.0,50.0,50.0,50.0,50.0,50.0,24.6,24.6,50.0,50.0,50.0,100.0,100.0,null],\"yaxis\":\"y\",\"type\":\"bar\"},{\"alignmentgroup\":\"True\",\"hovertemplate\":\"<b>%{hovertext}</b><br><br>Primary=Poison<br>Generation=%{x}<br>percentage_male=%{y}<extra></extra>\",\"hovertext\":[\"Ekans\",\"Arbok\",\"Nidoran\\u2640\",\"Nidorina\",\"Nidoqueen\",\"Nidoran\\u2642\",\"Nidorino\",\"Nidoking\",\"Zubat\",\"Golbat\",\"Grimer\",\"Muk\",\"Koffing\",\"Weezing\",\"Crobat\",\"Gulpin\",\"Swalot\",\"Seviper\",\"Stunky\",\"Skuntank\",\"Skorupi\",\"Drapion\",\"Croagunk\",\"Toxicroak\",\"Trubbish\",\"Garbodor\"],\"legendgroup\":\"Poison\",\"marker\":{\"color\":\"#19d3f3\",\"pattern\":{\"shape\":\"\"}},\"name\":\"Poison\",\"offsetgroup\":\"Poison\",\"orientation\":\"v\",\"showlegend\":true,\"textposition\":\"auto\",\"x\":[1,1,1,1,1,1,1,1,1,1,1,1,1,1,2,3,3,3,4,4,4,4,4,4,5,5],\"xaxis\":\"x\",\"y\":[50.0,50.0,0.0,0.0,0.0,100.0,100.0,100.0,50.0,50.0,50.0,50.0,50.0,50.0,50.0,50.0,50.0,50.0,50.0,50.0,50.0,50.0,50.0,50.0,50.0,50.0],\"yaxis\":\"y\",\"type\":\"bar\"},{\"alignmentgroup\":\"True\",\"hovertemplate\":\"<b>%{hovertext}</b><br><br>Primary=Electric<br>Generation=%{x}<br>percentage_male=%{y}<extra></extra>\",\"hovertext\":[\"Pikachu\",\"Raichu\",\"Magnemite\",\"Magneton\",\"Voltorb\",\"Electrode\",\"Electabuzz\",\"Jolteon\",\"Zapdos\",\"Pichu\",\"Mareep\",\"Flaaffy\",\"Ampharos\",\"Elekid\",\"Raikou\",\"Electrike\",\"Manectric\",\"Plusle\",\"Minun\",\"Shinx\",\"Luxio\",\"Luxray\",\"Pachirisu\",\"Magnezone\",\"Electivire\",\"Rotom\",\"Blitzle\",\"Zebstrika\",\"Emolga\",\"Tynamo\",\"Eelektrik\",\"Eelektross\",\"Thundurus\"],\"legendgroup\":\"Electric\",\"marker\":{\"color\":\"#FF6692\",\"pattern\":{\"shape\":\"\"}},\"name\":\"Electric\",\"offsetgroup\":\"Electric\",\"orientation\":\"v\",\"showlegend\":true,\"textposition\":\"auto\",\"x\":[1,1,1,1,1,1,1,1,1,2,2,2,2,2,2,3,3,3,3,4,4,4,4,4,4,4,5,5,5,5,5,5,5],\"xaxis\":\"x\",\"y\":[50.0,50.0,null,null,null,null,75.4,88.1,null,50.0,50.0,50.0,50.0,75.4,null,50.0,50.0,50.0,50.0,50.0,50.0,50.0,50.0,null,75.4,null,50.0,50.0,50.0,50.0,50.0,50.0,100.0],\"yaxis\":\"y\",\"type\":\"bar\"},{\"alignmentgroup\":\"True\",\"hovertemplate\":\"<b>%{hovertext}</b><br><br>Primary=Ground<br>Generation=%{x}<br>percentage_male=%{y}<extra></extra>\",\"hovertext\":[\"Sandshrew\",\"Sandslash\",\"Diglett\",\"Dugtrio\",\"Cubone\",\"Marowak\",\"Rhyhorn\",\"Rhydon\",\"Gligar\",\"Phanpy\",\"Donphan\",\"Trapinch\",\"Vibrava\",\"Flygon\",\"Baltoy\",\"Claydol\",\"Groudon\",\"Hippopotas\",\"Hippowdon\",\"Rhyperior\",\"Gliscor\",\"Drilbur\",\"Excadrill\",\"Sandile\",\"Krokorok\",\"Krookodile\",\"Stunfisk\",\"Golett\",\"Golurk\",\"Landorus\"],\"legendgroup\":\"Ground\",\"marker\":{\"color\":\"#B6E880\",\"pattern\":{\"shape\":\"\"}},\"name\":\"Ground\",\"offsetgroup\":\"Ground\",\"orientation\":\"v\",\"showlegend\":true,\"textposition\":\"auto\",\"x\":[1,1,1,1,1,1,1,1,2,2,2,3,3,3,3,3,3,4,4,4,4,5,5,5,5,5,5,5,5,5],\"xaxis\":\"x\",\"y\":[50.0,50.0,50.0,50.0,50.0,50.0,50.0,50.0,50.0,50.0,50.0,50.0,50.0,50.0,null,null,null,50.0,50.0,50.0,50.0,50.0,50.0,50.0,50.0,50.0,50.0,null,null,100.0],\"yaxis\":\"y\",\"type\":\"bar\"},{\"alignmentgroup\":\"True\",\"hovertemplate\":\"<b>%{hovertext}</b><br><br>Primary=Fairy<br>Generation=%{x}<br>percentage_male=%{y}<extra></extra>\",\"hovertext\":[\"Clefairy\",\"Clefable\",\"Cleffa\",\"Togepi\",\"Togetic\",\"Snubbull\",\"Granbull\",\"Togekiss\"],\"legendgroup\":\"Fairy\",\"marker\":{\"color\":\"#FF97FF\",\"pattern\":{\"shape\":\"\"}},\"name\":\"Fairy\",\"offsetgroup\":\"Fairy\",\"orientation\":\"v\",\"showlegend\":true,\"textposition\":\"auto\",\"x\":[1,1,2,2,2,2,2,4],\"xaxis\":\"x\",\"y\":[24.6,24.6,24.6,88.1,88.1,24.6,24.6,88.1],\"yaxis\":\"y\",\"type\":\"bar\"},{\"alignmentgroup\":\"True\",\"hovertemplate\":\"<b>%{hovertext}</b><br><br>Primary=Fighting<br>Generation=%{x}<br>percentage_male=%{y}<extra></extra>\",\"hovertext\":[\"Mankey\",\"Primeape\",\"Machop\",\"Machoke\",\"Machamp\",\"Hitmonlee\",\"Hitmonchan\",\"Tyrogue\",\"Hitmontop\",\"Makuhita\",\"Hariyama\",\"Meditite\",\"Medicham\",\"Riolu\",\"Lucario\",\"Timburr\",\"Gurdurr\",\"Conkeldurr\",\"Throh\",\"Sawk\",\"Mienfoo\",\"Mienshao\"],\"legendgroup\":\"Fighting\",\"marker\":{\"color\":\"#FECB52\",\"pattern\":{\"shape\":\"\"}},\"name\":\"Fighting\",\"offsetgroup\":\"Fighting\",\"orientation\":\"v\",\"showlegend\":true,\"textposition\":\"auto\",\"x\":[1,1,1,1,1,1,1,2,2,3,3,3,3,4,4,5,5,5,5,5,5,5],\"xaxis\":\"x\",\"y\":[50.0,50.0,75.4,75.4,75.4,100.0,100.0,100.0,100.0,75.4,75.4,50.0,50.0,88.1,88.1,75.4,75.4,75.4,100.0,100.0,50.0,50.0],\"yaxis\":\"y\",\"type\":\"bar\"},{\"alignmentgroup\":\"True\",\"hovertemplate\":\"<b>%{hovertext}</b><br><br>Primary=Psychic<br>Generation=%{x}<br>percentage_male=%{y}<extra></extra>\",\"hovertext\":[\"Abra\",\"Kadabra\",\"Alakazam\",\"Drowzee\",\"Hypno\",\"Mr.\",\"Mewtwo\",\"Mew\",\"Natu\",\"Xatu\",\"Espeon\",\"Unown\",\"Wobbuffet\",\"Lugia\",\"Celebi\",\"Ralts\",\"Kirlia\",\"Gardevoir\",\"Spoink\",\"Grumpig\",\"Chimecho\",\"Wynaut\",\"Deoxys\",\"Chingling\",\"Mime\",\"Gallade\",\"Uxie\",\"Mesprit\",\"Azelf\",\"Cresselia\",\"Victini\",\"Munna\",\"Musharna\",\"Woobat\",\"Swoobat\",\"Sigilyph\",\"Gothita\",\"Gothorita\",\"Gothitelle\",\"Solosis\",\"Duosion\",\"Reuniclus\",\"Elgyem\",\"Beheeyem\"],\"legendgroup\":\"Psychic\",\"marker\":{\"color\":\"#636efa\",\"pattern\":{\"shape\":\"\"}},\"name\":\"Psychic\",\"offsetgroup\":\"Psychic\",\"orientation\":\"v\",\"showlegend\":true,\"textposition\":\"auto\",\"x\":[1,1,1,1,1,1,1,1,2,2,2,2,2,2,2,3,3,3,3,3,3,3,3,4,4,4,4,4,4,4,5,5,5,5,5,5,5,5,5,5,5,5,5,5],\"xaxis\":\"x\",\"y\":[75.4,75.4,75.4,50.0,50.0,50.0,null,null,50.0,50.0,88.1,null,50.0,null,null,50.0,50.0,50.0,50.0,50.0,50.0,50.0,null,50.0,50.0,100.0,null,null,null,0.0,null,50.0,50.0,50.0,50.0,50.0,24.6,24.6,24.6,50.0,50.0,50.0,50.0,50.0],\"yaxis\":\"y\",\"type\":\"bar\"},{\"alignmentgroup\":\"True\",\"hovertemplate\":\"<b>%{hovertext}</b><br><br>Primary=Rock<br>Generation=%{x}<br>percentage_male=%{y}<extra></extra>\",\"hovertext\":[\"Geodude\",\"Graveler\",\"Golem\",\"Onix\",\"Omanyte\",\"Omastar\",\"Kabuto\",\"Kabutops\",\"Aerodactyl\",\"Sudowoodo\",\"Larvitar\",\"Pupitar\",\"Tyranitar\",\"Nosepass\",\"Lunatone\",\"Solrock\",\"Lileep\",\"Cradily\",\"Anorith\",\"Armaldo\",\"Regirock\",\"Cranidos\",\"Rampardos\",\"Shieldon\",\"Bastiodon\",\"Bonsly\",\"Probopass\",\"Roggenrola\",\"Boldore\",\"Gigalith\",\"Archen\",\"Archeops\",\"Terrakion\"],\"legendgroup\":\"Rock\",\"marker\":{\"color\":\"#EF553B\",\"pattern\":{\"shape\":\"\"}},\"name\":\"Rock\",\"offsetgroup\":\"Rock\",\"orientation\":\"v\",\"showlegend\":true,\"textposition\":\"auto\",\"x\":[1,1,1,1,1,1,1,1,1,2,2,2,2,3,3,3,3,3,3,3,3,4,4,4,4,4,4,5,5,5,5,5,5],\"xaxis\":\"x\",\"y\":[50.0,50.0,50.0,50.0,88.1,88.1,88.1,88.1,88.1,50.0,50.0,50.0,50.0,50.0,null,null,88.1,88.1,88.1,88.1,null,88.1,88.1,88.1,88.1,50.0,50.0,50.0,50.0,50.0,88.1,88.1,null],\"yaxis\":\"y\",\"type\":\"bar\"},{\"alignmentgroup\":\"True\",\"hovertemplate\":\"<b>%{hovertext}</b><br><br>Primary=Ghost<br>Generation=%{x}<br>percentage_male=%{y}<extra></extra>\",\"hovertext\":[\"Gastly\",\"Haunter\",\"Gengar\",\"Misdreavus\",\"Shuppet\",\"Banette\",\"Duskull\",\"Dusclops\",\"Drifloon\",\"Drifblim\",\"Mismagius\",\"Spiritomb\",\"Dusknoir\",\"Giratina\",\"Yamask\",\"Cofagrigus\",\"Litwick\",\"Lampent\",\"Chandelure\"],\"legendgroup\":\"Ghost\",\"marker\":{\"color\":\"#00cc96\",\"pattern\":{\"shape\":\"\"}},\"name\":\"Ghost\",\"offsetgroup\":\"Ghost\",\"orientation\":\"v\",\"showlegend\":true,\"textposition\":\"auto\",\"x\":[1,1,1,2,3,3,3,3,4,4,4,4,4,4,5,5,5,5,5],\"xaxis\":\"x\",\"y\":[50.0,50.0,50.0,50.0,50.0,50.0,50.0,50.0,50.0,50.0,50.0,50.0,50.0,null,50.0,50.0,50.0,50.0,50.0],\"yaxis\":\"y\",\"type\":\"bar\"},{\"alignmentgroup\":\"True\",\"hovertemplate\":\"<b>%{hovertext}</b><br><br>Primary=Ice<br>Generation=%{x}<br>percentage_male=%{y}<extra></extra>\",\"hovertext\":[\"Jynx\",\"Articuno\",\"Swinub\",\"Piloswine\",\"Delibird\",\"Smoochum\",\"Snorunt\",\"Glalie\",\"Spheal\",\"Sealeo\",\"Walrein\",\"Regice\",\"Glaceon\",\"Mamoswine\",\"Froslass\",\"Vanillite\",\"Vanillish\",\"Vanilluxe\",\"Cubchoo\",\"Beartic\",\"Cryogonal\"],\"legendgroup\":\"Ice\",\"marker\":{\"color\":\"#ab63fa\",\"pattern\":{\"shape\":\"\"}},\"name\":\"Ice\",\"offsetgroup\":\"Ice\",\"orientation\":\"v\",\"showlegend\":true,\"textposition\":\"auto\",\"x\":[1,1,2,2,2,2,3,3,3,3,3,3,4,4,4,5,5,5,5,5,5],\"xaxis\":\"x\",\"y\":[0.0,null,50.0,50.0,50.0,0.0,50.0,50.0,50.0,50.0,50.0,null,88.1,50.0,0.0,50.0,50.0,50.0,50.0,50.0,null],\"yaxis\":\"y\",\"type\":\"bar\"},{\"alignmentgroup\":\"True\",\"hovertemplate\":\"<b>%{hovertext}</b><br><br>Primary=Dragon<br>Generation=%{x}<br>percentage_male=%{y}<extra></extra>\",\"hovertext\":[\"Dratini\",\"Dragonair\",\"Dragonite\",\"Altaria\",\"Bagon\",\"Shelgon\",\"Salamence\",\"Latias\",\"Latios\",\"Rayquaza\",\"Gible\",\"Gabite\",\"Garchomp\",\"Axew\",\"Fraxure\",\"Haxorus\",\"Druddigon\",\"Reshiram\",\"Zekrom\",\"Kyurem\"],\"legendgroup\":\"Dragon\",\"marker\":{\"color\":\"#FFA15A\",\"pattern\":{\"shape\":\"\"}},\"name\":\"Dragon\",\"offsetgroup\":\"Dragon\",\"orientation\":\"v\",\"showlegend\":true,\"textposition\":\"auto\",\"x\":[1,1,1,3,3,3,3,3,3,3,4,4,4,5,5,5,5,5,5,5],\"xaxis\":\"x\",\"y\":[50.0,50.0,50.0,50.0,50.0,50.0,50.0,0.0,100.0,null,50.0,50.0,50.0,50.0,50.0,50.0,50.0,null,null,null],\"yaxis\":\"y\",\"type\":\"bar\"},{\"alignmentgroup\":\"True\",\"hovertemplate\":\"<b>%{hovertext}</b><br><br>Primary=Dark<br>Generation=%{x}<br>percentage_male=%{y}<extra></extra>\",\"hovertext\":[\"Umbreon\",\"Murkrow\",\"Sneasel\",\"Houndour\",\"Houndoom\",\"Poochyena\",\"Mightyena\",\"Sableye\",\"Absol\",\"Honchkrow\",\"Weavile\",\"Darkrai\",\"Purrloin\",\"Liepard\",\"Scraggy\",\"Scrafty\",\"Zorua\",\"Zoroark\",\"Pawniard\",\"Bisharp\",\"Vullaby\",\"Mandibuzz\",\"Deino\",\"Zweilous\",\"Hydreigon\"],\"legendgroup\":\"Dark\",\"marker\":{\"color\":\"#19d3f3\",\"pattern\":{\"shape\":\"\"}},\"name\":\"Dark\",\"offsetgroup\":\"Dark\",\"orientation\":\"v\",\"showlegend\":true,\"textposition\":\"auto\",\"x\":[2,2,2,2,2,3,3,3,3,4,4,4,5,5,5,5,5,5,5,5,5,5,5,5,5],\"xaxis\":\"x\",\"y\":[88.1,50.0,50.0,50.0,50.0,50.0,50.0,50.0,50.0,50.0,50.0,null,50.0,50.0,50.0,50.0,88.1,88.1,50.0,50.0,0.0,0.0,50.0,50.0,50.0],\"yaxis\":\"y\",\"type\":\"bar\"},{\"alignmentgroup\":\"True\",\"hovertemplate\":\"<b>%{hovertext}</b><br><br>Primary=Steel<br>Generation=%{x}<br>percentage_male=%{y}<extra></extra>\",\"hovertext\":[\"Steelix\",\"Skarmory\",\"Mawile\",\"Aron\",\"Lairon\",\"Aggron\",\"Beldum\",\"Metang\",\"Metagross\",\"Registeel\",\"Jirachi\",\"Bronzor\",\"Bronzong\",\"Dialga\",\"Klink\",\"Klang\",\"Klinklang\",\"Cobalion\"],\"legendgroup\":\"Steel\",\"marker\":{\"color\":\"#FF6692\",\"pattern\":{\"shape\":\"\"}},\"name\":\"Steel\",\"offsetgroup\":\"Steel\",\"orientation\":\"v\",\"showlegend\":true,\"textposition\":\"auto\",\"x\":[2,2,3,3,3,3,3,3,3,3,3,4,4,4,5,5,5,5],\"xaxis\":\"x\",\"y\":[50.0,50.0,50.0,50.0,50.0,50.0,null,null,null,null,null,null,null,null,null,null,null,null],\"yaxis\":\"y\",\"type\":\"bar\"},{\"alignmentgroup\":\"True\",\"hovertemplate\":\"<b>%{hovertext}</b><br><br>Primary=Flying<br>Generation=%{x}<br>percentage_male=%{y}<extra></extra>\",\"hovertext\":[\"Tornadus\"],\"legendgroup\":\"Flying\",\"marker\":{\"color\":\"#B6E880\",\"pattern\":{\"shape\":\"\"}},\"name\":\"Flying\",\"offsetgroup\":\"Flying\",\"orientation\":\"v\",\"showlegend\":true,\"textposition\":\"auto\",\"x\":[5],\"xaxis\":\"x\",\"y\":[100.0],\"yaxis\":\"y\",\"type\":\"bar\"}],                        {\"template\":{\"data\":{\"bar\":[{\"error_x\":{\"color\":\"#2a3f5f\"},\"error_y\":{\"color\":\"#2a3f5f\"},\"marker\":{\"line\":{\"color\":\"#E5ECF6\",\"width\":0.5},\"pattern\":{\"fillmode\":\"overlay\",\"size\":10,\"solidity\":0.2}},\"type\":\"bar\"}],\"barpolar\":[{\"marker\":{\"line\":{\"color\":\"#E5ECF6\",\"width\":0.5},\"pattern\":{\"fillmode\":\"overlay\",\"size\":10,\"solidity\":0.2}},\"type\":\"barpolar\"}],\"carpet\":[{\"aaxis\":{\"endlinecolor\":\"#2a3f5f\",\"gridcolor\":\"white\",\"linecolor\":\"white\",\"minorgridcolor\":\"white\",\"startlinecolor\":\"#2a3f5f\"},\"baxis\":{\"endlinecolor\":\"#2a3f5f\",\"gridcolor\":\"white\",\"linecolor\":\"white\",\"minorgridcolor\":\"white\",\"startlinecolor\":\"#2a3f5f\"},\"type\":\"carpet\"}],\"choropleth\":[{\"colorbar\":{\"outlinewidth\":0,\"ticks\":\"\"},\"type\":\"choropleth\"}],\"contour\":[{\"colorbar\":{\"outlinewidth\":0,\"ticks\":\"\"},\"colorscale\":[[0.0,\"#0d0887\"],[0.1111111111111111,\"#46039f\"],[0.2222222222222222,\"#7201a8\"],[0.3333333333333333,\"#9c179e\"],[0.4444444444444444,\"#bd3786\"],[0.5555555555555556,\"#d8576b\"],[0.6666666666666666,\"#ed7953\"],[0.7777777777777778,\"#fb9f3a\"],[0.8888888888888888,\"#fdca26\"],[1.0,\"#f0f921\"]],\"type\":\"contour\"}],\"contourcarpet\":[{\"colorbar\":{\"outlinewidth\":0,\"ticks\":\"\"},\"type\":\"contourcarpet\"}],\"heatmap\":[{\"colorbar\":{\"outlinewidth\":0,\"ticks\":\"\"},\"colorscale\":[[0.0,\"#0d0887\"],[0.1111111111111111,\"#46039f\"],[0.2222222222222222,\"#7201a8\"],[0.3333333333333333,\"#9c179e\"],[0.4444444444444444,\"#bd3786\"],[0.5555555555555556,\"#d8576b\"],[0.6666666666666666,\"#ed7953\"],[0.7777777777777778,\"#fb9f3a\"],[0.8888888888888888,\"#fdca26\"],[1.0,\"#f0f921\"]],\"type\":\"heatmap\"}],\"heatmapgl\":[{\"colorbar\":{\"outlinewidth\":0,\"ticks\":\"\"},\"colorscale\":[[0.0,\"#0d0887\"],[0.1111111111111111,\"#46039f\"],[0.2222222222222222,\"#7201a8\"],[0.3333333333333333,\"#9c179e\"],[0.4444444444444444,\"#bd3786\"],[0.5555555555555556,\"#d8576b\"],[0.6666666666666666,\"#ed7953\"],[0.7777777777777778,\"#fb9f3a\"],[0.8888888888888888,\"#fdca26\"],[1.0,\"#f0f921\"]],\"type\":\"heatmapgl\"}],\"histogram\":[{\"marker\":{\"pattern\":{\"fillmode\":\"overlay\",\"size\":10,\"solidity\":0.2}},\"type\":\"histogram\"}],\"histogram2d\":[{\"colorbar\":{\"outlinewidth\":0,\"ticks\":\"\"},\"colorscale\":[[0.0,\"#0d0887\"],[0.1111111111111111,\"#46039f\"],[0.2222222222222222,\"#7201a8\"],[0.3333333333333333,\"#9c179e\"],[0.4444444444444444,\"#bd3786\"],[0.5555555555555556,\"#d8576b\"],[0.6666666666666666,\"#ed7953\"],[0.7777777777777778,\"#fb9f3a\"],[0.8888888888888888,\"#fdca26\"],[1.0,\"#f0f921\"]],\"type\":\"histogram2d\"}],\"histogram2dcontour\":[{\"colorbar\":{\"outlinewidth\":0,\"ticks\":\"\"},\"colorscale\":[[0.0,\"#0d0887\"],[0.1111111111111111,\"#46039f\"],[0.2222222222222222,\"#7201a8\"],[0.3333333333333333,\"#9c179e\"],[0.4444444444444444,\"#bd3786\"],[0.5555555555555556,\"#d8576b\"],[0.6666666666666666,\"#ed7953\"],[0.7777777777777778,\"#fb9f3a\"],[0.8888888888888888,\"#fdca26\"],[1.0,\"#f0f921\"]],\"type\":\"histogram2dcontour\"}],\"mesh3d\":[{\"colorbar\":{\"outlinewidth\":0,\"ticks\":\"\"},\"type\":\"mesh3d\"}],\"parcoords\":[{\"line\":{\"colorbar\":{\"outlinewidth\":0,\"ticks\":\"\"}},\"type\":\"parcoords\"}],\"pie\":[{\"automargin\":true,\"type\":\"pie\"}],\"scatter\":[{\"marker\":{\"colorbar\":{\"outlinewidth\":0,\"ticks\":\"\"}},\"type\":\"scatter\"}],\"scatter3d\":[{\"line\":{\"colorbar\":{\"outlinewidth\":0,\"ticks\":\"\"}},\"marker\":{\"colorbar\":{\"outlinewidth\":0,\"ticks\":\"\"}},\"type\":\"scatter3d\"}],\"scattercarpet\":[{\"marker\":{\"colorbar\":{\"outlinewidth\":0,\"ticks\":\"\"}},\"type\":\"scattercarpet\"}],\"scattergeo\":[{\"marker\":{\"colorbar\":{\"outlinewidth\":0,\"ticks\":\"\"}},\"type\":\"scattergeo\"}],\"scattergl\":[{\"marker\":{\"colorbar\":{\"outlinewidth\":0,\"ticks\":\"\"}},\"type\":\"scattergl\"}],\"scattermapbox\":[{\"marker\":{\"colorbar\":{\"outlinewidth\":0,\"ticks\":\"\"}},\"type\":\"scattermapbox\"}],\"scatterpolar\":[{\"marker\":{\"colorbar\":{\"outlinewidth\":0,\"ticks\":\"\"}},\"type\":\"scatterpolar\"}],\"scatterpolargl\":[{\"marker\":{\"colorbar\":{\"outlinewidth\":0,\"ticks\":\"\"}},\"type\":\"scatterpolargl\"}],\"scatterternary\":[{\"marker\":{\"colorbar\":{\"outlinewidth\":0,\"ticks\":\"\"}},\"type\":\"scatterternary\"}],\"surface\":[{\"colorbar\":{\"outlinewidth\":0,\"ticks\":\"\"},\"colorscale\":[[0.0,\"#0d0887\"],[0.1111111111111111,\"#46039f\"],[0.2222222222222222,\"#7201a8\"],[0.3333333333333333,\"#9c179e\"],[0.4444444444444444,\"#bd3786\"],[0.5555555555555556,\"#d8576b\"],[0.6666666666666666,\"#ed7953\"],[0.7777777777777778,\"#fb9f3a\"],[0.8888888888888888,\"#fdca26\"],[1.0,\"#f0f921\"]],\"type\":\"surface\"}],\"table\":[{\"cells\":{\"fill\":{\"color\":\"#EBF0F8\"},\"line\":{\"color\":\"white\"}},\"header\":{\"fill\":{\"color\":\"#C8D4E3\"},\"line\":{\"color\":\"white\"}},\"type\":\"table\"}]},\"layout\":{\"annotationdefaults\":{\"arrowcolor\":\"#2a3f5f\",\"arrowhead\":0,\"arrowwidth\":1},\"autotypenumbers\":\"strict\",\"coloraxis\":{\"colorbar\":{\"outlinewidth\":0,\"ticks\":\"\"}},\"colorscale\":{\"diverging\":[[0,\"#8e0152\"],[0.1,\"#c51b7d\"],[0.2,\"#de77ae\"],[0.3,\"#f1b6da\"],[0.4,\"#fde0ef\"],[0.5,\"#f7f7f7\"],[0.6,\"#e6f5d0\"],[0.7,\"#b8e186\"],[0.8,\"#7fbc41\"],[0.9,\"#4d9221\"],[1,\"#276419\"]],\"sequential\":[[0.0,\"#0d0887\"],[0.1111111111111111,\"#46039f\"],[0.2222222222222222,\"#7201a8\"],[0.3333333333333333,\"#9c179e\"],[0.4444444444444444,\"#bd3786\"],[0.5555555555555556,\"#d8576b\"],[0.6666666666666666,\"#ed7953\"],[0.7777777777777778,\"#fb9f3a\"],[0.8888888888888888,\"#fdca26\"],[1.0,\"#f0f921\"]],\"sequentialminus\":[[0.0,\"#0d0887\"],[0.1111111111111111,\"#46039f\"],[0.2222222222222222,\"#7201a8\"],[0.3333333333333333,\"#9c179e\"],[0.4444444444444444,\"#bd3786\"],[0.5555555555555556,\"#d8576b\"],[0.6666666666666666,\"#ed7953\"],[0.7777777777777778,\"#fb9f3a\"],[0.8888888888888888,\"#fdca26\"],[1.0,\"#f0f921\"]]},\"colorway\":[\"#636efa\",\"#EF553B\",\"#00cc96\",\"#ab63fa\",\"#FFA15A\",\"#19d3f3\",\"#FF6692\",\"#B6E880\",\"#FF97FF\",\"#FECB52\"],\"font\":{\"color\":\"#2a3f5f\"},\"geo\":{\"bgcolor\":\"white\",\"lakecolor\":\"white\",\"landcolor\":\"#E5ECF6\",\"showlakes\":true,\"showland\":true,\"subunitcolor\":\"white\"},\"hoverlabel\":{\"align\":\"left\"},\"hovermode\":\"closest\",\"mapbox\":{\"style\":\"light\"},\"paper_bgcolor\":\"white\",\"plot_bgcolor\":\"#E5ECF6\",\"polar\":{\"angularaxis\":{\"gridcolor\":\"white\",\"linecolor\":\"white\",\"ticks\":\"\"},\"bgcolor\":\"#E5ECF6\",\"radialaxis\":{\"gridcolor\":\"white\",\"linecolor\":\"white\",\"ticks\":\"\"}},\"scene\":{\"xaxis\":{\"backgroundcolor\":\"#E5ECF6\",\"gridcolor\":\"white\",\"gridwidth\":2,\"linecolor\":\"white\",\"showbackground\":true,\"ticks\":\"\",\"zerolinecolor\":\"white\"},\"yaxis\":{\"backgroundcolor\":\"#E5ECF6\",\"gridcolor\":\"white\",\"gridwidth\":2,\"linecolor\":\"white\",\"showbackground\":true,\"ticks\":\"\",\"zerolinecolor\":\"white\"},\"zaxis\":{\"backgroundcolor\":\"#E5ECF6\",\"gridcolor\":\"white\",\"gridwidth\":2,\"linecolor\":\"white\",\"showbackground\":true,\"ticks\":\"\",\"zerolinecolor\":\"white\"}},\"shapedefaults\":{\"line\":{\"color\":\"#2a3f5f\"}},\"ternary\":{\"aaxis\":{\"gridcolor\":\"white\",\"linecolor\":\"white\",\"ticks\":\"\"},\"baxis\":{\"gridcolor\":\"white\",\"linecolor\":\"white\",\"ticks\":\"\"},\"bgcolor\":\"#E5ECF6\",\"caxis\":{\"gridcolor\":\"white\",\"linecolor\":\"white\",\"ticks\":\"\"}},\"title\":{\"x\":0.05},\"xaxis\":{\"automargin\":true,\"gridcolor\":\"white\",\"linecolor\":\"white\",\"ticks\":\"\",\"title\":{\"standoff\":15},\"zerolinecolor\":\"white\",\"zerolinewidth\":2},\"yaxis\":{\"automargin\":true,\"gridcolor\":\"white\",\"linecolor\":\"white\",\"ticks\":\"\",\"title\":{\"standoff\":15},\"zerolinecolor\":\"white\",\"zerolinewidth\":2}}},\"xaxis\":{\"anchor\":\"y\",\"domain\":[0.0,1.0],\"title\":{\"text\":\"Generation\"}},\"yaxis\":{\"anchor\":\"x\",\"domain\":[0.0,1.0],\"title\":{\"text\":\"percentage_male\"}},\"legend\":{\"title\":{\"text\":\"Primary\"},\"tracegroupgap\":0},\"margin\":{\"t\":60},\"barmode\":\"relative\"},                        {\"responsive\": true}                    ).then(function(){\n",
       "                            \n",
       "var gd = document.getElementById('d4e4c565-974b-4048-8da1-a51cde4908aa');\n",
       "var x = new MutationObserver(function (mutations, observer) {{\n",
       "        var display = window.getComputedStyle(gd).display;\n",
       "        if (!display || display === 'none') {{\n",
       "            console.log([gd, 'removed!']);\n",
       "            Plotly.purge(gd);\n",
       "            observer.disconnect();\n",
       "        }}\n",
       "}});\n",
       "\n",
       "// Listen for the removal of the full notebook cells\n",
       "var notebookContainer = gd.closest('#notebook-container');\n",
       "if (notebookContainer) {{\n",
       "    x.observe(notebookContainer, {childList: true});\n",
       "}}\n",
       "\n",
       "// Listen for the clearing of the current output cell\n",
       "var outputEl = gd.closest('.output');\n",
       "if (outputEl) {{\n",
       "    x.observe(outputEl, {childList: true});\n",
       "}}\n",
       "\n",
       "                        })                };                });            </script>        </div>"
      ]
     },
     "metadata": {},
     "output_type": "display_data"
    }
   ],
   "source": [
    "fig=px.bar(pokemon, x=\"Generation\", y=\"percentage_male\", color=\"Primary\",\n",
    "           hover_name='Name', hover_data=[\"Generation\"])\n",
    "\n",
    "fig.show()"
   ]
  },
  {
   "cell_type": "code",
   "execution_count": 30,
   "id": "fb5b0e1c",
   "metadata": {},
   "outputs": [
    {
     "data": {
      "application/vnd.plotly.v1+json": {
       "config": {
        "plotlyServerURL": "https://plot.ly"
       },
       "data": [
        {
         "alignmentgroup": "True",
         "hovertemplate": "<b>%{hovertext}</b><br><br>Primary=%{x}<br>percentage_male=%{y}<extra></extra>",
         "hovertext": [
          "Bulbasaur",
          "Ivysaur",
          "Venusaur",
          "Oddish",
          "Gloom",
          "Vileplume",
          "Bellsprout",
          "Weepinbell",
          "Victreebel",
          "Exeggcute",
          "Exeggutor",
          "Tangela",
          "Chikorita",
          "Bayleef",
          "Meganium",
          "Bellossom",
          "Hoppip",
          "Skiploom",
          "Jumpluff",
          "Sunkern",
          "Sunflora",
          "Treecko",
          "Grovyle",
          "Sceptile",
          "Seedot",
          "Nuzleaf",
          "Shiftry",
          "Shroomish",
          "Breloom",
          "Roselia",
          "Cacnea",
          "Cacturne",
          "Tropius",
          "Turtwig",
          "Grotle",
          "Torterra",
          "Budew",
          "Roserade",
          "Cherubi",
          "Cherrim",
          "Carnivine",
          "Snover",
          "Abomasnow",
          "Tangrowth",
          "Leafeon",
          "Shaymin",
          "Snivy",
          "Servine",
          "Serperior",
          "Pansage",
          "Simisage",
          "Cottonee",
          "Whimsicott",
          "Petilil",
          "Lilligant",
          "Maractus",
          "Foongus",
          "Amoonguss",
          "Ferroseed",
          "Ferrothorn",
          "Virizion"
         ],
         "legendgroup": "Grass",
         "marker": {
          "color": "#7AC74C"
         },
         "name": "Grass",
         "notched": false,
         "offsetgroup": "Grass",
         "orientation": "v",
         "showlegend": true,
         "type": "box",
         "x": [
          "Grass",
          "Grass",
          "Grass",
          "Grass",
          "Grass",
          "Grass",
          "Grass",
          "Grass",
          "Grass",
          "Grass",
          "Grass",
          "Grass",
          "Grass",
          "Grass",
          "Grass",
          "Grass",
          "Grass",
          "Grass",
          "Grass",
          "Grass",
          "Grass",
          "Grass",
          "Grass",
          "Grass",
          "Grass",
          "Grass",
          "Grass",
          "Grass",
          "Grass",
          "Grass",
          "Grass",
          "Grass",
          "Grass",
          "Grass",
          "Grass",
          "Grass",
          "Grass",
          "Grass",
          "Grass",
          "Grass",
          "Grass",
          "Grass",
          "Grass",
          "Grass",
          "Grass",
          "Grass",
          "Grass",
          "Grass",
          "Grass",
          "Grass",
          "Grass",
          "Grass",
          "Grass",
          "Grass",
          "Grass",
          "Grass",
          "Grass",
          "Grass",
          "Grass",
          "Grass",
          "Grass"
         ],
         "x0": " ",
         "xaxis": "x",
         "y": [
          88.1,
          88.1,
          88.1,
          50,
          50,
          50,
          50,
          50,
          50,
          50,
          50,
          50,
          88.1,
          88.1,
          88.1,
          50,
          50,
          50,
          50,
          50,
          50,
          88.1,
          88.1,
          88.1,
          50,
          50,
          50,
          50,
          50,
          50,
          50,
          50,
          50,
          88.1,
          88.1,
          88.1,
          50,
          50,
          50,
          50,
          50,
          50,
          50,
          50,
          88.1,
          null,
          88.1,
          88.1,
          88.1,
          88.1,
          88.1,
          50,
          50,
          0,
          0,
          50,
          50,
          50,
          50,
          50,
          null
         ],
         "y0": " ",
         "yaxis": "y"
        },
        {
         "alignmentgroup": "True",
         "hovertemplate": "<b>%{hovertext}</b><br><br>Primary=%{x}<br>percentage_male=%{y}<extra></extra>",
         "hovertext": [
          "Charmander",
          "Charmeleon",
          "Charizard",
          "Vulpix",
          "Ninetales",
          "Growlithe",
          "Arcanine",
          "Ponyta",
          "Rapidash",
          "Magmar",
          "Flareon",
          "Moltres",
          "Cyndaquil",
          "Quilava",
          "Typhlosion",
          "Slugma",
          "Magcargo",
          "Magby",
          "Entei",
          "Ho-Oh",
          "Torchic",
          "Combusken",
          "Blaziken",
          "Numel",
          "Camerupt",
          "Torkoal",
          "Chimchar",
          "Monferno",
          "Infernape",
          "Magmortar",
          "Heatran",
          "Tepig",
          "Pignite",
          "Emboar",
          "Pansear",
          "Simisear",
          "Darumaka",
          "Darmanitan",
          "Heatmor"
         ],
         "legendgroup": "Fire",
         "marker": {
          "color": "#EE8130"
         },
         "name": "Fire",
         "notched": false,
         "offsetgroup": "Fire",
         "orientation": "v",
         "showlegend": true,
         "type": "box",
         "x": [
          "Fire",
          "Fire",
          "Fire",
          "Fire",
          "Fire",
          "Fire",
          "Fire",
          "Fire",
          "Fire",
          "Fire",
          "Fire",
          "Fire",
          "Fire",
          "Fire",
          "Fire",
          "Fire",
          "Fire",
          "Fire",
          "Fire",
          "Fire",
          "Fire",
          "Fire",
          "Fire",
          "Fire",
          "Fire",
          "Fire",
          "Fire",
          "Fire",
          "Fire",
          "Fire",
          "Fire",
          "Fire",
          "Fire",
          "Fire",
          "Fire",
          "Fire",
          "Fire",
          "Fire",
          "Fire"
         ],
         "x0": " ",
         "xaxis": "x",
         "y": [
          88.1,
          88.1,
          88.1,
          24.6,
          24.6,
          75.4,
          75.4,
          50,
          50,
          75.4,
          88.1,
          null,
          88.1,
          88.1,
          88.1,
          50,
          50,
          75.4,
          null,
          null,
          88.1,
          88.1,
          88.1,
          50,
          50,
          50,
          88.1,
          88.1,
          88.1,
          75.4,
          50,
          88.1,
          88.1,
          88.1,
          88.1,
          88.1,
          50,
          50,
          50
         ],
         "y0": " ",
         "yaxis": "y"
        },
        {
         "alignmentgroup": "True",
         "hovertemplate": "<b>%{hovertext}</b><br><br>Primary=%{x}<br>percentage_male=%{y}<extra></extra>",
         "hovertext": [
          "Squirtle",
          "Wartortle",
          "Blastoise",
          "Psyduck",
          "Golduck",
          "Poliwag",
          "Poliwhirl",
          "Poliwrath",
          "Tentacool",
          "Tentacruel",
          "Slowpoke",
          "Slowbro",
          "Seel",
          "Dewgong",
          "Shellder",
          "Cloyster",
          "Krabby",
          "Kingler",
          "Horsea",
          "Seadra",
          "Goldeen",
          "Seaking",
          "Staryu",
          "Starmie",
          "Magikarp",
          "Gyarados",
          "Lapras",
          "Vaporeon",
          "Totodile",
          "Croconaw",
          "Feraligatr",
          "Chinchou",
          "Lanturn",
          "Marill",
          "Azumarill",
          "Politoed",
          "Wooper",
          "Quagsire",
          "Slowking",
          "Qwilfish",
          "Corsola",
          "Remoraid",
          "Octillery",
          "Mantine",
          "Kingdra",
          "Suicune",
          "Mudkip",
          "Marshtomp",
          "Swampert",
          "Lotad",
          "Lombre",
          "Ludicolo",
          "Wingull",
          "Pelipper",
          "Carvanha",
          "Sharpedo",
          "Wailmer",
          "Wailord",
          "Barboach",
          "Whiscash",
          "Corphish",
          "Crawdaunt",
          "Feebas",
          "Milotic",
          "Clamperl",
          "Huntail",
          "Gorebyss",
          "Relicanth",
          "Luvdisc",
          "Kyogre",
          "Piplup",
          "Prinplup",
          "Empoleon",
          "Buizel",
          "Floatzel",
          "Shellos",
          "Gastrodon",
          "Finneon",
          "Lumineon",
          "Mantyke",
          "Palkia",
          "Phione",
          "Manaphy",
          "Oshawott",
          "Dewott",
          "Samurott",
          "Panpour",
          "Simipour",
          "Tympole",
          "Palpitoad",
          "Seismitoad",
          "Basculin",
          "Tirtouga",
          "Carracosta",
          "Ducklett",
          "Swanna",
          "Frillish",
          "Jellicent",
          "Alomomola",
          "Keldeo"
         ],
         "legendgroup": "Water",
         "marker": {
          "color": "#6390F0"
         },
         "name": "Water",
         "notched": false,
         "offsetgroup": "Water",
         "orientation": "v",
         "showlegend": true,
         "type": "box",
         "x": [
          "Water",
          "Water",
          "Water",
          "Water",
          "Water",
          "Water",
          "Water",
          "Water",
          "Water",
          "Water",
          "Water",
          "Water",
          "Water",
          "Water",
          "Water",
          "Water",
          "Water",
          "Water",
          "Water",
          "Water",
          "Water",
          "Water",
          "Water",
          "Water",
          "Water",
          "Water",
          "Water",
          "Water",
          "Water",
          "Water",
          "Water",
          "Water",
          "Water",
          "Water",
          "Water",
          "Water",
          "Water",
          "Water",
          "Water",
          "Water",
          "Water",
          "Water",
          "Water",
          "Water",
          "Water",
          "Water",
          "Water",
          "Water",
          "Water",
          "Water",
          "Water",
          "Water",
          "Water",
          "Water",
          "Water",
          "Water",
          "Water",
          "Water",
          "Water",
          "Water",
          "Water",
          "Water",
          "Water",
          "Water",
          "Water",
          "Water",
          "Water",
          "Water",
          "Water",
          "Water",
          "Water",
          "Water",
          "Water",
          "Water",
          "Water",
          "Water",
          "Water",
          "Water",
          "Water",
          "Water",
          "Water",
          "Water",
          "Water",
          "Water",
          "Water",
          "Water",
          "Water",
          "Water",
          "Water",
          "Water",
          "Water",
          "Water",
          "Water",
          "Water",
          "Water",
          "Water",
          "Water",
          "Water",
          "Water",
          "Water"
         ],
         "x0": " ",
         "xaxis": "x",
         "y": [
          88.1,
          88.1,
          88.1,
          50,
          50,
          50,
          50,
          50,
          50,
          50,
          50,
          50,
          50,
          50,
          50,
          50,
          50,
          50,
          50,
          50,
          50,
          50,
          null,
          null,
          50,
          50,
          50,
          88.1,
          88.1,
          88.1,
          88.1,
          50,
          50,
          50,
          50,
          50,
          50,
          50,
          50,
          50,
          24.6,
          50,
          50,
          50,
          50,
          null,
          88.1,
          88.1,
          88.1,
          50,
          50,
          50,
          50,
          50,
          50,
          50,
          50,
          50,
          50,
          50,
          50,
          50,
          50,
          50,
          50,
          50,
          50,
          88.1,
          24.6,
          null,
          88.1,
          88.1,
          88.1,
          50,
          50,
          50,
          50,
          50,
          50,
          50,
          null,
          null,
          null,
          88.1,
          88.1,
          88.1,
          88.1,
          88.1,
          50,
          50,
          50,
          50,
          88.1,
          88.1,
          50,
          50,
          50,
          50,
          50,
          null
         ],
         "y0": " ",
         "yaxis": "y"
        },
        {
         "alignmentgroup": "True",
         "hovertemplate": "<b>%{hovertext}</b><br><br>Primary=%{x}<br>percentage_male=%{y}<extra></extra>",
         "hovertext": [
          "Caterpie",
          "Metapod",
          "Butterfree",
          "Weedle",
          "Kakuna",
          "Beedrill",
          "Paras",
          "Parasect",
          "Venonat",
          "Venomoth",
          "Scyther",
          "Pinsir",
          "Ledyba",
          "Ledian",
          "Spinarak",
          "Ariados",
          "Yanma",
          "Pineco",
          "Forretress",
          "Scizor",
          "Shuckle",
          "Heracross",
          "Wurmple",
          "Silcoon",
          "Beautifly",
          "Cascoon",
          "Dustox",
          "Surskit",
          "Masquerain",
          "Nincada",
          "Ninjask",
          "Shedinja",
          "Volbeat",
          "Illumise",
          "Kricketot",
          "Kricketune",
          "Burmy",
          "Wormadam",
          "Mothim",
          "Combee",
          "Vespiquen",
          "Yanmega",
          "Sewaddle",
          "Swadloon",
          "Leavanny",
          "Venipede",
          "Whirlipede",
          "Scolipede",
          "Dwebble",
          "Crustle",
          "Karrablast",
          "Escavalier",
          "Joltik",
          "Galvantula",
          "Shelmet",
          "Accelgor",
          "Durant",
          "Larvesta",
          "Volcarona",
          "Genesect"
         ],
         "legendgroup": "Bug",
         "marker": {
          "color": "#A6B91A"
         },
         "name": "Bug",
         "notched": false,
         "offsetgroup": "Bug",
         "orientation": "v",
         "showlegend": true,
         "type": "box",
         "x": [
          "Bug",
          "Bug",
          "Bug",
          "Bug",
          "Bug",
          "Bug",
          "Bug",
          "Bug",
          "Bug",
          "Bug",
          "Bug",
          "Bug",
          "Bug",
          "Bug",
          "Bug",
          "Bug",
          "Bug",
          "Bug",
          "Bug",
          "Bug",
          "Bug",
          "Bug",
          "Bug",
          "Bug",
          "Bug",
          "Bug",
          "Bug",
          "Bug",
          "Bug",
          "Bug",
          "Bug",
          "Bug",
          "Bug",
          "Bug",
          "Bug",
          "Bug",
          "Bug",
          "Bug",
          "Bug",
          "Bug",
          "Bug",
          "Bug",
          "Bug",
          "Bug",
          "Bug",
          "Bug",
          "Bug",
          "Bug",
          "Bug",
          "Bug",
          "Bug",
          "Bug",
          "Bug",
          "Bug",
          "Bug",
          "Bug",
          "Bug",
          "Bug",
          "Bug",
          "Bug"
         ],
         "x0": " ",
         "xaxis": "x",
         "y": [
          50,
          50,
          50,
          50,
          50,
          50,
          50,
          50,
          50,
          50,
          50,
          50,
          50,
          50,
          50,
          50,
          50,
          50,
          50,
          50,
          50,
          50,
          50,
          50,
          50,
          50,
          50,
          50,
          50,
          50,
          50,
          null,
          100,
          0,
          50,
          50,
          50,
          0,
          100,
          88.1,
          0,
          50,
          50,
          50,
          50,
          50,
          50,
          50,
          50,
          50,
          50,
          50,
          50,
          50,
          50,
          50,
          50,
          50,
          50,
          null
         ],
         "y0": " ",
         "yaxis": "y"
        },
        {
         "alignmentgroup": "True",
         "hovertemplate": "<b>%{hovertext}</b><br><br>Primary=%{x}<br>percentage_male=%{y}<extra></extra>",
         "hovertext": [
          "Pidgey",
          "Pidgeotto",
          "Pidgeot",
          "Rattata",
          "Raticate",
          "Spearow",
          "Fearow",
          "Jigglypuff",
          "Wigglytuff",
          "Meowth",
          "Persian",
          "Farfetch'd",
          "Doduo",
          "Dodrio",
          "Lickitung",
          "Chansey",
          "Kangaskhan",
          "Tauros",
          "Ditto",
          "Eevee",
          "Porygon",
          "Snorlax",
          "Sentret",
          "Furret",
          "Hoothoot",
          "Noctowl",
          "Igglybuff",
          "Aipom",
          "Girafarig",
          "Dunsparce",
          "Teddiursa",
          "Ursaring",
          "Porygon2",
          "Stantler",
          "Smeargle",
          "Miltank",
          "Blissey",
          "Zigzagoon",
          "Linoone",
          "Taillow",
          "Swellow",
          "Slakoth",
          "Vigoroth",
          "Slaking",
          "Whismur",
          "Loudred",
          "Exploud",
          "Azurill",
          "Skitty",
          "Delcatty",
          "Spinda",
          "Swablu",
          "Zangoose",
          "Castform",
          "Kecleon",
          "Starly",
          "Staravia",
          "Staraptor",
          "Bidoof",
          "Bibarel",
          "Ambipom",
          "Buneary",
          "Lopunny",
          "Glameow",
          "Purugly",
          "Happiny",
          "Chatot",
          "Munchlax",
          "Lickilicky",
          "Porygon-Z",
          "Regigigas",
          "Arceus",
          "Patrat",
          "Watchog",
          "Lillipup",
          "Herdier",
          "Stoutland",
          "Pidove",
          "Tranquill",
          "Unfezant",
          "Audino",
          "Minccino",
          "Cinccino",
          "Deerling",
          "Sawsbuck",
          "Bouffalant",
          "Rufflet",
          "Braviary",
          "Meloetta"
         ],
         "legendgroup": "Normal",
         "marker": {
          "color": "#A8A77A"
         },
         "name": "Normal",
         "notched": false,
         "offsetgroup": "Normal",
         "orientation": "v",
         "showlegend": true,
         "type": "box",
         "x": [
          "Normal",
          "Normal",
          "Normal",
          "Normal",
          "Normal",
          "Normal",
          "Normal",
          "Normal",
          "Normal",
          "Normal",
          "Normal",
          "Normal",
          "Normal",
          "Normal",
          "Normal",
          "Normal",
          "Normal",
          "Normal",
          "Normal",
          "Normal",
          "Normal",
          "Normal",
          "Normal",
          "Normal",
          "Normal",
          "Normal",
          "Normal",
          "Normal",
          "Normal",
          "Normal",
          "Normal",
          "Normal",
          "Normal",
          "Normal",
          "Normal",
          "Normal",
          "Normal",
          "Normal",
          "Normal",
          "Normal",
          "Normal",
          "Normal",
          "Normal",
          "Normal",
          "Normal",
          "Normal",
          "Normal",
          "Normal",
          "Normal",
          "Normal",
          "Normal",
          "Normal",
          "Normal",
          "Normal",
          "Normal",
          "Normal",
          "Normal",
          "Normal",
          "Normal",
          "Normal",
          "Normal",
          "Normal",
          "Normal",
          "Normal",
          "Normal",
          "Normal",
          "Normal",
          "Normal",
          "Normal",
          "Normal",
          "Normal",
          "Normal",
          "Normal",
          "Normal",
          "Normal",
          "Normal",
          "Normal",
          "Normal",
          "Normal",
          "Normal",
          "Normal",
          "Normal",
          "Normal",
          "Normal",
          "Normal",
          "Normal",
          "Normal",
          "Normal",
          "Normal"
         ],
         "x0": " ",
         "xaxis": "x",
         "y": [
          50,
          50,
          50,
          50,
          50,
          50,
          50,
          24.6,
          24.6,
          50,
          50,
          50,
          50,
          50,
          50,
          0,
          0,
          100,
          null,
          88.1,
          null,
          88.1,
          50,
          50,
          50,
          50,
          24.6,
          50,
          50,
          50,
          50,
          50,
          null,
          50,
          50,
          0,
          0,
          50,
          50,
          50,
          50,
          50,
          50,
          50,
          50,
          50,
          50,
          24.6,
          24.6,
          24.6,
          50,
          50,
          50,
          50,
          50,
          50,
          50,
          50,
          50,
          50,
          50,
          50,
          50,
          24.6,
          24.6,
          0,
          50,
          88.1,
          50,
          null,
          null,
          null,
          50,
          50,
          50,
          50,
          50,
          50,
          50,
          50,
          50,
          24.6,
          24.6,
          50,
          50,
          50,
          100,
          100,
          null
         ],
         "y0": " ",
         "yaxis": "y"
        },
        {
         "alignmentgroup": "True",
         "hovertemplate": "<b>%{hovertext}</b><br><br>Primary=%{x}<br>percentage_male=%{y}<extra></extra>",
         "hovertext": [
          "Ekans",
          "Arbok",
          "Nidoran♀",
          "Nidorina",
          "Nidoqueen",
          "Nidoran♂",
          "Nidorino",
          "Nidoking",
          "Zubat",
          "Golbat",
          "Grimer",
          "Muk",
          "Koffing",
          "Weezing",
          "Crobat",
          "Gulpin",
          "Swalot",
          "Seviper",
          "Stunky",
          "Skuntank",
          "Skorupi",
          "Drapion",
          "Croagunk",
          "Toxicroak",
          "Trubbish",
          "Garbodor"
         ],
         "legendgroup": "Poison",
         "marker": {
          "color": "#A33EA1"
         },
         "name": "Poison",
         "notched": false,
         "offsetgroup": "Poison",
         "orientation": "v",
         "showlegend": true,
         "type": "box",
         "x": [
          "Poison",
          "Poison",
          "Poison",
          "Poison",
          "Poison",
          "Poison",
          "Poison",
          "Poison",
          "Poison",
          "Poison",
          "Poison",
          "Poison",
          "Poison",
          "Poison",
          "Poison",
          "Poison",
          "Poison",
          "Poison",
          "Poison",
          "Poison",
          "Poison",
          "Poison",
          "Poison",
          "Poison",
          "Poison",
          "Poison"
         ],
         "x0": " ",
         "xaxis": "x",
         "y": [
          50,
          50,
          0,
          0,
          0,
          100,
          100,
          100,
          50,
          50,
          50,
          50,
          50,
          50,
          50,
          50,
          50,
          50,
          50,
          50,
          50,
          50,
          50,
          50,
          50,
          50
         ],
         "y0": " ",
         "yaxis": "y"
        },
        {
         "alignmentgroup": "True",
         "hovertemplate": "<b>%{hovertext}</b><br><br>Primary=%{x}<br>percentage_male=%{y}<extra></extra>",
         "hovertext": [
          "Pikachu",
          "Raichu",
          "Magnemite",
          "Magneton",
          "Voltorb",
          "Electrode",
          "Electabuzz",
          "Jolteon",
          "Zapdos",
          "Pichu",
          "Mareep",
          "Flaaffy",
          "Ampharos",
          "Elekid",
          "Raikou",
          "Electrike",
          "Manectric",
          "Plusle",
          "Minun",
          "Shinx",
          "Luxio",
          "Luxray",
          "Pachirisu",
          "Magnezone",
          "Electivire",
          "Rotom",
          "Blitzle",
          "Zebstrika",
          "Emolga",
          "Tynamo",
          "Eelektrik",
          "Eelektross",
          "Thundurus"
         ],
         "legendgroup": "Electric",
         "marker": {
          "color": "#F7D02C"
         },
         "name": "Electric",
         "notched": false,
         "offsetgroup": "Electric",
         "orientation": "v",
         "showlegend": true,
         "type": "box",
         "x": [
          "Electric",
          "Electric",
          "Electric",
          "Electric",
          "Electric",
          "Electric",
          "Electric",
          "Electric",
          "Electric",
          "Electric",
          "Electric",
          "Electric",
          "Electric",
          "Electric",
          "Electric",
          "Electric",
          "Electric",
          "Electric",
          "Electric",
          "Electric",
          "Electric",
          "Electric",
          "Electric",
          "Electric",
          "Electric",
          "Electric",
          "Electric",
          "Electric",
          "Electric",
          "Electric",
          "Electric",
          "Electric",
          "Electric"
         ],
         "x0": " ",
         "xaxis": "x",
         "y": [
          50,
          50,
          null,
          null,
          null,
          null,
          75.4,
          88.1,
          null,
          50,
          50,
          50,
          50,
          75.4,
          null,
          50,
          50,
          50,
          50,
          50,
          50,
          50,
          50,
          null,
          75.4,
          null,
          50,
          50,
          50,
          50,
          50,
          50,
          100
         ],
         "y0": " ",
         "yaxis": "y"
        },
        {
         "alignmentgroup": "True",
         "hovertemplate": "<b>%{hovertext}</b><br><br>Primary=%{x}<br>percentage_male=%{y}<extra></extra>",
         "hovertext": [
          "Sandshrew",
          "Sandslash",
          "Diglett",
          "Dugtrio",
          "Cubone",
          "Marowak",
          "Rhyhorn",
          "Rhydon",
          "Gligar",
          "Phanpy",
          "Donphan",
          "Trapinch",
          "Vibrava",
          "Flygon",
          "Baltoy",
          "Claydol",
          "Groudon",
          "Hippopotas",
          "Hippowdon",
          "Rhyperior",
          "Gliscor",
          "Drilbur",
          "Excadrill",
          "Sandile",
          "Krokorok",
          "Krookodile",
          "Stunfisk",
          "Golett",
          "Golurk",
          "Landorus"
         ],
         "legendgroup": "Ground",
         "marker": {
          "color": "#E2BF65"
         },
         "name": "Ground",
         "notched": false,
         "offsetgroup": "Ground",
         "orientation": "v",
         "showlegend": true,
         "type": "box",
         "x": [
          "Ground",
          "Ground",
          "Ground",
          "Ground",
          "Ground",
          "Ground",
          "Ground",
          "Ground",
          "Ground",
          "Ground",
          "Ground",
          "Ground",
          "Ground",
          "Ground",
          "Ground",
          "Ground",
          "Ground",
          "Ground",
          "Ground",
          "Ground",
          "Ground",
          "Ground",
          "Ground",
          "Ground",
          "Ground",
          "Ground",
          "Ground",
          "Ground",
          "Ground",
          "Ground"
         ],
         "x0": " ",
         "xaxis": "x",
         "y": [
          50,
          50,
          50,
          50,
          50,
          50,
          50,
          50,
          50,
          50,
          50,
          50,
          50,
          50,
          null,
          null,
          null,
          50,
          50,
          50,
          50,
          50,
          50,
          50,
          50,
          50,
          50,
          null,
          null,
          100
         ],
         "y0": " ",
         "yaxis": "y"
        },
        {
         "alignmentgroup": "True",
         "hovertemplate": "<b>%{hovertext}</b><br><br>Primary=%{x}<br>percentage_male=%{y}<extra></extra>",
         "hovertext": [
          "Clefairy",
          "Clefable",
          "Cleffa",
          "Togepi",
          "Togetic",
          "Snubbull",
          "Granbull",
          "Togekiss"
         ],
         "legendgroup": "Fairy",
         "marker": {
          "color": "#D685AD"
         },
         "name": "Fairy",
         "notched": false,
         "offsetgroup": "Fairy",
         "orientation": "v",
         "showlegend": true,
         "type": "box",
         "x": [
          "Fairy",
          "Fairy",
          "Fairy",
          "Fairy",
          "Fairy",
          "Fairy",
          "Fairy",
          "Fairy"
         ],
         "x0": " ",
         "xaxis": "x",
         "y": [
          24.6,
          24.6,
          24.6,
          88.1,
          88.1,
          24.6,
          24.6,
          88.1
         ],
         "y0": " ",
         "yaxis": "y"
        },
        {
         "alignmentgroup": "True",
         "hovertemplate": "<b>%{hovertext}</b><br><br>Primary=%{x}<br>percentage_male=%{y}<extra></extra>",
         "hovertext": [
          "Mankey",
          "Primeape",
          "Machop",
          "Machoke",
          "Machamp",
          "Hitmonlee",
          "Hitmonchan",
          "Tyrogue",
          "Hitmontop",
          "Makuhita",
          "Hariyama",
          "Meditite",
          "Medicham",
          "Riolu",
          "Lucario",
          "Timburr",
          "Gurdurr",
          "Conkeldurr",
          "Throh",
          "Sawk",
          "Mienfoo",
          "Mienshao"
         ],
         "legendgroup": "Fighting",
         "marker": {
          "color": "#C22E28"
         },
         "name": "Fighting",
         "notched": false,
         "offsetgroup": "Fighting",
         "orientation": "v",
         "showlegend": true,
         "type": "box",
         "x": [
          "Fighting",
          "Fighting",
          "Fighting",
          "Fighting",
          "Fighting",
          "Fighting",
          "Fighting",
          "Fighting",
          "Fighting",
          "Fighting",
          "Fighting",
          "Fighting",
          "Fighting",
          "Fighting",
          "Fighting",
          "Fighting",
          "Fighting",
          "Fighting",
          "Fighting",
          "Fighting",
          "Fighting",
          "Fighting"
         ],
         "x0": " ",
         "xaxis": "x",
         "y": [
          50,
          50,
          75.4,
          75.4,
          75.4,
          100,
          100,
          100,
          100,
          75.4,
          75.4,
          50,
          50,
          88.1,
          88.1,
          75.4,
          75.4,
          75.4,
          100,
          100,
          50,
          50
         ],
         "y0": " ",
         "yaxis": "y"
        },
        {
         "alignmentgroup": "True",
         "hovertemplate": "<b>%{hovertext}</b><br><br>Primary=%{x}<br>percentage_male=%{y}<extra></extra>",
         "hovertext": [
          "Abra",
          "Kadabra",
          "Alakazam",
          "Drowzee",
          "Hypno",
          "Mr.",
          "Mewtwo",
          "Mew",
          "Natu",
          "Xatu",
          "Espeon",
          "Unown",
          "Wobbuffet",
          "Lugia",
          "Celebi",
          "Ralts",
          "Kirlia",
          "Gardevoir",
          "Spoink",
          "Grumpig",
          "Chimecho",
          "Wynaut",
          "Deoxys",
          "Chingling",
          "Mime",
          "Gallade",
          "Uxie",
          "Mesprit",
          "Azelf",
          "Cresselia",
          "Victini",
          "Munna",
          "Musharna",
          "Woobat",
          "Swoobat",
          "Sigilyph",
          "Gothita",
          "Gothorita",
          "Gothitelle",
          "Solosis",
          "Duosion",
          "Reuniclus",
          "Elgyem",
          "Beheeyem"
         ],
         "legendgroup": "Psychic",
         "marker": {
          "color": "#F95587"
         },
         "name": "Psychic",
         "notched": false,
         "offsetgroup": "Psychic",
         "orientation": "v",
         "showlegend": true,
         "type": "box",
         "x": [
          "Psychic",
          "Psychic",
          "Psychic",
          "Psychic",
          "Psychic",
          "Psychic",
          "Psychic",
          "Psychic",
          "Psychic",
          "Psychic",
          "Psychic",
          "Psychic",
          "Psychic",
          "Psychic",
          "Psychic",
          "Psychic",
          "Psychic",
          "Psychic",
          "Psychic",
          "Psychic",
          "Psychic",
          "Psychic",
          "Psychic",
          "Psychic",
          "Psychic",
          "Psychic",
          "Psychic",
          "Psychic",
          "Psychic",
          "Psychic",
          "Psychic",
          "Psychic",
          "Psychic",
          "Psychic",
          "Psychic",
          "Psychic",
          "Psychic",
          "Psychic",
          "Psychic",
          "Psychic",
          "Psychic",
          "Psychic",
          "Psychic",
          "Psychic"
         ],
         "x0": " ",
         "xaxis": "x",
         "y": [
          75.4,
          75.4,
          75.4,
          50,
          50,
          50,
          null,
          null,
          50,
          50,
          88.1,
          null,
          50,
          null,
          null,
          50,
          50,
          50,
          50,
          50,
          50,
          50,
          null,
          50,
          50,
          100,
          null,
          null,
          null,
          0,
          null,
          50,
          50,
          50,
          50,
          50,
          24.6,
          24.6,
          24.6,
          50,
          50,
          50,
          50,
          50
         ],
         "y0": " ",
         "yaxis": "y"
        },
        {
         "alignmentgroup": "True",
         "hovertemplate": "<b>%{hovertext}</b><br><br>Primary=%{x}<br>percentage_male=%{y}<extra></extra>",
         "hovertext": [
          "Geodude",
          "Graveler",
          "Golem",
          "Onix",
          "Omanyte",
          "Omastar",
          "Kabuto",
          "Kabutops",
          "Aerodactyl",
          "Sudowoodo",
          "Larvitar",
          "Pupitar",
          "Tyranitar",
          "Nosepass",
          "Lunatone",
          "Solrock",
          "Lileep",
          "Cradily",
          "Anorith",
          "Armaldo",
          "Regirock",
          "Cranidos",
          "Rampardos",
          "Shieldon",
          "Bastiodon",
          "Bonsly",
          "Probopass",
          "Roggenrola",
          "Boldore",
          "Gigalith",
          "Archen",
          "Archeops",
          "Terrakion"
         ],
         "legendgroup": "Rock",
         "marker": {
          "color": "#B6A136"
         },
         "name": "Rock",
         "notched": false,
         "offsetgroup": "Rock",
         "orientation": "v",
         "showlegend": true,
         "type": "box",
         "x": [
          "Rock",
          "Rock",
          "Rock",
          "Rock",
          "Rock",
          "Rock",
          "Rock",
          "Rock",
          "Rock",
          "Rock",
          "Rock",
          "Rock",
          "Rock",
          "Rock",
          "Rock",
          "Rock",
          "Rock",
          "Rock",
          "Rock",
          "Rock",
          "Rock",
          "Rock",
          "Rock",
          "Rock",
          "Rock",
          "Rock",
          "Rock",
          "Rock",
          "Rock",
          "Rock",
          "Rock",
          "Rock",
          "Rock"
         ],
         "x0": " ",
         "xaxis": "x",
         "y": [
          50,
          50,
          50,
          50,
          88.1,
          88.1,
          88.1,
          88.1,
          88.1,
          50,
          50,
          50,
          50,
          50,
          null,
          null,
          88.1,
          88.1,
          88.1,
          88.1,
          null,
          88.1,
          88.1,
          88.1,
          88.1,
          50,
          50,
          50,
          50,
          50,
          88.1,
          88.1,
          null
         ],
         "y0": " ",
         "yaxis": "y"
        },
        {
         "alignmentgroup": "True",
         "hovertemplate": "<b>%{hovertext}</b><br><br>Primary=%{x}<br>percentage_male=%{y}<extra></extra>",
         "hovertext": [
          "Gastly",
          "Haunter",
          "Gengar",
          "Misdreavus",
          "Shuppet",
          "Banette",
          "Duskull",
          "Dusclops",
          "Drifloon",
          "Drifblim",
          "Mismagius",
          "Spiritomb",
          "Dusknoir",
          "Giratina",
          "Yamask",
          "Cofagrigus",
          "Litwick",
          "Lampent",
          "Chandelure"
         ],
         "legendgroup": "Ghost",
         "marker": {
          "color": "#735797"
         },
         "name": "Ghost",
         "notched": false,
         "offsetgroup": "Ghost",
         "orientation": "v",
         "showlegend": true,
         "type": "box",
         "x": [
          "Ghost",
          "Ghost",
          "Ghost",
          "Ghost",
          "Ghost",
          "Ghost",
          "Ghost",
          "Ghost",
          "Ghost",
          "Ghost",
          "Ghost",
          "Ghost",
          "Ghost",
          "Ghost",
          "Ghost",
          "Ghost",
          "Ghost",
          "Ghost",
          "Ghost"
         ],
         "x0": " ",
         "xaxis": "x",
         "y": [
          50,
          50,
          50,
          50,
          50,
          50,
          50,
          50,
          50,
          50,
          50,
          50,
          50,
          null,
          50,
          50,
          50,
          50,
          50
         ],
         "y0": " ",
         "yaxis": "y"
        },
        {
         "alignmentgroup": "True",
         "hovertemplate": "<b>%{hovertext}</b><br><br>Primary=%{x}<br>percentage_male=%{y}<extra></extra>",
         "hovertext": [
          "Jynx",
          "Articuno",
          "Swinub",
          "Piloswine",
          "Delibird",
          "Smoochum",
          "Snorunt",
          "Glalie",
          "Spheal",
          "Sealeo",
          "Walrein",
          "Regice",
          "Glaceon",
          "Mamoswine",
          "Froslass",
          "Vanillite",
          "Vanillish",
          "Vanilluxe",
          "Cubchoo",
          "Beartic",
          "Cryogonal"
         ],
         "legendgroup": "Ice",
         "marker": {
          "color": "#96D9D6"
         },
         "name": "Ice",
         "notched": false,
         "offsetgroup": "Ice",
         "orientation": "v",
         "showlegend": true,
         "type": "box",
         "x": [
          "Ice",
          "Ice",
          "Ice",
          "Ice",
          "Ice",
          "Ice",
          "Ice",
          "Ice",
          "Ice",
          "Ice",
          "Ice",
          "Ice",
          "Ice",
          "Ice",
          "Ice",
          "Ice",
          "Ice",
          "Ice",
          "Ice",
          "Ice",
          "Ice"
         ],
         "x0": " ",
         "xaxis": "x",
         "y": [
          0,
          null,
          50,
          50,
          50,
          0,
          50,
          50,
          50,
          50,
          50,
          null,
          88.1,
          50,
          0,
          50,
          50,
          50,
          50,
          50,
          null
         ],
         "y0": " ",
         "yaxis": "y"
        },
        {
         "alignmentgroup": "True",
         "hovertemplate": "<b>%{hovertext}</b><br><br>Primary=%{x}<br>percentage_male=%{y}<extra></extra>",
         "hovertext": [
          "Dratini",
          "Dragonair",
          "Dragonite",
          "Altaria",
          "Bagon",
          "Shelgon",
          "Salamence",
          "Latias",
          "Latios",
          "Rayquaza",
          "Gible",
          "Gabite",
          "Garchomp",
          "Axew",
          "Fraxure",
          "Haxorus",
          "Druddigon",
          "Reshiram",
          "Zekrom",
          "Kyurem"
         ],
         "legendgroup": "Dragon",
         "marker": {
          "color": "#6F35FC"
         },
         "name": "Dragon",
         "notched": false,
         "offsetgroup": "Dragon",
         "orientation": "v",
         "showlegend": true,
         "type": "box",
         "x": [
          "Dragon",
          "Dragon",
          "Dragon",
          "Dragon",
          "Dragon",
          "Dragon",
          "Dragon",
          "Dragon",
          "Dragon",
          "Dragon",
          "Dragon",
          "Dragon",
          "Dragon",
          "Dragon",
          "Dragon",
          "Dragon",
          "Dragon",
          "Dragon",
          "Dragon",
          "Dragon"
         ],
         "x0": " ",
         "xaxis": "x",
         "y": [
          50,
          50,
          50,
          50,
          50,
          50,
          50,
          0,
          100,
          null,
          50,
          50,
          50,
          50,
          50,
          50,
          50,
          null,
          null,
          null
         ],
         "y0": " ",
         "yaxis": "y"
        },
        {
         "alignmentgroup": "True",
         "hovertemplate": "<b>%{hovertext}</b><br><br>Primary=%{x}<br>percentage_male=%{y}<extra></extra>",
         "hovertext": [
          "Umbreon",
          "Murkrow",
          "Sneasel",
          "Houndour",
          "Houndoom",
          "Poochyena",
          "Mightyena",
          "Sableye",
          "Absol",
          "Honchkrow",
          "Weavile",
          "Darkrai",
          "Purrloin",
          "Liepard",
          "Scraggy",
          "Scrafty",
          "Zorua",
          "Zoroark",
          "Pawniard",
          "Bisharp",
          "Vullaby",
          "Mandibuzz",
          "Deino",
          "Zweilous",
          "Hydreigon"
         ],
         "legendgroup": "Dark",
         "marker": {
          "color": "#705746"
         },
         "name": "Dark",
         "notched": false,
         "offsetgroup": "Dark",
         "orientation": "v",
         "showlegend": true,
         "type": "box",
         "x": [
          "Dark",
          "Dark",
          "Dark",
          "Dark",
          "Dark",
          "Dark",
          "Dark",
          "Dark",
          "Dark",
          "Dark",
          "Dark",
          "Dark",
          "Dark",
          "Dark",
          "Dark",
          "Dark",
          "Dark",
          "Dark",
          "Dark",
          "Dark",
          "Dark",
          "Dark",
          "Dark",
          "Dark",
          "Dark"
         ],
         "x0": " ",
         "xaxis": "x",
         "y": [
          88.1,
          50,
          50,
          50,
          50,
          50,
          50,
          50,
          50,
          50,
          50,
          null,
          50,
          50,
          50,
          50,
          88.1,
          88.1,
          50,
          50,
          0,
          0,
          50,
          50,
          50
         ],
         "y0": " ",
         "yaxis": "y"
        },
        {
         "alignmentgroup": "True",
         "hovertemplate": "<b>%{hovertext}</b><br><br>Primary=%{x}<br>percentage_male=%{y}<extra></extra>",
         "hovertext": [
          "Steelix",
          "Skarmory",
          "Mawile",
          "Aron",
          "Lairon",
          "Aggron",
          "Beldum",
          "Metang",
          "Metagross",
          "Registeel",
          "Jirachi",
          "Bronzor",
          "Bronzong",
          "Dialga",
          "Klink",
          "Klang",
          "Klinklang",
          "Cobalion"
         ],
         "legendgroup": "Steel",
         "marker": {
          "color": "#B7B7CE"
         },
         "name": "Steel",
         "notched": false,
         "offsetgroup": "Steel",
         "orientation": "v",
         "showlegend": true,
         "type": "box",
         "x": [
          "Steel",
          "Steel",
          "Steel",
          "Steel",
          "Steel",
          "Steel",
          "Steel",
          "Steel",
          "Steel",
          "Steel",
          "Steel",
          "Steel",
          "Steel",
          "Steel",
          "Steel",
          "Steel",
          "Steel",
          "Steel"
         ],
         "x0": " ",
         "xaxis": "x",
         "y": [
          50,
          50,
          50,
          50,
          50,
          50,
          null,
          null,
          null,
          null,
          null,
          null,
          null,
          null,
          null,
          null,
          null,
          null
         ],
         "y0": " ",
         "yaxis": "y"
        },
        {
         "alignmentgroup": "True",
         "hovertemplate": "<b>%{hovertext}</b><br><br>Primary=%{x}<br>percentage_male=%{y}<extra></extra>",
         "hovertext": [
          "Tornadus"
         ],
         "legendgroup": "Flying",
         "marker": {
          "color": "#A98FF3"
         },
         "name": "Flying",
         "notched": false,
         "offsetgroup": "Flying",
         "orientation": "v",
         "showlegend": true,
         "type": "box",
         "x": [
          "Flying"
         ],
         "x0": " ",
         "xaxis": "x",
         "y": [
          100
         ],
         "y0": " ",
         "yaxis": "y"
        }
       ],
       "layout": {
        "boxmode": "overlay",
        "legend": {
         "title": {
          "text": "Primary"
         },
         "tracegroupgap": 0
        },
        "margin": {
         "t": 60
        },
        "template": {
         "data": {
          "bar": [
           {
            "error_x": {
             "color": "#2a3f5f"
            },
            "error_y": {
             "color": "#2a3f5f"
            },
            "marker": {
             "line": {
              "color": "#E5ECF6",
              "width": 0.5
             },
             "pattern": {
              "fillmode": "overlay",
              "size": 10,
              "solidity": 0.2
             }
            },
            "type": "bar"
           }
          ],
          "barpolar": [
           {
            "marker": {
             "line": {
              "color": "#E5ECF6",
              "width": 0.5
             },
             "pattern": {
              "fillmode": "overlay",
              "size": 10,
              "solidity": 0.2
             }
            },
            "type": "barpolar"
           }
          ],
          "carpet": [
           {
            "aaxis": {
             "endlinecolor": "#2a3f5f",
             "gridcolor": "white",
             "linecolor": "white",
             "minorgridcolor": "white",
             "startlinecolor": "#2a3f5f"
            },
            "baxis": {
             "endlinecolor": "#2a3f5f",
             "gridcolor": "white",
             "linecolor": "white",
             "minorgridcolor": "white",
             "startlinecolor": "#2a3f5f"
            },
            "type": "carpet"
           }
          ],
          "choropleth": [
           {
            "colorbar": {
             "outlinewidth": 0,
             "ticks": ""
            },
            "type": "choropleth"
           }
          ],
          "contour": [
           {
            "colorbar": {
             "outlinewidth": 0,
             "ticks": ""
            },
            "colorscale": [
             [
              0,
              "#0d0887"
             ],
             [
              0.1111111111111111,
              "#46039f"
             ],
             [
              0.2222222222222222,
              "#7201a8"
             ],
             [
              0.3333333333333333,
              "#9c179e"
             ],
             [
              0.4444444444444444,
              "#bd3786"
             ],
             [
              0.5555555555555556,
              "#d8576b"
             ],
             [
              0.6666666666666666,
              "#ed7953"
             ],
             [
              0.7777777777777778,
              "#fb9f3a"
             ],
             [
              0.8888888888888888,
              "#fdca26"
             ],
             [
              1,
              "#f0f921"
             ]
            ],
            "type": "contour"
           }
          ],
          "contourcarpet": [
           {
            "colorbar": {
             "outlinewidth": 0,
             "ticks": ""
            },
            "type": "contourcarpet"
           }
          ],
          "heatmap": [
           {
            "colorbar": {
             "outlinewidth": 0,
             "ticks": ""
            },
            "colorscale": [
             [
              0,
              "#0d0887"
             ],
             [
              0.1111111111111111,
              "#46039f"
             ],
             [
              0.2222222222222222,
              "#7201a8"
             ],
             [
              0.3333333333333333,
              "#9c179e"
             ],
             [
              0.4444444444444444,
              "#bd3786"
             ],
             [
              0.5555555555555556,
              "#d8576b"
             ],
             [
              0.6666666666666666,
              "#ed7953"
             ],
             [
              0.7777777777777778,
              "#fb9f3a"
             ],
             [
              0.8888888888888888,
              "#fdca26"
             ],
             [
              1,
              "#f0f921"
             ]
            ],
            "type": "heatmap"
           }
          ],
          "heatmapgl": [
           {
            "colorbar": {
             "outlinewidth": 0,
             "ticks": ""
            },
            "colorscale": [
             [
              0,
              "#0d0887"
             ],
             [
              0.1111111111111111,
              "#46039f"
             ],
             [
              0.2222222222222222,
              "#7201a8"
             ],
             [
              0.3333333333333333,
              "#9c179e"
             ],
             [
              0.4444444444444444,
              "#bd3786"
             ],
             [
              0.5555555555555556,
              "#d8576b"
             ],
             [
              0.6666666666666666,
              "#ed7953"
             ],
             [
              0.7777777777777778,
              "#fb9f3a"
             ],
             [
              0.8888888888888888,
              "#fdca26"
             ],
             [
              1,
              "#f0f921"
             ]
            ],
            "type": "heatmapgl"
           }
          ],
          "histogram": [
           {
            "marker": {
             "pattern": {
              "fillmode": "overlay",
              "size": 10,
              "solidity": 0.2
             }
            },
            "type": "histogram"
           }
          ],
          "histogram2d": [
           {
            "colorbar": {
             "outlinewidth": 0,
             "ticks": ""
            },
            "colorscale": [
             [
              0,
              "#0d0887"
             ],
             [
              0.1111111111111111,
              "#46039f"
             ],
             [
              0.2222222222222222,
              "#7201a8"
             ],
             [
              0.3333333333333333,
              "#9c179e"
             ],
             [
              0.4444444444444444,
              "#bd3786"
             ],
             [
              0.5555555555555556,
              "#d8576b"
             ],
             [
              0.6666666666666666,
              "#ed7953"
             ],
             [
              0.7777777777777778,
              "#fb9f3a"
             ],
             [
              0.8888888888888888,
              "#fdca26"
             ],
             [
              1,
              "#f0f921"
             ]
            ],
            "type": "histogram2d"
           }
          ],
          "histogram2dcontour": [
           {
            "colorbar": {
             "outlinewidth": 0,
             "ticks": ""
            },
            "colorscale": [
             [
              0,
              "#0d0887"
             ],
             [
              0.1111111111111111,
              "#46039f"
             ],
             [
              0.2222222222222222,
              "#7201a8"
             ],
             [
              0.3333333333333333,
              "#9c179e"
             ],
             [
              0.4444444444444444,
              "#bd3786"
             ],
             [
              0.5555555555555556,
              "#d8576b"
             ],
             [
              0.6666666666666666,
              "#ed7953"
             ],
             [
              0.7777777777777778,
              "#fb9f3a"
             ],
             [
              0.8888888888888888,
              "#fdca26"
             ],
             [
              1,
              "#f0f921"
             ]
            ],
            "type": "histogram2dcontour"
           }
          ],
          "mesh3d": [
           {
            "colorbar": {
             "outlinewidth": 0,
             "ticks": ""
            },
            "type": "mesh3d"
           }
          ],
          "parcoords": [
           {
            "line": {
             "colorbar": {
              "outlinewidth": 0,
              "ticks": ""
             }
            },
            "type": "parcoords"
           }
          ],
          "pie": [
           {
            "automargin": true,
            "type": "pie"
           }
          ],
          "scatter": [
           {
            "marker": {
             "colorbar": {
              "outlinewidth": 0,
              "ticks": ""
             }
            },
            "type": "scatter"
           }
          ],
          "scatter3d": [
           {
            "line": {
             "colorbar": {
              "outlinewidth": 0,
              "ticks": ""
             }
            },
            "marker": {
             "colorbar": {
              "outlinewidth": 0,
              "ticks": ""
             }
            },
            "type": "scatter3d"
           }
          ],
          "scattercarpet": [
           {
            "marker": {
             "colorbar": {
              "outlinewidth": 0,
              "ticks": ""
             }
            },
            "type": "scattercarpet"
           }
          ],
          "scattergeo": [
           {
            "marker": {
             "colorbar": {
              "outlinewidth": 0,
              "ticks": ""
             }
            },
            "type": "scattergeo"
           }
          ],
          "scattergl": [
           {
            "marker": {
             "colorbar": {
              "outlinewidth": 0,
              "ticks": ""
             }
            },
            "type": "scattergl"
           }
          ],
          "scattermapbox": [
           {
            "marker": {
             "colorbar": {
              "outlinewidth": 0,
              "ticks": ""
             }
            },
            "type": "scattermapbox"
           }
          ],
          "scatterpolar": [
           {
            "marker": {
             "colorbar": {
              "outlinewidth": 0,
              "ticks": ""
             }
            },
            "type": "scatterpolar"
           }
          ],
          "scatterpolargl": [
           {
            "marker": {
             "colorbar": {
              "outlinewidth": 0,
              "ticks": ""
             }
            },
            "type": "scatterpolargl"
           }
          ],
          "scatterternary": [
           {
            "marker": {
             "colorbar": {
              "outlinewidth": 0,
              "ticks": ""
             }
            },
            "type": "scatterternary"
           }
          ],
          "surface": [
           {
            "colorbar": {
             "outlinewidth": 0,
             "ticks": ""
            },
            "colorscale": [
             [
              0,
              "#0d0887"
             ],
             [
              0.1111111111111111,
              "#46039f"
             ],
             [
              0.2222222222222222,
              "#7201a8"
             ],
             [
              0.3333333333333333,
              "#9c179e"
             ],
             [
              0.4444444444444444,
              "#bd3786"
             ],
             [
              0.5555555555555556,
              "#d8576b"
             ],
             [
              0.6666666666666666,
              "#ed7953"
             ],
             [
              0.7777777777777778,
              "#fb9f3a"
             ],
             [
              0.8888888888888888,
              "#fdca26"
             ],
             [
              1,
              "#f0f921"
             ]
            ],
            "type": "surface"
           }
          ],
          "table": [
           {
            "cells": {
             "fill": {
              "color": "#EBF0F8"
             },
             "line": {
              "color": "white"
             }
            },
            "header": {
             "fill": {
              "color": "#C8D4E3"
             },
             "line": {
              "color": "white"
             }
            },
            "type": "table"
           }
          ]
         },
         "layout": {
          "annotationdefaults": {
           "arrowcolor": "#2a3f5f",
           "arrowhead": 0,
           "arrowwidth": 1
          },
          "autotypenumbers": "strict",
          "coloraxis": {
           "colorbar": {
            "outlinewidth": 0,
            "ticks": ""
           }
          },
          "colorscale": {
           "diverging": [
            [
             0,
             "#8e0152"
            ],
            [
             0.1,
             "#c51b7d"
            ],
            [
             0.2,
             "#de77ae"
            ],
            [
             0.3,
             "#f1b6da"
            ],
            [
             0.4,
             "#fde0ef"
            ],
            [
             0.5,
             "#f7f7f7"
            ],
            [
             0.6,
             "#e6f5d0"
            ],
            [
             0.7,
             "#b8e186"
            ],
            [
             0.8,
             "#7fbc41"
            ],
            [
             0.9,
             "#4d9221"
            ],
            [
             1,
             "#276419"
            ]
           ],
           "sequential": [
            [
             0,
             "#0d0887"
            ],
            [
             0.1111111111111111,
             "#46039f"
            ],
            [
             0.2222222222222222,
             "#7201a8"
            ],
            [
             0.3333333333333333,
             "#9c179e"
            ],
            [
             0.4444444444444444,
             "#bd3786"
            ],
            [
             0.5555555555555556,
             "#d8576b"
            ],
            [
             0.6666666666666666,
             "#ed7953"
            ],
            [
             0.7777777777777778,
             "#fb9f3a"
            ],
            [
             0.8888888888888888,
             "#fdca26"
            ],
            [
             1,
             "#f0f921"
            ]
           ],
           "sequentialminus": [
            [
             0,
             "#0d0887"
            ],
            [
             0.1111111111111111,
             "#46039f"
            ],
            [
             0.2222222222222222,
             "#7201a8"
            ],
            [
             0.3333333333333333,
             "#9c179e"
            ],
            [
             0.4444444444444444,
             "#bd3786"
            ],
            [
             0.5555555555555556,
             "#d8576b"
            ],
            [
             0.6666666666666666,
             "#ed7953"
            ],
            [
             0.7777777777777778,
             "#fb9f3a"
            ],
            [
             0.8888888888888888,
             "#fdca26"
            ],
            [
             1,
             "#f0f921"
            ]
           ]
          },
          "colorway": [
           "#636efa",
           "#EF553B",
           "#00cc96",
           "#ab63fa",
           "#FFA15A",
           "#19d3f3",
           "#FF6692",
           "#B6E880",
           "#FF97FF",
           "#FECB52"
          ],
          "font": {
           "color": "#2a3f5f"
          },
          "geo": {
           "bgcolor": "white",
           "lakecolor": "white",
           "landcolor": "#E5ECF6",
           "showlakes": true,
           "showland": true,
           "subunitcolor": "white"
          },
          "hoverlabel": {
           "align": "left"
          },
          "hovermode": "closest",
          "mapbox": {
           "style": "light"
          },
          "paper_bgcolor": "white",
          "plot_bgcolor": "#E5ECF6",
          "polar": {
           "angularaxis": {
            "gridcolor": "white",
            "linecolor": "white",
            "ticks": ""
           },
           "bgcolor": "#E5ECF6",
           "radialaxis": {
            "gridcolor": "white",
            "linecolor": "white",
            "ticks": ""
           }
          },
          "scene": {
           "xaxis": {
            "backgroundcolor": "#E5ECF6",
            "gridcolor": "white",
            "gridwidth": 2,
            "linecolor": "white",
            "showbackground": true,
            "ticks": "",
            "zerolinecolor": "white"
           },
           "yaxis": {
            "backgroundcolor": "#E5ECF6",
            "gridcolor": "white",
            "gridwidth": 2,
            "linecolor": "white",
            "showbackground": true,
            "ticks": "",
            "zerolinecolor": "white"
           },
           "zaxis": {
            "backgroundcolor": "#E5ECF6",
            "gridcolor": "white",
            "gridwidth": 2,
            "linecolor": "white",
            "showbackground": true,
            "ticks": "",
            "zerolinecolor": "white"
           }
          },
          "shapedefaults": {
           "line": {
            "color": "#2a3f5f"
           }
          },
          "ternary": {
           "aaxis": {
            "gridcolor": "white",
            "linecolor": "white",
            "ticks": ""
           },
           "baxis": {
            "gridcolor": "white",
            "linecolor": "white",
            "ticks": ""
           },
           "bgcolor": "#E5ECF6",
           "caxis": {
            "gridcolor": "white",
            "linecolor": "white",
            "ticks": ""
           }
          },
          "title": {
           "x": 0.05
          },
          "xaxis": {
           "automargin": true,
           "gridcolor": "white",
           "linecolor": "white",
           "ticks": "",
           "title": {
            "standoff": 15
           },
           "zerolinecolor": "white",
           "zerolinewidth": 2
          },
          "yaxis": {
           "automargin": true,
           "gridcolor": "white",
           "linecolor": "white",
           "ticks": "",
           "title": {
            "standoff": 15
           },
           "zerolinecolor": "white",
           "zerolinewidth": 2
          }
         }
        },
        "xaxis": {
         "anchor": "y",
         "categoryarray": [
          "Grass",
          "Fire",
          "Water",
          "Bug",
          "Normal",
          "Poison",
          "Electric",
          "Ground",
          "Fairy",
          "Fighting",
          "Psychic",
          "Rock",
          "Ghost",
          "Ice",
          "Dragon",
          "Dark",
          "Steel",
          "Flying"
         ],
         "categoryorder": "array",
         "domain": [
          0,
          1
         ],
         "title": {
          "text": "Primary"
         }
        },
        "yaxis": {
         "anchor": "x",
         "domain": [
          0,
          1
         ],
         "title": {
          "text": "percentage_male"
         }
        }
       }
      },
      "text/html": [
       "<div>                            <div id=\"c40da3bc-f6f0-43f6-9670-8cbfecb5248f\" class=\"plotly-graph-div\" style=\"height:525px; width:100%;\"></div>            <script type=\"text/javascript\">                require([\"plotly\"], function(Plotly) {                    window.PLOTLYENV=window.PLOTLYENV || {};                                    if (document.getElementById(\"c40da3bc-f6f0-43f6-9670-8cbfecb5248f\")) {                    Plotly.newPlot(                        \"c40da3bc-f6f0-43f6-9670-8cbfecb5248f\",                        [{\"alignmentgroup\":\"True\",\"hovertemplate\":\"<b>%{hovertext}</b><br><br>Primary=%{x}<br>percentage_male=%{y}<extra></extra>\",\"hovertext\":[\"Bulbasaur\",\"Ivysaur\",\"Venusaur\",\"Oddish\",\"Gloom\",\"Vileplume\",\"Bellsprout\",\"Weepinbell\",\"Victreebel\",\"Exeggcute\",\"Exeggutor\",\"Tangela\",\"Chikorita\",\"Bayleef\",\"Meganium\",\"Bellossom\",\"Hoppip\",\"Skiploom\",\"Jumpluff\",\"Sunkern\",\"Sunflora\",\"Treecko\",\"Grovyle\",\"Sceptile\",\"Seedot\",\"Nuzleaf\",\"Shiftry\",\"Shroomish\",\"Breloom\",\"Roselia\",\"Cacnea\",\"Cacturne\",\"Tropius\",\"Turtwig\",\"Grotle\",\"Torterra\",\"Budew\",\"Roserade\",\"Cherubi\",\"Cherrim\",\"Carnivine\",\"Snover\",\"Abomasnow\",\"Tangrowth\",\"Leafeon\",\"Shaymin\",\"Snivy\",\"Servine\",\"Serperior\",\"Pansage\",\"Simisage\",\"Cottonee\",\"Whimsicott\",\"Petilil\",\"Lilligant\",\"Maractus\",\"Foongus\",\"Amoonguss\",\"Ferroseed\",\"Ferrothorn\",\"Virizion\"],\"legendgroup\":\"Grass\",\"marker\":{\"color\":\"#7AC74C\"},\"name\":\"Grass\",\"notched\":false,\"offsetgroup\":\"Grass\",\"orientation\":\"v\",\"showlegend\":true,\"x\":[\"Grass\",\"Grass\",\"Grass\",\"Grass\",\"Grass\",\"Grass\",\"Grass\",\"Grass\",\"Grass\",\"Grass\",\"Grass\",\"Grass\",\"Grass\",\"Grass\",\"Grass\",\"Grass\",\"Grass\",\"Grass\",\"Grass\",\"Grass\",\"Grass\",\"Grass\",\"Grass\",\"Grass\",\"Grass\",\"Grass\",\"Grass\",\"Grass\",\"Grass\",\"Grass\",\"Grass\",\"Grass\",\"Grass\",\"Grass\",\"Grass\",\"Grass\",\"Grass\",\"Grass\",\"Grass\",\"Grass\",\"Grass\",\"Grass\",\"Grass\",\"Grass\",\"Grass\",\"Grass\",\"Grass\",\"Grass\",\"Grass\",\"Grass\",\"Grass\",\"Grass\",\"Grass\",\"Grass\",\"Grass\",\"Grass\",\"Grass\",\"Grass\",\"Grass\",\"Grass\",\"Grass\"],\"x0\":\" \",\"xaxis\":\"x\",\"y\":[88.1,88.1,88.1,50.0,50.0,50.0,50.0,50.0,50.0,50.0,50.0,50.0,88.1,88.1,88.1,50.0,50.0,50.0,50.0,50.0,50.0,88.1,88.1,88.1,50.0,50.0,50.0,50.0,50.0,50.0,50.0,50.0,50.0,88.1,88.1,88.1,50.0,50.0,50.0,50.0,50.0,50.0,50.0,50.0,88.1,null,88.1,88.1,88.1,88.1,88.1,50.0,50.0,0.0,0.0,50.0,50.0,50.0,50.0,50.0,null],\"y0\":\" \",\"yaxis\":\"y\",\"type\":\"box\"},{\"alignmentgroup\":\"True\",\"hovertemplate\":\"<b>%{hovertext}</b><br><br>Primary=%{x}<br>percentage_male=%{y}<extra></extra>\",\"hovertext\":[\"Charmander\",\"Charmeleon\",\"Charizard\",\"Vulpix\",\"Ninetales\",\"Growlithe\",\"Arcanine\",\"Ponyta\",\"Rapidash\",\"Magmar\",\"Flareon\",\"Moltres\",\"Cyndaquil\",\"Quilava\",\"Typhlosion\",\"Slugma\",\"Magcargo\",\"Magby\",\"Entei\",\"Ho-Oh\",\"Torchic\",\"Combusken\",\"Blaziken\",\"Numel\",\"Camerupt\",\"Torkoal\",\"Chimchar\",\"Monferno\",\"Infernape\",\"Magmortar\",\"Heatran\",\"Tepig\",\"Pignite\",\"Emboar\",\"Pansear\",\"Simisear\",\"Darumaka\",\"Darmanitan\",\"Heatmor\"],\"legendgroup\":\"Fire\",\"marker\":{\"color\":\"#EE8130\"},\"name\":\"Fire\",\"notched\":false,\"offsetgroup\":\"Fire\",\"orientation\":\"v\",\"showlegend\":true,\"x\":[\"Fire\",\"Fire\",\"Fire\",\"Fire\",\"Fire\",\"Fire\",\"Fire\",\"Fire\",\"Fire\",\"Fire\",\"Fire\",\"Fire\",\"Fire\",\"Fire\",\"Fire\",\"Fire\",\"Fire\",\"Fire\",\"Fire\",\"Fire\",\"Fire\",\"Fire\",\"Fire\",\"Fire\",\"Fire\",\"Fire\",\"Fire\",\"Fire\",\"Fire\",\"Fire\",\"Fire\",\"Fire\",\"Fire\",\"Fire\",\"Fire\",\"Fire\",\"Fire\",\"Fire\",\"Fire\"],\"x0\":\" \",\"xaxis\":\"x\",\"y\":[88.1,88.1,88.1,24.6,24.6,75.4,75.4,50.0,50.0,75.4,88.1,null,88.1,88.1,88.1,50.0,50.0,75.4,null,null,88.1,88.1,88.1,50.0,50.0,50.0,88.1,88.1,88.1,75.4,50.0,88.1,88.1,88.1,88.1,88.1,50.0,50.0,50.0],\"y0\":\" \",\"yaxis\":\"y\",\"type\":\"box\"},{\"alignmentgroup\":\"True\",\"hovertemplate\":\"<b>%{hovertext}</b><br><br>Primary=%{x}<br>percentage_male=%{y}<extra></extra>\",\"hovertext\":[\"Squirtle\",\"Wartortle\",\"Blastoise\",\"Psyduck\",\"Golduck\",\"Poliwag\",\"Poliwhirl\",\"Poliwrath\",\"Tentacool\",\"Tentacruel\",\"Slowpoke\",\"Slowbro\",\"Seel\",\"Dewgong\",\"Shellder\",\"Cloyster\",\"Krabby\",\"Kingler\",\"Horsea\",\"Seadra\",\"Goldeen\",\"Seaking\",\"Staryu\",\"Starmie\",\"Magikarp\",\"Gyarados\",\"Lapras\",\"Vaporeon\",\"Totodile\",\"Croconaw\",\"Feraligatr\",\"Chinchou\",\"Lanturn\",\"Marill\",\"Azumarill\",\"Politoed\",\"Wooper\",\"Quagsire\",\"Slowking\",\"Qwilfish\",\"Corsola\",\"Remoraid\",\"Octillery\",\"Mantine\",\"Kingdra\",\"Suicune\",\"Mudkip\",\"Marshtomp\",\"Swampert\",\"Lotad\",\"Lombre\",\"Ludicolo\",\"Wingull\",\"Pelipper\",\"Carvanha\",\"Sharpedo\",\"Wailmer\",\"Wailord\",\"Barboach\",\"Whiscash\",\"Corphish\",\"Crawdaunt\",\"Feebas\",\"Milotic\",\"Clamperl\",\"Huntail\",\"Gorebyss\",\"Relicanth\",\"Luvdisc\",\"Kyogre\",\"Piplup\",\"Prinplup\",\"Empoleon\",\"Buizel\",\"Floatzel\",\"Shellos\",\"Gastrodon\",\"Finneon\",\"Lumineon\",\"Mantyke\",\"Palkia\",\"Phione\",\"Manaphy\",\"Oshawott\",\"Dewott\",\"Samurott\",\"Panpour\",\"Simipour\",\"Tympole\",\"Palpitoad\",\"Seismitoad\",\"Basculin\",\"Tirtouga\",\"Carracosta\",\"Ducklett\",\"Swanna\",\"Frillish\",\"Jellicent\",\"Alomomola\",\"Keldeo\"],\"legendgroup\":\"Water\",\"marker\":{\"color\":\"#6390F0\"},\"name\":\"Water\",\"notched\":false,\"offsetgroup\":\"Water\",\"orientation\":\"v\",\"showlegend\":true,\"x\":[\"Water\",\"Water\",\"Water\",\"Water\",\"Water\",\"Water\",\"Water\",\"Water\",\"Water\",\"Water\",\"Water\",\"Water\",\"Water\",\"Water\",\"Water\",\"Water\",\"Water\",\"Water\",\"Water\",\"Water\",\"Water\",\"Water\",\"Water\",\"Water\",\"Water\",\"Water\",\"Water\",\"Water\",\"Water\",\"Water\",\"Water\",\"Water\",\"Water\",\"Water\",\"Water\",\"Water\",\"Water\",\"Water\",\"Water\",\"Water\",\"Water\",\"Water\",\"Water\",\"Water\",\"Water\",\"Water\",\"Water\",\"Water\",\"Water\",\"Water\",\"Water\",\"Water\",\"Water\",\"Water\",\"Water\",\"Water\",\"Water\",\"Water\",\"Water\",\"Water\",\"Water\",\"Water\",\"Water\",\"Water\",\"Water\",\"Water\",\"Water\",\"Water\",\"Water\",\"Water\",\"Water\",\"Water\",\"Water\",\"Water\",\"Water\",\"Water\",\"Water\",\"Water\",\"Water\",\"Water\",\"Water\",\"Water\",\"Water\",\"Water\",\"Water\",\"Water\",\"Water\",\"Water\",\"Water\",\"Water\",\"Water\",\"Water\",\"Water\",\"Water\",\"Water\",\"Water\",\"Water\",\"Water\",\"Water\",\"Water\"],\"x0\":\" \",\"xaxis\":\"x\",\"y\":[88.1,88.1,88.1,50.0,50.0,50.0,50.0,50.0,50.0,50.0,50.0,50.0,50.0,50.0,50.0,50.0,50.0,50.0,50.0,50.0,50.0,50.0,null,null,50.0,50.0,50.0,88.1,88.1,88.1,88.1,50.0,50.0,50.0,50.0,50.0,50.0,50.0,50.0,50.0,24.6,50.0,50.0,50.0,50.0,null,88.1,88.1,88.1,50.0,50.0,50.0,50.0,50.0,50.0,50.0,50.0,50.0,50.0,50.0,50.0,50.0,50.0,50.0,50.0,50.0,50.0,88.1,24.6,null,88.1,88.1,88.1,50.0,50.0,50.0,50.0,50.0,50.0,50.0,null,null,null,88.1,88.1,88.1,88.1,88.1,50.0,50.0,50.0,50.0,88.1,88.1,50.0,50.0,50.0,50.0,50.0,null],\"y0\":\" \",\"yaxis\":\"y\",\"type\":\"box\"},{\"alignmentgroup\":\"True\",\"hovertemplate\":\"<b>%{hovertext}</b><br><br>Primary=%{x}<br>percentage_male=%{y}<extra></extra>\",\"hovertext\":[\"Caterpie\",\"Metapod\",\"Butterfree\",\"Weedle\",\"Kakuna\",\"Beedrill\",\"Paras\",\"Parasect\",\"Venonat\",\"Venomoth\",\"Scyther\",\"Pinsir\",\"Ledyba\",\"Ledian\",\"Spinarak\",\"Ariados\",\"Yanma\",\"Pineco\",\"Forretress\",\"Scizor\",\"Shuckle\",\"Heracross\",\"Wurmple\",\"Silcoon\",\"Beautifly\",\"Cascoon\",\"Dustox\",\"Surskit\",\"Masquerain\",\"Nincada\",\"Ninjask\",\"Shedinja\",\"Volbeat\",\"Illumise\",\"Kricketot\",\"Kricketune\",\"Burmy\",\"Wormadam\",\"Mothim\",\"Combee\",\"Vespiquen\",\"Yanmega\",\"Sewaddle\",\"Swadloon\",\"Leavanny\",\"Venipede\",\"Whirlipede\",\"Scolipede\",\"Dwebble\",\"Crustle\",\"Karrablast\",\"Escavalier\",\"Joltik\",\"Galvantula\",\"Shelmet\",\"Accelgor\",\"Durant\",\"Larvesta\",\"Volcarona\",\"Genesect\"],\"legendgroup\":\"Bug\",\"marker\":{\"color\":\"#A6B91A\"},\"name\":\"Bug\",\"notched\":false,\"offsetgroup\":\"Bug\",\"orientation\":\"v\",\"showlegend\":true,\"x\":[\"Bug\",\"Bug\",\"Bug\",\"Bug\",\"Bug\",\"Bug\",\"Bug\",\"Bug\",\"Bug\",\"Bug\",\"Bug\",\"Bug\",\"Bug\",\"Bug\",\"Bug\",\"Bug\",\"Bug\",\"Bug\",\"Bug\",\"Bug\",\"Bug\",\"Bug\",\"Bug\",\"Bug\",\"Bug\",\"Bug\",\"Bug\",\"Bug\",\"Bug\",\"Bug\",\"Bug\",\"Bug\",\"Bug\",\"Bug\",\"Bug\",\"Bug\",\"Bug\",\"Bug\",\"Bug\",\"Bug\",\"Bug\",\"Bug\",\"Bug\",\"Bug\",\"Bug\",\"Bug\",\"Bug\",\"Bug\",\"Bug\",\"Bug\",\"Bug\",\"Bug\",\"Bug\",\"Bug\",\"Bug\",\"Bug\",\"Bug\",\"Bug\",\"Bug\",\"Bug\"],\"x0\":\" \",\"xaxis\":\"x\",\"y\":[50.0,50.0,50.0,50.0,50.0,50.0,50.0,50.0,50.0,50.0,50.0,50.0,50.0,50.0,50.0,50.0,50.0,50.0,50.0,50.0,50.0,50.0,50.0,50.0,50.0,50.0,50.0,50.0,50.0,50.0,50.0,null,100.0,0.0,50.0,50.0,50.0,0.0,100.0,88.1,0.0,50.0,50.0,50.0,50.0,50.0,50.0,50.0,50.0,50.0,50.0,50.0,50.0,50.0,50.0,50.0,50.0,50.0,50.0,null],\"y0\":\" \",\"yaxis\":\"y\",\"type\":\"box\"},{\"alignmentgroup\":\"True\",\"hovertemplate\":\"<b>%{hovertext}</b><br><br>Primary=%{x}<br>percentage_male=%{y}<extra></extra>\",\"hovertext\":[\"Pidgey\",\"Pidgeotto\",\"Pidgeot\",\"Rattata\",\"Raticate\",\"Spearow\",\"Fearow\",\"Jigglypuff\",\"Wigglytuff\",\"Meowth\",\"Persian\",\"Farfetch'd\",\"Doduo\",\"Dodrio\",\"Lickitung\",\"Chansey\",\"Kangaskhan\",\"Tauros\",\"Ditto\",\"Eevee\",\"Porygon\",\"Snorlax\",\"Sentret\",\"Furret\",\"Hoothoot\",\"Noctowl\",\"Igglybuff\",\"Aipom\",\"Girafarig\",\"Dunsparce\",\"Teddiursa\",\"Ursaring\",\"Porygon2\",\"Stantler\",\"Smeargle\",\"Miltank\",\"Blissey\",\"Zigzagoon\",\"Linoone\",\"Taillow\",\"Swellow\",\"Slakoth\",\"Vigoroth\",\"Slaking\",\"Whismur\",\"Loudred\",\"Exploud\",\"Azurill\",\"Skitty\",\"Delcatty\",\"Spinda\",\"Swablu\",\"Zangoose\",\"Castform\",\"Kecleon\",\"Starly\",\"Staravia\",\"Staraptor\",\"Bidoof\",\"Bibarel\",\"Ambipom\",\"Buneary\",\"Lopunny\",\"Glameow\",\"Purugly\",\"Happiny\",\"Chatot\",\"Munchlax\",\"Lickilicky\",\"Porygon-Z\",\"Regigigas\",\"Arceus\",\"Patrat\",\"Watchog\",\"Lillipup\",\"Herdier\",\"Stoutland\",\"Pidove\",\"Tranquill\",\"Unfezant\",\"Audino\",\"Minccino\",\"Cinccino\",\"Deerling\",\"Sawsbuck\",\"Bouffalant\",\"Rufflet\",\"Braviary\",\"Meloetta\"],\"legendgroup\":\"Normal\",\"marker\":{\"color\":\"#A8A77A\"},\"name\":\"Normal\",\"notched\":false,\"offsetgroup\":\"Normal\",\"orientation\":\"v\",\"showlegend\":true,\"x\":[\"Normal\",\"Normal\",\"Normal\",\"Normal\",\"Normal\",\"Normal\",\"Normal\",\"Normal\",\"Normal\",\"Normal\",\"Normal\",\"Normal\",\"Normal\",\"Normal\",\"Normal\",\"Normal\",\"Normal\",\"Normal\",\"Normal\",\"Normal\",\"Normal\",\"Normal\",\"Normal\",\"Normal\",\"Normal\",\"Normal\",\"Normal\",\"Normal\",\"Normal\",\"Normal\",\"Normal\",\"Normal\",\"Normal\",\"Normal\",\"Normal\",\"Normal\",\"Normal\",\"Normal\",\"Normal\",\"Normal\",\"Normal\",\"Normal\",\"Normal\",\"Normal\",\"Normal\",\"Normal\",\"Normal\",\"Normal\",\"Normal\",\"Normal\",\"Normal\",\"Normal\",\"Normal\",\"Normal\",\"Normal\",\"Normal\",\"Normal\",\"Normal\",\"Normal\",\"Normal\",\"Normal\",\"Normal\",\"Normal\",\"Normal\",\"Normal\",\"Normal\",\"Normal\",\"Normal\",\"Normal\",\"Normal\",\"Normal\",\"Normal\",\"Normal\",\"Normal\",\"Normal\",\"Normal\",\"Normal\",\"Normal\",\"Normal\",\"Normal\",\"Normal\",\"Normal\",\"Normal\",\"Normal\",\"Normal\",\"Normal\",\"Normal\",\"Normal\",\"Normal\"],\"x0\":\" \",\"xaxis\":\"x\",\"y\":[50.0,50.0,50.0,50.0,50.0,50.0,50.0,24.6,24.6,50.0,50.0,50.0,50.0,50.0,50.0,0.0,0.0,100.0,null,88.1,null,88.1,50.0,50.0,50.0,50.0,24.6,50.0,50.0,50.0,50.0,50.0,null,50.0,50.0,0.0,0.0,50.0,50.0,50.0,50.0,50.0,50.0,50.0,50.0,50.0,50.0,24.6,24.6,24.6,50.0,50.0,50.0,50.0,50.0,50.0,50.0,50.0,50.0,50.0,50.0,50.0,50.0,24.6,24.6,0.0,50.0,88.1,50.0,null,null,null,50.0,50.0,50.0,50.0,50.0,50.0,50.0,50.0,50.0,24.6,24.6,50.0,50.0,50.0,100.0,100.0,null],\"y0\":\" \",\"yaxis\":\"y\",\"type\":\"box\"},{\"alignmentgroup\":\"True\",\"hovertemplate\":\"<b>%{hovertext}</b><br><br>Primary=%{x}<br>percentage_male=%{y}<extra></extra>\",\"hovertext\":[\"Ekans\",\"Arbok\",\"Nidoran\\u2640\",\"Nidorina\",\"Nidoqueen\",\"Nidoran\\u2642\",\"Nidorino\",\"Nidoking\",\"Zubat\",\"Golbat\",\"Grimer\",\"Muk\",\"Koffing\",\"Weezing\",\"Crobat\",\"Gulpin\",\"Swalot\",\"Seviper\",\"Stunky\",\"Skuntank\",\"Skorupi\",\"Drapion\",\"Croagunk\",\"Toxicroak\",\"Trubbish\",\"Garbodor\"],\"legendgroup\":\"Poison\",\"marker\":{\"color\":\"#A33EA1\"},\"name\":\"Poison\",\"notched\":false,\"offsetgroup\":\"Poison\",\"orientation\":\"v\",\"showlegend\":true,\"x\":[\"Poison\",\"Poison\",\"Poison\",\"Poison\",\"Poison\",\"Poison\",\"Poison\",\"Poison\",\"Poison\",\"Poison\",\"Poison\",\"Poison\",\"Poison\",\"Poison\",\"Poison\",\"Poison\",\"Poison\",\"Poison\",\"Poison\",\"Poison\",\"Poison\",\"Poison\",\"Poison\",\"Poison\",\"Poison\",\"Poison\"],\"x0\":\" \",\"xaxis\":\"x\",\"y\":[50.0,50.0,0.0,0.0,0.0,100.0,100.0,100.0,50.0,50.0,50.0,50.0,50.0,50.0,50.0,50.0,50.0,50.0,50.0,50.0,50.0,50.0,50.0,50.0,50.0,50.0],\"y0\":\" \",\"yaxis\":\"y\",\"type\":\"box\"},{\"alignmentgroup\":\"True\",\"hovertemplate\":\"<b>%{hovertext}</b><br><br>Primary=%{x}<br>percentage_male=%{y}<extra></extra>\",\"hovertext\":[\"Pikachu\",\"Raichu\",\"Magnemite\",\"Magneton\",\"Voltorb\",\"Electrode\",\"Electabuzz\",\"Jolteon\",\"Zapdos\",\"Pichu\",\"Mareep\",\"Flaaffy\",\"Ampharos\",\"Elekid\",\"Raikou\",\"Electrike\",\"Manectric\",\"Plusle\",\"Minun\",\"Shinx\",\"Luxio\",\"Luxray\",\"Pachirisu\",\"Magnezone\",\"Electivire\",\"Rotom\",\"Blitzle\",\"Zebstrika\",\"Emolga\",\"Tynamo\",\"Eelektrik\",\"Eelektross\",\"Thundurus\"],\"legendgroup\":\"Electric\",\"marker\":{\"color\":\"#F7D02C\"},\"name\":\"Electric\",\"notched\":false,\"offsetgroup\":\"Electric\",\"orientation\":\"v\",\"showlegend\":true,\"x\":[\"Electric\",\"Electric\",\"Electric\",\"Electric\",\"Electric\",\"Electric\",\"Electric\",\"Electric\",\"Electric\",\"Electric\",\"Electric\",\"Electric\",\"Electric\",\"Electric\",\"Electric\",\"Electric\",\"Electric\",\"Electric\",\"Electric\",\"Electric\",\"Electric\",\"Electric\",\"Electric\",\"Electric\",\"Electric\",\"Electric\",\"Electric\",\"Electric\",\"Electric\",\"Electric\",\"Electric\",\"Electric\",\"Electric\"],\"x0\":\" \",\"xaxis\":\"x\",\"y\":[50.0,50.0,null,null,null,null,75.4,88.1,null,50.0,50.0,50.0,50.0,75.4,null,50.0,50.0,50.0,50.0,50.0,50.0,50.0,50.0,null,75.4,null,50.0,50.0,50.0,50.0,50.0,50.0,100.0],\"y0\":\" \",\"yaxis\":\"y\",\"type\":\"box\"},{\"alignmentgroup\":\"True\",\"hovertemplate\":\"<b>%{hovertext}</b><br><br>Primary=%{x}<br>percentage_male=%{y}<extra></extra>\",\"hovertext\":[\"Sandshrew\",\"Sandslash\",\"Diglett\",\"Dugtrio\",\"Cubone\",\"Marowak\",\"Rhyhorn\",\"Rhydon\",\"Gligar\",\"Phanpy\",\"Donphan\",\"Trapinch\",\"Vibrava\",\"Flygon\",\"Baltoy\",\"Claydol\",\"Groudon\",\"Hippopotas\",\"Hippowdon\",\"Rhyperior\",\"Gliscor\",\"Drilbur\",\"Excadrill\",\"Sandile\",\"Krokorok\",\"Krookodile\",\"Stunfisk\",\"Golett\",\"Golurk\",\"Landorus\"],\"legendgroup\":\"Ground\",\"marker\":{\"color\":\"#E2BF65\"},\"name\":\"Ground\",\"notched\":false,\"offsetgroup\":\"Ground\",\"orientation\":\"v\",\"showlegend\":true,\"x\":[\"Ground\",\"Ground\",\"Ground\",\"Ground\",\"Ground\",\"Ground\",\"Ground\",\"Ground\",\"Ground\",\"Ground\",\"Ground\",\"Ground\",\"Ground\",\"Ground\",\"Ground\",\"Ground\",\"Ground\",\"Ground\",\"Ground\",\"Ground\",\"Ground\",\"Ground\",\"Ground\",\"Ground\",\"Ground\",\"Ground\",\"Ground\",\"Ground\",\"Ground\",\"Ground\"],\"x0\":\" \",\"xaxis\":\"x\",\"y\":[50.0,50.0,50.0,50.0,50.0,50.0,50.0,50.0,50.0,50.0,50.0,50.0,50.0,50.0,null,null,null,50.0,50.0,50.0,50.0,50.0,50.0,50.0,50.0,50.0,50.0,null,null,100.0],\"y0\":\" \",\"yaxis\":\"y\",\"type\":\"box\"},{\"alignmentgroup\":\"True\",\"hovertemplate\":\"<b>%{hovertext}</b><br><br>Primary=%{x}<br>percentage_male=%{y}<extra></extra>\",\"hovertext\":[\"Clefairy\",\"Clefable\",\"Cleffa\",\"Togepi\",\"Togetic\",\"Snubbull\",\"Granbull\",\"Togekiss\"],\"legendgroup\":\"Fairy\",\"marker\":{\"color\":\"#D685AD\"},\"name\":\"Fairy\",\"notched\":false,\"offsetgroup\":\"Fairy\",\"orientation\":\"v\",\"showlegend\":true,\"x\":[\"Fairy\",\"Fairy\",\"Fairy\",\"Fairy\",\"Fairy\",\"Fairy\",\"Fairy\",\"Fairy\"],\"x0\":\" \",\"xaxis\":\"x\",\"y\":[24.6,24.6,24.6,88.1,88.1,24.6,24.6,88.1],\"y0\":\" \",\"yaxis\":\"y\",\"type\":\"box\"},{\"alignmentgroup\":\"True\",\"hovertemplate\":\"<b>%{hovertext}</b><br><br>Primary=%{x}<br>percentage_male=%{y}<extra></extra>\",\"hovertext\":[\"Mankey\",\"Primeape\",\"Machop\",\"Machoke\",\"Machamp\",\"Hitmonlee\",\"Hitmonchan\",\"Tyrogue\",\"Hitmontop\",\"Makuhita\",\"Hariyama\",\"Meditite\",\"Medicham\",\"Riolu\",\"Lucario\",\"Timburr\",\"Gurdurr\",\"Conkeldurr\",\"Throh\",\"Sawk\",\"Mienfoo\",\"Mienshao\"],\"legendgroup\":\"Fighting\",\"marker\":{\"color\":\"#C22E28\"},\"name\":\"Fighting\",\"notched\":false,\"offsetgroup\":\"Fighting\",\"orientation\":\"v\",\"showlegend\":true,\"x\":[\"Fighting\",\"Fighting\",\"Fighting\",\"Fighting\",\"Fighting\",\"Fighting\",\"Fighting\",\"Fighting\",\"Fighting\",\"Fighting\",\"Fighting\",\"Fighting\",\"Fighting\",\"Fighting\",\"Fighting\",\"Fighting\",\"Fighting\",\"Fighting\",\"Fighting\",\"Fighting\",\"Fighting\",\"Fighting\"],\"x0\":\" \",\"xaxis\":\"x\",\"y\":[50.0,50.0,75.4,75.4,75.4,100.0,100.0,100.0,100.0,75.4,75.4,50.0,50.0,88.1,88.1,75.4,75.4,75.4,100.0,100.0,50.0,50.0],\"y0\":\" \",\"yaxis\":\"y\",\"type\":\"box\"},{\"alignmentgroup\":\"True\",\"hovertemplate\":\"<b>%{hovertext}</b><br><br>Primary=%{x}<br>percentage_male=%{y}<extra></extra>\",\"hovertext\":[\"Abra\",\"Kadabra\",\"Alakazam\",\"Drowzee\",\"Hypno\",\"Mr.\",\"Mewtwo\",\"Mew\",\"Natu\",\"Xatu\",\"Espeon\",\"Unown\",\"Wobbuffet\",\"Lugia\",\"Celebi\",\"Ralts\",\"Kirlia\",\"Gardevoir\",\"Spoink\",\"Grumpig\",\"Chimecho\",\"Wynaut\",\"Deoxys\",\"Chingling\",\"Mime\",\"Gallade\",\"Uxie\",\"Mesprit\",\"Azelf\",\"Cresselia\",\"Victini\",\"Munna\",\"Musharna\",\"Woobat\",\"Swoobat\",\"Sigilyph\",\"Gothita\",\"Gothorita\",\"Gothitelle\",\"Solosis\",\"Duosion\",\"Reuniclus\",\"Elgyem\",\"Beheeyem\"],\"legendgroup\":\"Psychic\",\"marker\":{\"color\":\"#F95587\"},\"name\":\"Psychic\",\"notched\":false,\"offsetgroup\":\"Psychic\",\"orientation\":\"v\",\"showlegend\":true,\"x\":[\"Psychic\",\"Psychic\",\"Psychic\",\"Psychic\",\"Psychic\",\"Psychic\",\"Psychic\",\"Psychic\",\"Psychic\",\"Psychic\",\"Psychic\",\"Psychic\",\"Psychic\",\"Psychic\",\"Psychic\",\"Psychic\",\"Psychic\",\"Psychic\",\"Psychic\",\"Psychic\",\"Psychic\",\"Psychic\",\"Psychic\",\"Psychic\",\"Psychic\",\"Psychic\",\"Psychic\",\"Psychic\",\"Psychic\",\"Psychic\",\"Psychic\",\"Psychic\",\"Psychic\",\"Psychic\",\"Psychic\",\"Psychic\",\"Psychic\",\"Psychic\",\"Psychic\",\"Psychic\",\"Psychic\",\"Psychic\",\"Psychic\",\"Psychic\"],\"x0\":\" \",\"xaxis\":\"x\",\"y\":[75.4,75.4,75.4,50.0,50.0,50.0,null,null,50.0,50.0,88.1,null,50.0,null,null,50.0,50.0,50.0,50.0,50.0,50.0,50.0,null,50.0,50.0,100.0,null,null,null,0.0,null,50.0,50.0,50.0,50.0,50.0,24.6,24.6,24.6,50.0,50.0,50.0,50.0,50.0],\"y0\":\" \",\"yaxis\":\"y\",\"type\":\"box\"},{\"alignmentgroup\":\"True\",\"hovertemplate\":\"<b>%{hovertext}</b><br><br>Primary=%{x}<br>percentage_male=%{y}<extra></extra>\",\"hovertext\":[\"Geodude\",\"Graveler\",\"Golem\",\"Onix\",\"Omanyte\",\"Omastar\",\"Kabuto\",\"Kabutops\",\"Aerodactyl\",\"Sudowoodo\",\"Larvitar\",\"Pupitar\",\"Tyranitar\",\"Nosepass\",\"Lunatone\",\"Solrock\",\"Lileep\",\"Cradily\",\"Anorith\",\"Armaldo\",\"Regirock\",\"Cranidos\",\"Rampardos\",\"Shieldon\",\"Bastiodon\",\"Bonsly\",\"Probopass\",\"Roggenrola\",\"Boldore\",\"Gigalith\",\"Archen\",\"Archeops\",\"Terrakion\"],\"legendgroup\":\"Rock\",\"marker\":{\"color\":\"#B6A136\"},\"name\":\"Rock\",\"notched\":false,\"offsetgroup\":\"Rock\",\"orientation\":\"v\",\"showlegend\":true,\"x\":[\"Rock\",\"Rock\",\"Rock\",\"Rock\",\"Rock\",\"Rock\",\"Rock\",\"Rock\",\"Rock\",\"Rock\",\"Rock\",\"Rock\",\"Rock\",\"Rock\",\"Rock\",\"Rock\",\"Rock\",\"Rock\",\"Rock\",\"Rock\",\"Rock\",\"Rock\",\"Rock\",\"Rock\",\"Rock\",\"Rock\",\"Rock\",\"Rock\",\"Rock\",\"Rock\",\"Rock\",\"Rock\",\"Rock\"],\"x0\":\" \",\"xaxis\":\"x\",\"y\":[50.0,50.0,50.0,50.0,88.1,88.1,88.1,88.1,88.1,50.0,50.0,50.0,50.0,50.0,null,null,88.1,88.1,88.1,88.1,null,88.1,88.1,88.1,88.1,50.0,50.0,50.0,50.0,50.0,88.1,88.1,null],\"y0\":\" \",\"yaxis\":\"y\",\"type\":\"box\"},{\"alignmentgroup\":\"True\",\"hovertemplate\":\"<b>%{hovertext}</b><br><br>Primary=%{x}<br>percentage_male=%{y}<extra></extra>\",\"hovertext\":[\"Gastly\",\"Haunter\",\"Gengar\",\"Misdreavus\",\"Shuppet\",\"Banette\",\"Duskull\",\"Dusclops\",\"Drifloon\",\"Drifblim\",\"Mismagius\",\"Spiritomb\",\"Dusknoir\",\"Giratina\",\"Yamask\",\"Cofagrigus\",\"Litwick\",\"Lampent\",\"Chandelure\"],\"legendgroup\":\"Ghost\",\"marker\":{\"color\":\"#735797\"},\"name\":\"Ghost\",\"notched\":false,\"offsetgroup\":\"Ghost\",\"orientation\":\"v\",\"showlegend\":true,\"x\":[\"Ghost\",\"Ghost\",\"Ghost\",\"Ghost\",\"Ghost\",\"Ghost\",\"Ghost\",\"Ghost\",\"Ghost\",\"Ghost\",\"Ghost\",\"Ghost\",\"Ghost\",\"Ghost\",\"Ghost\",\"Ghost\",\"Ghost\",\"Ghost\",\"Ghost\"],\"x0\":\" \",\"xaxis\":\"x\",\"y\":[50.0,50.0,50.0,50.0,50.0,50.0,50.0,50.0,50.0,50.0,50.0,50.0,50.0,null,50.0,50.0,50.0,50.0,50.0],\"y0\":\" \",\"yaxis\":\"y\",\"type\":\"box\"},{\"alignmentgroup\":\"True\",\"hovertemplate\":\"<b>%{hovertext}</b><br><br>Primary=%{x}<br>percentage_male=%{y}<extra></extra>\",\"hovertext\":[\"Jynx\",\"Articuno\",\"Swinub\",\"Piloswine\",\"Delibird\",\"Smoochum\",\"Snorunt\",\"Glalie\",\"Spheal\",\"Sealeo\",\"Walrein\",\"Regice\",\"Glaceon\",\"Mamoswine\",\"Froslass\",\"Vanillite\",\"Vanillish\",\"Vanilluxe\",\"Cubchoo\",\"Beartic\",\"Cryogonal\"],\"legendgroup\":\"Ice\",\"marker\":{\"color\":\"#96D9D6\"},\"name\":\"Ice\",\"notched\":false,\"offsetgroup\":\"Ice\",\"orientation\":\"v\",\"showlegend\":true,\"x\":[\"Ice\",\"Ice\",\"Ice\",\"Ice\",\"Ice\",\"Ice\",\"Ice\",\"Ice\",\"Ice\",\"Ice\",\"Ice\",\"Ice\",\"Ice\",\"Ice\",\"Ice\",\"Ice\",\"Ice\",\"Ice\",\"Ice\",\"Ice\",\"Ice\"],\"x0\":\" \",\"xaxis\":\"x\",\"y\":[0.0,null,50.0,50.0,50.0,0.0,50.0,50.0,50.0,50.0,50.0,null,88.1,50.0,0.0,50.0,50.0,50.0,50.0,50.0,null],\"y0\":\" \",\"yaxis\":\"y\",\"type\":\"box\"},{\"alignmentgroup\":\"True\",\"hovertemplate\":\"<b>%{hovertext}</b><br><br>Primary=%{x}<br>percentage_male=%{y}<extra></extra>\",\"hovertext\":[\"Dratini\",\"Dragonair\",\"Dragonite\",\"Altaria\",\"Bagon\",\"Shelgon\",\"Salamence\",\"Latias\",\"Latios\",\"Rayquaza\",\"Gible\",\"Gabite\",\"Garchomp\",\"Axew\",\"Fraxure\",\"Haxorus\",\"Druddigon\",\"Reshiram\",\"Zekrom\",\"Kyurem\"],\"legendgroup\":\"Dragon\",\"marker\":{\"color\":\"#6F35FC\"},\"name\":\"Dragon\",\"notched\":false,\"offsetgroup\":\"Dragon\",\"orientation\":\"v\",\"showlegend\":true,\"x\":[\"Dragon\",\"Dragon\",\"Dragon\",\"Dragon\",\"Dragon\",\"Dragon\",\"Dragon\",\"Dragon\",\"Dragon\",\"Dragon\",\"Dragon\",\"Dragon\",\"Dragon\",\"Dragon\",\"Dragon\",\"Dragon\",\"Dragon\",\"Dragon\",\"Dragon\",\"Dragon\"],\"x0\":\" \",\"xaxis\":\"x\",\"y\":[50.0,50.0,50.0,50.0,50.0,50.0,50.0,0.0,100.0,null,50.0,50.0,50.0,50.0,50.0,50.0,50.0,null,null,null],\"y0\":\" \",\"yaxis\":\"y\",\"type\":\"box\"},{\"alignmentgroup\":\"True\",\"hovertemplate\":\"<b>%{hovertext}</b><br><br>Primary=%{x}<br>percentage_male=%{y}<extra></extra>\",\"hovertext\":[\"Umbreon\",\"Murkrow\",\"Sneasel\",\"Houndour\",\"Houndoom\",\"Poochyena\",\"Mightyena\",\"Sableye\",\"Absol\",\"Honchkrow\",\"Weavile\",\"Darkrai\",\"Purrloin\",\"Liepard\",\"Scraggy\",\"Scrafty\",\"Zorua\",\"Zoroark\",\"Pawniard\",\"Bisharp\",\"Vullaby\",\"Mandibuzz\",\"Deino\",\"Zweilous\",\"Hydreigon\"],\"legendgroup\":\"Dark\",\"marker\":{\"color\":\"#705746\"},\"name\":\"Dark\",\"notched\":false,\"offsetgroup\":\"Dark\",\"orientation\":\"v\",\"showlegend\":true,\"x\":[\"Dark\",\"Dark\",\"Dark\",\"Dark\",\"Dark\",\"Dark\",\"Dark\",\"Dark\",\"Dark\",\"Dark\",\"Dark\",\"Dark\",\"Dark\",\"Dark\",\"Dark\",\"Dark\",\"Dark\",\"Dark\",\"Dark\",\"Dark\",\"Dark\",\"Dark\",\"Dark\",\"Dark\",\"Dark\"],\"x0\":\" \",\"xaxis\":\"x\",\"y\":[88.1,50.0,50.0,50.0,50.0,50.0,50.0,50.0,50.0,50.0,50.0,null,50.0,50.0,50.0,50.0,88.1,88.1,50.0,50.0,0.0,0.0,50.0,50.0,50.0],\"y0\":\" \",\"yaxis\":\"y\",\"type\":\"box\"},{\"alignmentgroup\":\"True\",\"hovertemplate\":\"<b>%{hovertext}</b><br><br>Primary=%{x}<br>percentage_male=%{y}<extra></extra>\",\"hovertext\":[\"Steelix\",\"Skarmory\",\"Mawile\",\"Aron\",\"Lairon\",\"Aggron\",\"Beldum\",\"Metang\",\"Metagross\",\"Registeel\",\"Jirachi\",\"Bronzor\",\"Bronzong\",\"Dialga\",\"Klink\",\"Klang\",\"Klinklang\",\"Cobalion\"],\"legendgroup\":\"Steel\",\"marker\":{\"color\":\"#B7B7CE\"},\"name\":\"Steel\",\"notched\":false,\"offsetgroup\":\"Steel\",\"orientation\":\"v\",\"showlegend\":true,\"x\":[\"Steel\",\"Steel\",\"Steel\",\"Steel\",\"Steel\",\"Steel\",\"Steel\",\"Steel\",\"Steel\",\"Steel\",\"Steel\",\"Steel\",\"Steel\",\"Steel\",\"Steel\",\"Steel\",\"Steel\",\"Steel\"],\"x0\":\" \",\"xaxis\":\"x\",\"y\":[50.0,50.0,50.0,50.0,50.0,50.0,null,null,null,null,null,null,null,null,null,null,null,null],\"y0\":\" \",\"yaxis\":\"y\",\"type\":\"box\"},{\"alignmentgroup\":\"True\",\"hovertemplate\":\"<b>%{hovertext}</b><br><br>Primary=%{x}<br>percentage_male=%{y}<extra></extra>\",\"hovertext\":[\"Tornadus\"],\"legendgroup\":\"Flying\",\"marker\":{\"color\":\"#A98FF3\"},\"name\":\"Flying\",\"notched\":false,\"offsetgroup\":\"Flying\",\"orientation\":\"v\",\"showlegend\":true,\"x\":[\"Flying\"],\"x0\":\" \",\"xaxis\":\"x\",\"y\":[100.0],\"y0\":\" \",\"yaxis\":\"y\",\"type\":\"box\"}],                        {\"template\":{\"data\":{\"bar\":[{\"error_x\":{\"color\":\"#2a3f5f\"},\"error_y\":{\"color\":\"#2a3f5f\"},\"marker\":{\"line\":{\"color\":\"#E5ECF6\",\"width\":0.5},\"pattern\":{\"fillmode\":\"overlay\",\"size\":10,\"solidity\":0.2}},\"type\":\"bar\"}],\"barpolar\":[{\"marker\":{\"line\":{\"color\":\"#E5ECF6\",\"width\":0.5},\"pattern\":{\"fillmode\":\"overlay\",\"size\":10,\"solidity\":0.2}},\"type\":\"barpolar\"}],\"carpet\":[{\"aaxis\":{\"endlinecolor\":\"#2a3f5f\",\"gridcolor\":\"white\",\"linecolor\":\"white\",\"minorgridcolor\":\"white\",\"startlinecolor\":\"#2a3f5f\"},\"baxis\":{\"endlinecolor\":\"#2a3f5f\",\"gridcolor\":\"white\",\"linecolor\":\"white\",\"minorgridcolor\":\"white\",\"startlinecolor\":\"#2a3f5f\"},\"type\":\"carpet\"}],\"choropleth\":[{\"colorbar\":{\"outlinewidth\":0,\"ticks\":\"\"},\"type\":\"choropleth\"}],\"contour\":[{\"colorbar\":{\"outlinewidth\":0,\"ticks\":\"\"},\"colorscale\":[[0.0,\"#0d0887\"],[0.1111111111111111,\"#46039f\"],[0.2222222222222222,\"#7201a8\"],[0.3333333333333333,\"#9c179e\"],[0.4444444444444444,\"#bd3786\"],[0.5555555555555556,\"#d8576b\"],[0.6666666666666666,\"#ed7953\"],[0.7777777777777778,\"#fb9f3a\"],[0.8888888888888888,\"#fdca26\"],[1.0,\"#f0f921\"]],\"type\":\"contour\"}],\"contourcarpet\":[{\"colorbar\":{\"outlinewidth\":0,\"ticks\":\"\"},\"type\":\"contourcarpet\"}],\"heatmap\":[{\"colorbar\":{\"outlinewidth\":0,\"ticks\":\"\"},\"colorscale\":[[0.0,\"#0d0887\"],[0.1111111111111111,\"#46039f\"],[0.2222222222222222,\"#7201a8\"],[0.3333333333333333,\"#9c179e\"],[0.4444444444444444,\"#bd3786\"],[0.5555555555555556,\"#d8576b\"],[0.6666666666666666,\"#ed7953\"],[0.7777777777777778,\"#fb9f3a\"],[0.8888888888888888,\"#fdca26\"],[1.0,\"#f0f921\"]],\"type\":\"heatmap\"}],\"heatmapgl\":[{\"colorbar\":{\"outlinewidth\":0,\"ticks\":\"\"},\"colorscale\":[[0.0,\"#0d0887\"],[0.1111111111111111,\"#46039f\"],[0.2222222222222222,\"#7201a8\"],[0.3333333333333333,\"#9c179e\"],[0.4444444444444444,\"#bd3786\"],[0.5555555555555556,\"#d8576b\"],[0.6666666666666666,\"#ed7953\"],[0.7777777777777778,\"#fb9f3a\"],[0.8888888888888888,\"#fdca26\"],[1.0,\"#f0f921\"]],\"type\":\"heatmapgl\"}],\"histogram\":[{\"marker\":{\"pattern\":{\"fillmode\":\"overlay\",\"size\":10,\"solidity\":0.2}},\"type\":\"histogram\"}],\"histogram2d\":[{\"colorbar\":{\"outlinewidth\":0,\"ticks\":\"\"},\"colorscale\":[[0.0,\"#0d0887\"],[0.1111111111111111,\"#46039f\"],[0.2222222222222222,\"#7201a8\"],[0.3333333333333333,\"#9c179e\"],[0.4444444444444444,\"#bd3786\"],[0.5555555555555556,\"#d8576b\"],[0.6666666666666666,\"#ed7953\"],[0.7777777777777778,\"#fb9f3a\"],[0.8888888888888888,\"#fdca26\"],[1.0,\"#f0f921\"]],\"type\":\"histogram2d\"}],\"histogram2dcontour\":[{\"colorbar\":{\"outlinewidth\":0,\"ticks\":\"\"},\"colorscale\":[[0.0,\"#0d0887\"],[0.1111111111111111,\"#46039f\"],[0.2222222222222222,\"#7201a8\"],[0.3333333333333333,\"#9c179e\"],[0.4444444444444444,\"#bd3786\"],[0.5555555555555556,\"#d8576b\"],[0.6666666666666666,\"#ed7953\"],[0.7777777777777778,\"#fb9f3a\"],[0.8888888888888888,\"#fdca26\"],[1.0,\"#f0f921\"]],\"type\":\"histogram2dcontour\"}],\"mesh3d\":[{\"colorbar\":{\"outlinewidth\":0,\"ticks\":\"\"},\"type\":\"mesh3d\"}],\"parcoords\":[{\"line\":{\"colorbar\":{\"outlinewidth\":0,\"ticks\":\"\"}},\"type\":\"parcoords\"}],\"pie\":[{\"automargin\":true,\"type\":\"pie\"}],\"scatter\":[{\"marker\":{\"colorbar\":{\"outlinewidth\":0,\"ticks\":\"\"}},\"type\":\"scatter\"}],\"scatter3d\":[{\"line\":{\"colorbar\":{\"outlinewidth\":0,\"ticks\":\"\"}},\"marker\":{\"colorbar\":{\"outlinewidth\":0,\"ticks\":\"\"}},\"type\":\"scatter3d\"}],\"scattercarpet\":[{\"marker\":{\"colorbar\":{\"outlinewidth\":0,\"ticks\":\"\"}},\"type\":\"scattercarpet\"}],\"scattergeo\":[{\"marker\":{\"colorbar\":{\"outlinewidth\":0,\"ticks\":\"\"}},\"type\":\"scattergeo\"}],\"scattergl\":[{\"marker\":{\"colorbar\":{\"outlinewidth\":0,\"ticks\":\"\"}},\"type\":\"scattergl\"}],\"scattermapbox\":[{\"marker\":{\"colorbar\":{\"outlinewidth\":0,\"ticks\":\"\"}},\"type\":\"scattermapbox\"}],\"scatterpolar\":[{\"marker\":{\"colorbar\":{\"outlinewidth\":0,\"ticks\":\"\"}},\"type\":\"scatterpolar\"}],\"scatterpolargl\":[{\"marker\":{\"colorbar\":{\"outlinewidth\":0,\"ticks\":\"\"}},\"type\":\"scatterpolargl\"}],\"scatterternary\":[{\"marker\":{\"colorbar\":{\"outlinewidth\":0,\"ticks\":\"\"}},\"type\":\"scatterternary\"}],\"surface\":[{\"colorbar\":{\"outlinewidth\":0,\"ticks\":\"\"},\"colorscale\":[[0.0,\"#0d0887\"],[0.1111111111111111,\"#46039f\"],[0.2222222222222222,\"#7201a8\"],[0.3333333333333333,\"#9c179e\"],[0.4444444444444444,\"#bd3786\"],[0.5555555555555556,\"#d8576b\"],[0.6666666666666666,\"#ed7953\"],[0.7777777777777778,\"#fb9f3a\"],[0.8888888888888888,\"#fdca26\"],[1.0,\"#f0f921\"]],\"type\":\"surface\"}],\"table\":[{\"cells\":{\"fill\":{\"color\":\"#EBF0F8\"},\"line\":{\"color\":\"white\"}},\"header\":{\"fill\":{\"color\":\"#C8D4E3\"},\"line\":{\"color\":\"white\"}},\"type\":\"table\"}]},\"layout\":{\"annotationdefaults\":{\"arrowcolor\":\"#2a3f5f\",\"arrowhead\":0,\"arrowwidth\":1},\"autotypenumbers\":\"strict\",\"coloraxis\":{\"colorbar\":{\"outlinewidth\":0,\"ticks\":\"\"}},\"colorscale\":{\"diverging\":[[0,\"#8e0152\"],[0.1,\"#c51b7d\"],[0.2,\"#de77ae\"],[0.3,\"#f1b6da\"],[0.4,\"#fde0ef\"],[0.5,\"#f7f7f7\"],[0.6,\"#e6f5d0\"],[0.7,\"#b8e186\"],[0.8,\"#7fbc41\"],[0.9,\"#4d9221\"],[1,\"#276419\"]],\"sequential\":[[0.0,\"#0d0887\"],[0.1111111111111111,\"#46039f\"],[0.2222222222222222,\"#7201a8\"],[0.3333333333333333,\"#9c179e\"],[0.4444444444444444,\"#bd3786\"],[0.5555555555555556,\"#d8576b\"],[0.6666666666666666,\"#ed7953\"],[0.7777777777777778,\"#fb9f3a\"],[0.8888888888888888,\"#fdca26\"],[1.0,\"#f0f921\"]],\"sequentialminus\":[[0.0,\"#0d0887\"],[0.1111111111111111,\"#46039f\"],[0.2222222222222222,\"#7201a8\"],[0.3333333333333333,\"#9c179e\"],[0.4444444444444444,\"#bd3786\"],[0.5555555555555556,\"#d8576b\"],[0.6666666666666666,\"#ed7953\"],[0.7777777777777778,\"#fb9f3a\"],[0.8888888888888888,\"#fdca26\"],[1.0,\"#f0f921\"]]},\"colorway\":[\"#636efa\",\"#EF553B\",\"#00cc96\",\"#ab63fa\",\"#FFA15A\",\"#19d3f3\",\"#FF6692\",\"#B6E880\",\"#FF97FF\",\"#FECB52\"],\"font\":{\"color\":\"#2a3f5f\"},\"geo\":{\"bgcolor\":\"white\",\"lakecolor\":\"white\",\"landcolor\":\"#E5ECF6\",\"showlakes\":true,\"showland\":true,\"subunitcolor\":\"white\"},\"hoverlabel\":{\"align\":\"left\"},\"hovermode\":\"closest\",\"mapbox\":{\"style\":\"light\"},\"paper_bgcolor\":\"white\",\"plot_bgcolor\":\"#E5ECF6\",\"polar\":{\"angularaxis\":{\"gridcolor\":\"white\",\"linecolor\":\"white\",\"ticks\":\"\"},\"bgcolor\":\"#E5ECF6\",\"radialaxis\":{\"gridcolor\":\"white\",\"linecolor\":\"white\",\"ticks\":\"\"}},\"scene\":{\"xaxis\":{\"backgroundcolor\":\"#E5ECF6\",\"gridcolor\":\"white\",\"gridwidth\":2,\"linecolor\":\"white\",\"showbackground\":true,\"ticks\":\"\",\"zerolinecolor\":\"white\"},\"yaxis\":{\"backgroundcolor\":\"#E5ECF6\",\"gridcolor\":\"white\",\"gridwidth\":2,\"linecolor\":\"white\",\"showbackground\":true,\"ticks\":\"\",\"zerolinecolor\":\"white\"},\"zaxis\":{\"backgroundcolor\":\"#E5ECF6\",\"gridcolor\":\"white\",\"gridwidth\":2,\"linecolor\":\"white\",\"showbackground\":true,\"ticks\":\"\",\"zerolinecolor\":\"white\"}},\"shapedefaults\":{\"line\":{\"color\":\"#2a3f5f\"}},\"ternary\":{\"aaxis\":{\"gridcolor\":\"white\",\"linecolor\":\"white\",\"ticks\":\"\"},\"baxis\":{\"gridcolor\":\"white\",\"linecolor\":\"white\",\"ticks\":\"\"},\"bgcolor\":\"#E5ECF6\",\"caxis\":{\"gridcolor\":\"white\",\"linecolor\":\"white\",\"ticks\":\"\"}},\"title\":{\"x\":0.05},\"xaxis\":{\"automargin\":true,\"gridcolor\":\"white\",\"linecolor\":\"white\",\"ticks\":\"\",\"title\":{\"standoff\":15},\"zerolinecolor\":\"white\",\"zerolinewidth\":2},\"yaxis\":{\"automargin\":true,\"gridcolor\":\"white\",\"linecolor\":\"white\",\"ticks\":\"\",\"title\":{\"standoff\":15},\"zerolinecolor\":\"white\",\"zerolinewidth\":2}}},\"xaxis\":{\"anchor\":\"y\",\"domain\":[0.0,1.0],\"title\":{\"text\":\"Primary\"},\"categoryorder\":\"array\",\"categoryarray\":[\"Grass\",\"Fire\",\"Water\",\"Bug\",\"Normal\",\"Poison\",\"Electric\",\"Ground\",\"Fairy\",\"Fighting\",\"Psychic\",\"Rock\",\"Ghost\",\"Ice\",\"Dragon\",\"Dark\",\"Steel\",\"Flying\"]},\"yaxis\":{\"anchor\":\"x\",\"domain\":[0.0,1.0],\"title\":{\"text\":\"percentage_male\"}},\"legend\":{\"title\":{\"text\":\"Primary\"},\"tracegroupgap\":0},\"margin\":{\"t\":60},\"boxmode\":\"overlay\"},                        {\"responsive\": true}                    ).then(function(){\n",
       "                            \n",
       "var gd = document.getElementById('c40da3bc-f6f0-43f6-9670-8cbfecb5248f');\n",
       "var x = new MutationObserver(function (mutations, observer) {{\n",
       "        var display = window.getComputedStyle(gd).display;\n",
       "        if (!display || display === 'none') {{\n",
       "            console.log([gd, 'removed!']);\n",
       "            Plotly.purge(gd);\n",
       "            observer.disconnect();\n",
       "        }}\n",
       "}});\n",
       "\n",
       "// Listen for the removal of the full notebook cells\n",
       "var notebookContainer = gd.closest('#notebook-container');\n",
       "if (notebookContainer) {{\n",
       "    x.observe(notebookContainer, {childList: true});\n",
       "}}\n",
       "\n",
       "// Listen for the clearing of the current output cell\n",
       "var outputEl = gd.closest('.output');\n",
       "if (outputEl) {{\n",
       "    x.observe(outputEl, {childList: true});\n",
       "}}\n",
       "\n",
       "                        })                };                });            </script>        </div>"
      ]
     },
     "metadata": {},
     "output_type": "display_data"
    }
   ],
   "source": [
    "#static graphic\n",
    "fig=px.box(pokemon, x=\"Primary\", y=\"percentage_male\",hover_name=\"Name\",\n",
    "       color=\"Primary\", color_discrete_map=colours)\n",
    "\n",
    "fig.show()"
   ]
  },
  {
   "cell_type": "code",
   "execution_count": 39,
   "id": "6039dd55",
   "metadata": {},
   "outputs": [
    {
     "data": {
      "application/vnd.plotly.v1+json": {
       "config": {
        "plotlyServerURL": "https://plot.ly"
       },
       "data": [
        {
         "alignmentgroup": "True",
         "hovertemplate": "<b>%{hovertext}</b><br><br>Primary=%{x}<br>Stamina=%{y}<extra></extra>",
         "hovertext": [
          "Bulbasaur",
          "Ivysaur",
          "Venusaur",
          "Oddish",
          "Gloom",
          "Vileplume",
          "Bellsprout",
          "Weepinbell",
          "Victreebel",
          "Exeggcute",
          "Exeggutor",
          "Tangela",
          "Chikorita",
          "Bayleef",
          "Meganium",
          "Bellossom",
          "Hoppip",
          "Skiploom",
          "Jumpluff",
          "Sunkern",
          "Sunflora",
          "Treecko",
          "Grovyle",
          "Sceptile",
          "Seedot",
          "Nuzleaf",
          "Shiftry",
          "Shroomish",
          "Breloom",
          "Roselia",
          "Cacnea",
          "Cacturne",
          "Tropius",
          "Turtwig",
          "Grotle",
          "Torterra",
          "Budew",
          "Roserade",
          "Cherubi",
          "Cherrim",
          "Carnivine",
          "Snover",
          "Abomasnow",
          "Tangrowth",
          "Leafeon",
          "Shaymin",
          "Snivy",
          "Servine",
          "Serperior",
          "Pansage",
          "Simisage",
          "Cottonee",
          "Whimsicott",
          "Petilil",
          "Lilligant",
          "Maractus",
          "Foongus",
          "Amoonguss",
          "Ferroseed",
          "Ferrothorn",
          "Virizion"
         ],
         "legendgroup": "Grass",
         "marker": {
          "color": "#7AC74C"
         },
         "name": "Grass",
         "notched": false,
         "offsetgroup": "Grass",
         "orientation": "v",
         "showlegend": true,
         "type": "box",
         "x": [
          "Grass",
          "Grass",
          "Grass",
          "Grass",
          "Grass",
          "Grass",
          "Grass",
          "Grass",
          "Grass",
          "Grass",
          "Grass",
          "Grass",
          "Grass",
          "Grass",
          "Grass",
          "Grass",
          "Grass",
          "Grass",
          "Grass",
          "Grass",
          "Grass",
          "Grass",
          "Grass",
          "Grass",
          "Grass",
          "Grass",
          "Grass",
          "Grass",
          "Grass",
          "Grass",
          "Grass",
          "Grass",
          "Grass",
          "Grass",
          "Grass",
          "Grass",
          "Grass",
          "Grass",
          "Grass",
          "Grass",
          "Grass",
          "Grass",
          "Grass",
          "Grass",
          "Grass",
          "Grass",
          "Grass",
          "Grass",
          "Grass",
          "Grass",
          "Grass",
          "Grass",
          "Grass",
          "Grass",
          "Grass",
          "Grass",
          "Grass",
          "Grass",
          "Grass",
          "Grass",
          "Grass"
         ],
         "x0": " ",
         "xaxis": "x",
         "y": [
          128,
          155,
          190,
          128,
          155,
          181,
          137,
          163,
          190,
          155,
          216,
          163,
          128,
          155,
          190,
          181,
          111,
          146,
          181,
          102,
          181,
          120,
          137,
          172,
          120,
          172,
          207,
          155,
          155,
          137,
          137,
          172,
          223,
          146,
          181,
          216,
          120,
          155,
          128,
          172,
          179,
          155,
          207,
          225,
          163,
          225,
          128,
          155,
          181,
          137,
          181,
          120,
          155,
          128,
          172,
          181,
          170,
          249,
          127,
          179,
          209
         ],
         "y0": " ",
         "yaxis": "y"
        },
        {
         "alignmentgroup": "True",
         "hovertemplate": "<b>%{hovertext}</b><br><br>Primary=%{x}<br>Stamina=%{y}<extra></extra>",
         "hovertext": [
          "Charmander",
          "Charmeleon",
          "Charizard",
          "Vulpix",
          "Ninetales",
          "Growlithe",
          "Arcanine",
          "Ponyta",
          "Rapidash",
          "Magmar",
          "Flareon",
          "Moltres",
          "Cyndaquil",
          "Quilava",
          "Typhlosion",
          "Slugma",
          "Magcargo",
          "Magby",
          "Entei",
          "Ho-Oh",
          "Torchic",
          "Combusken",
          "Blaziken",
          "Numel",
          "Camerupt",
          "Torkoal",
          "Chimchar",
          "Monferno",
          "Infernape",
          "Magmortar",
          "Heatran",
          "Tepig",
          "Pignite",
          "Emboar",
          "Pansear",
          "Simisear",
          "Darumaka",
          "Darmanitan",
          "Heatmor"
         ],
         "legendgroup": "Fire",
         "marker": {
          "color": "#EE8130"
         },
         "name": "Fire",
         "notched": false,
         "offsetgroup": "Fire",
         "orientation": "v",
         "showlegend": true,
         "type": "box",
         "x": [
          "Fire",
          "Fire",
          "Fire",
          "Fire",
          "Fire",
          "Fire",
          "Fire",
          "Fire",
          "Fire",
          "Fire",
          "Fire",
          "Fire",
          "Fire",
          "Fire",
          "Fire",
          "Fire",
          "Fire",
          "Fire",
          "Fire",
          "Fire",
          "Fire",
          "Fire",
          "Fire",
          "Fire",
          "Fire",
          "Fire",
          "Fire",
          "Fire",
          "Fire",
          "Fire",
          "Fire",
          "Fire",
          "Fire",
          "Fire",
          "Fire",
          "Fire",
          "Fire",
          "Fire",
          "Fire"
         ],
         "x0": " ",
         "xaxis": "x",
         "y": [
          118,
          151,
          186,
          116,
          177,
          146,
          207,
          137,
          163,
          163,
          163,
          207,
          118,
          151,
          186,
          120,
          137,
          128,
          251,
          214,
          128,
          155,
          190,
          155,
          172,
          172,
          127,
          162,
          183,
          181,
          209,
          163,
          207,
          242,
          137,
          181,
          172,
          233,
          198
         ],
         "y0": " ",
         "yaxis": "y"
        },
        {
         "alignmentgroup": "True",
         "hovertemplate": "<b>%{hovertext}</b><br><br>Primary=%{x}<br>Stamina=%{y}<extra></extra>",
         "hovertext": [
          "Squirtle",
          "Wartortle",
          "Blastoise",
          "Psyduck",
          "Golduck",
          "Poliwag",
          "Poliwhirl",
          "Poliwrath",
          "Tentacool",
          "Tentacruel",
          "Slowpoke",
          "Slowbro",
          "Seel",
          "Dewgong",
          "Shellder",
          "Cloyster",
          "Krabby",
          "Kingler",
          "Horsea",
          "Seadra",
          "Goldeen",
          "Seaking",
          "Staryu",
          "Starmie",
          "Magikarp",
          "Gyarados",
          "Lapras",
          "Vaporeon",
          "Totodile",
          "Croconaw",
          "Feraligatr",
          "Chinchou",
          "Lanturn",
          "Marill",
          "Azumarill",
          "Politoed",
          "Wooper",
          "Quagsire",
          "Slowking",
          "Qwilfish",
          "Corsola",
          "Remoraid",
          "Octillery",
          "Mantine",
          "Kingdra",
          "Suicune",
          "Mudkip",
          "Marshtomp",
          "Swampert",
          "Lotad",
          "Lombre",
          "Ludicolo",
          "Wingull",
          "Pelipper",
          "Carvanha",
          "Sharpedo",
          "Wailmer",
          "Wailord",
          "Barboach",
          "Whiscash",
          "Corphish",
          "Crawdaunt",
          "Feebas",
          "Milotic",
          "Clamperl",
          "Huntail",
          "Gorebyss",
          "Relicanth",
          "Luvdisc",
          "Kyogre",
          "Piplup",
          "Prinplup",
          "Empoleon",
          "Buizel",
          "Floatzel",
          "Shellos",
          "Gastrodon",
          "Finneon",
          "Lumineon",
          "Mantyke",
          "Palkia",
          "Phione",
          "Manaphy",
          "Oshawott",
          "Dewott",
          "Samurott",
          "Panpour",
          "Simipour",
          "Tympole",
          "Palpitoad",
          "Seismitoad",
          "Basculin",
          "Tirtouga",
          "Carracosta",
          "Ducklett",
          "Swanna",
          "Frillish",
          "Jellicent",
          "Alomomola",
          "Keldeo"
         ],
         "legendgroup": "Water",
         "marker": {
          "color": "#6390F0"
         },
         "name": "Water",
         "notched": false,
         "offsetgroup": "Water",
         "orientation": "v",
         "showlegend": true,
         "type": "box",
         "x": [
          "Water",
          "Water",
          "Water",
          "Water",
          "Water",
          "Water",
          "Water",
          "Water",
          "Water",
          "Water",
          "Water",
          "Water",
          "Water",
          "Water",
          "Water",
          "Water",
          "Water",
          "Water",
          "Water",
          "Water",
          "Water",
          "Water",
          "Water",
          "Water",
          "Water",
          "Water",
          "Water",
          "Water",
          "Water",
          "Water",
          "Water",
          "Water",
          "Water",
          "Water",
          "Water",
          "Water",
          "Water",
          "Water",
          "Water",
          "Water",
          "Water",
          "Water",
          "Water",
          "Water",
          "Water",
          "Water",
          "Water",
          "Water",
          "Water",
          "Water",
          "Water",
          "Water",
          "Water",
          "Water",
          "Water",
          "Water",
          "Water",
          "Water",
          "Water",
          "Water",
          "Water",
          "Water",
          "Water",
          "Water",
          "Water",
          "Water",
          "Water",
          "Water",
          "Water",
          "Water",
          "Water",
          "Water",
          "Water",
          "Water",
          "Water",
          "Water",
          "Water",
          "Water",
          "Water",
          "Water",
          "Water",
          "Water",
          "Water",
          "Water",
          "Water",
          "Water",
          "Water",
          "Water",
          "Water",
          "Water",
          "Water",
          "Water",
          "Water",
          "Water",
          "Water",
          "Water",
          "Water",
          "Water",
          "Water",
          "Water"
         ],
         "x0": " ",
         "xaxis": "x",
         "y": [
          127,
          153,
          188,
          137,
          190,
          120,
          163,
          207,
          120,
          190,
          207,
          216,
          163,
          207,
          102,
          137,
          102,
          146,
          102,
          146,
          128,
          190,
          102,
          155,
          85,
          216,
          277,
          277,
          137,
          163,
          198,
          181,
          268,
          172,
          225,
          207,
          146,
          216,
          216,
          163,
          146,
          111,
          181,
          163,
          181,
          225,
          137,
          172,
          225,
          120,
          155,
          190,
          120,
          155,
          128,
          172,
          277,
          347,
          137,
          242,
          125,
          160,
          85,
          216,
          111,
          146,
          146,
          225,
          125,
          205,
          142,
          162,
          197,
          146,
          198,
          183,
          244,
          135,
          170,
          128,
          189,
          190,
          225,
          146,
          181,
          216,
          137,
          181,
          137,
          181,
          233,
          172,
          144,
          179,
          158,
          181,
          146,
          225,
          338,
          209
         ],
         "y0": " ",
         "yaxis": "y"
        },
        {
         "alignmentgroup": "True",
         "hovertemplate": "<b>%{hovertext}</b><br><br>Primary=%{x}<br>Stamina=%{y}<extra></extra>",
         "hovertext": [
          "Caterpie",
          "Metapod",
          "Butterfree",
          "Weedle",
          "Kakuna",
          "Beedrill",
          "Paras",
          "Parasect",
          "Venonat",
          "Venomoth",
          "Scyther",
          "Pinsir",
          "Ledyba",
          "Ledian",
          "Spinarak",
          "Ariados",
          "Yanma",
          "Pineco",
          "Forretress",
          "Scizor",
          "Shuckle",
          "Heracross",
          "Wurmple",
          "Silcoon",
          "Beautifly",
          "Cascoon",
          "Dustox",
          "Surskit",
          "Masquerain",
          "Nincada",
          "Ninjask",
          "Shedinja",
          "Volbeat",
          "Illumise",
          "Kricketot",
          "Kricketune",
          "Burmy",
          "Wormadam",
          "Mothim",
          "Combee",
          "Vespiquen",
          "Yanmega",
          "Sewaddle",
          "Swadloon",
          "Leavanny",
          "Venipede",
          "Whirlipede",
          "Scolipede",
          "Dwebble",
          "Crustle",
          "Karrablast",
          "Escavalier",
          "Joltik",
          "Galvantula",
          "Shelmet",
          "Accelgor",
          "Durant",
          "Larvesta",
          "Volcarona",
          "Genesect"
         ],
         "legendgroup": "Bug",
         "marker": {
          "color": "#A6B91A"
         },
         "name": "Bug",
         "notched": false,
         "offsetgroup": "Bug",
         "orientation": "v",
         "showlegend": true,
         "type": "box",
         "x": [
          "Bug",
          "Bug",
          "Bug",
          "Bug",
          "Bug",
          "Bug",
          "Bug",
          "Bug",
          "Bug",
          "Bug",
          "Bug",
          "Bug",
          "Bug",
          "Bug",
          "Bug",
          "Bug",
          "Bug",
          "Bug",
          "Bug",
          "Bug",
          "Bug",
          "Bug",
          "Bug",
          "Bug",
          "Bug",
          "Bug",
          "Bug",
          "Bug",
          "Bug",
          "Bug",
          "Bug",
          "Bug",
          "Bug",
          "Bug",
          "Bug",
          "Bug",
          "Bug",
          "Bug",
          "Bug",
          "Bug",
          "Bug",
          "Bug",
          "Bug",
          "Bug",
          "Bug",
          "Bug",
          "Bug",
          "Bug",
          "Bug",
          "Bug",
          "Bug",
          "Bug",
          "Bug",
          "Bug",
          "Bug",
          "Bug",
          "Bug",
          "Bug",
          "Bug",
          "Bug"
         ],
         "x0": " ",
         "xaxis": "x",
         "y": [
          128,
          137,
          155,
          120,
          128,
          163,
          111,
          155,
          155,
          172,
          172,
          163,
          120,
          146,
          120,
          172,
          163,
          137,
          181,
          172,
          85,
          190,
          128,
          137,
          155,
          137,
          155,
          120,
          172,
          104,
          156,
          1,
          163,
          163,
          114,
          184,
          120,
          155,
          172,
          102,
          172,
          200,
          128,
          146,
          181,
          102,
          120,
          155,
          137,
          172,
          137,
          172,
          137,
          172,
          137,
          190,
          151,
          146,
          198,
          174
         ],
         "y0": " ",
         "yaxis": "y"
        },
        {
         "alignmentgroup": "True",
         "hovertemplate": "<b>%{hovertext}</b><br><br>Primary=%{x}<br>Stamina=%{y}<extra></extra>",
         "hovertext": [
          "Pidgey",
          "Pidgeotto",
          "Pidgeot",
          "Rattata",
          "Raticate",
          "Spearow",
          "Fearow",
          "Jigglypuff",
          "Wigglytuff",
          "Meowth",
          "Persian",
          "Farfetch'd",
          "Doduo",
          "Dodrio",
          "Lickitung",
          "Chansey",
          "Kangaskhan",
          "Tauros",
          "Ditto",
          "Eevee",
          "Porygon",
          "Snorlax",
          "Sentret",
          "Furret",
          "Hoothoot",
          "Noctowl",
          "Igglybuff",
          "Aipom",
          "Girafarig",
          "Dunsparce",
          "Teddiursa",
          "Ursaring",
          "Porygon2",
          "Stantler",
          "Smeargle",
          "Miltank",
          "Blissey",
          "Zigzagoon",
          "Linoone",
          "Taillow",
          "Swellow",
          "Slakoth",
          "Vigoroth",
          "Slaking",
          "Whismur",
          "Loudred",
          "Exploud",
          "Azurill",
          "Skitty",
          "Delcatty",
          "Spinda",
          "Swablu",
          "Zangoose",
          "Castform",
          "Kecleon",
          "Starly",
          "Staravia",
          "Staraptor",
          "Bidoof",
          "Bibarel",
          "Ambipom",
          "Buneary",
          "Lopunny",
          "Glameow",
          "Purugly",
          "Happiny",
          "Chatot",
          "Munchlax",
          "Lickilicky",
          "Porygon-Z",
          "Regigigas",
          "Arceus",
          "Patrat",
          "Watchog",
          "Lillipup",
          "Herdier",
          "Stoutland",
          "Pidove",
          "Tranquill",
          "Unfezant",
          "Audino",
          "Minccino",
          "Cinccino",
          "Deerling",
          "Sawsbuck",
          "Bouffalant",
          "Rufflet",
          "Braviary",
          "Meloetta"
         ],
         "legendgroup": "Normal",
         "marker": {
          "color": "#A8A77A"
         },
         "name": "Normal",
         "notched": false,
         "offsetgroup": "Normal",
         "orientation": "v",
         "showlegend": true,
         "type": "box",
         "x": [
          "Normal",
          "Normal",
          "Normal",
          "Normal",
          "Normal",
          "Normal",
          "Normal",
          "Normal",
          "Normal",
          "Normal",
          "Normal",
          "Normal",
          "Normal",
          "Normal",
          "Normal",
          "Normal",
          "Normal",
          "Normal",
          "Normal",
          "Normal",
          "Normal",
          "Normal",
          "Normal",
          "Normal",
          "Normal",
          "Normal",
          "Normal",
          "Normal",
          "Normal",
          "Normal",
          "Normal",
          "Normal",
          "Normal",
          "Normal",
          "Normal",
          "Normal",
          "Normal",
          "Normal",
          "Normal",
          "Normal",
          "Normal",
          "Normal",
          "Normal",
          "Normal",
          "Normal",
          "Normal",
          "Normal",
          "Normal",
          "Normal",
          "Normal",
          "Normal",
          "Normal",
          "Normal",
          "Normal",
          "Normal",
          "Normal",
          "Normal",
          "Normal",
          "Normal",
          "Normal",
          "Normal",
          "Normal",
          "Normal",
          "Normal",
          "Normal",
          "Normal",
          "Normal",
          "Normal",
          "Normal",
          "Normal",
          "Normal",
          "Normal",
          "Normal",
          "Normal",
          "Normal",
          "Normal",
          "Normal",
          "Normal",
          "Normal",
          "Normal",
          "Normal",
          "Normal",
          "Normal",
          "Normal",
          "Normal",
          "Normal",
          "Normal",
          "Normal",
          "Normal"
         ],
         "x0": " ",
         "xaxis": "x",
         "y": [
          120,
          160,
          195,
          102,
          146,
          120,
          163,
          251,
          295,
          120,
          163,
          141,
          111,
          155,
          207,
          487,
          233,
          181,
          134,
          146,
          163,
          330,
          111,
          198,
          155,
          225,
          207,
          146,
          172,
          225,
          155,
          207,
          198,
          177,
          146,
          216,
          496,
          116,
          186,
          120,
          155,
          155,
          190,
          284,
          162,
          197,
          232,
          137,
          137,
          172,
          155,
          128,
          177,
          172,
          155,
          120,
          146,
          198,
          153,
          188,
          181,
          146,
          163,
          135,
          174,
          225,
          183,
          286,
          242,
          198,
          221,
          237,
          128,
          155,
          128,
          163,
          198,
          137,
          158,
          190,
          230,
          146,
          181,
          155,
          190,
          216,
          172,
          225,
          225
         ],
         "y0": " ",
         "yaxis": "y"
        },
        {
         "alignmentgroup": "True",
         "hovertemplate": "<b>%{hovertext}</b><br><br>Primary=%{x}<br>Stamina=%{y}<extra></extra>",
         "hovertext": [
          "Ekans",
          "Arbok",
          "Nidoran♀",
          "Nidorina",
          "Nidoqueen",
          "Nidoran♂",
          "Nidorino",
          "Nidoking",
          "Zubat",
          "Golbat",
          "Grimer",
          "Muk",
          "Koffing",
          "Weezing",
          "Crobat",
          "Gulpin",
          "Swalot",
          "Seviper",
          "Stunky",
          "Skuntank",
          "Skorupi",
          "Drapion",
          "Croagunk",
          "Toxicroak",
          "Trubbish",
          "Garbodor"
         ],
         "legendgroup": "Poison",
         "marker": {
          "color": "#A33EA1"
         },
         "name": "Poison",
         "notched": false,
         "offsetgroup": "Poison",
         "orientation": "v",
         "showlegend": true,
         "type": "box",
         "x": [
          "Poison",
          "Poison",
          "Poison",
          "Poison",
          "Poison",
          "Poison",
          "Poison",
          "Poison",
          "Poison",
          "Poison",
          "Poison",
          "Poison",
          "Poison",
          "Poison",
          "Poison",
          "Poison",
          "Poison",
          "Poison",
          "Poison",
          "Poison",
          "Poison",
          "Poison",
          "Poison",
          "Poison",
          "Poison",
          "Poison"
         ],
         "x0": " ",
         "xaxis": "x",
         "y": [
          111,
          155,
          146,
          172,
          207,
          130,
          156,
          191,
          120,
          181,
          190,
          233,
          120,
          163,
          198,
          172,
          225,
          177,
          160,
          230,
          120,
          172,
          134,
          195,
          137,
          190
         ],
         "y0": " ",
         "yaxis": "y"
        },
        {
         "alignmentgroup": "True",
         "hovertemplate": "<b>%{hovertext}</b><br><br>Primary=%{x}<br>Stamina=%{y}<extra></extra>",
         "hovertext": [
          "Pikachu",
          "Raichu",
          "Magnemite",
          "Magneton",
          "Voltorb",
          "Electrode",
          "Electabuzz",
          "Jolteon",
          "Zapdos",
          "Pichu",
          "Mareep",
          "Flaaffy",
          "Ampharos",
          "Elekid",
          "Raikou",
          "Electrike",
          "Manectric",
          "Plusle",
          "Minun",
          "Shinx",
          "Luxio",
          "Luxray",
          "Pachirisu",
          "Magnezone",
          "Electivire",
          "Rotom",
          "Blitzle",
          "Zebstrika",
          "Emolga",
          "Tynamo",
          "Eelektrik",
          "Eelektross",
          "Thundurus"
         ],
         "legendgroup": "Electric",
         "marker": {
          "color": "#F7D02C"
         },
         "name": "Electric",
         "notched": false,
         "offsetgroup": "Electric",
         "orientation": "v",
         "showlegend": true,
         "type": "box",
         "x": [
          "Electric",
          "Electric",
          "Electric",
          "Electric",
          "Electric",
          "Electric",
          "Electric",
          "Electric",
          "Electric",
          "Electric",
          "Electric",
          "Electric",
          "Electric",
          "Electric",
          "Electric",
          "Electric",
          "Electric",
          "Electric",
          "Electric",
          "Electric",
          "Electric",
          "Electric",
          "Electric",
          "Electric",
          "Electric",
          "Electric",
          "Electric",
          "Electric",
          "Electric",
          "Electric",
          "Electric",
          "Electric",
          "Electric"
         ],
         "x0": " ",
         "xaxis": "x",
         "y": [
          111,
          155,
          93,
          137,
          120,
          155,
          163,
          163,
          207,
          85,
          146,
          172,
          207,
          128,
          207,
          120,
          172,
          155,
          155,
          128,
          155,
          190,
          155,
          172,
          181,
          137,
          128,
          181,
          146,
          111,
          163,
          198,
          188
         ],
         "y0": " ",
         "yaxis": "y"
        },
        {
         "alignmentgroup": "True",
         "hovertemplate": "<b>%{hovertext}</b><br><br>Primary=%{x}<br>Stamina=%{y}<extra></extra>",
         "hovertext": [
          "Sandshrew",
          "Sandslash",
          "Diglett",
          "Dugtrio",
          "Cubone",
          "Marowak",
          "Rhyhorn",
          "Rhydon",
          "Gligar",
          "Phanpy",
          "Donphan",
          "Trapinch",
          "Vibrava",
          "Flygon",
          "Baltoy",
          "Claydol",
          "Groudon",
          "Hippopotas",
          "Hippowdon",
          "Rhyperior",
          "Gliscor",
          "Drilbur",
          "Excadrill",
          "Sandile",
          "Krokorok",
          "Krookodile",
          "Stunfisk",
          "Golett",
          "Golurk",
          "Landorus"
         ],
         "legendgroup": "Ground",
         "marker": {
          "color": "#E2BF65"
         },
         "name": "Ground",
         "notched": false,
         "offsetgroup": "Ground",
         "orientation": "v",
         "showlegend": true,
         "type": "box",
         "x": [
          "Ground",
          "Ground",
          "Ground",
          "Ground",
          "Ground",
          "Ground",
          "Ground",
          "Ground",
          "Ground",
          "Ground",
          "Ground",
          "Ground",
          "Ground",
          "Ground",
          "Ground",
          "Ground",
          "Ground",
          "Ground",
          "Ground",
          "Ground",
          "Ground",
          "Ground",
          "Ground",
          "Ground",
          "Ground",
          "Ground",
          "Ground",
          "Ground",
          "Ground",
          "Ground"
         ],
         "x0": " ",
         "xaxis": "x",
         "y": [
          137,
          181,
          67,
          111,
          137,
          155,
          190,
          233,
          163,
          207,
          207,
          128,
          137,
          190,
          120,
          155,
          205,
          169,
          239,
          251,
          181,
          155,
          242,
          137,
          155,
          216,
          240,
          153,
          205,
          205
         ],
         "y0": " ",
         "yaxis": "y"
        },
        {
         "alignmentgroup": "True",
         "hovertemplate": "<b>%{hovertext}</b><br><br>Primary=%{x}<br>Stamina=%{y}<extra></extra>",
         "hovertext": [
          "Clefairy",
          "Clefable",
          "Cleffa",
          "Togepi",
          "Togetic",
          "Snubbull",
          "Granbull",
          "Togekiss"
         ],
         "legendgroup": "Fairy",
         "marker": {
          "color": "#D685AD"
         },
         "name": "Fairy",
         "notched": false,
         "offsetgroup": "Fairy",
         "orientation": "v",
         "showlegend": true,
         "type": "box",
         "x": [
          "Fairy",
          "Fairy",
          "Fairy",
          "Fairy",
          "Fairy",
          "Fairy",
          "Fairy",
          "Fairy"
         ],
         "x0": " ",
         "xaxis": "x",
         "y": [
          172,
          216,
          137,
          111,
          146,
          155,
          207,
          198
         ],
         "y0": " ",
         "yaxis": "y"
        },
        {
         "alignmentgroup": "True",
         "hovertemplate": "<b>%{hovertext}</b><br><br>Primary=%{x}<br>Stamina=%{y}<extra></extra>",
         "hovertext": [
          "Mankey",
          "Primeape",
          "Machop",
          "Machoke",
          "Machamp",
          "Hitmonlee",
          "Hitmonchan",
          "Tyrogue",
          "Hitmontop",
          "Makuhita",
          "Hariyama",
          "Meditite",
          "Medicham",
          "Riolu",
          "Lucario",
          "Timburr",
          "Gurdurr",
          "Conkeldurr",
          "Throh",
          "Sawk",
          "Mienfoo",
          "Mienshao"
         ],
         "legendgroup": "Fighting",
         "marker": {
          "color": "#C22E28"
         },
         "name": "Fighting",
         "notched": false,
         "offsetgroup": "Fighting",
         "orientation": "v",
         "showlegend": true,
         "type": "box",
         "x": [
          "Fighting",
          "Fighting",
          "Fighting",
          "Fighting",
          "Fighting",
          "Fighting",
          "Fighting",
          "Fighting",
          "Fighting",
          "Fighting",
          "Fighting",
          "Fighting",
          "Fighting",
          "Fighting",
          "Fighting",
          "Fighting",
          "Fighting",
          "Fighting",
          "Fighting",
          "Fighting",
          "Fighting",
          "Fighting"
         ],
         "x0": " ",
         "xaxis": "x",
         "y": [
          120,
          163,
          172,
          190,
          207,
          137,
          137,
          111,
          137,
          176,
          302,
          102,
          155,
          120,
          172,
          181,
          198,
          233,
          260,
          181,
          128,
          163
         ],
         "y0": " ",
         "yaxis": "y"
        },
        {
         "alignmentgroup": "True",
         "hovertemplate": "<b>%{hovertext}</b><br><br>Primary=%{x}<br>Stamina=%{y}<extra></extra>",
         "hovertext": [
          "Abra",
          "Kadabra",
          "Alakazam",
          "Drowzee",
          "Hypno",
          "Mr.",
          "Mewtwo",
          "Mew",
          "Natu",
          "Xatu",
          "Espeon",
          "Unown",
          "Wobbuffet",
          "Lugia",
          "Celebi",
          "Ralts",
          "Kirlia",
          "Gardevoir",
          "Spoink",
          "Grumpig",
          "Chimecho",
          "Wynaut",
          "Deoxys",
          "Chingling",
          "Mime",
          "Gallade",
          "Uxie",
          "Mesprit",
          "Azelf",
          "Cresselia",
          "Victini",
          "Munna",
          "Musharna",
          "Woobat",
          "Swoobat",
          "Sigilyph",
          "Gothita",
          "Gothorita",
          "Gothitelle",
          "Solosis",
          "Duosion",
          "Reuniclus",
          "Elgyem",
          "Beheeyem"
         ],
         "legendgroup": "Psychic",
         "marker": {
          "color": "#F95587"
         },
         "name": "Psychic",
         "notched": false,
         "offsetgroup": "Psychic",
         "orientation": "v",
         "showlegend": true,
         "type": "box",
         "x": [
          "Psychic",
          "Psychic",
          "Psychic",
          "Psychic",
          "Psychic",
          "Psychic",
          "Psychic",
          "Psychic",
          "Psychic",
          "Psychic",
          "Psychic",
          "Psychic",
          "Psychic",
          "Psychic",
          "Psychic",
          "Psychic",
          "Psychic",
          "Psychic",
          "Psychic",
          "Psychic",
          "Psychic",
          "Psychic",
          "Psychic",
          "Psychic",
          "Psychic",
          "Psychic",
          "Psychic",
          "Psychic",
          "Psychic",
          "Psychic",
          "Psychic",
          "Psychic",
          "Psychic",
          "Psychic",
          "Psychic",
          "Psychic",
          "Psychic",
          "Psychic",
          "Psychic",
          "Psychic",
          "Psychic",
          "Psychic",
          "Psychic",
          "Psychic"
         ],
         "x0": " ",
         "xaxis": "x",
         "y": [
          93,
          120,
          146,
          155,
          198,
          120,
          214,
          225,
          120,
          163,
          163,
          134,
          382,
          235,
          225,
          99,
          116,
          169,
          155,
          190,
          181,
          216,
          137,
          128,
          85,
          169,
          181,
          190,
          181,
          260,
          225,
          183,
          253,
          163,
          167,
          176,
          128,
          155,
          172,
          128,
          163,
          242,
          146,
          181
         ],
         "y0": " ",
         "yaxis": "y"
        },
        {
         "alignmentgroup": "True",
         "hovertemplate": "<b>%{hovertext}</b><br><br>Primary=%{x}<br>Stamina=%{y}<extra></extra>",
         "hovertext": [
          "Geodude",
          "Graveler",
          "Golem",
          "Onix",
          "Omanyte",
          "Omastar",
          "Kabuto",
          "Kabutops",
          "Aerodactyl",
          "Sudowoodo",
          "Larvitar",
          "Pupitar",
          "Tyranitar",
          "Nosepass",
          "Lunatone",
          "Solrock",
          "Lileep",
          "Cradily",
          "Anorith",
          "Armaldo",
          "Regirock",
          "Cranidos",
          "Rampardos",
          "Shieldon",
          "Bastiodon",
          "Bonsly",
          "Probopass",
          "Roggenrola",
          "Boldore",
          "Gigalith",
          "Archen",
          "Archeops",
          "Terrakion"
         ],
         "legendgroup": "Rock",
         "marker": {
          "color": "#B6A136"
         },
         "name": "Rock",
         "notched": false,
         "offsetgroup": "Rock",
         "orientation": "v",
         "showlegend": true,
         "type": "box",
         "x": [
          "Rock",
          "Rock",
          "Rock",
          "Rock",
          "Rock",
          "Rock",
          "Rock",
          "Rock",
          "Rock",
          "Rock",
          "Rock",
          "Rock",
          "Rock",
          "Rock",
          "Rock",
          "Rock",
          "Rock",
          "Rock",
          "Rock",
          "Rock",
          "Rock",
          "Rock",
          "Rock",
          "Rock",
          "Rock",
          "Rock",
          "Rock",
          "Rock",
          "Rock",
          "Rock",
          "Rock",
          "Rock",
          "Rock"
         ],
         "x0": " ",
         "xaxis": "x",
         "y": [
          120,
          146,
          190,
          111,
          111,
          172,
          102,
          155,
          190,
          172,
          137,
          172,
          225,
          102,
          207,
          207,
          165,
          200,
          128,
          181,
          190,
          167,
          219,
          102,
          155,
          137,
          155,
          146,
          172,
          198,
          146,
          181,
          209
         ],
         "y0": " ",
         "yaxis": "y"
        },
        {
         "alignmentgroup": "True",
         "hovertemplate": "<b>%{hovertext}</b><br><br>Primary=%{x}<br>Stamina=%{y}<extra></extra>",
         "hovertext": [
          "Gastly",
          "Haunter",
          "Gengar",
          "Misdreavus",
          "Shuppet",
          "Banette",
          "Duskull",
          "Dusclops",
          "Drifloon",
          "Drifblim",
          "Mismagius",
          "Spiritomb",
          "Dusknoir",
          "Giratina",
          "Yamask",
          "Cofagrigus",
          "Litwick",
          "Lampent",
          "Chandelure"
         ],
         "legendgroup": "Ghost",
         "marker": {
          "color": "#735797"
         },
         "name": "Ghost",
         "notched": false,
         "offsetgroup": "Ghost",
         "orientation": "v",
         "showlegend": true,
         "type": "box",
         "x": [
          "Ghost",
          "Ghost",
          "Ghost",
          "Ghost",
          "Ghost",
          "Ghost",
          "Ghost",
          "Ghost",
          "Ghost",
          "Ghost",
          "Ghost",
          "Ghost",
          "Ghost",
          "Ghost",
          "Ghost",
          "Ghost",
          "Ghost",
          "Ghost",
          "Ghost"
         ],
         "x0": " ",
         "xaxis": "x",
         "y": [
          102,
          128,
          155,
          155,
          127,
          162,
          85,
          120,
          207,
          312,
          155,
          137,
          128,
          284,
          116,
          151,
          137,
          155,
          155
         ],
         "y0": " ",
         "yaxis": "y"
        },
        {
         "alignmentgroup": "True",
         "hovertemplate": "<b>%{hovertext}</b><br><br>Primary=%{x}<br>Stamina=%{y}<extra></extra>",
         "hovertext": [
          "Jynx",
          "Articuno",
          "Swinub",
          "Piloswine",
          "Delibird",
          "Smoochum",
          "Snorunt",
          "Glalie",
          "Spheal",
          "Sealeo",
          "Walrein",
          "Regice",
          "Glaceon",
          "Mamoswine",
          "Froslass",
          "Vanillite",
          "Vanillish",
          "Vanilluxe",
          "Cubchoo",
          "Beartic",
          "Cryogonal"
         ],
         "legendgroup": "Ice",
         "marker": {
          "color": "#96D9D6"
         },
         "name": "Ice",
         "notched": false,
         "offsetgroup": "Ice",
         "orientation": "v",
         "showlegend": true,
         "type": "box",
         "x": [
          "Ice",
          "Ice",
          "Ice",
          "Ice",
          "Ice",
          "Ice",
          "Ice",
          "Ice",
          "Ice",
          "Ice",
          "Ice",
          "Ice",
          "Ice",
          "Ice",
          "Ice",
          "Ice",
          "Ice",
          "Ice",
          "Ice",
          "Ice",
          "Ice"
         ],
         "x0": " ",
         "xaxis": "x",
         "y": [
          163,
          207,
          137,
          225,
          128,
          128,
          137,
          190,
          172,
          207,
          242,
          190,
          163,
          242,
          172,
          113,
          139,
          174,
          146,
          216,
          190
         ],
         "y0": " ",
         "yaxis": "y"
        },
        {
         "alignmentgroup": "True",
         "hovertemplate": "<b>%{hovertext}</b><br><br>Primary=%{x}<br>Stamina=%{y}<extra></extra>",
         "hovertext": [
          "Dratini",
          "Dragonair",
          "Dragonite",
          "Altaria",
          "Bagon",
          "Shelgon",
          "Salamence",
          "Latias",
          "Latios",
          "Rayquaza",
          "Gible",
          "Gabite",
          "Garchomp",
          "Axew",
          "Fraxure",
          "Haxorus",
          "Druddigon",
          "Reshiram",
          "Zekrom",
          "Kyurem"
         ],
         "legendgroup": "Dragon",
         "marker": {
          "color": "#6F35FC"
         },
         "name": "Dragon",
         "notched": false,
         "offsetgroup": "Dragon",
         "orientation": "v",
         "showlegend": true,
         "type": "box",
         "x": [
          "Dragon",
          "Dragon",
          "Dragon",
          "Dragon",
          "Dragon",
          "Dragon",
          "Dragon",
          "Dragon",
          "Dragon",
          "Dragon",
          "Dragon",
          "Dragon",
          "Dragon",
          "Dragon",
          "Dragon",
          "Dragon",
          "Dragon",
          "Dragon",
          "Dragon",
          "Dragon"
         ],
         "x0": " ",
         "xaxis": "x",
         "y": [
          121,
          156,
          209,
          181,
          128,
          163,
          216,
          190,
          190,
          213,
          151,
          169,
          239,
          130,
          165,
          183,
          184,
          205,
          205,
          245
         ],
         "y0": " ",
         "yaxis": "y"
        },
        {
         "alignmentgroup": "True",
         "hovertemplate": "<b>%{hovertext}</b><br><br>Primary=%{x}<br>Stamina=%{y}<extra></extra>",
         "hovertext": [
          "Umbreon",
          "Murkrow",
          "Sneasel",
          "Houndour",
          "Houndoom",
          "Poochyena",
          "Mightyena",
          "Sableye",
          "Absol",
          "Honchkrow",
          "Weavile",
          "Darkrai",
          "Purrloin",
          "Liepard",
          "Scraggy",
          "Scrafty",
          "Zorua",
          "Zoroark",
          "Pawniard",
          "Bisharp",
          "Vullaby",
          "Mandibuzz",
          "Deino",
          "Zweilous",
          "Hydreigon"
         ],
         "legendgroup": "Dark",
         "marker": {
          "color": "#705746"
         },
         "name": "Dark",
         "notched": false,
         "offsetgroup": "Dark",
         "orientation": "v",
         "showlegend": true,
         "type": "box",
         "x": [
          "Dark",
          "Dark",
          "Dark",
          "Dark",
          "Dark",
          "Dark",
          "Dark",
          "Dark",
          "Dark",
          "Dark",
          "Dark",
          "Dark",
          "Dark",
          "Dark",
          "Dark",
          "Dark",
          "Dark",
          "Dark",
          "Dark",
          "Dark",
          "Dark",
          "Dark",
          "Dark",
          "Dark",
          "Dark"
         ],
         "x0": " ",
         "xaxis": "x",
         "y": [
          216,
          155,
          146,
          128,
          181,
          111,
          172,
          137,
          163,
          225,
          172,
          172,
          121,
          162,
          137,
          163,
          120,
          155,
          128,
          163,
          172,
          242,
          141,
          176,
          211
         ],
         "y0": " ",
         "yaxis": "y"
        },
        {
         "alignmentgroup": "True",
         "hovertemplate": "<b>%{hovertext}</b><br><br>Primary=%{x}<br>Stamina=%{y}<extra></extra>",
         "hovertext": [
          "Steelix",
          "Skarmory",
          "Mawile",
          "Aron",
          "Lairon",
          "Aggron",
          "Beldum",
          "Metang",
          "Metagross",
          "Registeel",
          "Jirachi",
          "Bronzor",
          "Bronzong",
          "Dialga",
          "Klink",
          "Klang",
          "Klinklang",
          "Cobalion"
         ],
         "legendgroup": "Steel",
         "marker": {
          "color": "#B7B7CE"
         },
         "name": "Steel",
         "notched": false,
         "offsetgroup": "Steel",
         "orientation": "v",
         "showlegend": true,
         "type": "box",
         "x": [
          "Steel",
          "Steel",
          "Steel",
          "Steel",
          "Steel",
          "Steel",
          "Steel",
          "Steel",
          "Steel",
          "Steel",
          "Steel",
          "Steel",
          "Steel",
          "Steel",
          "Steel",
          "Steel",
          "Steel",
          "Steel"
         ],
         "x0": " ",
         "xaxis": "x",
         "y": [
          181,
          163,
          137,
          137,
          155,
          172,
          120,
          155,
          190,
          190,
          225,
          149,
          167,
          205,
          120,
          155,
          155,
          209
         ],
         "y0": " ",
         "yaxis": "y"
        },
        {
         "alignmentgroup": "True",
         "hovertemplate": "<b>%{hovertext}</b><br><br>Primary=%{x}<br>Stamina=%{y}<extra></extra>",
         "hovertext": [
          "Tornadus"
         ],
         "legendgroup": "Flying",
         "marker": {
          "color": "#A98FF3"
         },
         "name": "Flying",
         "notched": false,
         "offsetgroup": "Flying",
         "orientation": "v",
         "showlegend": true,
         "type": "box",
         "x": [
          "Flying"
         ],
         "x0": " ",
         "xaxis": "x",
         "y": [
          188
         ],
         "y0": " ",
         "yaxis": "y"
        }
       ],
       "layout": {
        "boxmode": "overlay",
        "legend": {
         "title": {
          "text": "Primary"
         },
         "tracegroupgap": 0
        },
        "margin": {
         "t": 60
        },
        "template": {
         "data": {
          "bar": [
           {
            "error_x": {
             "color": "#2a3f5f"
            },
            "error_y": {
             "color": "#2a3f5f"
            },
            "marker": {
             "line": {
              "color": "#E5ECF6",
              "width": 0.5
             },
             "pattern": {
              "fillmode": "overlay",
              "size": 10,
              "solidity": 0.2
             }
            },
            "type": "bar"
           }
          ],
          "barpolar": [
           {
            "marker": {
             "line": {
              "color": "#E5ECF6",
              "width": 0.5
             },
             "pattern": {
              "fillmode": "overlay",
              "size": 10,
              "solidity": 0.2
             }
            },
            "type": "barpolar"
           }
          ],
          "carpet": [
           {
            "aaxis": {
             "endlinecolor": "#2a3f5f",
             "gridcolor": "white",
             "linecolor": "white",
             "minorgridcolor": "white",
             "startlinecolor": "#2a3f5f"
            },
            "baxis": {
             "endlinecolor": "#2a3f5f",
             "gridcolor": "white",
             "linecolor": "white",
             "minorgridcolor": "white",
             "startlinecolor": "#2a3f5f"
            },
            "type": "carpet"
           }
          ],
          "choropleth": [
           {
            "colorbar": {
             "outlinewidth": 0,
             "ticks": ""
            },
            "type": "choropleth"
           }
          ],
          "contour": [
           {
            "colorbar": {
             "outlinewidth": 0,
             "ticks": ""
            },
            "colorscale": [
             [
              0,
              "#0d0887"
             ],
             [
              0.1111111111111111,
              "#46039f"
             ],
             [
              0.2222222222222222,
              "#7201a8"
             ],
             [
              0.3333333333333333,
              "#9c179e"
             ],
             [
              0.4444444444444444,
              "#bd3786"
             ],
             [
              0.5555555555555556,
              "#d8576b"
             ],
             [
              0.6666666666666666,
              "#ed7953"
             ],
             [
              0.7777777777777778,
              "#fb9f3a"
             ],
             [
              0.8888888888888888,
              "#fdca26"
             ],
             [
              1,
              "#f0f921"
             ]
            ],
            "type": "contour"
           }
          ],
          "contourcarpet": [
           {
            "colorbar": {
             "outlinewidth": 0,
             "ticks": ""
            },
            "type": "contourcarpet"
           }
          ],
          "heatmap": [
           {
            "colorbar": {
             "outlinewidth": 0,
             "ticks": ""
            },
            "colorscale": [
             [
              0,
              "#0d0887"
             ],
             [
              0.1111111111111111,
              "#46039f"
             ],
             [
              0.2222222222222222,
              "#7201a8"
             ],
             [
              0.3333333333333333,
              "#9c179e"
             ],
             [
              0.4444444444444444,
              "#bd3786"
             ],
             [
              0.5555555555555556,
              "#d8576b"
             ],
             [
              0.6666666666666666,
              "#ed7953"
             ],
             [
              0.7777777777777778,
              "#fb9f3a"
             ],
             [
              0.8888888888888888,
              "#fdca26"
             ],
             [
              1,
              "#f0f921"
             ]
            ],
            "type": "heatmap"
           }
          ],
          "heatmapgl": [
           {
            "colorbar": {
             "outlinewidth": 0,
             "ticks": ""
            },
            "colorscale": [
             [
              0,
              "#0d0887"
             ],
             [
              0.1111111111111111,
              "#46039f"
             ],
             [
              0.2222222222222222,
              "#7201a8"
             ],
             [
              0.3333333333333333,
              "#9c179e"
             ],
             [
              0.4444444444444444,
              "#bd3786"
             ],
             [
              0.5555555555555556,
              "#d8576b"
             ],
             [
              0.6666666666666666,
              "#ed7953"
             ],
             [
              0.7777777777777778,
              "#fb9f3a"
             ],
             [
              0.8888888888888888,
              "#fdca26"
             ],
             [
              1,
              "#f0f921"
             ]
            ],
            "type": "heatmapgl"
           }
          ],
          "histogram": [
           {
            "marker": {
             "pattern": {
              "fillmode": "overlay",
              "size": 10,
              "solidity": 0.2
             }
            },
            "type": "histogram"
           }
          ],
          "histogram2d": [
           {
            "colorbar": {
             "outlinewidth": 0,
             "ticks": ""
            },
            "colorscale": [
             [
              0,
              "#0d0887"
             ],
             [
              0.1111111111111111,
              "#46039f"
             ],
             [
              0.2222222222222222,
              "#7201a8"
             ],
             [
              0.3333333333333333,
              "#9c179e"
             ],
             [
              0.4444444444444444,
              "#bd3786"
             ],
             [
              0.5555555555555556,
              "#d8576b"
             ],
             [
              0.6666666666666666,
              "#ed7953"
             ],
             [
              0.7777777777777778,
              "#fb9f3a"
             ],
             [
              0.8888888888888888,
              "#fdca26"
             ],
             [
              1,
              "#f0f921"
             ]
            ],
            "type": "histogram2d"
           }
          ],
          "histogram2dcontour": [
           {
            "colorbar": {
             "outlinewidth": 0,
             "ticks": ""
            },
            "colorscale": [
             [
              0,
              "#0d0887"
             ],
             [
              0.1111111111111111,
              "#46039f"
             ],
             [
              0.2222222222222222,
              "#7201a8"
             ],
             [
              0.3333333333333333,
              "#9c179e"
             ],
             [
              0.4444444444444444,
              "#bd3786"
             ],
             [
              0.5555555555555556,
              "#d8576b"
             ],
             [
              0.6666666666666666,
              "#ed7953"
             ],
             [
              0.7777777777777778,
              "#fb9f3a"
             ],
             [
              0.8888888888888888,
              "#fdca26"
             ],
             [
              1,
              "#f0f921"
             ]
            ],
            "type": "histogram2dcontour"
           }
          ],
          "mesh3d": [
           {
            "colorbar": {
             "outlinewidth": 0,
             "ticks": ""
            },
            "type": "mesh3d"
           }
          ],
          "parcoords": [
           {
            "line": {
             "colorbar": {
              "outlinewidth": 0,
              "ticks": ""
             }
            },
            "type": "parcoords"
           }
          ],
          "pie": [
           {
            "automargin": true,
            "type": "pie"
           }
          ],
          "scatter": [
           {
            "marker": {
             "colorbar": {
              "outlinewidth": 0,
              "ticks": ""
             }
            },
            "type": "scatter"
           }
          ],
          "scatter3d": [
           {
            "line": {
             "colorbar": {
              "outlinewidth": 0,
              "ticks": ""
             }
            },
            "marker": {
             "colorbar": {
              "outlinewidth": 0,
              "ticks": ""
             }
            },
            "type": "scatter3d"
           }
          ],
          "scattercarpet": [
           {
            "marker": {
             "colorbar": {
              "outlinewidth": 0,
              "ticks": ""
             }
            },
            "type": "scattercarpet"
           }
          ],
          "scattergeo": [
           {
            "marker": {
             "colorbar": {
              "outlinewidth": 0,
              "ticks": ""
             }
            },
            "type": "scattergeo"
           }
          ],
          "scattergl": [
           {
            "marker": {
             "colorbar": {
              "outlinewidth": 0,
              "ticks": ""
             }
            },
            "type": "scattergl"
           }
          ],
          "scattermapbox": [
           {
            "marker": {
             "colorbar": {
              "outlinewidth": 0,
              "ticks": ""
             }
            },
            "type": "scattermapbox"
           }
          ],
          "scatterpolar": [
           {
            "marker": {
             "colorbar": {
              "outlinewidth": 0,
              "ticks": ""
             }
            },
            "type": "scatterpolar"
           }
          ],
          "scatterpolargl": [
           {
            "marker": {
             "colorbar": {
              "outlinewidth": 0,
              "ticks": ""
             }
            },
            "type": "scatterpolargl"
           }
          ],
          "scatterternary": [
           {
            "marker": {
             "colorbar": {
              "outlinewidth": 0,
              "ticks": ""
             }
            },
            "type": "scatterternary"
           }
          ],
          "surface": [
           {
            "colorbar": {
             "outlinewidth": 0,
             "ticks": ""
            },
            "colorscale": [
             [
              0,
              "#0d0887"
             ],
             [
              0.1111111111111111,
              "#46039f"
             ],
             [
              0.2222222222222222,
              "#7201a8"
             ],
             [
              0.3333333333333333,
              "#9c179e"
             ],
             [
              0.4444444444444444,
              "#bd3786"
             ],
             [
              0.5555555555555556,
              "#d8576b"
             ],
             [
              0.6666666666666666,
              "#ed7953"
             ],
             [
              0.7777777777777778,
              "#fb9f3a"
             ],
             [
              0.8888888888888888,
              "#fdca26"
             ],
             [
              1,
              "#f0f921"
             ]
            ],
            "type": "surface"
           }
          ],
          "table": [
           {
            "cells": {
             "fill": {
              "color": "#EBF0F8"
             },
             "line": {
              "color": "white"
             }
            },
            "header": {
             "fill": {
              "color": "#C8D4E3"
             },
             "line": {
              "color": "white"
             }
            },
            "type": "table"
           }
          ]
         },
         "layout": {
          "annotationdefaults": {
           "arrowcolor": "#2a3f5f",
           "arrowhead": 0,
           "arrowwidth": 1
          },
          "autotypenumbers": "strict",
          "coloraxis": {
           "colorbar": {
            "outlinewidth": 0,
            "ticks": ""
           }
          },
          "colorscale": {
           "diverging": [
            [
             0,
             "#8e0152"
            ],
            [
             0.1,
             "#c51b7d"
            ],
            [
             0.2,
             "#de77ae"
            ],
            [
             0.3,
             "#f1b6da"
            ],
            [
             0.4,
             "#fde0ef"
            ],
            [
             0.5,
             "#f7f7f7"
            ],
            [
             0.6,
             "#e6f5d0"
            ],
            [
             0.7,
             "#b8e186"
            ],
            [
             0.8,
             "#7fbc41"
            ],
            [
             0.9,
             "#4d9221"
            ],
            [
             1,
             "#276419"
            ]
           ],
           "sequential": [
            [
             0,
             "#0d0887"
            ],
            [
             0.1111111111111111,
             "#46039f"
            ],
            [
             0.2222222222222222,
             "#7201a8"
            ],
            [
             0.3333333333333333,
             "#9c179e"
            ],
            [
             0.4444444444444444,
             "#bd3786"
            ],
            [
             0.5555555555555556,
             "#d8576b"
            ],
            [
             0.6666666666666666,
             "#ed7953"
            ],
            [
             0.7777777777777778,
             "#fb9f3a"
            ],
            [
             0.8888888888888888,
             "#fdca26"
            ],
            [
             1,
             "#f0f921"
            ]
           ],
           "sequentialminus": [
            [
             0,
             "#0d0887"
            ],
            [
             0.1111111111111111,
             "#46039f"
            ],
            [
             0.2222222222222222,
             "#7201a8"
            ],
            [
             0.3333333333333333,
             "#9c179e"
            ],
            [
             0.4444444444444444,
             "#bd3786"
            ],
            [
             0.5555555555555556,
             "#d8576b"
            ],
            [
             0.6666666666666666,
             "#ed7953"
            ],
            [
             0.7777777777777778,
             "#fb9f3a"
            ],
            [
             0.8888888888888888,
             "#fdca26"
            ],
            [
             1,
             "#f0f921"
            ]
           ]
          },
          "colorway": [
           "#636efa",
           "#EF553B",
           "#00cc96",
           "#ab63fa",
           "#FFA15A",
           "#19d3f3",
           "#FF6692",
           "#B6E880",
           "#FF97FF",
           "#FECB52"
          ],
          "font": {
           "color": "#2a3f5f"
          },
          "geo": {
           "bgcolor": "white",
           "lakecolor": "white",
           "landcolor": "#E5ECF6",
           "showlakes": true,
           "showland": true,
           "subunitcolor": "white"
          },
          "hoverlabel": {
           "align": "left"
          },
          "hovermode": "closest",
          "mapbox": {
           "style": "light"
          },
          "paper_bgcolor": "white",
          "plot_bgcolor": "#E5ECF6",
          "polar": {
           "angularaxis": {
            "gridcolor": "white",
            "linecolor": "white",
            "ticks": ""
           },
           "bgcolor": "#E5ECF6",
           "radialaxis": {
            "gridcolor": "white",
            "linecolor": "white",
            "ticks": ""
           }
          },
          "scene": {
           "xaxis": {
            "backgroundcolor": "#E5ECF6",
            "gridcolor": "white",
            "gridwidth": 2,
            "linecolor": "white",
            "showbackground": true,
            "ticks": "",
            "zerolinecolor": "white"
           },
           "yaxis": {
            "backgroundcolor": "#E5ECF6",
            "gridcolor": "white",
            "gridwidth": 2,
            "linecolor": "white",
            "showbackground": true,
            "ticks": "",
            "zerolinecolor": "white"
           },
           "zaxis": {
            "backgroundcolor": "#E5ECF6",
            "gridcolor": "white",
            "gridwidth": 2,
            "linecolor": "white",
            "showbackground": true,
            "ticks": "",
            "zerolinecolor": "white"
           }
          },
          "shapedefaults": {
           "line": {
            "color": "#2a3f5f"
           }
          },
          "ternary": {
           "aaxis": {
            "gridcolor": "white",
            "linecolor": "white",
            "ticks": ""
           },
           "baxis": {
            "gridcolor": "white",
            "linecolor": "white",
            "ticks": ""
           },
           "bgcolor": "#E5ECF6",
           "caxis": {
            "gridcolor": "white",
            "linecolor": "white",
            "ticks": ""
           }
          },
          "title": {
           "x": 0.05
          },
          "xaxis": {
           "automargin": true,
           "gridcolor": "white",
           "linecolor": "white",
           "ticks": "",
           "title": {
            "standoff": 15
           },
           "zerolinecolor": "white",
           "zerolinewidth": 2
          },
          "yaxis": {
           "automargin": true,
           "gridcolor": "white",
           "linecolor": "white",
           "ticks": "",
           "title": {
            "standoff": 15
           },
           "zerolinecolor": "white",
           "zerolinewidth": 2
          }
         }
        },
        "xaxis": {
         "anchor": "y",
         "categoryarray": [
          "Grass",
          "Fire",
          "Water",
          "Bug",
          "Normal",
          "Poison",
          "Electric",
          "Ground",
          "Fairy",
          "Fighting",
          "Psychic",
          "Rock",
          "Ghost",
          "Ice",
          "Dragon",
          "Dark",
          "Steel",
          "Flying"
         ],
         "categoryorder": "array",
         "domain": [
          0,
          1
         ],
         "title": {
          "text": "Primary"
         }
        },
        "yaxis": {
         "anchor": "x",
         "domain": [
          0,
          1
         ],
         "title": {
          "text": "Stamina"
         }
        }
       }
      },
      "text/html": [
       "<div>                            <div id=\"2a8a1a52-cc5f-4ea9-b332-b8bda928b438\" class=\"plotly-graph-div\" style=\"height:525px; width:100%;\"></div>            <script type=\"text/javascript\">                require([\"plotly\"], function(Plotly) {                    window.PLOTLYENV=window.PLOTLYENV || {};                                    if (document.getElementById(\"2a8a1a52-cc5f-4ea9-b332-b8bda928b438\")) {                    Plotly.newPlot(                        \"2a8a1a52-cc5f-4ea9-b332-b8bda928b438\",                        [{\"alignmentgroup\":\"True\",\"hovertemplate\":\"<b>%{hovertext}</b><br><br>Primary=%{x}<br>Stamina=%{y}<extra></extra>\",\"hovertext\":[\"Bulbasaur\",\"Ivysaur\",\"Venusaur\",\"Oddish\",\"Gloom\",\"Vileplume\",\"Bellsprout\",\"Weepinbell\",\"Victreebel\",\"Exeggcute\",\"Exeggutor\",\"Tangela\",\"Chikorita\",\"Bayleef\",\"Meganium\",\"Bellossom\",\"Hoppip\",\"Skiploom\",\"Jumpluff\",\"Sunkern\",\"Sunflora\",\"Treecko\",\"Grovyle\",\"Sceptile\",\"Seedot\",\"Nuzleaf\",\"Shiftry\",\"Shroomish\",\"Breloom\",\"Roselia\",\"Cacnea\",\"Cacturne\",\"Tropius\",\"Turtwig\",\"Grotle\",\"Torterra\",\"Budew\",\"Roserade\",\"Cherubi\",\"Cherrim\",\"Carnivine\",\"Snover\",\"Abomasnow\",\"Tangrowth\",\"Leafeon\",\"Shaymin\",\"Snivy\",\"Servine\",\"Serperior\",\"Pansage\",\"Simisage\",\"Cottonee\",\"Whimsicott\",\"Petilil\",\"Lilligant\",\"Maractus\",\"Foongus\",\"Amoonguss\",\"Ferroseed\",\"Ferrothorn\",\"Virizion\"],\"legendgroup\":\"Grass\",\"marker\":{\"color\":\"#7AC74C\"},\"name\":\"Grass\",\"notched\":false,\"offsetgroup\":\"Grass\",\"orientation\":\"v\",\"showlegend\":true,\"x\":[\"Grass\",\"Grass\",\"Grass\",\"Grass\",\"Grass\",\"Grass\",\"Grass\",\"Grass\",\"Grass\",\"Grass\",\"Grass\",\"Grass\",\"Grass\",\"Grass\",\"Grass\",\"Grass\",\"Grass\",\"Grass\",\"Grass\",\"Grass\",\"Grass\",\"Grass\",\"Grass\",\"Grass\",\"Grass\",\"Grass\",\"Grass\",\"Grass\",\"Grass\",\"Grass\",\"Grass\",\"Grass\",\"Grass\",\"Grass\",\"Grass\",\"Grass\",\"Grass\",\"Grass\",\"Grass\",\"Grass\",\"Grass\",\"Grass\",\"Grass\",\"Grass\",\"Grass\",\"Grass\",\"Grass\",\"Grass\",\"Grass\",\"Grass\",\"Grass\",\"Grass\",\"Grass\",\"Grass\",\"Grass\",\"Grass\",\"Grass\",\"Grass\",\"Grass\",\"Grass\",\"Grass\"],\"x0\":\" \",\"xaxis\":\"x\",\"y\":[128,155,190,128,155,181,137,163,190,155,216,163,128,155,190,181,111,146,181,102,181,120,137,172,120,172,207,155,155,137,137,172,223,146,181,216,120,155,128,172,179,155,207,225,163,225,128,155,181,137,181,120,155,128,172,181,170,249,127,179,209],\"y0\":\" \",\"yaxis\":\"y\",\"type\":\"box\"},{\"alignmentgroup\":\"True\",\"hovertemplate\":\"<b>%{hovertext}</b><br><br>Primary=%{x}<br>Stamina=%{y}<extra></extra>\",\"hovertext\":[\"Charmander\",\"Charmeleon\",\"Charizard\",\"Vulpix\",\"Ninetales\",\"Growlithe\",\"Arcanine\",\"Ponyta\",\"Rapidash\",\"Magmar\",\"Flareon\",\"Moltres\",\"Cyndaquil\",\"Quilava\",\"Typhlosion\",\"Slugma\",\"Magcargo\",\"Magby\",\"Entei\",\"Ho-Oh\",\"Torchic\",\"Combusken\",\"Blaziken\",\"Numel\",\"Camerupt\",\"Torkoal\",\"Chimchar\",\"Monferno\",\"Infernape\",\"Magmortar\",\"Heatran\",\"Tepig\",\"Pignite\",\"Emboar\",\"Pansear\",\"Simisear\",\"Darumaka\",\"Darmanitan\",\"Heatmor\"],\"legendgroup\":\"Fire\",\"marker\":{\"color\":\"#EE8130\"},\"name\":\"Fire\",\"notched\":false,\"offsetgroup\":\"Fire\",\"orientation\":\"v\",\"showlegend\":true,\"x\":[\"Fire\",\"Fire\",\"Fire\",\"Fire\",\"Fire\",\"Fire\",\"Fire\",\"Fire\",\"Fire\",\"Fire\",\"Fire\",\"Fire\",\"Fire\",\"Fire\",\"Fire\",\"Fire\",\"Fire\",\"Fire\",\"Fire\",\"Fire\",\"Fire\",\"Fire\",\"Fire\",\"Fire\",\"Fire\",\"Fire\",\"Fire\",\"Fire\",\"Fire\",\"Fire\",\"Fire\",\"Fire\",\"Fire\",\"Fire\",\"Fire\",\"Fire\",\"Fire\",\"Fire\",\"Fire\"],\"x0\":\" \",\"xaxis\":\"x\",\"y\":[118,151,186,116,177,146,207,137,163,163,163,207,118,151,186,120,137,128,251,214,128,155,190,155,172,172,127,162,183,181,209,163,207,242,137,181,172,233,198],\"y0\":\" \",\"yaxis\":\"y\",\"type\":\"box\"},{\"alignmentgroup\":\"True\",\"hovertemplate\":\"<b>%{hovertext}</b><br><br>Primary=%{x}<br>Stamina=%{y}<extra></extra>\",\"hovertext\":[\"Squirtle\",\"Wartortle\",\"Blastoise\",\"Psyduck\",\"Golduck\",\"Poliwag\",\"Poliwhirl\",\"Poliwrath\",\"Tentacool\",\"Tentacruel\",\"Slowpoke\",\"Slowbro\",\"Seel\",\"Dewgong\",\"Shellder\",\"Cloyster\",\"Krabby\",\"Kingler\",\"Horsea\",\"Seadra\",\"Goldeen\",\"Seaking\",\"Staryu\",\"Starmie\",\"Magikarp\",\"Gyarados\",\"Lapras\",\"Vaporeon\",\"Totodile\",\"Croconaw\",\"Feraligatr\",\"Chinchou\",\"Lanturn\",\"Marill\",\"Azumarill\",\"Politoed\",\"Wooper\",\"Quagsire\",\"Slowking\",\"Qwilfish\",\"Corsola\",\"Remoraid\",\"Octillery\",\"Mantine\",\"Kingdra\",\"Suicune\",\"Mudkip\",\"Marshtomp\",\"Swampert\",\"Lotad\",\"Lombre\",\"Ludicolo\",\"Wingull\",\"Pelipper\",\"Carvanha\",\"Sharpedo\",\"Wailmer\",\"Wailord\",\"Barboach\",\"Whiscash\",\"Corphish\",\"Crawdaunt\",\"Feebas\",\"Milotic\",\"Clamperl\",\"Huntail\",\"Gorebyss\",\"Relicanth\",\"Luvdisc\",\"Kyogre\",\"Piplup\",\"Prinplup\",\"Empoleon\",\"Buizel\",\"Floatzel\",\"Shellos\",\"Gastrodon\",\"Finneon\",\"Lumineon\",\"Mantyke\",\"Palkia\",\"Phione\",\"Manaphy\",\"Oshawott\",\"Dewott\",\"Samurott\",\"Panpour\",\"Simipour\",\"Tympole\",\"Palpitoad\",\"Seismitoad\",\"Basculin\",\"Tirtouga\",\"Carracosta\",\"Ducklett\",\"Swanna\",\"Frillish\",\"Jellicent\",\"Alomomola\",\"Keldeo\"],\"legendgroup\":\"Water\",\"marker\":{\"color\":\"#6390F0\"},\"name\":\"Water\",\"notched\":false,\"offsetgroup\":\"Water\",\"orientation\":\"v\",\"showlegend\":true,\"x\":[\"Water\",\"Water\",\"Water\",\"Water\",\"Water\",\"Water\",\"Water\",\"Water\",\"Water\",\"Water\",\"Water\",\"Water\",\"Water\",\"Water\",\"Water\",\"Water\",\"Water\",\"Water\",\"Water\",\"Water\",\"Water\",\"Water\",\"Water\",\"Water\",\"Water\",\"Water\",\"Water\",\"Water\",\"Water\",\"Water\",\"Water\",\"Water\",\"Water\",\"Water\",\"Water\",\"Water\",\"Water\",\"Water\",\"Water\",\"Water\",\"Water\",\"Water\",\"Water\",\"Water\",\"Water\",\"Water\",\"Water\",\"Water\",\"Water\",\"Water\",\"Water\",\"Water\",\"Water\",\"Water\",\"Water\",\"Water\",\"Water\",\"Water\",\"Water\",\"Water\",\"Water\",\"Water\",\"Water\",\"Water\",\"Water\",\"Water\",\"Water\",\"Water\",\"Water\",\"Water\",\"Water\",\"Water\",\"Water\",\"Water\",\"Water\",\"Water\",\"Water\",\"Water\",\"Water\",\"Water\",\"Water\",\"Water\",\"Water\",\"Water\",\"Water\",\"Water\",\"Water\",\"Water\",\"Water\",\"Water\",\"Water\",\"Water\",\"Water\",\"Water\",\"Water\",\"Water\",\"Water\",\"Water\",\"Water\",\"Water\"],\"x0\":\" \",\"xaxis\":\"x\",\"y\":[127,153,188,137,190,120,163,207,120,190,207,216,163,207,102,137,102,146,102,146,128,190,102,155,85,216,277,277,137,163,198,181,268,172,225,207,146,216,216,163,146,111,181,163,181,225,137,172,225,120,155,190,120,155,128,172,277,347,137,242,125,160,85,216,111,146,146,225,125,205,142,162,197,146,198,183,244,135,170,128,189,190,225,146,181,216,137,181,137,181,233,172,144,179,158,181,146,225,338,209],\"y0\":\" \",\"yaxis\":\"y\",\"type\":\"box\"},{\"alignmentgroup\":\"True\",\"hovertemplate\":\"<b>%{hovertext}</b><br><br>Primary=%{x}<br>Stamina=%{y}<extra></extra>\",\"hovertext\":[\"Caterpie\",\"Metapod\",\"Butterfree\",\"Weedle\",\"Kakuna\",\"Beedrill\",\"Paras\",\"Parasect\",\"Venonat\",\"Venomoth\",\"Scyther\",\"Pinsir\",\"Ledyba\",\"Ledian\",\"Spinarak\",\"Ariados\",\"Yanma\",\"Pineco\",\"Forretress\",\"Scizor\",\"Shuckle\",\"Heracross\",\"Wurmple\",\"Silcoon\",\"Beautifly\",\"Cascoon\",\"Dustox\",\"Surskit\",\"Masquerain\",\"Nincada\",\"Ninjask\",\"Shedinja\",\"Volbeat\",\"Illumise\",\"Kricketot\",\"Kricketune\",\"Burmy\",\"Wormadam\",\"Mothim\",\"Combee\",\"Vespiquen\",\"Yanmega\",\"Sewaddle\",\"Swadloon\",\"Leavanny\",\"Venipede\",\"Whirlipede\",\"Scolipede\",\"Dwebble\",\"Crustle\",\"Karrablast\",\"Escavalier\",\"Joltik\",\"Galvantula\",\"Shelmet\",\"Accelgor\",\"Durant\",\"Larvesta\",\"Volcarona\",\"Genesect\"],\"legendgroup\":\"Bug\",\"marker\":{\"color\":\"#A6B91A\"},\"name\":\"Bug\",\"notched\":false,\"offsetgroup\":\"Bug\",\"orientation\":\"v\",\"showlegend\":true,\"x\":[\"Bug\",\"Bug\",\"Bug\",\"Bug\",\"Bug\",\"Bug\",\"Bug\",\"Bug\",\"Bug\",\"Bug\",\"Bug\",\"Bug\",\"Bug\",\"Bug\",\"Bug\",\"Bug\",\"Bug\",\"Bug\",\"Bug\",\"Bug\",\"Bug\",\"Bug\",\"Bug\",\"Bug\",\"Bug\",\"Bug\",\"Bug\",\"Bug\",\"Bug\",\"Bug\",\"Bug\",\"Bug\",\"Bug\",\"Bug\",\"Bug\",\"Bug\",\"Bug\",\"Bug\",\"Bug\",\"Bug\",\"Bug\",\"Bug\",\"Bug\",\"Bug\",\"Bug\",\"Bug\",\"Bug\",\"Bug\",\"Bug\",\"Bug\",\"Bug\",\"Bug\",\"Bug\",\"Bug\",\"Bug\",\"Bug\",\"Bug\",\"Bug\",\"Bug\",\"Bug\"],\"x0\":\" \",\"xaxis\":\"x\",\"y\":[128,137,155,120,128,163,111,155,155,172,172,163,120,146,120,172,163,137,181,172,85,190,128,137,155,137,155,120,172,104,156,1,163,163,114,184,120,155,172,102,172,200,128,146,181,102,120,155,137,172,137,172,137,172,137,190,151,146,198,174],\"y0\":\" \",\"yaxis\":\"y\",\"type\":\"box\"},{\"alignmentgroup\":\"True\",\"hovertemplate\":\"<b>%{hovertext}</b><br><br>Primary=%{x}<br>Stamina=%{y}<extra></extra>\",\"hovertext\":[\"Pidgey\",\"Pidgeotto\",\"Pidgeot\",\"Rattata\",\"Raticate\",\"Spearow\",\"Fearow\",\"Jigglypuff\",\"Wigglytuff\",\"Meowth\",\"Persian\",\"Farfetch'd\",\"Doduo\",\"Dodrio\",\"Lickitung\",\"Chansey\",\"Kangaskhan\",\"Tauros\",\"Ditto\",\"Eevee\",\"Porygon\",\"Snorlax\",\"Sentret\",\"Furret\",\"Hoothoot\",\"Noctowl\",\"Igglybuff\",\"Aipom\",\"Girafarig\",\"Dunsparce\",\"Teddiursa\",\"Ursaring\",\"Porygon2\",\"Stantler\",\"Smeargle\",\"Miltank\",\"Blissey\",\"Zigzagoon\",\"Linoone\",\"Taillow\",\"Swellow\",\"Slakoth\",\"Vigoroth\",\"Slaking\",\"Whismur\",\"Loudred\",\"Exploud\",\"Azurill\",\"Skitty\",\"Delcatty\",\"Spinda\",\"Swablu\",\"Zangoose\",\"Castform\",\"Kecleon\",\"Starly\",\"Staravia\",\"Staraptor\",\"Bidoof\",\"Bibarel\",\"Ambipom\",\"Buneary\",\"Lopunny\",\"Glameow\",\"Purugly\",\"Happiny\",\"Chatot\",\"Munchlax\",\"Lickilicky\",\"Porygon-Z\",\"Regigigas\",\"Arceus\",\"Patrat\",\"Watchog\",\"Lillipup\",\"Herdier\",\"Stoutland\",\"Pidove\",\"Tranquill\",\"Unfezant\",\"Audino\",\"Minccino\",\"Cinccino\",\"Deerling\",\"Sawsbuck\",\"Bouffalant\",\"Rufflet\",\"Braviary\",\"Meloetta\"],\"legendgroup\":\"Normal\",\"marker\":{\"color\":\"#A8A77A\"},\"name\":\"Normal\",\"notched\":false,\"offsetgroup\":\"Normal\",\"orientation\":\"v\",\"showlegend\":true,\"x\":[\"Normal\",\"Normal\",\"Normal\",\"Normal\",\"Normal\",\"Normal\",\"Normal\",\"Normal\",\"Normal\",\"Normal\",\"Normal\",\"Normal\",\"Normal\",\"Normal\",\"Normal\",\"Normal\",\"Normal\",\"Normal\",\"Normal\",\"Normal\",\"Normal\",\"Normal\",\"Normal\",\"Normal\",\"Normal\",\"Normal\",\"Normal\",\"Normal\",\"Normal\",\"Normal\",\"Normal\",\"Normal\",\"Normal\",\"Normal\",\"Normal\",\"Normal\",\"Normal\",\"Normal\",\"Normal\",\"Normal\",\"Normal\",\"Normal\",\"Normal\",\"Normal\",\"Normal\",\"Normal\",\"Normal\",\"Normal\",\"Normal\",\"Normal\",\"Normal\",\"Normal\",\"Normal\",\"Normal\",\"Normal\",\"Normal\",\"Normal\",\"Normal\",\"Normal\",\"Normal\",\"Normal\",\"Normal\",\"Normal\",\"Normal\",\"Normal\",\"Normal\",\"Normal\",\"Normal\",\"Normal\",\"Normal\",\"Normal\",\"Normal\",\"Normal\",\"Normal\",\"Normal\",\"Normal\",\"Normal\",\"Normal\",\"Normal\",\"Normal\",\"Normal\",\"Normal\",\"Normal\",\"Normal\",\"Normal\",\"Normal\",\"Normal\",\"Normal\",\"Normal\"],\"x0\":\" \",\"xaxis\":\"x\",\"y\":[120,160,195,102,146,120,163,251,295,120,163,141,111,155,207,487,233,181,134,146,163,330,111,198,155,225,207,146,172,225,155,207,198,177,146,216,496,116,186,120,155,155,190,284,162,197,232,137,137,172,155,128,177,172,155,120,146,198,153,188,181,146,163,135,174,225,183,286,242,198,221,237,128,155,128,163,198,137,158,190,230,146,181,155,190,216,172,225,225],\"y0\":\" \",\"yaxis\":\"y\",\"type\":\"box\"},{\"alignmentgroup\":\"True\",\"hovertemplate\":\"<b>%{hovertext}</b><br><br>Primary=%{x}<br>Stamina=%{y}<extra></extra>\",\"hovertext\":[\"Ekans\",\"Arbok\",\"Nidoran\\u2640\",\"Nidorina\",\"Nidoqueen\",\"Nidoran\\u2642\",\"Nidorino\",\"Nidoking\",\"Zubat\",\"Golbat\",\"Grimer\",\"Muk\",\"Koffing\",\"Weezing\",\"Crobat\",\"Gulpin\",\"Swalot\",\"Seviper\",\"Stunky\",\"Skuntank\",\"Skorupi\",\"Drapion\",\"Croagunk\",\"Toxicroak\",\"Trubbish\",\"Garbodor\"],\"legendgroup\":\"Poison\",\"marker\":{\"color\":\"#A33EA1\"},\"name\":\"Poison\",\"notched\":false,\"offsetgroup\":\"Poison\",\"orientation\":\"v\",\"showlegend\":true,\"x\":[\"Poison\",\"Poison\",\"Poison\",\"Poison\",\"Poison\",\"Poison\",\"Poison\",\"Poison\",\"Poison\",\"Poison\",\"Poison\",\"Poison\",\"Poison\",\"Poison\",\"Poison\",\"Poison\",\"Poison\",\"Poison\",\"Poison\",\"Poison\",\"Poison\",\"Poison\",\"Poison\",\"Poison\",\"Poison\",\"Poison\"],\"x0\":\" \",\"xaxis\":\"x\",\"y\":[111,155,146,172,207,130,156,191,120,181,190,233,120,163,198,172,225,177,160,230,120,172,134,195,137,190],\"y0\":\" \",\"yaxis\":\"y\",\"type\":\"box\"},{\"alignmentgroup\":\"True\",\"hovertemplate\":\"<b>%{hovertext}</b><br><br>Primary=%{x}<br>Stamina=%{y}<extra></extra>\",\"hovertext\":[\"Pikachu\",\"Raichu\",\"Magnemite\",\"Magneton\",\"Voltorb\",\"Electrode\",\"Electabuzz\",\"Jolteon\",\"Zapdos\",\"Pichu\",\"Mareep\",\"Flaaffy\",\"Ampharos\",\"Elekid\",\"Raikou\",\"Electrike\",\"Manectric\",\"Plusle\",\"Minun\",\"Shinx\",\"Luxio\",\"Luxray\",\"Pachirisu\",\"Magnezone\",\"Electivire\",\"Rotom\",\"Blitzle\",\"Zebstrika\",\"Emolga\",\"Tynamo\",\"Eelektrik\",\"Eelektross\",\"Thundurus\"],\"legendgroup\":\"Electric\",\"marker\":{\"color\":\"#F7D02C\"},\"name\":\"Electric\",\"notched\":false,\"offsetgroup\":\"Electric\",\"orientation\":\"v\",\"showlegend\":true,\"x\":[\"Electric\",\"Electric\",\"Electric\",\"Electric\",\"Electric\",\"Electric\",\"Electric\",\"Electric\",\"Electric\",\"Electric\",\"Electric\",\"Electric\",\"Electric\",\"Electric\",\"Electric\",\"Electric\",\"Electric\",\"Electric\",\"Electric\",\"Electric\",\"Electric\",\"Electric\",\"Electric\",\"Electric\",\"Electric\",\"Electric\",\"Electric\",\"Electric\",\"Electric\",\"Electric\",\"Electric\",\"Electric\",\"Electric\"],\"x0\":\" \",\"xaxis\":\"x\",\"y\":[111,155,93,137,120,155,163,163,207,85,146,172,207,128,207,120,172,155,155,128,155,190,155,172,181,137,128,181,146,111,163,198,188],\"y0\":\" \",\"yaxis\":\"y\",\"type\":\"box\"},{\"alignmentgroup\":\"True\",\"hovertemplate\":\"<b>%{hovertext}</b><br><br>Primary=%{x}<br>Stamina=%{y}<extra></extra>\",\"hovertext\":[\"Sandshrew\",\"Sandslash\",\"Diglett\",\"Dugtrio\",\"Cubone\",\"Marowak\",\"Rhyhorn\",\"Rhydon\",\"Gligar\",\"Phanpy\",\"Donphan\",\"Trapinch\",\"Vibrava\",\"Flygon\",\"Baltoy\",\"Claydol\",\"Groudon\",\"Hippopotas\",\"Hippowdon\",\"Rhyperior\",\"Gliscor\",\"Drilbur\",\"Excadrill\",\"Sandile\",\"Krokorok\",\"Krookodile\",\"Stunfisk\",\"Golett\",\"Golurk\",\"Landorus\"],\"legendgroup\":\"Ground\",\"marker\":{\"color\":\"#E2BF65\"},\"name\":\"Ground\",\"notched\":false,\"offsetgroup\":\"Ground\",\"orientation\":\"v\",\"showlegend\":true,\"x\":[\"Ground\",\"Ground\",\"Ground\",\"Ground\",\"Ground\",\"Ground\",\"Ground\",\"Ground\",\"Ground\",\"Ground\",\"Ground\",\"Ground\",\"Ground\",\"Ground\",\"Ground\",\"Ground\",\"Ground\",\"Ground\",\"Ground\",\"Ground\",\"Ground\",\"Ground\",\"Ground\",\"Ground\",\"Ground\",\"Ground\",\"Ground\",\"Ground\",\"Ground\",\"Ground\"],\"x0\":\" \",\"xaxis\":\"x\",\"y\":[137,181,67,111,137,155,190,233,163,207,207,128,137,190,120,155,205,169,239,251,181,155,242,137,155,216,240,153,205,205],\"y0\":\" \",\"yaxis\":\"y\",\"type\":\"box\"},{\"alignmentgroup\":\"True\",\"hovertemplate\":\"<b>%{hovertext}</b><br><br>Primary=%{x}<br>Stamina=%{y}<extra></extra>\",\"hovertext\":[\"Clefairy\",\"Clefable\",\"Cleffa\",\"Togepi\",\"Togetic\",\"Snubbull\",\"Granbull\",\"Togekiss\"],\"legendgroup\":\"Fairy\",\"marker\":{\"color\":\"#D685AD\"},\"name\":\"Fairy\",\"notched\":false,\"offsetgroup\":\"Fairy\",\"orientation\":\"v\",\"showlegend\":true,\"x\":[\"Fairy\",\"Fairy\",\"Fairy\",\"Fairy\",\"Fairy\",\"Fairy\",\"Fairy\",\"Fairy\"],\"x0\":\" \",\"xaxis\":\"x\",\"y\":[172,216,137,111,146,155,207,198],\"y0\":\" \",\"yaxis\":\"y\",\"type\":\"box\"},{\"alignmentgroup\":\"True\",\"hovertemplate\":\"<b>%{hovertext}</b><br><br>Primary=%{x}<br>Stamina=%{y}<extra></extra>\",\"hovertext\":[\"Mankey\",\"Primeape\",\"Machop\",\"Machoke\",\"Machamp\",\"Hitmonlee\",\"Hitmonchan\",\"Tyrogue\",\"Hitmontop\",\"Makuhita\",\"Hariyama\",\"Meditite\",\"Medicham\",\"Riolu\",\"Lucario\",\"Timburr\",\"Gurdurr\",\"Conkeldurr\",\"Throh\",\"Sawk\",\"Mienfoo\",\"Mienshao\"],\"legendgroup\":\"Fighting\",\"marker\":{\"color\":\"#C22E28\"},\"name\":\"Fighting\",\"notched\":false,\"offsetgroup\":\"Fighting\",\"orientation\":\"v\",\"showlegend\":true,\"x\":[\"Fighting\",\"Fighting\",\"Fighting\",\"Fighting\",\"Fighting\",\"Fighting\",\"Fighting\",\"Fighting\",\"Fighting\",\"Fighting\",\"Fighting\",\"Fighting\",\"Fighting\",\"Fighting\",\"Fighting\",\"Fighting\",\"Fighting\",\"Fighting\",\"Fighting\",\"Fighting\",\"Fighting\",\"Fighting\"],\"x0\":\" \",\"xaxis\":\"x\",\"y\":[120,163,172,190,207,137,137,111,137,176,302,102,155,120,172,181,198,233,260,181,128,163],\"y0\":\" \",\"yaxis\":\"y\",\"type\":\"box\"},{\"alignmentgroup\":\"True\",\"hovertemplate\":\"<b>%{hovertext}</b><br><br>Primary=%{x}<br>Stamina=%{y}<extra></extra>\",\"hovertext\":[\"Abra\",\"Kadabra\",\"Alakazam\",\"Drowzee\",\"Hypno\",\"Mr.\",\"Mewtwo\",\"Mew\",\"Natu\",\"Xatu\",\"Espeon\",\"Unown\",\"Wobbuffet\",\"Lugia\",\"Celebi\",\"Ralts\",\"Kirlia\",\"Gardevoir\",\"Spoink\",\"Grumpig\",\"Chimecho\",\"Wynaut\",\"Deoxys\",\"Chingling\",\"Mime\",\"Gallade\",\"Uxie\",\"Mesprit\",\"Azelf\",\"Cresselia\",\"Victini\",\"Munna\",\"Musharna\",\"Woobat\",\"Swoobat\",\"Sigilyph\",\"Gothita\",\"Gothorita\",\"Gothitelle\",\"Solosis\",\"Duosion\",\"Reuniclus\",\"Elgyem\",\"Beheeyem\"],\"legendgroup\":\"Psychic\",\"marker\":{\"color\":\"#F95587\"},\"name\":\"Psychic\",\"notched\":false,\"offsetgroup\":\"Psychic\",\"orientation\":\"v\",\"showlegend\":true,\"x\":[\"Psychic\",\"Psychic\",\"Psychic\",\"Psychic\",\"Psychic\",\"Psychic\",\"Psychic\",\"Psychic\",\"Psychic\",\"Psychic\",\"Psychic\",\"Psychic\",\"Psychic\",\"Psychic\",\"Psychic\",\"Psychic\",\"Psychic\",\"Psychic\",\"Psychic\",\"Psychic\",\"Psychic\",\"Psychic\",\"Psychic\",\"Psychic\",\"Psychic\",\"Psychic\",\"Psychic\",\"Psychic\",\"Psychic\",\"Psychic\",\"Psychic\",\"Psychic\",\"Psychic\",\"Psychic\",\"Psychic\",\"Psychic\",\"Psychic\",\"Psychic\",\"Psychic\",\"Psychic\",\"Psychic\",\"Psychic\",\"Psychic\",\"Psychic\"],\"x0\":\" \",\"xaxis\":\"x\",\"y\":[93,120,146,155,198,120,214,225,120,163,163,134,382,235,225,99,116,169,155,190,181,216,137,128,85,169,181,190,181,260,225,183,253,163,167,176,128,155,172,128,163,242,146,181],\"y0\":\" \",\"yaxis\":\"y\",\"type\":\"box\"},{\"alignmentgroup\":\"True\",\"hovertemplate\":\"<b>%{hovertext}</b><br><br>Primary=%{x}<br>Stamina=%{y}<extra></extra>\",\"hovertext\":[\"Geodude\",\"Graveler\",\"Golem\",\"Onix\",\"Omanyte\",\"Omastar\",\"Kabuto\",\"Kabutops\",\"Aerodactyl\",\"Sudowoodo\",\"Larvitar\",\"Pupitar\",\"Tyranitar\",\"Nosepass\",\"Lunatone\",\"Solrock\",\"Lileep\",\"Cradily\",\"Anorith\",\"Armaldo\",\"Regirock\",\"Cranidos\",\"Rampardos\",\"Shieldon\",\"Bastiodon\",\"Bonsly\",\"Probopass\",\"Roggenrola\",\"Boldore\",\"Gigalith\",\"Archen\",\"Archeops\",\"Terrakion\"],\"legendgroup\":\"Rock\",\"marker\":{\"color\":\"#B6A136\"},\"name\":\"Rock\",\"notched\":false,\"offsetgroup\":\"Rock\",\"orientation\":\"v\",\"showlegend\":true,\"x\":[\"Rock\",\"Rock\",\"Rock\",\"Rock\",\"Rock\",\"Rock\",\"Rock\",\"Rock\",\"Rock\",\"Rock\",\"Rock\",\"Rock\",\"Rock\",\"Rock\",\"Rock\",\"Rock\",\"Rock\",\"Rock\",\"Rock\",\"Rock\",\"Rock\",\"Rock\",\"Rock\",\"Rock\",\"Rock\",\"Rock\",\"Rock\",\"Rock\",\"Rock\",\"Rock\",\"Rock\",\"Rock\",\"Rock\"],\"x0\":\" \",\"xaxis\":\"x\",\"y\":[120,146,190,111,111,172,102,155,190,172,137,172,225,102,207,207,165,200,128,181,190,167,219,102,155,137,155,146,172,198,146,181,209],\"y0\":\" \",\"yaxis\":\"y\",\"type\":\"box\"},{\"alignmentgroup\":\"True\",\"hovertemplate\":\"<b>%{hovertext}</b><br><br>Primary=%{x}<br>Stamina=%{y}<extra></extra>\",\"hovertext\":[\"Gastly\",\"Haunter\",\"Gengar\",\"Misdreavus\",\"Shuppet\",\"Banette\",\"Duskull\",\"Dusclops\",\"Drifloon\",\"Drifblim\",\"Mismagius\",\"Spiritomb\",\"Dusknoir\",\"Giratina\",\"Yamask\",\"Cofagrigus\",\"Litwick\",\"Lampent\",\"Chandelure\"],\"legendgroup\":\"Ghost\",\"marker\":{\"color\":\"#735797\"},\"name\":\"Ghost\",\"notched\":false,\"offsetgroup\":\"Ghost\",\"orientation\":\"v\",\"showlegend\":true,\"x\":[\"Ghost\",\"Ghost\",\"Ghost\",\"Ghost\",\"Ghost\",\"Ghost\",\"Ghost\",\"Ghost\",\"Ghost\",\"Ghost\",\"Ghost\",\"Ghost\",\"Ghost\",\"Ghost\",\"Ghost\",\"Ghost\",\"Ghost\",\"Ghost\",\"Ghost\"],\"x0\":\" \",\"xaxis\":\"x\",\"y\":[102,128,155,155,127,162,85,120,207,312,155,137,128,284,116,151,137,155,155],\"y0\":\" \",\"yaxis\":\"y\",\"type\":\"box\"},{\"alignmentgroup\":\"True\",\"hovertemplate\":\"<b>%{hovertext}</b><br><br>Primary=%{x}<br>Stamina=%{y}<extra></extra>\",\"hovertext\":[\"Jynx\",\"Articuno\",\"Swinub\",\"Piloswine\",\"Delibird\",\"Smoochum\",\"Snorunt\",\"Glalie\",\"Spheal\",\"Sealeo\",\"Walrein\",\"Regice\",\"Glaceon\",\"Mamoswine\",\"Froslass\",\"Vanillite\",\"Vanillish\",\"Vanilluxe\",\"Cubchoo\",\"Beartic\",\"Cryogonal\"],\"legendgroup\":\"Ice\",\"marker\":{\"color\":\"#96D9D6\"},\"name\":\"Ice\",\"notched\":false,\"offsetgroup\":\"Ice\",\"orientation\":\"v\",\"showlegend\":true,\"x\":[\"Ice\",\"Ice\",\"Ice\",\"Ice\",\"Ice\",\"Ice\",\"Ice\",\"Ice\",\"Ice\",\"Ice\",\"Ice\",\"Ice\",\"Ice\",\"Ice\",\"Ice\",\"Ice\",\"Ice\",\"Ice\",\"Ice\",\"Ice\",\"Ice\"],\"x0\":\" \",\"xaxis\":\"x\",\"y\":[163,207,137,225,128,128,137,190,172,207,242,190,163,242,172,113,139,174,146,216,190],\"y0\":\" \",\"yaxis\":\"y\",\"type\":\"box\"},{\"alignmentgroup\":\"True\",\"hovertemplate\":\"<b>%{hovertext}</b><br><br>Primary=%{x}<br>Stamina=%{y}<extra></extra>\",\"hovertext\":[\"Dratini\",\"Dragonair\",\"Dragonite\",\"Altaria\",\"Bagon\",\"Shelgon\",\"Salamence\",\"Latias\",\"Latios\",\"Rayquaza\",\"Gible\",\"Gabite\",\"Garchomp\",\"Axew\",\"Fraxure\",\"Haxorus\",\"Druddigon\",\"Reshiram\",\"Zekrom\",\"Kyurem\"],\"legendgroup\":\"Dragon\",\"marker\":{\"color\":\"#6F35FC\"},\"name\":\"Dragon\",\"notched\":false,\"offsetgroup\":\"Dragon\",\"orientation\":\"v\",\"showlegend\":true,\"x\":[\"Dragon\",\"Dragon\",\"Dragon\",\"Dragon\",\"Dragon\",\"Dragon\",\"Dragon\",\"Dragon\",\"Dragon\",\"Dragon\",\"Dragon\",\"Dragon\",\"Dragon\",\"Dragon\",\"Dragon\",\"Dragon\",\"Dragon\",\"Dragon\",\"Dragon\",\"Dragon\"],\"x0\":\" \",\"xaxis\":\"x\",\"y\":[121,156,209,181,128,163,216,190,190,213,151,169,239,130,165,183,184,205,205,245],\"y0\":\" \",\"yaxis\":\"y\",\"type\":\"box\"},{\"alignmentgroup\":\"True\",\"hovertemplate\":\"<b>%{hovertext}</b><br><br>Primary=%{x}<br>Stamina=%{y}<extra></extra>\",\"hovertext\":[\"Umbreon\",\"Murkrow\",\"Sneasel\",\"Houndour\",\"Houndoom\",\"Poochyena\",\"Mightyena\",\"Sableye\",\"Absol\",\"Honchkrow\",\"Weavile\",\"Darkrai\",\"Purrloin\",\"Liepard\",\"Scraggy\",\"Scrafty\",\"Zorua\",\"Zoroark\",\"Pawniard\",\"Bisharp\",\"Vullaby\",\"Mandibuzz\",\"Deino\",\"Zweilous\",\"Hydreigon\"],\"legendgroup\":\"Dark\",\"marker\":{\"color\":\"#705746\"},\"name\":\"Dark\",\"notched\":false,\"offsetgroup\":\"Dark\",\"orientation\":\"v\",\"showlegend\":true,\"x\":[\"Dark\",\"Dark\",\"Dark\",\"Dark\",\"Dark\",\"Dark\",\"Dark\",\"Dark\",\"Dark\",\"Dark\",\"Dark\",\"Dark\",\"Dark\",\"Dark\",\"Dark\",\"Dark\",\"Dark\",\"Dark\",\"Dark\",\"Dark\",\"Dark\",\"Dark\",\"Dark\",\"Dark\",\"Dark\"],\"x0\":\" \",\"xaxis\":\"x\",\"y\":[216,155,146,128,181,111,172,137,163,225,172,172,121,162,137,163,120,155,128,163,172,242,141,176,211],\"y0\":\" \",\"yaxis\":\"y\",\"type\":\"box\"},{\"alignmentgroup\":\"True\",\"hovertemplate\":\"<b>%{hovertext}</b><br><br>Primary=%{x}<br>Stamina=%{y}<extra></extra>\",\"hovertext\":[\"Steelix\",\"Skarmory\",\"Mawile\",\"Aron\",\"Lairon\",\"Aggron\",\"Beldum\",\"Metang\",\"Metagross\",\"Registeel\",\"Jirachi\",\"Bronzor\",\"Bronzong\",\"Dialga\",\"Klink\",\"Klang\",\"Klinklang\",\"Cobalion\"],\"legendgroup\":\"Steel\",\"marker\":{\"color\":\"#B7B7CE\"},\"name\":\"Steel\",\"notched\":false,\"offsetgroup\":\"Steel\",\"orientation\":\"v\",\"showlegend\":true,\"x\":[\"Steel\",\"Steel\",\"Steel\",\"Steel\",\"Steel\",\"Steel\",\"Steel\",\"Steel\",\"Steel\",\"Steel\",\"Steel\",\"Steel\",\"Steel\",\"Steel\",\"Steel\",\"Steel\",\"Steel\",\"Steel\"],\"x0\":\" \",\"xaxis\":\"x\",\"y\":[181,163,137,137,155,172,120,155,190,190,225,149,167,205,120,155,155,209],\"y0\":\" \",\"yaxis\":\"y\",\"type\":\"box\"},{\"alignmentgroup\":\"True\",\"hovertemplate\":\"<b>%{hovertext}</b><br><br>Primary=%{x}<br>Stamina=%{y}<extra></extra>\",\"hovertext\":[\"Tornadus\"],\"legendgroup\":\"Flying\",\"marker\":{\"color\":\"#A98FF3\"},\"name\":\"Flying\",\"notched\":false,\"offsetgroup\":\"Flying\",\"orientation\":\"v\",\"showlegend\":true,\"x\":[\"Flying\"],\"x0\":\" \",\"xaxis\":\"x\",\"y\":[188],\"y0\":\" \",\"yaxis\":\"y\",\"type\":\"box\"}],                        {\"template\":{\"data\":{\"bar\":[{\"error_x\":{\"color\":\"#2a3f5f\"},\"error_y\":{\"color\":\"#2a3f5f\"},\"marker\":{\"line\":{\"color\":\"#E5ECF6\",\"width\":0.5},\"pattern\":{\"fillmode\":\"overlay\",\"size\":10,\"solidity\":0.2}},\"type\":\"bar\"}],\"barpolar\":[{\"marker\":{\"line\":{\"color\":\"#E5ECF6\",\"width\":0.5},\"pattern\":{\"fillmode\":\"overlay\",\"size\":10,\"solidity\":0.2}},\"type\":\"barpolar\"}],\"carpet\":[{\"aaxis\":{\"endlinecolor\":\"#2a3f5f\",\"gridcolor\":\"white\",\"linecolor\":\"white\",\"minorgridcolor\":\"white\",\"startlinecolor\":\"#2a3f5f\"},\"baxis\":{\"endlinecolor\":\"#2a3f5f\",\"gridcolor\":\"white\",\"linecolor\":\"white\",\"minorgridcolor\":\"white\",\"startlinecolor\":\"#2a3f5f\"},\"type\":\"carpet\"}],\"choropleth\":[{\"colorbar\":{\"outlinewidth\":0,\"ticks\":\"\"},\"type\":\"choropleth\"}],\"contour\":[{\"colorbar\":{\"outlinewidth\":0,\"ticks\":\"\"},\"colorscale\":[[0.0,\"#0d0887\"],[0.1111111111111111,\"#46039f\"],[0.2222222222222222,\"#7201a8\"],[0.3333333333333333,\"#9c179e\"],[0.4444444444444444,\"#bd3786\"],[0.5555555555555556,\"#d8576b\"],[0.6666666666666666,\"#ed7953\"],[0.7777777777777778,\"#fb9f3a\"],[0.8888888888888888,\"#fdca26\"],[1.0,\"#f0f921\"]],\"type\":\"contour\"}],\"contourcarpet\":[{\"colorbar\":{\"outlinewidth\":0,\"ticks\":\"\"},\"type\":\"contourcarpet\"}],\"heatmap\":[{\"colorbar\":{\"outlinewidth\":0,\"ticks\":\"\"},\"colorscale\":[[0.0,\"#0d0887\"],[0.1111111111111111,\"#46039f\"],[0.2222222222222222,\"#7201a8\"],[0.3333333333333333,\"#9c179e\"],[0.4444444444444444,\"#bd3786\"],[0.5555555555555556,\"#d8576b\"],[0.6666666666666666,\"#ed7953\"],[0.7777777777777778,\"#fb9f3a\"],[0.8888888888888888,\"#fdca26\"],[1.0,\"#f0f921\"]],\"type\":\"heatmap\"}],\"heatmapgl\":[{\"colorbar\":{\"outlinewidth\":0,\"ticks\":\"\"},\"colorscale\":[[0.0,\"#0d0887\"],[0.1111111111111111,\"#46039f\"],[0.2222222222222222,\"#7201a8\"],[0.3333333333333333,\"#9c179e\"],[0.4444444444444444,\"#bd3786\"],[0.5555555555555556,\"#d8576b\"],[0.6666666666666666,\"#ed7953\"],[0.7777777777777778,\"#fb9f3a\"],[0.8888888888888888,\"#fdca26\"],[1.0,\"#f0f921\"]],\"type\":\"heatmapgl\"}],\"histogram\":[{\"marker\":{\"pattern\":{\"fillmode\":\"overlay\",\"size\":10,\"solidity\":0.2}},\"type\":\"histogram\"}],\"histogram2d\":[{\"colorbar\":{\"outlinewidth\":0,\"ticks\":\"\"},\"colorscale\":[[0.0,\"#0d0887\"],[0.1111111111111111,\"#46039f\"],[0.2222222222222222,\"#7201a8\"],[0.3333333333333333,\"#9c179e\"],[0.4444444444444444,\"#bd3786\"],[0.5555555555555556,\"#d8576b\"],[0.6666666666666666,\"#ed7953\"],[0.7777777777777778,\"#fb9f3a\"],[0.8888888888888888,\"#fdca26\"],[1.0,\"#f0f921\"]],\"type\":\"histogram2d\"}],\"histogram2dcontour\":[{\"colorbar\":{\"outlinewidth\":0,\"ticks\":\"\"},\"colorscale\":[[0.0,\"#0d0887\"],[0.1111111111111111,\"#46039f\"],[0.2222222222222222,\"#7201a8\"],[0.3333333333333333,\"#9c179e\"],[0.4444444444444444,\"#bd3786\"],[0.5555555555555556,\"#d8576b\"],[0.6666666666666666,\"#ed7953\"],[0.7777777777777778,\"#fb9f3a\"],[0.8888888888888888,\"#fdca26\"],[1.0,\"#f0f921\"]],\"type\":\"histogram2dcontour\"}],\"mesh3d\":[{\"colorbar\":{\"outlinewidth\":0,\"ticks\":\"\"},\"type\":\"mesh3d\"}],\"parcoords\":[{\"line\":{\"colorbar\":{\"outlinewidth\":0,\"ticks\":\"\"}},\"type\":\"parcoords\"}],\"pie\":[{\"automargin\":true,\"type\":\"pie\"}],\"scatter\":[{\"marker\":{\"colorbar\":{\"outlinewidth\":0,\"ticks\":\"\"}},\"type\":\"scatter\"}],\"scatter3d\":[{\"line\":{\"colorbar\":{\"outlinewidth\":0,\"ticks\":\"\"}},\"marker\":{\"colorbar\":{\"outlinewidth\":0,\"ticks\":\"\"}},\"type\":\"scatter3d\"}],\"scattercarpet\":[{\"marker\":{\"colorbar\":{\"outlinewidth\":0,\"ticks\":\"\"}},\"type\":\"scattercarpet\"}],\"scattergeo\":[{\"marker\":{\"colorbar\":{\"outlinewidth\":0,\"ticks\":\"\"}},\"type\":\"scattergeo\"}],\"scattergl\":[{\"marker\":{\"colorbar\":{\"outlinewidth\":0,\"ticks\":\"\"}},\"type\":\"scattergl\"}],\"scattermapbox\":[{\"marker\":{\"colorbar\":{\"outlinewidth\":0,\"ticks\":\"\"}},\"type\":\"scattermapbox\"}],\"scatterpolar\":[{\"marker\":{\"colorbar\":{\"outlinewidth\":0,\"ticks\":\"\"}},\"type\":\"scatterpolar\"}],\"scatterpolargl\":[{\"marker\":{\"colorbar\":{\"outlinewidth\":0,\"ticks\":\"\"}},\"type\":\"scatterpolargl\"}],\"scatterternary\":[{\"marker\":{\"colorbar\":{\"outlinewidth\":0,\"ticks\":\"\"}},\"type\":\"scatterternary\"}],\"surface\":[{\"colorbar\":{\"outlinewidth\":0,\"ticks\":\"\"},\"colorscale\":[[0.0,\"#0d0887\"],[0.1111111111111111,\"#46039f\"],[0.2222222222222222,\"#7201a8\"],[0.3333333333333333,\"#9c179e\"],[0.4444444444444444,\"#bd3786\"],[0.5555555555555556,\"#d8576b\"],[0.6666666666666666,\"#ed7953\"],[0.7777777777777778,\"#fb9f3a\"],[0.8888888888888888,\"#fdca26\"],[1.0,\"#f0f921\"]],\"type\":\"surface\"}],\"table\":[{\"cells\":{\"fill\":{\"color\":\"#EBF0F8\"},\"line\":{\"color\":\"white\"}},\"header\":{\"fill\":{\"color\":\"#C8D4E3\"},\"line\":{\"color\":\"white\"}},\"type\":\"table\"}]},\"layout\":{\"annotationdefaults\":{\"arrowcolor\":\"#2a3f5f\",\"arrowhead\":0,\"arrowwidth\":1},\"autotypenumbers\":\"strict\",\"coloraxis\":{\"colorbar\":{\"outlinewidth\":0,\"ticks\":\"\"}},\"colorscale\":{\"diverging\":[[0,\"#8e0152\"],[0.1,\"#c51b7d\"],[0.2,\"#de77ae\"],[0.3,\"#f1b6da\"],[0.4,\"#fde0ef\"],[0.5,\"#f7f7f7\"],[0.6,\"#e6f5d0\"],[0.7,\"#b8e186\"],[0.8,\"#7fbc41\"],[0.9,\"#4d9221\"],[1,\"#276419\"]],\"sequential\":[[0.0,\"#0d0887\"],[0.1111111111111111,\"#46039f\"],[0.2222222222222222,\"#7201a8\"],[0.3333333333333333,\"#9c179e\"],[0.4444444444444444,\"#bd3786\"],[0.5555555555555556,\"#d8576b\"],[0.6666666666666666,\"#ed7953\"],[0.7777777777777778,\"#fb9f3a\"],[0.8888888888888888,\"#fdca26\"],[1.0,\"#f0f921\"]],\"sequentialminus\":[[0.0,\"#0d0887\"],[0.1111111111111111,\"#46039f\"],[0.2222222222222222,\"#7201a8\"],[0.3333333333333333,\"#9c179e\"],[0.4444444444444444,\"#bd3786\"],[0.5555555555555556,\"#d8576b\"],[0.6666666666666666,\"#ed7953\"],[0.7777777777777778,\"#fb9f3a\"],[0.8888888888888888,\"#fdca26\"],[1.0,\"#f0f921\"]]},\"colorway\":[\"#636efa\",\"#EF553B\",\"#00cc96\",\"#ab63fa\",\"#FFA15A\",\"#19d3f3\",\"#FF6692\",\"#B6E880\",\"#FF97FF\",\"#FECB52\"],\"font\":{\"color\":\"#2a3f5f\"},\"geo\":{\"bgcolor\":\"white\",\"lakecolor\":\"white\",\"landcolor\":\"#E5ECF6\",\"showlakes\":true,\"showland\":true,\"subunitcolor\":\"white\"},\"hoverlabel\":{\"align\":\"left\"},\"hovermode\":\"closest\",\"mapbox\":{\"style\":\"light\"},\"paper_bgcolor\":\"white\",\"plot_bgcolor\":\"#E5ECF6\",\"polar\":{\"angularaxis\":{\"gridcolor\":\"white\",\"linecolor\":\"white\",\"ticks\":\"\"},\"bgcolor\":\"#E5ECF6\",\"radialaxis\":{\"gridcolor\":\"white\",\"linecolor\":\"white\",\"ticks\":\"\"}},\"scene\":{\"xaxis\":{\"backgroundcolor\":\"#E5ECF6\",\"gridcolor\":\"white\",\"gridwidth\":2,\"linecolor\":\"white\",\"showbackground\":true,\"ticks\":\"\",\"zerolinecolor\":\"white\"},\"yaxis\":{\"backgroundcolor\":\"#E5ECF6\",\"gridcolor\":\"white\",\"gridwidth\":2,\"linecolor\":\"white\",\"showbackground\":true,\"ticks\":\"\",\"zerolinecolor\":\"white\"},\"zaxis\":{\"backgroundcolor\":\"#E5ECF6\",\"gridcolor\":\"white\",\"gridwidth\":2,\"linecolor\":\"white\",\"showbackground\":true,\"ticks\":\"\",\"zerolinecolor\":\"white\"}},\"shapedefaults\":{\"line\":{\"color\":\"#2a3f5f\"}},\"ternary\":{\"aaxis\":{\"gridcolor\":\"white\",\"linecolor\":\"white\",\"ticks\":\"\"},\"baxis\":{\"gridcolor\":\"white\",\"linecolor\":\"white\",\"ticks\":\"\"},\"bgcolor\":\"#E5ECF6\",\"caxis\":{\"gridcolor\":\"white\",\"linecolor\":\"white\",\"ticks\":\"\"}},\"title\":{\"x\":0.05},\"xaxis\":{\"automargin\":true,\"gridcolor\":\"white\",\"linecolor\":\"white\",\"ticks\":\"\",\"title\":{\"standoff\":15},\"zerolinecolor\":\"white\",\"zerolinewidth\":2},\"yaxis\":{\"automargin\":true,\"gridcolor\":\"white\",\"linecolor\":\"white\",\"ticks\":\"\",\"title\":{\"standoff\":15},\"zerolinecolor\":\"white\",\"zerolinewidth\":2}}},\"xaxis\":{\"anchor\":\"y\",\"domain\":[0.0,1.0],\"title\":{\"text\":\"Primary\"},\"categoryorder\":\"array\",\"categoryarray\":[\"Grass\",\"Fire\",\"Water\",\"Bug\",\"Normal\",\"Poison\",\"Electric\",\"Ground\",\"Fairy\",\"Fighting\",\"Psychic\",\"Rock\",\"Ghost\",\"Ice\",\"Dragon\",\"Dark\",\"Steel\",\"Flying\"]},\"yaxis\":{\"anchor\":\"x\",\"domain\":[0.0,1.0],\"title\":{\"text\":\"Stamina\"}},\"legend\":{\"title\":{\"text\":\"Primary\"},\"tracegroupgap\":0},\"margin\":{\"t\":60},\"boxmode\":\"overlay\"},                        {\"responsive\": true}                    ).then(function(){\n",
       "                            \n",
       "var gd = document.getElementById('2a8a1a52-cc5f-4ea9-b332-b8bda928b438');\n",
       "var x = new MutationObserver(function (mutations, observer) {{\n",
       "        var display = window.getComputedStyle(gd).display;\n",
       "        if (!display || display === 'none') {{\n",
       "            console.log([gd, 'removed!']);\n",
       "            Plotly.purge(gd);\n",
       "            observer.disconnect();\n",
       "        }}\n",
       "}});\n",
       "\n",
       "// Listen for the removal of the full notebook cells\n",
       "var notebookContainer = gd.closest('#notebook-container');\n",
       "if (notebookContainer) {{\n",
       "    x.observe(notebookContainer, {childList: true});\n",
       "}}\n",
       "\n",
       "// Listen for the clearing of the current output cell\n",
       "var outputEl = gd.closest('.output');\n",
       "if (outputEl) {{\n",
       "    x.observe(outputEl, {childList: true});\n",
       "}}\n",
       "\n",
       "                        })                };                });            </script>        </div>"
      ]
     },
     "metadata": {},
     "output_type": "display_data"
    }
   ],
   "source": [
    "#maybe second graphic?\n",
    "fig=px.box(pokemon, x=\"Primary\", y=\"Stamina\",hover_name=\"Name\",\n",
    "       color=\"Primary\", color_discrete_map=colours)\n",
    "\n",
    "fig.show()"
   ]
  },
  {
   "cell_type": "code",
   "execution_count": null,
   "id": "4b55c279",
   "metadata": {},
   "outputs": [],
   "source": []
  },
  {
   "cell_type": "code",
   "execution_count": null,
   "id": "a888c69e",
   "metadata": {},
   "outputs": [],
   "source": []
  }
 ],
 "metadata": {
  "kernelspec": {
   "display_name": "Python 3 (ipykernel)",
   "language": "python",
   "name": "python3"
  },
  "language_info": {
   "codemirror_mode": {
    "name": "ipython",
    "version": 3
   },
   "file_extension": ".py",
   "mimetype": "text/x-python",
   "name": "python",
   "nbconvert_exporter": "python",
   "pygments_lexer": "ipython3",
   "version": "3.9.12"
  }
 },
 "nbformat": 4,
 "nbformat_minor": 5
}
